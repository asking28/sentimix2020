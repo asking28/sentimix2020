{
 "cells": [
  {
   "cell_type": "code",
   "execution_count": 0,
   "metadata": {
    "colab": {},
    "colab_type": "code",
    "id": "oPRdkweYM0yJ"
   },
   "outputs": [],
   "source": [
    "import numpy as np \n",
    "import pandas as pd"
   ]
  },
  {
   "cell_type": "code",
   "execution_count": 2,
   "metadata": {
    "colab": {
     "base_uri": "https://localhost:8080/",
     "height": 121
    },
    "colab_type": "code",
    "executionInfo": {
     "elapsed": 32626,
     "status": "ok",
     "timestamp": 1582537377491,
     "user": {
      "displayName": "Abhishek Singh, 4-Yr B Tech, Electrical Engg, IIT (BHU) Varanasi",
      "photoUrl": "https://lh3.googleusercontent.com/a-/AAuE7mBAu6pD-I3Pdn_I1oxZJBB7hudMcmxHG9cW6HOh=s64",
      "userId": "13571043541178143551"
     },
     "user_tz": -330
    },
    "id": "gOeu__miM-xb",
    "outputId": "a77400bb-c041-4440-c61e-2ed56629f662"
   },
   "outputs": [
    {
     "name": "stdout",
     "output_type": "stream",
     "text": [
      "Go to this URL in a browser: https://accounts.google.com/o/oauth2/auth?client_id=947318989803-6bn6qk8qdgf4n4g3pfee6491hc0brc4i.apps.googleusercontent.com&redirect_uri=urn%3aietf%3awg%3aoauth%3a2.0%3aoob&response_type=code&scope=email%20https%3a%2f%2fwww.googleapis.com%2fauth%2fdocs.test%20https%3a%2f%2fwww.googleapis.com%2fauth%2fdrive%20https%3a%2f%2fwww.googleapis.com%2fauth%2fdrive.photos.readonly%20https%3a%2f%2fwww.googleapis.com%2fauth%2fpeopleapi.readonly\n",
      "\n",
      "Enter your authorization code:\n",
      "··········\n",
      "Mounted at /content/drive\n"
     ]
    }
   ],
   "source": [
    "# Uncomment to use colab\n",
    "'''from google.colab import drive\n",
    "drive.mount('/content/drive')\n",
    "'''"
   ]
  },
  {
   "cell_type": "markdown",
   "metadata": {
    "colab_type": "text",
    "id": "fGrFOxBizryo"
   },
   "source": []
  },
  {
   "cell_type": "code",
   "execution_count": 0,
   "metadata": {
    "colab": {},
    "colab_type": "code",
    "id": "jBlEwHBGlTbg"
   },
   "outputs": [],
   "source": [
    "root_path=\"/content/drive/My Drive/spanglish/\""
   ]
  },
  {
   "cell_type": "code",
   "execution_count": 4,
   "metadata": {
    "colab": {
     "base_uri": "https://localhost:8080/",
     "height": 370
    },
    "colab_type": "code",
    "executionInfo": {
     "elapsed": 3414,
     "status": "error",
     "timestamp": 1582537378188,
     "user": {
      "displayName": "Abhishek Singh, 4-Yr B Tech, Electrical Engg, IIT (BHU) Varanasi",
      "photoUrl": "https://lh3.googleusercontent.com/a-/AAuE7mBAu6pD-I3Pdn_I1oxZJBB7hudMcmxHG9cW6HOh=s64",
      "userId": "13571043541178143551"
     },
     "user_tz": -330
    },
    "id": "7xE8eyhXltRu",
    "outputId": "adb1dab7-8768-4025-c564-98acf87051bd"
   },
   "outputs": [
    {
     "ename": "FileNotFoundError",
     "evalue": "ignored",
     "output_type": "error",
     "traceback": [
      "\u001b[0;31m---------------------------------------------------------------------------\u001b[0m",
      "\u001b[0;31mFileNotFoundError\u001b[0m                         Traceback (most recent call last)",
      "\u001b[0;32m<ipython-input-4-a4f6930a3f8e>\u001b[0m in \u001b[0;36m<module>\u001b[0;34m()\u001b[0m\n\u001b[0;32m----> 1\u001b[0;31m \u001b[0mhot_data\u001b[0m\u001b[0;34m=\u001b[0m\u001b[0mpd\u001b[0m\u001b[0;34m.\u001b[0m\u001b[0mread_csv\u001b[0m\u001b[0;34m(\u001b[0m\u001b[0mroot_path\u001b[0m\u001b[0;34m+\u001b[0m\u001b[0;34m'HOT_cleaned_dataset.csv'\u001b[0m\u001b[0;34m,\u001b[0m\u001b[0mencoding\u001b[0m\u001b[0;34m=\u001b[0m\u001b[0;34m'unicode_escape'\u001b[0m\u001b[0;34m)\u001b[0m\u001b[0;34m\u001b[0m\u001b[0;34m\u001b[0m\u001b[0m\n\u001b[0m",
      "\u001b[0;32m/usr/local/lib/python3.6/dist-packages/pandas/io/parsers.py\u001b[0m in \u001b[0;36mparser_f\u001b[0;34m(filepath_or_buffer, sep, delimiter, header, names, index_col, usecols, squeeze, prefix, mangle_dupe_cols, dtype, engine, converters, true_values, false_values, skipinitialspace, skiprows, skipfooter, nrows, na_values, keep_default_na, na_filter, verbose, skip_blank_lines, parse_dates, infer_datetime_format, keep_date_col, date_parser, dayfirst, cache_dates, iterator, chunksize, compression, thousands, decimal, lineterminator, quotechar, quoting, doublequote, escapechar, comment, encoding, dialect, error_bad_lines, warn_bad_lines, delim_whitespace, low_memory, memory_map, float_precision)\u001b[0m\n\u001b[1;32m    683\u001b[0m         )\n\u001b[1;32m    684\u001b[0m \u001b[0;34m\u001b[0m\u001b[0m\n\u001b[0;32m--> 685\u001b[0;31m         \u001b[0;32mreturn\u001b[0m \u001b[0m_read\u001b[0m\u001b[0;34m(\u001b[0m\u001b[0mfilepath_or_buffer\u001b[0m\u001b[0;34m,\u001b[0m \u001b[0mkwds\u001b[0m\u001b[0;34m)\u001b[0m\u001b[0;34m\u001b[0m\u001b[0;34m\u001b[0m\u001b[0m\n\u001b[0m\u001b[1;32m    686\u001b[0m \u001b[0;34m\u001b[0m\u001b[0m\n\u001b[1;32m    687\u001b[0m     \u001b[0mparser_f\u001b[0m\u001b[0;34m.\u001b[0m\u001b[0m__name__\u001b[0m \u001b[0;34m=\u001b[0m \u001b[0mname\u001b[0m\u001b[0;34m\u001b[0m\u001b[0;34m\u001b[0m\u001b[0m\n",
      "\u001b[0;32m/usr/local/lib/python3.6/dist-packages/pandas/io/parsers.py\u001b[0m in \u001b[0;36m_read\u001b[0;34m(filepath_or_buffer, kwds)\u001b[0m\n\u001b[1;32m    455\u001b[0m \u001b[0;34m\u001b[0m\u001b[0m\n\u001b[1;32m    456\u001b[0m     \u001b[0;31m# Create the parser.\u001b[0m\u001b[0;34m\u001b[0m\u001b[0;34m\u001b[0m\u001b[0;34m\u001b[0m\u001b[0m\n\u001b[0;32m--> 457\u001b[0;31m     \u001b[0mparser\u001b[0m \u001b[0;34m=\u001b[0m \u001b[0mTextFileReader\u001b[0m\u001b[0;34m(\u001b[0m\u001b[0mfp_or_buf\u001b[0m\u001b[0;34m,\u001b[0m \u001b[0;34m**\u001b[0m\u001b[0mkwds\u001b[0m\u001b[0;34m)\u001b[0m\u001b[0;34m\u001b[0m\u001b[0;34m\u001b[0m\u001b[0m\n\u001b[0m\u001b[1;32m    458\u001b[0m \u001b[0;34m\u001b[0m\u001b[0m\n\u001b[1;32m    459\u001b[0m     \u001b[0;32mif\u001b[0m \u001b[0mchunksize\u001b[0m \u001b[0;32mor\u001b[0m \u001b[0miterator\u001b[0m\u001b[0;34m:\u001b[0m\u001b[0;34m\u001b[0m\u001b[0;34m\u001b[0m\u001b[0m\n",
      "\u001b[0;32m/usr/local/lib/python3.6/dist-packages/pandas/io/parsers.py\u001b[0m in \u001b[0;36m__init__\u001b[0;34m(self, f, engine, **kwds)\u001b[0m\n\u001b[1;32m    893\u001b[0m             \u001b[0mself\u001b[0m\u001b[0;34m.\u001b[0m\u001b[0moptions\u001b[0m\u001b[0;34m[\u001b[0m\u001b[0;34m\"has_index_names\"\u001b[0m\u001b[0;34m]\u001b[0m \u001b[0;34m=\u001b[0m \u001b[0mkwds\u001b[0m\u001b[0;34m[\u001b[0m\u001b[0;34m\"has_index_names\"\u001b[0m\u001b[0;34m]\u001b[0m\u001b[0;34m\u001b[0m\u001b[0;34m\u001b[0m\u001b[0m\n\u001b[1;32m    894\u001b[0m \u001b[0;34m\u001b[0m\u001b[0m\n\u001b[0;32m--> 895\u001b[0;31m         \u001b[0mself\u001b[0m\u001b[0;34m.\u001b[0m\u001b[0m_make_engine\u001b[0m\u001b[0;34m(\u001b[0m\u001b[0mself\u001b[0m\u001b[0;34m.\u001b[0m\u001b[0mengine\u001b[0m\u001b[0;34m)\u001b[0m\u001b[0;34m\u001b[0m\u001b[0;34m\u001b[0m\u001b[0m\n\u001b[0m\u001b[1;32m    896\u001b[0m \u001b[0;34m\u001b[0m\u001b[0m\n\u001b[1;32m    897\u001b[0m     \u001b[0;32mdef\u001b[0m \u001b[0mclose\u001b[0m\u001b[0;34m(\u001b[0m\u001b[0mself\u001b[0m\u001b[0;34m)\u001b[0m\u001b[0;34m:\u001b[0m\u001b[0;34m\u001b[0m\u001b[0;34m\u001b[0m\u001b[0m\n",
      "\u001b[0;32m/usr/local/lib/python3.6/dist-packages/pandas/io/parsers.py\u001b[0m in \u001b[0;36m_make_engine\u001b[0;34m(self, engine)\u001b[0m\n\u001b[1;32m   1133\u001b[0m     \u001b[0;32mdef\u001b[0m \u001b[0m_make_engine\u001b[0m\u001b[0;34m(\u001b[0m\u001b[0mself\u001b[0m\u001b[0;34m,\u001b[0m \u001b[0mengine\u001b[0m\u001b[0;34m=\u001b[0m\u001b[0;34m\"c\"\u001b[0m\u001b[0;34m)\u001b[0m\u001b[0;34m:\u001b[0m\u001b[0;34m\u001b[0m\u001b[0;34m\u001b[0m\u001b[0m\n\u001b[1;32m   1134\u001b[0m         \u001b[0;32mif\u001b[0m \u001b[0mengine\u001b[0m \u001b[0;34m==\u001b[0m \u001b[0;34m\"c\"\u001b[0m\u001b[0;34m:\u001b[0m\u001b[0;34m\u001b[0m\u001b[0;34m\u001b[0m\u001b[0m\n\u001b[0;32m-> 1135\u001b[0;31m             \u001b[0mself\u001b[0m\u001b[0;34m.\u001b[0m\u001b[0m_engine\u001b[0m \u001b[0;34m=\u001b[0m \u001b[0mCParserWrapper\u001b[0m\u001b[0;34m(\u001b[0m\u001b[0mself\u001b[0m\u001b[0;34m.\u001b[0m\u001b[0mf\u001b[0m\u001b[0;34m,\u001b[0m \u001b[0;34m**\u001b[0m\u001b[0mself\u001b[0m\u001b[0;34m.\u001b[0m\u001b[0moptions\u001b[0m\u001b[0;34m)\u001b[0m\u001b[0;34m\u001b[0m\u001b[0;34m\u001b[0m\u001b[0m\n\u001b[0m\u001b[1;32m   1136\u001b[0m         \u001b[0;32melse\u001b[0m\u001b[0;34m:\u001b[0m\u001b[0;34m\u001b[0m\u001b[0;34m\u001b[0m\u001b[0m\n\u001b[1;32m   1137\u001b[0m             \u001b[0;32mif\u001b[0m \u001b[0mengine\u001b[0m \u001b[0;34m==\u001b[0m \u001b[0;34m\"python\"\u001b[0m\u001b[0;34m:\u001b[0m\u001b[0;34m\u001b[0m\u001b[0;34m\u001b[0m\u001b[0m\n",
      "\u001b[0;32m/usr/local/lib/python3.6/dist-packages/pandas/io/parsers.py\u001b[0m in \u001b[0;36m__init__\u001b[0;34m(self, src, **kwds)\u001b[0m\n\u001b[1;32m   1915\u001b[0m         \u001b[0mkwds\u001b[0m\u001b[0;34m[\u001b[0m\u001b[0;34m\"usecols\"\u001b[0m\u001b[0;34m]\u001b[0m \u001b[0;34m=\u001b[0m \u001b[0mself\u001b[0m\u001b[0;34m.\u001b[0m\u001b[0musecols\u001b[0m\u001b[0;34m\u001b[0m\u001b[0;34m\u001b[0m\u001b[0m\n\u001b[1;32m   1916\u001b[0m \u001b[0;34m\u001b[0m\u001b[0m\n\u001b[0;32m-> 1917\u001b[0;31m         \u001b[0mself\u001b[0m\u001b[0;34m.\u001b[0m\u001b[0m_reader\u001b[0m \u001b[0;34m=\u001b[0m \u001b[0mparsers\u001b[0m\u001b[0;34m.\u001b[0m\u001b[0mTextReader\u001b[0m\u001b[0;34m(\u001b[0m\u001b[0msrc\u001b[0m\u001b[0;34m,\u001b[0m \u001b[0;34m**\u001b[0m\u001b[0mkwds\u001b[0m\u001b[0;34m)\u001b[0m\u001b[0;34m\u001b[0m\u001b[0;34m\u001b[0m\u001b[0m\n\u001b[0m\u001b[1;32m   1918\u001b[0m         \u001b[0mself\u001b[0m\u001b[0;34m.\u001b[0m\u001b[0munnamed_cols\u001b[0m \u001b[0;34m=\u001b[0m \u001b[0mself\u001b[0m\u001b[0;34m.\u001b[0m\u001b[0m_reader\u001b[0m\u001b[0;34m.\u001b[0m\u001b[0munnamed_cols\u001b[0m\u001b[0;34m\u001b[0m\u001b[0;34m\u001b[0m\u001b[0m\n\u001b[1;32m   1919\u001b[0m \u001b[0;34m\u001b[0m\u001b[0m\n",
      "\u001b[0;32mpandas/_libs/parsers.pyx\u001b[0m in \u001b[0;36mpandas._libs.parsers.TextReader.__cinit__\u001b[0;34m()\u001b[0m\n",
      "\u001b[0;32mpandas/_libs/parsers.pyx\u001b[0m in \u001b[0;36mpandas._libs.parsers.TextReader._setup_parser_source\u001b[0;34m()\u001b[0m\n",
      "\u001b[0;31mFileNotFoundError\u001b[0m: [Errno 2] File b'/content/drive/My Drive/spanglish/HOT_cleaned_dataset.csv' does not exist: b'/content/drive/My Drive/spanglish/HOT_cleaned_dataset.csv'"
     ]
    }
   ],
   "source": [
    "hot_data=pd.read_csv(root_path+'HOT_cleaned_dataset.csv',encoding='unicode_escape')"
   ]
  },
  {
   "cell_type": "code",
   "execution_count": 0,
   "metadata": {
    "colab": {},
    "colab_type": "code",
    "id": "r2pw3Zg7NyDZ"
   },
   "outputs": [],
   "source": [
    "labels=[]\n",
    "for i in range(train_raw.shape[0]):\n",
    "  if len(train_raw[0][i].split())==3:\n",
    "    labels.append(train_raw[0][i].split()[2])"
   ]
  },
  {
   "cell_type": "code",
   "execution_count": 0,
   "metadata": {
    "colab": {},
    "colab_type": "code",
    "id": "NNfsGSCmRnpY"
   },
   "outputs": [],
   "source": [
    "import pickle\n",
    "with open('/content/drive/My Drive/Sentimix/Hindi_dict/dict/devanagri_to_english_dict.pkl','rb') as f:\n",
    "  hindi_to_english=pickle.load(f)"
   ]
  },
  {
   "cell_type": "code",
   "execution_count": 0,
   "metadata": {
    "colab": {},
    "colab_type": "code",
    "id": "o8z36n9WUBlz"
   },
   "outputs": [],
   "source": [
    "hin_to_english=Counter(hindi_to_english)"
   ]
  },
  {
   "cell_type": "code",
   "execution_count": 0,
   "metadata": {
    "colab": {},
    "colab_type": "code",
    "id": "_8cwfDaSXKUF"
   },
   "outputs": [],
   "source": [
    "with open('/content/drive/My Drive/spanglish/data/spang_test_conll_unlabeled.txt','r') as f:\n",
    "  lines_dev=f.readlines()"
   ]
  },
  {
   "cell_type": "code",
   "execution_count": 0,
   "metadata": {
    "colab": {},
    "colab_type": "code",
    "id": "agJY0A5HIbun"
   },
   "outputs": [],
   "source": [
    "sentences_dev=[]\n",
    "sent_un_d=[]\n",
    "uids=[]\n",
    "uids.append(1)\n",
    "s=''\n",
    "flag=0\n",
    "flag2=0\n",
    "for i in range(len(lines_dev)):\n",
    "  line=lines_dev[i]\n",
    "\n",
    "  t=line.lower().split()\n",
    "    \n",
    "  if len(t)==0:\n",
    "    sentences_dev.append(s)\n",
    "    s=''\n",
    "    flag=0\n",
    "    uids.append(lines_dev[i+1].lower().split()[1])\n",
    "  # elif len(t)==3:\n",
    "  #   uids.append(t[1])\n",
    "  elif len(t)==2 and t[0]=='meta' and t[1].isnumeric():\n",
    "    # uids.append(t[1])\n",
    "    continue\n",
    "  elif flag==0 and len(t)==2 and flag2==0:\n",
    "    if t[0].startswith('http') or t[0].startswith('https'):\n",
    "      s=s+\"<URL>\"+\" \"\n",
    "      continue\n",
    "    if t[0].startswith('@'):\n",
    "      s=s+\"<USR>\"+\" \"\n",
    "      continue\n",
    "    s=s+t[0]+' '\n",
    "    # if t[1]=='hin':\n",
    "\n",
    "    #   if cuss_dict[t[0]]!=0:\n",
    "    #     # s=s+cuss_dict[t[0]]+' '\n",
    "    #     s=s+t[0]+' '\n",
    "    #   else:\n",
    "    #     if hinglish_dict[t[0]]!=0:\n",
    "    #       if hin_to_english[hinglish_dict[t[0]]]!=0:\n",
    "    #         s=s+hin_to_english[hinglish_dict[t[0]]]+' '\n",
    "    #       else:\n",
    "    #         s=s+t[0]+' '\n",
    "    #     else:\n",
    "    #       s=s+t[0]+' '\n",
    "    # else:\n",
    "    #   s=s+t[0]+' '"
   ]
  },
  {
   "cell_type": "code",
   "execution_count": 0,
   "metadata": {
    "colab": {},
    "colab_type": "code",
    "id": "H4KG3iltXiGw"
   },
   "outputs": [],
   "source": [
    "sentences_dev.append(s)"
   ]
  },
  {
   "cell_type": "code",
   "execution_count": 44,
   "metadata": {
    "colab": {
     "base_uri": "https://localhost:8080/",
     "height": 34
    },
    "colab_type": "code",
    "executionInfo": {
     "elapsed": 966,
     "status": "ok",
     "timestamp": 1582539766916,
     "user": {
      "displayName": "Abhishek Singh, 4-Yr B Tech, Electrical Engg, IIT (BHU) Varanasi",
      "photoUrl": "https://lh3.googleusercontent.com/a-/AAuE7mBAu6pD-I3Pdn_I1oxZJBB7hudMcmxHG9cW6HOh=s64",
      "userId": "13571043541178143551"
     },
     "user_tz": -330
    },
    "id": "6rXvZNIHl2ZY",
    "outputId": "8899ec80-dfcf-4c4f-dbe5-bf498c6c7edc"
   },
   "outputs": [
    {
     "data": {
      "text/plain": [
       "3789"
      ]
     },
     "execution_count": 44,
     "metadata": {
      "tags": []
     },
     "output_type": "execute_result"
    }
   ],
   "source": [
    "len(uids)"
   ]
  },
  {
   "cell_type": "code",
   "execution_count": 45,
   "metadata": {
    "colab": {
     "base_uri": "https://localhost:8080/",
     "height": 34
    },
    "colab_type": "code",
    "executionInfo": {
     "elapsed": 1426,
     "status": "ok",
     "timestamp": 1582539769243,
     "user": {
      "displayName": "Abhishek Singh, 4-Yr B Tech, Electrical Engg, IIT (BHU) Varanasi",
      "photoUrl": "https://lh3.googleusercontent.com/a-/AAuE7mBAu6pD-I3Pdn_I1oxZJBB7hudMcmxHG9cW6HOh=s64",
      "userId": "13571043541178143551"
     },
     "user_tz": -330
    },
    "id": "Ncd478zOts62",
    "outputId": "6db78690-3ed4-479f-bc39-6aa62b7b89e2"
   },
   "outputs": [
    {
     "data": {
      "text/plain": [
       "['3787', '3788', '3789']"
      ]
     },
     "execution_count": 45,
     "metadata": {
      "tags": []
     },
     "output_type": "execute_result"
    }
   ],
   "source": [
    "uids[-3:]"
   ]
  },
  {
   "cell_type": "code",
   "execution_count": 46,
   "metadata": {
    "colab": {
     "base_uri": "https://localhost:8080/",
     "height": 34
    },
    "colab_type": "code",
    "executionInfo": {
     "elapsed": 826,
     "status": "ok",
     "timestamp": 1582539772949,
     "user": {
      "displayName": "Abhishek Singh, 4-Yr B Tech, Electrical Engg, IIT (BHU) Varanasi",
      "photoUrl": "https://lh3.googleusercontent.com/a-/AAuE7mBAu6pD-I3Pdn_I1oxZJBB7hudMcmxHG9cW6HOh=s64",
      "userId": "13571043541178143551"
     },
     "user_tz": -330
    },
    "id": "sNc6pS2Pmo5B",
    "outputId": "6be3f70c-5e26-471e-af39-35bd82c16469"
   },
   "outputs": [
    {
     "data": {
      "text/plain": [
       "3789"
      ]
     },
     "execution_count": 46,
     "metadata": {
      "tags": []
     },
     "output_type": "execute_result"
    }
   ],
   "source": [
    "len(sentences_dev)"
   ]
  },
  {
   "cell_type": "code",
   "execution_count": 47,
   "metadata": {
    "colab": {
     "base_uri": "https://localhost:8080/",
     "height": 50
    },
    "colab_type": "code",
    "executionInfo": {
     "elapsed": 1008,
     "status": "ok",
     "timestamp": 1582539776843,
     "user": {
      "displayName": "Abhishek Singh, 4-Yr B Tech, Electrical Engg, IIT (BHU) Varanasi",
      "photoUrl": "https://lh3.googleusercontent.com/a-/AAuE7mBAu6pD-I3Pdn_I1oxZJBB7hudMcmxHG9cW6HOh=s64",
      "userId": "13571043541178143551"
     },
     "user_tz": -330
    },
    "id": "G4JNyD4U6o3l",
    "outputId": "f5dbeea3-c322-48ee-a8d1-fcacb16206c0"
   },
   "outputs": [
    {
     "data": {
      "text/plain": [
       "['<USR> <USR> se las mando por text ðÿ˜‚ ',\n",
       " '<USR> esta vez me fui a la mala .. .. no se como esconderme de mis padres .. . im so burned ']"
      ]
     },
     "execution_count": 47,
     "metadata": {
      "tags": []
     },
     "output_type": "execute_result"
    }
   ],
   "source": [
    "sentences_dev[-2:]"
   ]
  },
  {
   "cell_type": "code",
   "execution_count": 0,
   "metadata": {
    "colab": {},
    "colab_type": "code",
    "id": "QdHSrJB2Xqj3"
   },
   "outputs": [],
   "source": [
    "labels_dev=[]\n",
    "for line in lines_dev:\n",
    "  if len(line.lower().split())==3:\n",
    "    labels_dev.append(line.lower().split()[2])"
   ]
  },
  {
   "cell_type": "code",
   "execution_count": 0,
   "metadata": {
    "colab": {},
    "colab_type": "code",
    "id": "GivsJjg5YQzx"
   },
   "outputs": [],
   "source": [
    "for i in range(len(sentences_dev)):\n",
    "  if len(sentences_dev[i])==0:\n",
    "    print(i)"
   ]
  },
  {
   "cell_type": "code",
   "execution_count": 0,
   "metadata": {
    "colab": {
     "base_uri": "https://localhost:8080/",
     "height": 34
    },
    "colab_type": "code",
    "executionInfo": {
     "elapsed": 845,
     "status": "ok",
     "timestamp": 1582207635546,
     "user": {
      "displayName": "Abhishek Singh, 4-Yr B Tech, Electrical Engg, IIT (BHU) Varanasi",
      "photoUrl": "https://lh3.googleusercontent.com/a-/AAuE7mBAu6pD-I3Pdn_I1oxZJBB7hudMcmxHG9cW6HOh=s64",
      "userId": "13571043541178143551"
     },
     "user_tz": -330
    },
    "id": "-x96O8qfY1mP",
    "outputId": "ee504bfb-5e7f-4bbb-de6d-426488d56916"
   },
   "outputs": [
    {
     "data": {
      "text/plain": [
       "2998"
      ]
     },
     "execution_count": 21,
     "metadata": {
      "tags": []
     },
     "output_type": "execute_result"
    }
   ],
   "source": [
    "len(sentences_dev)"
   ]
  },
  {
   "cell_type": "code",
   "execution_count": 0,
   "metadata": {
    "colab": {
     "base_uri": "https://localhost:8080/",
     "height": 34
    },
    "colab_type": "code",
    "executionInfo": {
     "elapsed": 1203,
     "status": "ok",
     "timestamp": 1582207771655,
     "user": {
      "displayName": "Abhishek Singh, 4-Yr B Tech, Electrical Engg, IIT (BHU) Varanasi",
      "photoUrl": "https://lh3.googleusercontent.com/a-/AAuE7mBAu6pD-I3Pdn_I1oxZJBB7hudMcmxHG9cW6HOh=s64",
      "userId": "13571043541178143551"
     },
     "user_tz": -330
    },
    "id": "s7yiylSw7nlN",
    "outputId": "012d4eb7-50a5-4334-a41d-363ff7440093"
   },
   "outputs": [
    {
     "data": {
      "text/plain": [
       "\"after this i 'm just gonna go home drink summ hot chocolate con bolillo and sleep \""
      ]
     },
     "execution_count": 22,
     "metadata": {
      "tags": []
     },
     "output_type": "execute_result"
    }
   ],
   "source": [
    "sentences_dev[0]"
   ]
  },
  {
   "cell_type": "code",
   "execution_count": 0,
   "metadata": {
    "colab": {},
    "colab_type": "code",
    "id": "7g0A2r8cRsnw"
   },
   "outputs": [],
   "source": [
    "with open('/content/drive/My Drive/spanglish/data/train.conll','r') as f:\n",
    "  lines=f.readlines()"
   ]
  },
  {
   "cell_type": "code",
   "execution_count": 0,
   "metadata": {
    "colab": {
     "base_uri": "https://localhost:8080/",
     "height": 34
    },
    "colab_type": "code",
    "executionInfo": {
     "elapsed": 772,
     "status": "ok",
     "timestamp": 1582207798838,
     "user": {
      "displayName": "Abhishek Singh, 4-Yr B Tech, Electrical Engg, IIT (BHU) Varanasi",
      "photoUrl": "https://lh3.googleusercontent.com/a-/AAuE7mBAu6pD-I3Pdn_I1oxZJBB7hudMcmxHG9cW6HOh=s64",
      "userId": "13571043541178143551"
     },
     "user_tz": -330
    },
    "id": "VXRcK6IuSQau",
    "outputId": "157a5abc-d41e-4052-c5a4-80162dc27cde"
   },
   "outputs": [
    {
     "data": {
      "text/plain": [
       "['#jamming', 'lang1']"
      ]
     },
     "execution_count": 24,
     "metadata": {
      "tags": []
     },
     "output_type": "execute_result"
    }
   ],
   "source": [
    "lines[21].split()"
   ]
  },
  {
   "cell_type": "code",
   "execution_count": 0,
   "metadata": {
    "colab": {},
    "colab_type": "code",
    "id": "A1ugraecUv7t"
   },
   "outputs": [],
   "source": [
    "labels=[]\n",
    "for line in lines:\n",
    "  if len(line.lower().split())==3:\n",
    "    labels.append(line.lower().split()[2])"
   ]
  },
  {
   "cell_type": "code",
   "execution_count": 0,
   "metadata": {
    "colab": {
     "base_uri": "https://localhost:8080/",
     "height": 34
    },
    "colab_type": "code",
    "executionInfo": {
     "elapsed": 1001,
     "status": "ok",
     "timestamp": 1582207810452,
     "user": {
      "displayName": "Abhishek Singh, 4-Yr B Tech, Electrical Engg, IIT (BHU) Varanasi",
      "photoUrl": "https://lh3.googleusercontent.com/a-/AAuE7mBAu6pD-I3Pdn_I1oxZJBB7hudMcmxHG9cW6HOh=s64",
      "userId": "13571043541178143551"
     },
     "user_tz": -330
    },
    "id": "Wk9SfC08VEJq",
    "outputId": "07c57b3b-d6c8-4c9e-b229-0a4840e40541"
   },
   "outputs": [
    {
     "data": {
      "text/plain": [
       "12002"
      ]
     },
     "execution_count": 26,
     "metadata": {
      "tags": []
     },
     "output_type": "execute_result"
    }
   ],
   "source": [
    "len(labels)"
   ]
  },
  {
   "cell_type": "code",
   "execution_count": 0,
   "metadata": {
    "colab": {},
    "colab_type": "code",
    "id": "lHFw97qxABho"
   },
   "outputs": [],
   "source": [
    "sentences=[]\n",
    "sent_un=[]\n",
    "s=''\n",
    "flag=0\n",
    "flag2=0\n",
    "for line in lines:\n",
    "  t=line.lower().split()\n",
    "    \n",
    "  if len(t)==0:\n",
    "    sentences.append(s)\n",
    "    s=''\n",
    "    flag=0\n",
    "  elif flag==0 and len(t)==2 and flag2==0:\n",
    "    if t[0].startswith('http') or t[0].startswith('https'):\n",
    "      s=s+\"<URL>\"+\" \"\n",
    "      continue\n",
    "    if t[0].startswith('@'):\n",
    "      s=s+\"<USR>\"+\" \"\n",
    "      continue\n",
    "    s=s+t[0]+' '\n",
    "    # if t[1]=='hin':\n",
    "\n",
    "    #   if cuss_dict[t[0]]!=0:\n",
    "    #    # s=s+cuss_dict[t[0]]+' '\n",
    "    #    s=s+t[0]+' '\n",
    "    #   else:\n",
    "    #     if hinglish_dict[t[0]]!=0:\n",
    "    #       if hin_to_english[hinglish_dict[t[0]]]!=0:\n",
    "    #         s=s+hin_to_english[hinglish_dict[t[0]]]+' '\n",
    "    #       else:\n",
    "    #         s=s+t[0]+' '\n",
    "    #     else:\n",
    "    #       s=s+t[0]+' '\n",
    "    # else:\n",
    "    #   s=s+t[0]+' '"
   ]
  },
  {
   "cell_type": "code",
   "execution_count": 0,
   "metadata": {
    "colab": {
     "base_uri": "https://localhost:8080/",
     "height": 34
    },
    "colab_type": "code",
    "executionInfo": {
     "elapsed": 734,
     "status": "ok",
     "timestamp": 1582207861312,
     "user": {
      "displayName": "Abhishek Singh, 4-Yr B Tech, Electrical Engg, IIT (BHU) Varanasi",
      "photoUrl": "https://lh3.googleusercontent.com/a-/AAuE7mBAu6pD-I3Pdn_I1oxZJBB7hudMcmxHG9cW6HOh=s64",
      "userId": "13571043541178143551"
     },
     "user_tz": -330
    },
    "id": "c8mkaA4iPSLT",
    "outputId": "7de45514-6f06-41c1-db86-f85ba36c6fce"
   },
   "outputs": [
    {
     "data": {
      "text/plain": [
       "12002"
      ]
     },
     "execution_count": 28,
     "metadata": {
      "tags": []
     },
     "output_type": "execute_result"
    }
   ],
   "source": [
    "len(sentences)"
   ]
  },
  {
   "cell_type": "code",
   "execution_count": 0,
   "metadata": {
    "colab": {},
    "colab_type": "code",
    "id": "WeDOmC0Iu9Eb"
   },
   "outputs": [],
   "source": [
    "for i in range(len(sentences)):\n",
    "  if len(sentences[i])==0:\n",
    "    print(i)"
   ]
  },
  {
   "cell_type": "code",
   "execution_count": 0,
   "metadata": {
    "colab": {},
    "colab_type": "code",
    "id": "47HjiJedK-Yz"
   },
   "outputs": [],
   "source": [
    "df_dev=pd.DataFrame({'sent':sentences_dev,'uids':uids})\n",
    "df_dev.to_csv('/content/drive/My Drive/spanglish/data/test_data.csv',index=False)"
   ]
  },
  {
   "cell_type": "code",
   "execution_count": 0,
   "metadata": {
    "colab": {},
    "colab_type": "code",
    "id": "Q0dR5WSd0WrT"
   },
   "outputs": [],
   "source": [
    "df_train=pd.DataFrame({'sent':sentences,'label':labels})\n",
    "df_train.to_csv('/content/drive/My Drive/spanglish/data/train_read.csv',index=False)"
   ]
  },
  {
   "cell_type": "code",
   "execution_count": 0,
   "metadata": {
    "colab": {},
    "colab_type": "code",
    "id": "_dVKXwrGWwg-"
   },
   "outputs": [],
   "source": [
    "df_labels=pd.DataFrame({'labels':labels})\n",
    "df_labels.to_csv('/content/drive/My Drive/Sentimix/labels_train.csv',index=False)"
   ]
  },
  {
   "cell_type": "code",
   "execution_count": 0,
   "metadata": {
    "colab": {
     "base_uri": "https://localhost:8080/",
     "height": 34
    },
    "colab_type": "code",
    "executionInfo": {
     "elapsed": 1275,
     "status": "ok",
     "timestamp": 1572786154455,
     "user": {
      "displayName": "Abhishek Singh, 4-Yr B Tech, Electrical Engg, IIT (BHU) Varanasi",
      "photoUrl": "https://lh3.googleusercontent.com/a-/AAuE7mBAu6pD-I3Pdn_I1oxZJBB7hudMcmxHG9cW6HOh=s64",
      "userId": "13571043541178143551"
     },
     "user_tz": -330
    },
    "id": "Bhuw-DMWXBYL",
    "outputId": "c551b8d5-550b-439e-effe-566e150eda51"
   },
   "outputs": [
    {
     "data": {
      "text/plain": [
       "15131"
      ]
     },
     "execution_count": 107,
     "metadata": {
      "tags": []
     },
     "output_type": "execute_result"
    }
   ],
   "source": [
    "len(labels)"
   ]
  },
  {
   "cell_type": "code",
   "execution_count": 0,
   "metadata": {
    "colab": {},
    "colab_type": "code",
    "id": "mY-s_f4VGK_V"
   },
   "outputs": [],
   "source": [
    "df_clean_again=pd.DataFrame({'sent':sentences})"
   ]
  },
  {
   "cell_type": "code",
   "execution_count": 0,
   "metadata": {
    "colab": {},
    "colab_type": "code",
    "id": "8HPXtLb8GTJ7"
   },
   "outputs": [],
   "source": [
    "df_clean_again.to_csv('/content/drive/My Drive/Sentimix/converted_train.csv',index=False)"
   ]
  },
  {
   "cell_type": "code",
   "execution_count": 0,
   "metadata": {
    "colab": {},
    "colab_type": "code",
    "id": "cfgUnku4Dex_"
   },
   "outputs": [],
   "source": [
    "train_raw[0][114]='Doston My New sad song Pyar ki Raah Kathin written by My big brother Shivendra Sugam'\n",
    "train_raw[0][1896]='Aapne us bande ko block kar diya ab kya fayda share karne ka   Asli comment to wo deta '\n",
    "train_raw[0][6167]='GREAT TIMES WITH GREAT PEOPLE TONIGHT The Rab   Friday Night   Karaoke and   VideoDanceParty  '\n",
    "train_raw[0][6405]='SAB LIKHO KI MAIE DESH DHROHI HOON SHAME SHAME SHAME SHAME SHAME SHAME BJP MODI GOVT '\n",
    "train_raw[0][7388]=' BawLa talent haryana se bhai ise aapke pyar ki jrurt h saydcheck maaro bhai ji'\n",
    "train_raw[0][8151]='BOLE TAK PRLMNT ME FIR BAHAR    BKVAS PE MICE BAND KARO   krpn brigade ke '\n",
    "train_raw[0][10906]='World Cup Ab Hamara Hoga A Rap song to support team India in World Cup   ZeeNews   ZeeTV '\n",
    "train_raw[0][11864]='JCB dekho'"
   ]
  },
  {
   "cell_type": "code",
   "execution_count": 0,
   "metadata": {
    "colab": {
     "base_uri": "https://localhost:8080/",
     "height": 34
    },
    "colab_type": "code",
    "executionInfo": {
     "elapsed": 1328,
     "status": "ok",
     "timestamp": 1572872559848,
     "user": {
      "displayName": "Abhishek Singh, 4-Yr B Tech, Electrical Engg, IIT (BHU) Varanasi",
      "photoUrl": "https://lh3.googleusercontent.com/a-/AAuE7mBAu6pD-I3Pdn_I1oxZJBB7hudMcmxHG9cW6HOh=s64",
      "userId": "13571043541178143551"
     },
     "user_tz": -330
    },
    "id": "_jSWbQQ3qPG5",
    "outputId": "9fa9a1e9-a5e3-4d74-a158-357309f53f83"
   },
   "outputs": [
    {
     "data": {
      "text/plain": [
       "0"
      ]
     },
     "execution_count": 42,
     "metadata": {
      "tags": []
     },
     "output_type": "execute_result"
    }
   ],
   "source": [
    "hinglish_dict['banne']"
   ]
  },
  {
   "cell_type": "code",
   "execution_count": 0,
   "metadata": {
    "colab": {
     "base_uri": "https://localhost:8080/",
     "height": 163
    },
    "colab_type": "code",
    "executionInfo": {
     "elapsed": 1687,
     "status": "error",
     "timestamp": 1572774485874,
     "user": {
      "displayName": "Abhishek Singh, 4-Yr B Tech, Electrical Engg, IIT (BHU) Varanasi",
      "photoUrl": "https://lh3.googleusercontent.com/a-/AAuE7mBAu6pD-I3Pdn_I1oxZJBB7hudMcmxHG9cW6HOh=s64",
      "userId": "13571043541178143551"
     },
     "user_tz": -330
    },
    "id": "Uv_Zmehxqd-5",
    "outputId": "edb21e31-d289-4266-ca0a-41be018cc936"
   },
   "outputs": [
    {
     "ename": "KeyError",
     "evalue": "ignored",
     "output_type": "error",
     "traceback": [
      "\u001b[0;31m---------------------------------------------------------------------------\u001b[0m",
      "\u001b[0;31mKeyError\u001b[0m                                  Traceback (most recent call last)",
      "\u001b[0;32m<ipython-input-81-8c0c0e860612>\u001b[0m in \u001b[0;36m<module>\u001b[0;34m()\u001b[0m\n\u001b[0;32m----> 1\u001b[0;31m \u001b[0mhindi_to_english\u001b[0m\u001b[0;34m[\u001b[0m\u001b[0;34m'पैसे'\u001b[0m\u001b[0;34m]\u001b[0m\u001b[0;34m\u001b[0m\u001b[0;34m\u001b[0m\u001b[0m\n\u001b[0m",
      "\u001b[0;31mKeyError\u001b[0m: 'पैसे'"
     ]
    }
   ],
   "source": [
    "hindi_to_english['पैसे']"
   ]
  },
  {
   "cell_type": "code",
   "execution_count": 0,
   "metadata": {
    "colab": {
     "base_uri": "https://localhost:8080/",
     "height": 34
    },
    "colab_type": "code",
    "executionInfo": {
     "elapsed": 4381,
     "status": "ok",
     "timestamp": 1572777828597,
     "user": {
      "displayName": "Abhishek Singh, 4-Yr B Tech, Electrical Engg, IIT (BHU) Varanasi",
      "photoUrl": "https://lh3.googleusercontent.com/a-/AAuE7mBAu6pD-I3Pdn_I1oxZJBB7hudMcmxHG9cW6HOh=s64",
      "userId": "13571043541178143551"
     },
     "user_tz": -330
    },
    "id": "g403gCbfx6Ks",
    "outputId": "11d7081f-226a-4638-a672-e7ae96b26b9f"
   },
   "outputs": [
    {
     "name": "stdout",
     "output_type": "stream",
     "text": [
      "Requirement already satisfied: emoji in /usr/local/lib/python3.6/dist-packages (0.5.4)\n"
     ]
    }
   ],
   "source": [
    "!pip install emoji"
   ]
  },
  {
   "cell_type": "code",
   "execution_count": 0,
   "metadata": {
    "colab": {},
    "colab_type": "code",
    "id": "nMg4bjjTxtf3"
   },
   "outputs": [],
   "source": [
    "import emoji\n",
    "for i in range(len(sentences)):\n",
    "  sentences[i]=emoji.demojize(sentences[i])"
   ]
  },
  {
   "cell_type": "code",
   "execution_count": 0,
   "metadata": {
    "colab": {
     "base_uri": "https://localhost:8080/",
     "height": 1000
    },
    "colab_type": "code",
    "executionInfo": {
     "elapsed": 1468,
     "status": "ok",
     "timestamp": 1572780935975,
     "user": {
      "displayName": "Abhishek Singh, 4-Yr B Tech, Electrical Engg, IIT (BHU) Varanasi",
      "photoUrl": "https://lh3.googleusercontent.com/a-/AAuE7mBAu6pD-I3Pdn_I1oxZJBB7hudMcmxHG9cW6HOh=s64",
      "userId": "13571043541178143551"
     },
     "user_tz": -330
    },
    "id": "4qh4fWM3ztHT",
    "outputId": "1004df1a-4b02-4425-a333-1dc84bf7bcfd"
   },
   "outputs": [
    {
     "data": {
      "text/plain": [
       "['pakistan pakistan of\"  ka ghra ghra tauq tauq he pakistan israel ko tasleem tasleem nahein nahein kerta kerta isko isko palestine palestine kehta kehta have he - occupied occupied palestine palestine ',\n",
       " 'motherfucker motherfucker mulle mulle these\"  ye mathura mathura I\"  me other than nahi dikha dikha tha tha while jab mullo mullo ne ne hindu hindu on ko iss iss liye liye mara mara ki ki those\" vo lasse lasse ki ki paise paise mag mag liye liye the … ',\n",
       " 'manya manya pradhan pradhan mantri mantri mahoday mahoday shriman shriman narendra narendra modi modi heart ji pradhanmantri pradhanmantri banne banne plume\"  par hardik hardik badhai badhai tahe tahe ticker\"  dil … ',\n",
       " '_ krishna jcb full trend me travelling\"  chal passer-by rahi aa aa ',\n",
       " '_ loksabha I\"  me janta janta sirf sirf modi modi on ko vote vote D\"  de passer-by rahi thi thi without na ki ki one kisi mp mp or bjp ko without m … ',\n",
       " 'bhosdike yourself\"  tum pechvade pechvade ki ki shit shit have hi rahoge rahoge sister fucker sister fucker ',\n",
       " 'love love u u bhaijan ...:heart_suit::heart_suit: father + son .. # India bharat # iambharat iambharat # bharatthiseid bharatthiseid best best pic from entire # promotions ... mashallah … ',\n",
       " 'tumhara pass pass abh abh deemagh deemagh hai hai other than nahi islea google on ko their\"  apna deemagh deemagh banaya banaya lnk\"  hua hai hai . each\"  har koi koi tumhari tumhari tarh tarh … ',\n",
       " '_ nolo weni ankere ankere o o gae gae this weekend :face_with_tears_of_joy::face_with_tears_of_joy::face_with_tears_of_joy::face_with_tears_of_joy::face_with_tears_of_joy: ',\n",
       " '_ aimim lage raho raho mullo mullo tumhre tumhre issi issi quran quran faad gyan gyan ki ki kayal kayal hain hain world duniya Allah allah too\"  bhi khus khus … ',\n",
       " '_ omer _ muhammadpti muhammadpti pakhtoon pakhtoon k haqooq haqooq ki ki jang jang other than nahi punjab punjab K\"  k haqooq haqooq ki ki jung jung pak pak … ',\n",
       " 'these\"  ye sale sale have is state\"  desh K\"  ke ever kabhi sage sage other than nahin lnk\"  ho sakte sakte these\"  ye ratter\"  gaddar hain hain inke inke sath sath kadi kadi se se kadi kadi kanun kanun … ',\n",
       " 'saf saf baby baby (( i i ’ m sorry sorry i i wasn wasn ’ t online i hope you ’ re sleeping well though i love love U\"  you ',\n",
       " 'real life K\"  k log log sneak\"  chor diye diye hain hain mene mene already jo snakes thy yet ab internet k chorne chorne hain hain ... i\\'m i\\'m sad sad for no reason solmon ((( ',\n",
       " 'mohsin mohsin dawartweets dawartweets daikho daikho yet aur kuch kuch kha kha ker ker mar mar jao jao bayghayrat bayghayrat insantum insantum yet aur ali ali wazir wazir harami harami lnk\"  ho . pakistan … ',\n",
       " 'kuch kuch media channel dikh dikh rahe rahe hai hai ki ki inke inke upar upar kai kai prakaar prakaar K\"  ke criminal cases hai hai shame\"  shame on this type of media channel ',\n",
       " 'abe abe mother fucker mother fucker .. nhi nhi malum malum to to ammi ammi mat mat chuda chuda bsdk bsdk .. grahm stains on ko dara dara singh singh ne ne mara mara tha tha adivasiy adivasiy … ',\n",
       " '_ well chara sneak\"  chor K\"  ke chele chele this news is a year old ... ',\n",
       " 'twitter K\"  k baghair baghair their\"  apna roza roza mumkin mumkin other than nahi hota hota ? their\"  apna chutiyaap chutiyaap dusron dusron per per thopna thopna band band karo karo bhai ! ',\n",
       " 'oh oh haha haha the the soldier is reading american gods hardy each\"  har each\"  har thanks for reminding everyone of your other clusterfuck ',\n",
       " 'mp mp me govt kamalnath kamalnath ki ki h ... wese ace ek or video viral h h jisme jisme aapke aapke shantidut shantidut brother bhai ace ek dukandar dukandar … ',\n",
       " 'dev dev da da tmr tmr new movie song ami ami tmk tmk valobasi valobasi i i really loved :red_heart::face_blowing_a_kiss: a lot :smiling_face_with_heart-eyes::face_blowing_a_kiss::smiling_face::red_heart::beating_heart: ',\n",
       " 'abe sister fucker kya kya le le jayenge jayenge these\"  yeh toh toh batah batah actually\"  abhi :winking_face_with_tongue: # pakvwi pakvwi babaji babaji of\"  ka thullu thullu :face_with_tears_of_joy: ',\n",
       " 'i hope i i see see my\"  my baby baby this weekend but highly doubt it :pleading_face: ugh ugh ',\n",
       " 'teri teri old lady ma of\"  ka sakinaka sakinaka tujhe tujhe bhadi bhadi chinta chinta lnk\"  ho passer-by rahi today aaj yet ab 2014 se se pehle pehle bhadve bhadve log log bethe bethe the tab tab you tu dudh dudh … ',\n",
       " 'isko isko zammene zammene chayiye chayiye omnibus\"  bus dogma hai hai these\"  ye ever kabhi akhilesh akhilesh ki ki tareef tareef karta karta hai hai yet aur ever kabhi rahul rahul I\"  me pm pm dikh … ',\n",
       " 'jai jai sri shri Ram\"  ram jai jai sri shri krishna jai jai bajrang bajrang spike\"  bali jai jai bholenath bholenath !!! we\"  hum log log bolne bolne lage lage to to rukenge rukenge other than nahi … ',\n",
       " '_ rao hindi hindi tumhari tumhari bass bass ki ki other than nahi . other than nahi seekh seekh paoge paoge . darte darte lnk\"  ho somewhere or other kahin hindi hindi I\"  me marks have hi nahi … ',\n",
       " 'hamyat you tu donkey donkey khor corrupt ganje ganje ki ki too\"  bhi kerte kerte thy thy kia kia ukhar ukhar lia lia unhon unhon ne ne ....... lanat lanat tere tere on te patwari patwari ',\n",
       " 'rt _ io io plume\"  on sale today # nxttakeoverxxv !! it ’ s s my entrance mask . quality is very very very nice :thumbs_up_light_skin_tone: even back side too . coming soon … ',\n",
       " '_ ch1 pakeeza pakeeza language of\"  ka istemaal istemaal you tu koi koi nooni nooni bhayoon bhayoon se se poochhay poochhay youthie youthie pe aewen e criticism karte karte hain hain . these\"  yeh too\"  bhi sahb ',\n",
       " '_ gulwish gulwish other than nahi those\" wo is news ko defend kerne ki ki koshesh koshesh ker ker rhe rhe hain ',\n",
       " 'rt _ murali murali noone noone cares we will boycott world cup till # nesamani recovers and his attacker krishnamurthy is arreste … ',\n",
       " '_ ahmad884 1971 :face_with_tears_of_joy::rolling_on_the_floor_laughing::rolling_on_the_floor_laughing: lulli lulli hoti hoti other than nahi khadi khadi baten baten karalo karalo badi badi badi badi ',\n",
       " 'rt dho diya diya ashk-e-nadamat ashk-e-nadamat ne ne gunahon gunahon on ko meray meray tar tar lnk\"  hua daman daman to baare baare paak paak daman daman lnk\"  ho gaya gaya . ~ momin momin workings\"  khan momin momin ',\n",
       " 'son beta nafrat nafrat yourself\"  tum jaise jaise jahil jahil ( illiterate ) failate failate hain hain pata pata nhi nhi kon kon see si phd phd travelling\"  chal rhi rhi h … ',\n",
       " 'woods one of my favorites too . another one at the beginning of the movie . chhoti-chhoti chhoti-chhoti chitrayi chitrayi yaadein yaadein … ',\n",
       " '@_ mansoor _ ali ali tera tera nam nam taray taray ander ander ki ki jalan jalan btaa btaa raha raha hai hai . sari sari world duniya within main oil price … ',\n",
       " '. jai jai bheem bheem . . great news for for bahujan bahujan kumbkarnaas kumbkarnaas becoz becoz of whom this is in happening . this is the kick st … ',\n",
       " 'don\"  don ’ t t u u love love when the one person that gave a fuck about u is dead -) ',\n",
       " '_ zaini _ en ki zalalat zalalat ki ki daastano daastano se se tareekh tareekh K\"  k aoraaq aoraaq bhare bhare pare pare hai hai behna behna these\"  ye so aise other than nahi world samaj … ',\n",
       " '_ flavour\"  color yourself\"  tum india india wale wale sari sari yahi yahi sochti sochti lnk\"  ho ki ki pakistan pakistan wale atankistan h h plume\"  par nhi nhi kuch kuch have he log log lagti lagti h h thik thik pakistani pakistani bhuta bhuta achi achi h ',\n",
       " 'rohit rohit brother bhai i i am am your big fan want want to meet U\"  you ',\n",
       " 'ma lanat lanat bhejta bhejta hn hn tun tun pe or tmare tmare harami harami leader niazi over pe ',\n",
       " '_ dont _ slay :rolling_on_the_floor_laughing::rolling_on_the_floor_laughing::rolling_on_the_floor_laughing::rolling_on_the_floor_laughing::rolling_on_the_floor_laughing: inta seriously other than nahi leneka segments ko segments are pure pure fun 80% nonsense and only cast makes sense ',\n",
       " 'dog dog bhonkne bhonkne lga lga bhaiyo bhaiyo firse firse ....... sale sale gale gale I\"  me patt patt … ',\n",
       " 'world cup cup within mein man mard other than nahi khusre khusre gae gae hein hein who\"  jo larna larna other than nahi twitter twitter per k sath sath talian talian bajana bajana jaante jaante hein hein ',\n",
       " 'bhaijaan bhaijaan heart ji please please within mein apka apka bahot bahot bahot bahot bada bada fan fan hoon hoon please please Mary\"  meri jindagi jindagi bachalijiye bachalijiye please please mein … ',\n",
       " \"the scene where sahil proposed to vedika vedika ... that that dialogue was magical indeed coz coz i haven't heard that … \",\n",
       " 'a bhauji bhauji tohra tohra of\"  ka haal haal ba ba you tu kahe kahe ludhak ludhak gailu gailu .... eka eka matlab matlab akhilesh akhilesh bha bha … ',\n",
       " 'scratch that . kfc K\"  ke too\"  bhi auqaat auqaat other than nahi rahee rahee after today\\'s defeat - pesay drown drown gayee gayee sarfi sarfi K\"  ke chakaar chakaar within main . andaay … —… ',\n",
       " 'rt # dsscampaignagainstdrugabuse papa papa heart ji aj aj my\"  mera p p hd entrance exam tha tha ap ap heart ji ki ki rehmt rehmt se se bahut bahut acha acha lnk\"  ho gy gy … ',\n",
       " 'to to all muslim sub sab e e qadar qadar mubarak mubarak :beating_heart::beating_heart::beating_heart: ',\n",
       " '_ rj kai kai bar product khrab khrab nhi nhi hota hota logo logo ki ki choice choice khrab khrab hoti hoti hai hai product ki … ',\n",
       " 'aaiye aaiye aapka aapka intezaar intezaar tha tha .... damn damn !!!!! what kitna khoobsurat khoobsurat hai hai these\"  yeh ladka ladka . mashallah mashallah :face_blowing_a_kiss::face_blowing_a_kiss::face_blowing_a_kiss: can\\'t wait for new season … ',\n",
       " 'rt _ zeeshan09 love u u bhaijan bhaijan ... father + son .. # India bharat # iambharat iambharat best best pic from entire # promotions ... mashallah :OK_hand::heart_suit::fire: ',\n",
       " '_ saheb saheb _ to to tera tera jat jat talbani talbani jess jess harqate harqate kyu kyu tax kar tahe tahe masum masum logo logo on ko kyu kyu marta marta tab tab tera tera ammi ammi wherever kaha mar mar jate jate have he … ',\n",
       " 'mazhab mazhab K\"  ke title naam plume\"  par election election jeetna jeetna koi koi bada bada kaarnama kaarnama other than nahi hota hota ace a message to and ',\n",
       " '_ dhol dhol __ seriously one of the best post i i have seen . bravo nd respect ',\n",
       " 'rt may allah bless us all with strong strong imaan imaan taqwa piety a pure heart and good manners . :rose: or ya allah give I\"  me eyes that se se … ',\n",
       " 'chiller man giving big jhtka jhtka # nsecoloscam nsecoloscam has made it a laughing stock ',\n",
       " \"rt u u two do things for ppl ppl u u adore because u u just just want to . it's not a transaction . it's not give & take take . u u two do because it's what u u r r su su … \",\n",
       " 'apne state\"  desh K\"  ke logo logo on ko thug thug tax kar chala chala sanjeev kapoor world cup cup dekne dekne ',\n",
       " 'yet ab these\"  ye btaega btaega . isse isse pucho pucho tere tere jiyne jiyne b b mla mla hai hai usme usme se se gina gina hindu hindu mla mla kaunsa kaunsa hai hai teri teri Muslim muslim awaadi awaadi wale wale gaao gaao … ',\n",
       " '_ haaa haaa no no lie i i think you should buy a new pair sister fucker i haven ’ t put these shits on the charger in a minute :face_with_tears_of_joy: ',\n",
       " 'brother bhai yeah yeah glasses wali wali cuss\"  admi kon kon hai hai who\"  jo appki appki each\"  har pic within main hota hota hai hai ...? ',\n",
       " 'rt mumta bano bano mhatma mhatma ghandhi ki ki smadhi smadhi over pe nhi nhi jayegi jayegi kyu kyu ? vhan vhan ghandhi ghandhi heart ji K\"  ke akhi akhi … ',\n",
       " 'india india me to to modi modi heart ji aaane aaane K\"  k after baad muslims sa … ',\n",
       " 'boy kiya kiya world age hy hy tmhri tmhri :eight-pointed_star::white_question_mark::question_mark::exclamation_question_mark: girl girl 17:exclamation_mark::smirking_face: boy be mine . i i love love U\"  you :kissing_face::red_heart::beating_heart: girl girl i\\'m taken :kiss: boy actually\"  abhi tmhri tmhri umer umer hi … ',\n",
       " '_ here _ ali _ 9 btw btw one kisi jhootay jhootay maseeha maseeha on ko maseeha maseeha cuss\"  man leny leny sy sy qafir qafir other than nahi lnk\"  ho jata jata koi koi .. k … ',\n",
       " 'mother fucker mother fucker hai hai sala sala sale sale lo lo jyada jyada arrogance ghamand hai hai .. kuch kuch daytime din ruk ruk sale sale tera tera arrogance ghamand dur dur lnk\"  ho jayega jayega .. ',\n",
       " '_ pathan pathan _ 14 ikk ikk toh toh government\"  sarkar job job ni ni D\"  de rhi rhi or upper se se she apne india india K\"  ke log log kaam kaam karna karna other than nahi chahat chahat … ',\n",
       " 'han chara chara ghotale ghotale within mein too\"  bhi to to laloo ne ne kitney kitney have hi gavahon gavahon ki ki maut maut K\"  ke ghat ghat utar utar diya diya that ',\n",
       " ':rosette: good morning papa papa heart ji plz plz bless bless I\"  me more more service sewa sumiran sumiran parmarth parmarth of\"  ka wool bal bakhshna bakhshna heart ji dhan dhan dhan dhan sa sa … ',\n",
       " '_ qau qau pakistani girls photo without pakistan of\"  ka karz karz ada ada karo karo pakistani pakistani girls for sparkler\"  heera mandi mandi within mein bata bata two do karz karz … ',\n",
       " '_ boi boi _ kdo kdo most unpractical and cool sword i ’ ve seen ',\n",
       " 'journals k bare bare I\"  me . bt bt ki ki isne isne jbhi jbhi isko isko these\"  ye cripption ka certificate dia gaya gaya h h ',\n",
       " 'sir sir # tranquil\"  prashant _ dhawan dhawan have is kohinoor kohinoor of study iq iq have he is the best teacher of current aff … ',\n",
       " 'last checked mp I\"  me congress ki ki government\"  sarkar hai hai and law and order is a state subject . ',\n",
       " 'yeah yeah who\"  jo you aap we\"  hamara roza roza kharaab kharaab karay karay hain hain without na these\"  yeh uss uss of\"  ka notice hay hay lol lol . Allah allah you aap on ko yet aur you aap ki ki family … ',\n",
       " 'state\"  desh K\"  ke gaddaro gaddaro K\"  ke liye liye 5 year\"  saal bahut bahut painful painful hoge hoge kyoki kyoki mota mota brother bhai is now home minister of india :India: :flexed_biceps::winking_face_with_tongue::winking_face_with_tongue: ',\n",
       " ':hibiscus: ekto ekto you aap log log :winking_face: muskurate muskurate bhut bhut lnk\"  ho ...... or or sharmate sharmate :grinning_squinting_face: too\"  bhi bhut bhut lnk\"  ho ..... ticker\"  dil to to karta karta have hi aaplogon aaplogon on ko eid eid pr pr bolaun ..… ',\n",
       " 'nice joke joke tmhare tmhare ghaddaron ghaddaron on ko stick stick janay janay waala waala hai hai landay landay of\"  ka istimal istimal maal maal .. pakra pakra hai hai ussay … ',\n",
       " 'antar antar atma atma on ko bech bech diya diya hain hain while jab up until <something> tak beijjat beijjat karke karke bhagaya bhagaya other than nahi jata jata tab tab up until <something> tak other than nahi hilega hilega lekin lekin rahe rahe … ',\n",
       " 'workings\"  khan sahib\"  sahab apko apko vote vote diya diya taky taky ap ap pm pm bany or alhamdulillah ap bany bany bi pm pm :face_blowing_a_kiss::face_blowing_a_kiss::face_blowing_a_kiss: magar magar workings\"  khan sahib\"  sahab yet ab to to gabraht gabraht lnk\"  ho passer-by rahi … ',\n",
       " 'sir sir mere mere a / c c se se 22/04/2019 ko rs1180 /= deduct lnk\"  ho gaya gaya hai hai kekin kekin branch office kahta kahta ki ki we mai other than nahi janta janta ki ki k … ',\n",
       " '@__ amrann amrann U\"  you can ’ t even be nice for a second smh :downcast_face_with_sweat: salaam\"  salaam my\"  my love love :weary_face: ',\n",
       " 'aapko aapko bahut bahut bahut bahut badhai badhai lnk\"  ho amitshah amitshah heart ji prospect asha karte karte hain hain ki ki you aap too\"  bhi modi modi heart ji ki ki tarah tarah have hi hama hama … ',\n",
       " 'it would bring me great joy to hear your rendition of des des ’ ree ree ’ s s “ U\"  you gotta gotta lnk\"  be ”. just sayin . xoxo ',\n",
       " 'my\"  mera khayal khayal have he apki apki nazron nazron se se those\" woh document nehein nehein guzra guzra jis jis I\"  me apke apke papa papa ne ne bahir bahir janey janey keley keley mushar mushar … ',\n",
       " 'rt rt no no one no one at all jane jane the virgin narrator i knoow knoow ! straight out of a telenovela right ????? ',\n",
       " 'brother bhai plz plz the infinite bhagwan kre kre # India bharat acchi acchi movie movie lnk\"  ho qki qki # dedepyarde dedepyarde jitna jitna … ',\n",
       " 'rt wishing my bro a very happy happy birthday birthday . many more hits on the way together together :folded_hands::smiling_face_with_smiling_eyes: thankyou thankyou for for giving music to so so … ',\n",
       " 'rt apki apki aik aik gawahi gawahi ne ne mannat mannat on ko pagal pagal saabit saabit kerdia kerdia hai hai ... watch watch # cheekh cheekh tonight tonight at 1000 pm only on # arydigital ',\n",
       " 'just listened to my yesterday\"  first jojo jojo siwa siwa song song ............. i am am a fan lol lol ',\n",
       " 'sara masla masla have is have hi bande bande ki ki wajh wajh se se hai hai .. yehi yehi fasad fasad ki ki jar jar hai hai ... have is on ko team nhe nhe chalane chalane severe ati ... in palyers of\"  ka aps men hasd hasd hai hai ',\n",
       " '_ sk sk _ chetan chetan _ adarsh adarsh abe abe chutiye chutiye tera tera criminal jaisa jaisa ghatiya ghatiya publicity stunt to nhi nhi kr kr rha rha h n n who\"  jo unneces … ',\n",
       " '_ 613 kung hnd hnd on ko pa pa checheck words\"  bat of\"  ka dm dm on ko mukha mukha ni jungkooky hnd on ko maalala maalala without na ikaw to to hahaha hahaha ',\n",
       " 'baby baby you did an amazing job today .. i i hope you ’ re re feeling good .. i wish i would be at your hotel room wating for for yo … ',\n",
       " 'ticker\"  dil K\"  k up khush krny krny on ko ghalib ghalib khyal khyal acha acha ha ha .... what what a myth :face_with_tears_of_joy: ',\n",
       " 'Allah allah jise jise chahe chahe izaat izaat D\"  de r r jise jise chahey chahey zilat zilat dt dt dua dua ha ha Allah allah nawaz nawaz shareef shareef on ko that\"  us K\"  k khandan khandan on ko r r u … ',\n",
       " 'rt rt # ngk ngk good one ... kudos to the heroes _ offl ',\n",
       " 'unerring\"  sahi hoga hoga sayad sayad tabhi tabhi sirf sirf appki appki channel channel over pe these\"  ye dikh dikh raha raha hai hai warna warna kuch kuch bikav bikav media media … ',\n",
       " '_ ez1403 ja without na pakistani :pig: pig + dukkar dukkar + dog dog + suvar suvar ki ki mix mix aulad aulad :face_with_tears_of_joy::face_with_tears_of_joy::squinting_face_with_tongue::squinting_face_with_tongue::grinning_squinting_face::grinning_squinting_face::face_with_tongue::face_with_tongue::rolling_on_the_floor_laughing::rolling_on_the_floor_laughing::confounded_face::confounded_face::grinning_squinting_face::grinning_squinting_face::grinning_squinting_face: ',\n",
       " 'so aise barish barish se se dosti dosti a66i nahi maaraz maaraz tere tere khud khud of\"  ka gar gar gutter\"  mitti of\"  ka h ku6 to khyal khyal tax kar tera tera intzar intzar each\"  har koi koi other than nahi karega karega … ',\n",
       " 'what the fuck does this mean mean their\"  apna neeche neeche of\"  ka band band karke karke rakhna rakhna jyada jyada kholne kholne ki ki jaroorat jaroorat hani ??… ',\n",
       " 'we\"  ham you tu ace ak ayena ayena ha ha you tu dikhaya dikhaya gya gya dagh dagh chahru chahru of\"  ka jis jis ku ku tight bura laga laga samna samna sa sa hat hat jay jay .... we\"  we love love pak pak army :thumbs_up::flexed_biceps::flexed_biceps: ',\n",
       " 'happy happy birthday birthday to U\"  you brother bhai . i pray to baba baba vishwanath vishwanath for for your good health and bright future .… ',\n",
       " 'good morning pita pita heart ji thanks for the new day pls bless I\"  me service sewa sumrin sumrin and parmarth parmarth bakso bakso ji … ',\n",
       " '_ official superbbb voice arjun arjun heart ji u u have have :hugging_face: realy its mean it so much :red_heart: i i salute salute yuh .… ',\n",
       " 'absolutely right but in the history of independent india inclusion & secularism were talked about but nev … ',\n",
       " \"thicccccccc thicccccccc ! xd xd ( i can confirm that did this for a dare . i'm one of the witness hahaha hahaha .) \",\n",
       " 'congrats sir .... lucknow lucknow ki ki shaan shaan bada bada di di aapne aapne ... veerta veerta yet aur shaurya shaurya ki ki missal yet ab you aap pesh pesh kariyega kariyega ... jai jai hind hind ',\n",
       " 'ha ha ha ha ha ha . cow mutr mutr peeke peeke we have won all wars against you guys . you should st … ',\n",
       " '',\n",
       " 'modi modi K\"  ke jitne jitne of\"  ka asar asar vipaksh vipaksh over pe have he other than nahi padosiyo padosiyo over pe too\"  bhi lnk\"  hua hai hai . bokhla bokhla gaye gaye sare sare K\"  ke sare sare . modi modi akela … ',\n",
       " 'bholy bholy bhayaa bhayaa . ufffff ufffff ticker\"  dil winning\"  jeet liya liya ap ap ne ne . love love U\"  you imran imran brother bhai . mind mind blowing ap ki ki acting acting hai hai . alla alla … ',\n",
       " '_ r4y pori pori dunya dunya 2019 within main or or yourself\"  tum log log actually\"  abhi too\"  bhi 1971 main :face_with_tears_of_joy::face_with_tears_of_joy::face_with_tears_of_joy::face_with_tears_of_joy: growup growup yet ab one kisi on ko bhaija bhaija to to sath sath khud khud aa aa jana jana ',\n",
       " 'rt rt ne aate aate have hi half century kr di di :face_with_tears_of_joy: thnku thnku brother bhai itne itne like like K\"  ke liye liye :beaming_face_with_smiling_eyes: ',\n",
       " 'jansankhya jansankhya yet aur atikraman atikraman state\"  desh of\"  ka sabse sabse bada bada samasya samasya hai hai beat beat plastic pollution jai hind hind ',\n",
       " 'obc obc bhikhari bhikhari other than nahi hai hai yet aur bhenchod bhenchod bheemte bheemte obc obc title naam of\"  ka account account bnakar bnakar apni apni old lady maa chuda chuda rah … ',\n",
       " '_ fizakhan fizakhan # pakistani pakistani girls photo without pakistan of\"  ka karz karz ada ada karo karo pakistani pakistani girls for sparkler\"  heera mandi mandi within mein bata bata two do … ',\n",
       " '_ pti pti janab janab thank thank U\"  you very very much for your short break place )) may allah protect you & your family … ',\n",
       " '_ org chalo g sister fucker inhi inhi c … ',\n",
       " ':OK_hand: congratulations congratulations :OK_hand: welkin\"  akash brother bhai you aap on ko phir phir se se 5 year\"  saal :heavy_plus_sign: of\"  ka contract contract :heavy_check_mark: mill mil gaya gaya # keepitup keepitup note note - sorry sorry … ',\n",
       " 'husain haqqani haqqani sub sab ap time time nikal nikal k mar mar q q other than nahi jatay jatay have is dharti dharti py py bojh bojh have he lnk\"  ho yourself\"  tum ratter\"  gaddar besharam besharam . ',\n",
       " 'rt rt nothing like a fresh hit of pepsi on a day like today :OK_hand: ',\n",
       " '_ without na pehle pehle you tu their\"  apna photo photo dp rak rak phir phir bark bark tax kar dog dog ki ki tarah tarah travelling\"  chal bhag bhag yaha yaha bandhar bandhar kahika kahika ',\n",
       " 'sir sir need need ur blessing on my 9 wedding anniversary myself my wife sonia pranam pranam U\"  you you aap of\"  ka ashirwad ashirwad b … ',\n",
       " '_ cnbc :rolling_on_the_floor_laughing::rolling_on_the_floor_laughing::rolling_on_the_floor_laughing::rolling_on_the_floor_laughing::rolling_on_the_floor_laughing::rolling_on_the_floor_laughing: aka sir sir ne ne to cnbc K\"  ke yesterday\"  pahele bol bol diya diya tha tha ',\n",
       " 'nxt five years main india change hone hone wala wala hai hai kyoki kyoki modi modi government\"  sarkar bht bht bda bda bdlav bdlav krne krne wali wali hai hai ... these\"  ye within main ni ni hmare hmare modi modi sir sir of\"  ka kehna kehna hai hai ',\n",
       " 'uff uff kya kya acting acting have he bholey bholey heart ji apki apki !!! feat\"  kamaal krdya krdya . aisa aisa koi koi actor actor have hi nai nai abtk abtk who\"  jo have is charactr charactr K\"  k concomitant saat … ',\n",
       " 'whore congress se v v male prostitute rjd rjd se se buri buri tarah tarah se se haara haara vote vote denewale denewale on ko sadhuwad sadhuwad ',\n",
       " 'rt _ dvn dvn kalank kalank within in theatres now # zafar zafar you aap of\"  ka hain hain ace a character i loved playing in this epic love story no spoilers please ',\n",
       " 'bahut bahut bahut bahut badhai badhai you aap jaise jaise logo logo K\"  ke karan karan have hi modi modi heart ji on ko majboori majboori mili mili hai hai . isi isi tarah tarah se se … ',\n",
       " 'sasty or ghatya ghatya nashy nashy tax kar K\"  k these\"  ye suwar suwar samjhty samjhty have is trah trah ki ki bakwas bakwas tax kar K\"  k humein humein sasti sasti publicity mill mil jaegi jaegi ',\n",
       " 'rt rt proud proud to have been part of this brilliant commercial released during 1996 wc time . great production team that include … ',\n",
       " 'haha haha overrated overrated kisko kisko bolte bolte hain hain chuuuu chuuuu pehle pehle these\"  yeh pata pata kar sister fucker ata pata pata kuchh kuchh other than nahi chale chale aate aate hain hain … ',\n",
       " 'pogo launches all new show kalari-kids kalari-kids love love the enthusiasm of my little ones when they saw saw # chhotabheem chhotabheem dancing dancing an … ',\n",
       " '_ i i _ r _ K\"  k _ i i pakistani to to so aise have hi 1992 ki ki rote rote rhte rhte hain hain uss uss time to england ne ne 74 over pe tax kar diya diya tha all-out . iss iss times\"  baar too\"  bhi wohi wohi ummeed ummeed hai hai :face_with_tears_of_joy::face_with_tears_of_joy: ',\n",
       " 'i wanted to see you in loksabha loksabha it\\'s it\\'s ok ok kanhaiya kanhaiya heart ji vichaar vichaar badlenge badlenge state\"  desh badlega badlega vidhyarthi vidhyarthi … ',\n",
       " 'wow wow yourself\"  tum red plain saree saree pahen pahen without na bahut bahut cute cute lagegi lagegi . red plain saree with sleeveless blouse . will look so awasome ',\n",
       " 'chaa chaa .. can ihave any cheap ace ak ? cuz cuz ak it\\'s my\"  my fav fav weapon .. if if u u woods wan we can battle .. if i win win u give give me … ',\n",
       " 'day by by day this slogan has proven to be true afghani bhagao bhagao mulk mulk bachao bachao ! ',\n",
       " 'those\" wo election K\"  ke liye liye badha badha K\"  ke btaya btaya tha tha accpt accpt this is bar election commission or media on ko too\"  bhi bewakoof bewakoof bnaya bnaya h h janta janta K\"  ke sath sath ',\n",
       " 'he is ace a bemaar bemaar bhikhari bhikhari dog dog why was he dying dub his stupid movies in hindi hindi no wonder the people of tn … ',\n",
       " 'abp news 5 year\"  saal se se mon mon other than nahi bhara bhara congress congress on ko koste koste question sawal karte karte yet ab tweet tweet duwara duwara mazaak mazaak urane urane aare aare … ',\n",
       " 'rt evm hack of\"  ka bahana bahana nhi nhi chla chla paye paye :winking_face_with_tongue: yet ab back fir these\"  ye saath saath nikli nikli slips ka le le aaye aaye back fir too\"  bhi lnk\"  ho gyi gyi bye bye bye :waving_hand::waving_hand: :squinting_face_with_tongue::winking_face_with_tongue::face_with_tears_of_joy::face_with_tears_of_joy: # evmscandal # evm … ',\n",
       " 'rt dhan dhan dhan satguru satguru tera tera have hi aasra aasra papa papa g good morning pita g # pledgeagainstcorruption … ',\n",
       " 'manmohan manmohan singh being considered for party presidents post ace ek chuppi chuppi hazaar hazaar baton baton se se behtar behtar hai hai usse usse badhiya badhiya udaharan udaharan other than nahi lnk\"  ho sakta sakta ',\n",
       " 'one india india sabka sabka saath saath sabka sabka vikas vikas sabka sabka visvas ',\n",
       " '__ ind ind prothom kolkata campaigncalling media sangbad sangbad biswa biswa bangla bangla etc eisob eisob chotokhato chotokhato channel channel gulo gulo dekho dekho . sudhu sudhu jai jai sri sree Ram\"  ram cholche cholche . ',\n",
       " '_ rohatgi rohatgi tere tere old lady maa father baap ne ne bohat bohat badhiya badhiya sikhaya sikhaya hai certificate batna sabko sabko ki ki who kaun kiska kiska chamcha chamcha … ',\n",
       " 'i miss them we were a craze .. we used for them .. omnibus\"  bas koi koi kuch kuch galat galat bolde bolde .. old memories ',\n",
       " '_ for _ pm mumtaz bano bano hindu hindu on ko threat\"  dhamki D\"  de passer-by rahi hai hai . bengal bengal I\"  me have hi nai nai pure pure state\"  desh I\"  me hindu hindu of\"  ka blood\"  khoon steamy\"  garam lnk\"  ho chuka chuka … ',\n",
       " 'i i love love u u so much :loudly_crying_face::heart_suit: and theres absolutely nothing to be insecure about sister fucker ur unique in ur own way ok u … ',\n",
       " 'ap ap beti beti hein hein apko apko beshak beshak apny apny father baap ki ki recollection yaad severe ati hoo hoo heart gi Allah allah apko apko hosla hosla dy dy pr certainly apka apka father baap ace ek … ',\n",
       " 'thank you all for supporting thank thank U\"  you . thank thank U\"  you !!! strongwitheliza strongwitheliza samanthajayz angelmartin00 galiya _ s … ',\n",
       " '_ rathee rathee han han to ass K\"  k keede keede cow meat kliye kliye pehle pehle se se bnde convicted h these\"  yeh log log yet aur jb jb ban ban h h to to teri teri old lady maa on ko khilane khilane jaa jaa rha rha tha tha ',\n",
       " 'it it ’ s proud moment for ganjam that more than 83 students of odisha odisha template\"  aadarsh vidyalaya vidyalaya of ganjam scored more than 90%… ',\n",
       " '# pakvwi pakvwi 92 I\"  me wi wi 10 wickets se se victory jeeta tha tha ajj ajj 7 wickets se se winning\"  jeet gya gya world world cup cup we\"  hamara hai hai .... these\"  ye wali wali chawle chawle koi koi without na m … ',\n",
       " 'rt _ engr sir sir merey merey lye lye bahut bahut khoshi khoshi of\"  ka maqam maqam hoga hoga agr agr ap ap ne ne mujy reply reply kya kya . love love U\"  you sir sir :red_heart: ',\n",
       " 'i i love love U\"  you \\'3000\\' i said said \\' ace ek night\"  raat of\"  ka 5000 lungi lungi \\' she replied . # newgfkitalsshme ',\n",
       " 'pr these\"  ye oopr oopr who\"  jo btaya btaya those\" wo to surgery ni h without na :face_with_tears_of_joy: ',\n",
       " 'very very nice nice tamanna tamanna tamanna tamanna very nice i like you ',\n",
       " 'apko apko deputy cm se se minister chief kb kb bnaya bnaya ja ja rhaa rhaa h h we r waiting ',\n",
       " '_ vbk78 tera pichwada pichwada hai hai sister fucker sister fucker :rolling_on_the_floor_laughing::rolling_on_the_floor_laughing: jb jb se se modi modi heart ji jeete jeete hai hai jali jali padi padi hai hai :rolling_on_the_floor_laughing: tabse tabse pichwaade pichwaade ki ki jagah jagah muh muh se se hag hag rahe rahe lnk\"  ho ',\n",
       " 'shahid bahi bahi wahab wahab riaz riaz ki ki bowling bowling mein experience other than nahi sirf sirf wide wide yet aur no no balls have hi hain hain ',\n",
       " '_ isko isko nikal nikal dia dia tha tha world world cup cup 2011 I\"  me sayad sayad ace ek semi-dick semi-dick call call p p aya aya bolta bolta h h india england and australia ni ni ayga semifinal m ',\n",
       " 'rt # pledgeagainstcorruption good afternoon guru heart g . bless us and give us power to two do more and more more service sewa s s … ',\n",
       " 'it it ’ s so nice seeing the glow-up of people after may-hem :smiling_face_with_heart-eyes: congrats guys guys :OK_hand_light_skin_tone: wohooo wohooo !!! bbye bbye tired year !!! ',\n",
       " 'jitni jitni media media ne ne bjp bjp K\"  ke liye liye prachar prachar ki ki hai hai utna utna to to khud khud bjp bjp ne ne too\"  bhi bjp bjp K\"  ke liye liye other than nahi surgical strike … ',\n",
       " 'rt rt _ in siasat siasat I\"  me rawadari rawadari hai hai samajhta samajhta hai hai . those\" wo roza roza to to other than nahi rahta rahta iftari iftari sam … ',\n",
       " '_ patrag patrag sub sab she she yesterday\"  pahele tere tere gahr gahr I\"  me kanon kanon lago lago kr kr kiyo kiyo K\"  ke teri teri faimly faimly pr pr tera tera kabo kabo other than nahi he … ',\n",
       " '_ india india arjun heart ji :folded_hands::rose: jai jai punrasar punrasar baba baba ki ki jai jai bikaner rajasthan … ',\n",
       " 'doc saab bahut bahut have he badhiya badhiya video video banaya banaya andhere andhere se much better hai hai ',\n",
       " 'sari shairi shairi tassali tassali yet aur dilasay dilasay pay hi munhasir munhasir hoti hoti hai hai .. warna warna shairi shairi why kyun karay karay koi koi suppose agar pas pas lnk\"  ho kuch kuch :winking_face_with_tongue: ',\n",
       " '_ om gandhi gandhi on ko we\"  ham isliye isliye rastrapita rastrapita mante mante hai hai kyu kyu ki ki those\" wo ahinsa ahinsa vadi vadi the the these\"  ye other than nahi hote hote to to aja … ',\n",
       " 'if if i i am am not wrong you loved soty 2 naa naa ??:cat_face_with_tears_of_joy::cat_face_with_tears_of_joy: ',\n",
       " 'world samaj we mai these\"  ye other than nahi aaraha aaraha ki ki why kyun halat halat we mai sudhaar sudhaar other than nahi lnk\"  ho raha raha hai hai why kyun karyawahi karyawahi other than nahi ki ki ja ja passer-by rahi roads per the … ',\n",
       " 'usko usko toh toh kejriwal kejriwal ne ne khud khud reject tax kar diya diya tha tha . education minister toh toh kejriwal kejriwal khud khud bana bana sakta sakta tha tha ? raj … ',\n",
       " '_ subscription\"  chanda make a gentle and nice relation with someone .... life life I\"  me one kisi K\"  k sahare sahare ki ki zarort zarort parti parti ha ha ',\n",
       " '_ rahiye rahiye sex sex is cool but after nikah ose ose phele phele kise kise on ko hath hath laga laga ne ne of\"  ka too\"  bhi chase haq nai nai hai hai hume hume ',\n",
       " 'sub sub bakwas bakwas ha ha these\"  ye apni apni harkaton harkaton se se baz baz nhi nhi ayen ayen ge ge one kisi without na one kisi fault fault on ko jawaz jawaz bana bana kr kr these\"  ye light light band ra … ',\n",
       " 'x cm shila dixet or under karne karne wale wale the the feku feku yourself\"  tum annaji annaji on ko b b dhokha dhokha D\"  de diya diya ',\n",
       " 'lekin lekin itne itne kharab kharab result se se kuta kuta bauna bauna harami harami handsome handsome suvar suvar singh singh etc of\"  ka ira\"  gussa … ',\n",
       " 'rt # valuetime _ valuelife pujya guru heart ji kehte kehte h h ki ki who\"  jo insan insan samya samya ki ki kader kader karte karte h h alasya alasya … ',\n",
       " 'are bsdkk bsdkk ... celestial pole\"  dhruv tyagi tyagi K\"  ke bare bare within main kitni kitni blow bar muslim aatankwad bola bola tune tune ... marbles\"  vivek hatyakand hatyakand K\"  ke bad bad teri teri zu zu … ',\n",
       " '_ India bharat of\"  ka musalman musalman hamesha hamesha secular govt K\"  k liye liye vote vote karta karta raha raha hai hai karta karta rahega rahega . haar haar winning\"  jeet 1 sikke sikke K\"  k d … ',\n",
       " 'congress party ne ne pehle pehle se se feku feku adorer\"  bhakt media media of\"  ka agenda agenda world samaj liya liya hote hote to to these\"  ye chunav chunav nhi nhi hartefeku hartefeku adorer\"  bhakt media media ne ne fe … ',\n",
       " 'ghoda ghoda ghaans ghaans se se dosti dosti tax kar lega lega to to khayega khayega kya kya .. delhi delhi sarkaar sarkaar home ministry public ki ki na … ',\n",
       " 'rt for real tho tho we\"  we ’ re trying to pay off those loans . introducing whopper loans – make a purchase through the bk app for a cha cha … ',\n",
       " 'rt _ ph watching # btsatwembley is making I\"  me miss miss them more . sighhh sighhh i i ’ m really hoping for bts in ph :pleading_face::loudly_crying_face::purple_heart: we miss U\"  you everyday guys … ',\n",
       " 'how how come he was the first man . what about earlier incidents .. yet ab inke inke title naam se se cake\"  roti pel pel raha raha hai hai ... shame on you ',\n",
       " 'need need is branch ke students ki ki hai hai jisase jisase digiral digiral india india par force diya diya ja ja sake sake yet aur corruption corruption too\"  bhi without na lnk\"  ho .... we mai shr … ',\n",
       " 'you aap pichla pichla 5 year\"  saal se se media media of\"  ka ghatna ghatna kramank kramank on ko rewind rewind karke karke dekhiye dekhiye jabbi jabbi vipaksh vipaksh ne ne ruling party K\"  ke neeti neeti K\"  ke times\"  baar … ',\n",
       " 'aur bakwas bakwas karma karma yet aur tv tv per galat galat tidings\"  sandesh dena dena to to kam kam lnk\"  hua instead each congressi neta neta yet aur tax kar … ',\n",
       " 'desh aaghe aaghe after baad raha raha hai hai ye religion ke title naam over pe bakwas bakwas karna karna baand baand karo karo .. yet aur tumhare tumhare you aap bhaiyon bhaiyon on ko too\"  bhi shikhao shikhao .. ',\n",
       " 'rt rt _ workings\"  khan i\\'m very sad to hear about veeruji veeruji passing passing away i had the pleasure & privilege of working with veeruji veeruji he was an amazing over pe … ',\n",
       " 'rt * I\"  me as a father * son - papa papa today aaj within main night study K\"  ke liye liye jau jau ga ga I\"  me - many kitne baje baje son son - 10 baje baje up until <something> tak I\"  me - haan haan … ',\n",
       " '_ mohad we\"  ham log log on ko koe koe dukh dukh nhi nhi hay hay tumko tumko hay hay to pakistan ja :face_with_raised_eyebrow::face_with_raised_eyebrow::face_with_raised_eyebrow::face_with_raised_eyebrow::face_with_raised_eyebrow::face_with_raised_eyebrow::face_with_raised_eyebrow::face_with_raised_eyebrow: ',\n",
       " 'i know know it\\'s so late for me to comment on this tweet but i just just wanna wanna address\"  say i i really miss miss U\"  you and your n … ',\n",
       " 'mp m m kamalnath government on ko vote vote diye diye the the ki employment milega pr 6 months lnk\"  ho gye gye ghanta ghanta kuch kuch ni ni lnk\"  hua without na aagey aagey kuch kuch hoga hoga ',\n",
       " '_ rashid rashid krishna tab tab tha tha while jab tera tera Allah allah peda peda too\"  bhi other than nahi hua … ',\n",
       " 'show acha acha chalna chalna chahiye chahiye people dont care care kisko kisko chance chance diya diya kisko kisko nhi nhi who\"  jo within main h h kisliye kisliye hai hai entertainment entertainment jyada jyada krt krt … ',\n",
       " 'rt _ team team lathi lathi goli goli ki ki government\"  sarkar nhi nhi chalegi chalegi nhi nhi chalegi chalegi ',\n",
       " 'travelling\"  chal lnk\"  be each\"  har gaya gaya yet ab to to sudhar sudhar ja ja .. ki ki back fir se se uncle on ko harwayega harwayega . tere tere jeson jeson ki ki wajah wajah s s … ',\n",
       " '_ 777 _ pak pak … ',\n",
       " '_ pious hopes\"  sapna we\"  we eradicate untouchability & poverty is a sin for life . ',\n",
       " '_ abu abu dog dog ki ki tarah tarah bhonkta bhonkta have he jb jb K\"  k these\"  ye farishta farishta k cousin of\"  ka those\" wo attitude have he who\"  jo tere tere jese jese … ',\n",
       " 'respected pm modi modi jiii jiii hamare hamare odisha odisha ka educational system of\"  ka daityo daityo aparajita aparajita sadangi sadangi mam mam on ko dene dene K\"  ke … ',\n",
       " 'kab K\"  k uth uth gye gye flower garden\"  gulshan K\"  k karobar karobar too\"  bhi travelling\"  chal pare fed the dogs did the few dishes left from last night laundry going on :hugging_face: ',\n",
       " 'rt # ff ff have a great weekend ! _ popat _ panju … ',\n",
       " 'modi sneak\"  chor on ko pta pta tha tha K\"  k evm set lnk\"  ho chuki chuki h h yet aur election commission ko inform kr kr diya diya gaya gaya h h K\"  k hme hme 300 seat seat chahiye chahiye e e … ',\n",
       " 'sir congratulations on your marvellous victory but it seems that no one is ever bothered about sev … ',\n",
       " 'make sure he becomes the bootlicker exactly the way you are . Allah allah apke apke saye saye se se have is masoom masoom on ko bachaye bachaye . ameen ameen ! ',\n",
       " 'yesterday\"  pahle usko usko bulao bulao jisne jisne wherever kaha tha tha notebandi failed\"  fail hui hui to ap ap I\"  mujhe beech beech chaurahe chaurahe plume\"  par phansi phansi plume\"  par latka latka dena dena :beaming_face_with_smiling_eyes: ',\n",
       " 'm m ạ nh nh m m ẽ l ê n n nh é em em heart g á i i stay strong lalisa lalisa . we always love you :red_heart:. # alwaysstaywithlalisa ',\n",
       " 'hamsab hamsab milkar milkar dhundhe dhundhe that\"  us teesre teesre on ko who\"  jo Muslim muslim I\"  me jake jake hindu hindu bnke bnke inferno\"  aag lagata lagata or ya hindu hindu I\"  me jake jake Muslim muslim bnke bnke . yet aur either dono … ',\n",
       " 'chutiye chutiye K\"  ke lodo lodo mna mna kisne kisne kiya kiya hai hai orgasm orgasm karne karne on ko .... karo karo without na bhosdi bhosdi walo walo suppose agar orgasm nhi nhi lnk\"  ho … ',\n",
       " 'we\"  we will miss the beautiful voice of # amjadsabrishaheed Allah allah un un K\"  k darjaat darjaat buland buland far … ',\n",
       " 'harekrishna harekrishna 2024 ke parliament election I\"  me hg modi on ko koe koe passage\"  gali other than nahi degaphir degaphir v v modi modi have hi jitega jitega son beta jara jara passage\"  gali D\"  de K\"  ke dekh dekh to to ? ',\n",
       " 'appne appne too too ever kabhi one kisi shahid shahid K\"  ke family on ko ever kabhi bulaya bulaya other than nahi oath\"  oath K\"  ke liye liye ? kya kya comparison tax kar rahe rahe … ',\n",
       " \"happiest b'day . thanku thanku bade bade bhaiya bhaiya for motivating and making great content for us . \",\n",
       " 'rt _ loyal _ guy Allah allah apko apko kushiyaan kushiyaan naseeb naseeb farmai farmai brother bhai jan jan duaon duaon I\"  me recollection yad rkhna rkhna ',\n",
       " 'correct these\"  yeh chatukar chatukar good meadiagovt . K\"  k always always one kisi words\"  bat other than nahi sunta sunta boycott hona hona chahiy chahiy magar magar these\"  ye … ',\n",
       " 'one kisi ki ki too\"  bhi hatya hatya hona hona bahut bahut galat galat hai hai per ashraf heart ji while jab koi koi hindu hindu ki ki maut maut hoti hoti hai hai to to you aap tweet tweet ku ku other than nahi … ',\n",
       " '_ megha you aap stinking stinking K\"  ke liye liye kayo kayo tayar tayar hui hui while jab ki ki valiant\"  veer se se you aap bahut bahut payar payar karti karti hai hai koi koi without na koi koi words\"  baat … ',\n",
       " 'teri teri old lady maa ki ki pussy pussy behen behen K\"  ke lode lode teri teri gand gand within main jor jor h h to 15 minute minute K\"  ke liye liye mill mil le le tujhe tujhe teri teri hooker hooker old lady maa K\"  ke … ',\n",
       " 'modi modi heart ji apko apko fr fr ace ek times\"  baar pm pm banne banne pr congrats hamare hamare state\"  desh K\"  ke logo logo ne ne who\"  jo these\"  ye visvas visvas banaya banaya hai hai apke apke uper uper is visvas visvas ko … ',\n",
       " 'brother bhai .. modi modi heart ji on ko jeetna jeetna have hi tha tha .. but now early waiting this epic advrtsmnt series .. mauka mauka mauka mauka … ',\n",
       " 'she its okkkk okkkk loveee loveee U\"  you are one of my most favourite persons here :heart_suit: ',\n",
       " 'sir sir we mai allahabad allahabad ( ald ald ) se se sirathu sirathu (… ',\n",
       " 'rubika rubika filthy filthy to to bata bata who\"  jo within andar on ko matri matri banya banya h bjp ne ne o o kya kya bayan bayan deya deya h h sali sali haramkhor haramkhor terei terei fuck fuck … ',\n",
       " 'ravi ravi shankar shankar heart ji namaskar namaskar waise waise to to sabhi sabhi jatiyo jatiyo ne ne aapko aapko vote vote diya diya kuchh kuchh ne ne other than nahi diya diya parantu parantu kayasth ne 1… ',\n",
       " 'jini jini zindgi zindgi guzri guzri ace a jini jini baki baki ace a sari ty lant beshumar beshumar . ',\n",
       " 'if you don\"  don ’ t t like like zhoom zhoom barabar barabar jhoom jhoom ( movie ) then we can not be friends . ',\n",
       " 'are have is wajah wajah se se khatana khatana we mai bahut bahut jam jam kah kah gaya gaya tha tha waha waha police\"  police unerring\"  sahi se se work duty other than nahi tax kar passer-by rahi th th … ',\n",
       " 'today is a bday of my\"  my murshid murshid within may Allah allah give them great health that they can more work muslim ummah ummah or or Allah allah unka unka s … ',\n",
       " 'rt 12 listen listen bhenchod bhenchod U\"  you ’ re re such ace a pyaara pyaara bachha bachha im so fucking happy you finally have a gf gf omg omg i i love love U\"  you yet and ill ill text text U\"  you when when … ',\n",
       " 'sir sir kya kya apka apka sharkar sharkar aane aane K\"  ke bad bad too\"  bhi Muslim muslim safe safe nhi nhi hain hain madhay madhay pardesh pardesh I\"  me . 23may on ko who\"  jo video video ayah\"  aaya … ',\n",
       " 'bjp is now garibo garibo ki ki party who thinks for everyone and congress is now \\' one kisi ki ki too\"  bhi jamboree\"  party other than nahi \\' who thinks only for self ',\n",
       " 'rt Mary\"  meri life life mae mae aik aik ap or or apa apa K\"  ke brday brday of\"  ka daytime din so aise hota hota hae hae js of\"  ka mujae mujae bht bht intazar intazar hota hota ha ha bcz … ',\n",
       " 'naa naa we\"  hum bhulte bhulte have he khuda khuda on ko naa naa unhko unhko who\"  jo hume hume as as allah s gift mile mile have he unko unko bhulne bhulne wali wali galiya galiya we\"  hum sneak\"  chor aaye aaye piche piche ',\n",
       " 'tumhari tumhari marzi marzi chhor chhor two do twitter twitter yehi yehi suppose agar facebook facebook hota hota without na toh toh yourself\"  tum log log chhorne chhorne of\"  ka sochte sochte up until <something> tak nhi nhi p … ',\n",
       " 'swami heart ji karmo karmo of\"  ka fal fal jaroor jaroor milta milta hai hai chinta chinta without na kare kare . she apne acche acche karm karm kiye kiye their\"  apna dha dha … ',\n",
       " 'no no bro ... aghar tera tera playfellow dost hota hota team ma to to phir phir possible possible tha tha ... umer umer akmal akmal p p ',\n",
       " '_ bear _ krishna zoo zoo bear bear brother bhai .... tumara tumara each\"  har jagah jagah se se cut cut gaya gaya hai hai .... keep calm and start preparing for 2024... good good kismat\"  luck :thumbs_up: ',\n",
       " '_ bam bam so so happy that uncle is fine :heart_suit: hamare hamare bb bb K\"  ke pita pita heart ji hey hey aaise aaise have hi thodi thodi bimar bimar rehete rehete strong hey uncle :smiling_face_with_heart-eyes: ',\n",
       " 'looks great & stays that way # jatayuplywood-visvas ka prateek prateek # plywood # wood # plywoodfurniture # woodworking … ',\n",
       " 'yourself\"  tum logo logo ki ki terah terah pakistam k logo logo of\"  ka the wherewithal paisa chori chori ker ker K\"  k harap harap ker k baher flat or mehal mehal other than nahi khareeday khareeday … ',\n",
       " 'jio jio ki ki wajah wajah see see log log ki ki waat waat lgi lgi padi padi hai hai choro choro ... yet ab their\"  apna profit customer of\"  ka the wherewithal paisa chura chura K\"  k nikal nikal rhe rhe lnk\"  ho ..... ghatiya ghatiya … ',\n",
       " 'to be construed as ... yourself\"  tum sabne sabne modi modi on ko vote vote kyu kyu diya diya ...:fearful_face: tumhe tumhe Mary\"  meri naukri naukri ki ki koi koi chinta chinta other than nahi ? meri … ',\n",
       " 'haha bombed on trees wheres we did it in broad day light . ask you commanders jo that\"  us waqat waqat … ',\n",
       " 'rt one last reporting trip with _ runwal to pick strawberries (@ mendozamartha you were right — this is fun fun !) can can ’ t t b b … ',\n",
       " 'rt exclusive censor reports of # bharat is world class . words like movie of the year best performance sunney on ko miley miley ev ev … ',\n",
       " 'rt _ m m i i address\"  say gaya gaya they hear gautam buddha ! ',\n",
       " 'rt sarfraz workings\"  khaan you aap hamare hamare haqeeqi haqeeqi hero hero lnk\"  ho you aap ne ne pakistan K\"  kay leye leye their\"  apna gar gar blow bar dos dos … ',\n",
       " 'aiiiii aiiiii my\"  mera chhotu chhotu bacha bacha :blue_heart::blue_heart: love love U\"  you and adore you so much mini mini :blue_heart: U\"  you seem distant a few weeks back but … ',\n",
       " 'dede dede love pyaar D\"  de is super hit . wht wht ever ever U\"  you want to bark bark . 12th movie in to 100 cr club ! ',\n",
       " 'dear dear nakko nakko thank thank you for being the best part of my life . thank you for always there for I\"  me i i know know U\"  you love love to hug … ',\n",
       " '_ n _ o o to to meet the love of my life life dear dear ',\n",
       " 'pain pain yako yako mar mar jao jao apis apis I\"  me lar lar lar lar K\"  ke those\" wo kuty kuty K\"  ke bachy bachy hamre hamre enemy\"  dushman you tu chata chata have he these\"  ye K\"  k these\"  ye larn larn apis … ',\n",
       " 'these\"  yeh state\"  desh within mein tadi tadi plume\"  par too\"  bhi home home minister banta banta hai hai .... yet aur ace ek pm … ',\n",
       " 'you tu too\"  bhi laat laat khayeg khayeg ace ek daytime din .. yet ab election election aane aane waala waala hain hain .. sudhar sudhar jaa jaa .. other than nahi to to yet ab to to teri teri ass ass mein … ',\n",
       " 'wow .... brother bhai you aap either dono bahut bahut ache ache lagte lagte lnk\"  ho pls pls you aap either dono se se request hai hai shaadi shaadi tax kar lo lo very nice nice coupl … ',\n",
       " 'rt # welfarebydssvolunteers dhan dhan dhan satguru satguru tera tera have hi aasra aasra good good morning morning dear papa papa heart ji beti beti of\"  ka kaam kaam shuru shuru … ',\n",
       " 'ki ki rightwingers ne ne itni itni li li hae hae ki ki bechare bechare of\"  ka ira\"  gussa jayaz jayaz hae hae .... frustrated soul :face_with_tears_of_joy::face_with_tears_of_joy::face_with_tears_of_joy: ',\n",
       " '_ sister fucker like like karke karke chodh chodh D\"  de ',\n",
       " 'modi modi heart ji today aaj utthey utthey modi modi heart ji ne ne signature karey karey modi modi heart ji ne ne today aaj saffed saffed kurta kurta pyjama pyjama pehna pehna again again gonna gonna b b sick of this … ',\n",
       " 'bhale bhale teri teri English english thori thori kachi kachi ha ha per we\"  we are really proud of you bro # sarfarazahmed :red_heart: ',\n",
       " '_ warriors _ bangesh bangesh _ umair96 _ 25 _ guy029 _ 2109 … ',\n",
       " 'rt - bjp bjp on ko vote on muslim mahilaon mahilaon n n purushon purushon ne ne diye diye jinko jinko yojnaon yojnaon of\"  ka fayda fayda milaya milaya modi modi … ',\n",
       " 'because hind isnt indic . vande vande mataram mataram is better though . but jai jai sri shri Ram\"  ram is another emotion . ',\n",
       " '_ says says han han without na .. ghr ghr m m nae nae tha tha sb sb on ko pehly :face_with_tears_of_joy: so best escape point tha ',\n",
       " 'arey arey bhau bhau iss iss bar budget kaam kaam hain hain without na :face_with_tears_of_joy: lonavla se direct goregaon filmcity mein sent\"  set laga laga hain hain :grinning_face_with_sweat: ',\n",
       " '_ well done done sabir sabir brother bhai bilkul bilkul theak theak kha kha app app without na hamian pakistan main app app kasay kasay have hi anker chaiya gin\"  jin of\"  ka … ',\n",
       " \"_ k i i miss miss youuu youuu :loudly_crying_face: and i know know you'll see this later kraaa but but ok but i miss miss youuuu youuuu :loudly_crying_face: \",\n",
       " 'bahut bahut bahut bahut subhkamna subhkamna ...@ narendramodi narendramodi sir sir ... we\"  hum yuva yuva on ko apse apse yahi yahi ummid ummid hai hai ki ki ap ap humare humare state\"  desh K\"  ke ujjaw ujjaw … ',\n",
       " 'rahul rahul heart ji aapka aapka bahut bahut bahut bahut dhanay dhanay wad wad . you aap congres precident hai hai . you aap bahut bahut mehanat mehanat kiye kiye . good good per per you aap … ',\n",
       " 'rassi rassi water\"  jal gayi gayi plume\"  par wool bal other than nahi gayi gayi evm evm plume\"  par jor jor other than nahi chala chala to to patrakar patrakar plume\"  on K\"  ke kapde kapde utaro utaro kuch kuch to to karna karna hai hai … ',\n",
       " 'so true yaaaar yaaaar . what a load of disappointment this country has turned out to be :disappointed_face: and these\"  ye aisi aisi ch ch … ',\n",
       " 'his special appeal is to defeat bjp ! not giving anything like hopescheme etc . fucker fucker kya kya kam kam hai hai state\"  desh within mein . hain hain :folded_hands: ',\n",
       " 'rt _ kaoje kaoje _ hmb hmb __ _ tiy tiy _ bie bie _ abdallah0 abdallah0 ______ i disagree tunda ba ba money rituals z … ',\n",
       " 'sport yaar these\"  ye kesi kesi demands ker rahay rahay hou hou itni itni mushkil mushkil sey sey manaya manaya hai hai larkay larkay on ko nashay nashay lanay pay ',\n",
       " 'allah says the night off of al qadar qadar have is better than than a thousand months may allah forgive U\"  you yet and your family and fulfi … ',\n",
       " 'maam apko apko inke inke . jese jese logo logo on ko answer jawab other than nahi dena dena chaye chaye ....... kyu kyu ki ki inhone inhone humesa humesa aurto aurto on ko burkhe burkhe me rk … ',\n",
       " 'happy happy birthday birthday to the most adorable and remarkable human being on this earth love U\"  you the most # happybirthdayjenniferwinget ',\n",
       " 'sir rajasthan ki ki sari recruitment process band band karke karke kau kau berozgaro berozgaro on ko pareshan pareshan tax kar rahe rahe lnk\"  ho 2018 me … ',\n",
       " 'yahi sb sb kro kro .. hmare hmare state\"  desh K\"  ke yuvao yuvao on ko berojgar berojgar krke krke bjp bjp wale wale these\"  ye postman postman of\"  ka kaam kaam D\"  de diye diye hai hai .. sa sa … ',\n",
       " 'who\"  jo modi modi heart ji over pe ungli ungli utha utha rahe rahe have he unhe unhe bata bata du du ... these\"  ye pichli pichli government\"  sarkar of\"  ka wrong\"  paap have he .... suppose agar actually\"  abhi convince other than nahi hue hue to to ne … ',\n",
       " '_ sharma1 bsdk other than nahi sister fucker kohli are but but tumne tumne hamare hamare wali wali passage\"  gali seekh seekh li li ',\n",
       " 'tumhare tumhare jaisa jaisa besharm besharm on ko while jab jaanta jaanta ne ne chun chun tab tab v v hume hume itna itna have hi dukh dukh lnk\"  hua tha tha . visashyak to chuna chuna tha tha delh delh … ',\n",
       " '_ dead apun apun of\"  ka title naam aa aa giya giya akhbaar akhbaar within mein too too much happy uff uff ',\n",
       " 'wish you all the best jiii ',\n",
       " 'rt _ willy i love when a guy always sees me without makeup and thinks i i ’ m m cute and then when we go on a date it ’ s like like boom boom yeah yeah U\"  you … ',\n",
       " 'jaan jaan bojh bojh tax kar other than nahi haare haare ... wc of\"  ka their\"  apna pressure pressure hota hota hai hai ... haarne haarne of\"  ka matlab matlab these\"  ye other than nahi K\"  k ga … ',\n",
       " 'navjot singh singh sidhhu sidhhu heart ji .. aapki aapki life life itni itni achhi achhi ja ja passer-by rahi thi thi .. aapke aapke commentary commentary ki ki tarif tarif pura pura state\"  desh karta karta tha tha .... kapil … ',\n",
       " '_ sharma sharma _ rofl . so so more more chai for iaf ?? ',\n",
       " '_ offical offical _ prash04 _ deepika006 _ snehal snehal … ',\n",
       " '_ v _ Mr.\"  mr :sleepy_face::sleepy_face: i i feel feel this ',\n",
       " 'join us for our first finally friday yoga class ! book using the link in our bio ! we\"  we ’ d love to see you there there ! … ',\n",
       " 'rt menaka gandhi gandhi to to rahul - rajneeti rajneeti bachhon bachhon of\"  ka acrobatic stunt\"  khel other than nahi hai hai we\"  hum congress congress mukt mukt bhart bhart ki ki taraf taraf badh badh rahe rahe hain hain ......... gaadi gaadi I\"  me … ',\n",
       " 'ali ali bahi bahi jesy jesy have hi big\"  jawan ki ki waja waja sy sy army plume\"  par jan jan deny deny on ko ticker\"  dil krta krta ha ha of\"  ka kabi kabi nai nai dekha dekha eid eid jo … ',\n",
       " 'rt kya kya kahun kahun I\"  me tumhare tumhare baray baray I\"  me you tu to to Mary\"  meri jaan jaan hr hr vheez vheez within mein two do tool haath agy agy hai hai :smirking_face: i i love love U\"  you to namjoon-i namjoon-i I\"  me … ',\n",
       " '_ ind ind what kitna murkh murkh banavoge banavoge janta janta on ko . varso varso se se public public on ko dharm dharm karam karam K\"  ke title naam pr pr murkh murkh banate banate rahe rahe lnk\"  ho mish … ',\n",
       " '__ yet aur haan haan pimp pimp these\"  yeh sun sun maine maine vote vote other than nahi diya diya thaa thaa within main D\"  de have hi other than nahi sakta sakta plume\"  par sache sache … ',\n",
       " 'Muslim muslim tustikarad tustikarad hindu hindu virodbhrashtachar virodbhrashtachar public public on ko bevkuf bevkuf samajhkar samajhkar safed safed jhuthbharat jhuthbharat ki ki sbhya … ',\n",
       " 'fake fake news coz coz yrf yrf itni itni badi badi galti galti ni ni krga krga .. # shahrukhkhan shahrukhkhan on ko yet ab action I\"  me psnd psnd nhi nhi krgi audie … ',\n",
       " 'aplogo aplogo ne ne to betetctet 201117 walo walo of\"  ka majak majak banakar banakar … ',\n",
       " '_ tyagi tyagi happy happy birthday birthday aditi aditi tyagi tyagi heart ji the infinite bhagvan se se prathna prathna karta karta hu hu K\"  ke apka apka khudka khudka channel channel khul khul jaye jaye yet aur pura pura di … ',\n",
       " '__ government\"  sarkar on ko koi koi kos kos nhi nhi rha rha hai hai . these\"  ye fe … ',\n",
       " 'bapa bapa ki ki 26veen you aap sub sab on ko mubarak mubarak lnk\"  ho humari humari mubabbat mubabbat bapa bapa se se yet aur barh barh jaati jaati hai hai jb jb we\"  hum mureed mureed e e kamil kamil nigran e shoo … ',\n",
       " 'chub chub ne ne dog dog ki ki awlaad awlaad . tere tere father baap of\"  ka other than nahi hai hai sale sale this much yah india india . you tu ja ja be nepal ag … ',\n",
       " 'have he - one kisi on ko mohabbat mohabbat se se dekhna dekhna sawaab sawaab hai hai without na ? she she - haan haan heart g have he - toh toh phir phir I\"  mujhe sawaab sawaab kamaane kamaane two do without na 14 year ol … ',\n",
       " '_ ratia waise waise slavery\"  gulami of\"  ka asli asli wajah wajah sangh sangh wale wale other than nahi batate batate honge honge . those\" woh hai hai aapsi aapsi enemy\"  dushman … ',\n",
       " 'lagta lagta have he ap old age b cross kr kr chuky chuky han han ',\n",
       " 'jb jb tk tk so aise chutiye chutiye rhenge rhenge .. India bharat ahead aage nhi nhi badh badh skta skta .... saale saale caste caste on ko she apne pichhwade pichhwade I\"  me daal daal lo ',\n",
       " '_ killer _ sunoo sunoo i i don\\'t know whether it\\'s correct news or wrong but pubg tou tou within mein nai nai final sai sai kafi kafi pehlay pehlay sneak\"  chor di di thi thi ',\n",
       " 'many thanks for your kind wishes lallu lallu heart ji ',\n",
       " 'owaisi owaisi sahib\"  sahab mill mil K\"  ke modi modi heart ji se se issues haal haal karne karne ki ki koshish koshish kare kare .. you aap aachr aachr insan insan lag lag … ',\n",
       " '_ beast beast uske uske perosnal perosnal problem problem h h 20 khelna khelna & 50 over over khelne khelne I\"  me difference h h agr agr whi whi wc wc me perform perform nhi nhi kr kr pata … ',\n",
       " 'my picks for this weekend anthony smith volkan oezdimir jimi manuwa manuwa chris fishgold damir hadzovic sung BIN bin who\"  jo serg … ',\n",
       " 'aksebdkrak aksebdkrak neta neta congress committee K\"  ke meating meating . I\"  me sabhi sabhi members on ko naye naye posts milege . congress ahead aage badte badte javo javo . ',\n",
       " 'is trah trah ki ki chawalon chawalon se se sirf sirf maryam maryam safdar safdar ki calibri have hi up khush hoskti hoskti h … ',\n",
       " 'bahot bahot bahot bahot badhai badhai for our nation pm-2 terms sir jee jee ',\n",
       " 'music is my\"  my life ...:red_heart: thank you to to chhote chhote wiz ustad ( salman ali ) for posting this on his instagram stories today !!! :smiling_face_with_3_hearts:… ',\n",
       " 'amethi I\"  me bjp bjp of\"  ka ace ek pilla pilla mara mara to to bjp bjp K\"  k neta neta yet aur bitch bitch media media esko esko so aise dhika dhika passer-by rahi thi thi jaise jaise koi koi cm cm & pm mer gaya gaya hol hol … ',\n",
       " 'rt allah with U\"  you dont dont worry its ramadan time time hamari hamari dua dua Allah allah qubul qubul karthi karthi hon hon within main dua dua karti karti hun hun appki appki ',\n",
       " '_ rahne rahne very very nice nice . ane ane you killed him with a shotlock . hard to do for that boss . congrats !! ',\n",
       " '_ sharma4 sharma4 you tu sharif sharif ladki ladki lnk\"  ho K\"  ke aisa aisa copy copy paste paste karti karti hai hai these\"  ye koi koi too\"  bhi female / lady on ko shobha shobha other than nahi deta deta aur … ',\n",
       " 'ricardo pat ó n philips mario m é ndez mariochalatetorres el el chepe chepe ardines ',\n",
       " '_ ace a _ org these\"  ye dadoo dadoo charger on ko koi koi these\"  ye bataye bataye K\"  ke who\"  jo semi-dick semi-dick chaye chaye K\"  ke sath sath biscuit biscuit other than nahi deta deta … ',\n",
       " 'still still far better than mms govt ... so if u u r r so connected with numbers and economy .... can u share share your … ',\n",
       " 'gaddar loag loag too\"  bhi ajib ajib hote hote hain hain khate khate hain hain nidus\"  ghar ki ki yet aur help karte karte hain hain padoshi padoshi ki ki these\"  ye abdulla abdulla mehbuba mehbuba consress ki paidaish paidaish hai hai ',\n",
       " 'rt rt _ maker maker oho oho old lady ma ktna ktna pyara pyara lag lag rha rha :see-no-evil_monkey::smiling_face_with_sunglasses::smiling_face_with_heart-eyes: nazr nazr nae nae marna marna oye oye yet ab :face_with_tears_of_joy::rolling_on_the_floor_laughing: ',\n",
       " 'didi didi zyada zyada younger\"  chota other than nahi lnk\"  ho gaya gaya aapka aapka ted ted talk ? tho seriously guys leave leave . her her . the the fuck fuck . alone alone ',\n",
       " 'rt _ exe _ ntf ace ek have hi toh toh ticker\"  dil hai hai asit asit brother bhai kitni kitni times\"  baar jitoge jitoge !? ',\n",
       " 'amen amen great great job job plume\"  on ice him . thank thank U\"  you for for that that beaten beaten it it was was good good . ',\n",
       " 'youtube views ko vote vote samjhne samjhne wale wale suppose agar is blow bar other than nahi jita jita to to ever kabhi other than nahi jitega jitega . bharat … ',\n",
       " 'have hi brooke stores usually should have substitute lines for the main things if they do sell out . i will … ',\n",
       " 'have hi dear dear i am indira from india . U\"  you are are sach sach a nice person you appreciate avery body wo … ',\n",
       " 'rt chahe chahe seat seat samajh samajh lo lo or ya inke inke dwara dwara kiye kiye hue hue ghotale ghotale :grinning_face: ',\n",
       " 'rt rt received times power women award in category of bureaucracy on 28th may . dedicate this award to all my colleagues who ar ar … ',\n",
       " 'phir too\"  bhi to dmk jaisi jaisi anti anti hindu hindu jamboree\"  party on ko vote vote karte karte hai hai !! ',\n",
       " 'inta goal achieve karle karle isme isme have hi India bharat ki ki naiya naiya kuchh kuchh par paar lnk\"  ho jayegi jayegi yet ab godse godse of\"  ka jikr jikr other than nahi karna karna sachhai sachhai one kisi ki ki mohtaj mohtaj other than nahi hoti hoti ',\n",
       " 'rt rt _ insan insan __ insan insan _ insan1 :birthday_cake::birthday_cake: happy birthday birthday :birthday_cake::birthday_cake: _ insan1 :birthday_cake::shaved_ice::ice_cream: sister heart ji :wrapped_gift::chocolate_bar::candy::balloon: papa papa heart ji aapko aapko … ',\n",
       " 'hooo hooo my\"  my ggod . please tell her im im a fan . incredible . ',\n",
       " 'nice congratulations mam state\"  desh aapko aapko rakhe rakhe ahead aage :grinning_face_with_big_eyes: ',\n",
       " 'i i like egg but i hate hate banana banana ',\n",
       " 'attention to all godi godi media media 5 sal sal up until <something> tak gae gae gobar gobar hindu hindu Muslim muslim 3 talaq talaq etc . over pe dabate dabate ker ker ker ker state\"  desh of\"  ka kiya kiya bhala bhala kiy … ',\n",
       " 'i i can totally understand ! i can usually be pretty about what i have done with my slumber\"  sona as well . U\"  you know know … ',\n",
       " 'kyu congress yet aur sp sp ke spokesperson nahi arahe arahe hai hai to to politics se cricket\"  cricket I\"  me agaye agaye ',\n",
       " '# shayad shayad # shair shair jinke jinke ticker\"  dil acche acche hote hote hai hai ... unki unki kismat\"  kismat kharaab kharaab hoti hoti hai hai ... hume hume kissi kissi se se koi koi shikaayat shikaayat other than nahi ... shaya shaya … ',\n",
       " 'we\"  we love love you as you are . continue to inspire people and always remember that we will always be here f … ',\n",
       " 'khud sharda sharda chitfund chitfund ki ki ghotale ghotale ki ki pramukh waiti waiti hain hain duaro duaro on ko daket daket bolti bolti hain hain . khud khud c … ',\n",
       " 'muslimo K\"  ke chatukar chatukar you tu muslimo muslimo K\"  ke mude mude uthata uthata hai hai delhi delhi I\"  me dhurav dhurav tyagi tyagi on ko swing maar diya diya gya gya meerut meerut I\"  me s … ',\n",
       " 'rt rt don\"  don ’ t underestimate the power of ballpoint pen or for that matter chai walla walla on the street time is a great leveller htt … ',\n",
       " 'tun tun chuteya chuteya hein hein ki ki pagal pagal sala sala ... teinu teinu kha kha c na within mein phla phla apni apni aukaat aukaat ch ch rha rha kr kr ... teri teri aukaat aukaat boot … ',\n",
       " '20 year\"  saal se se Ram\"  ram temple\"  mandir other than nahi bana bana sake sake or or today aaj westward\"  west bengal K\"  ke pishe pishe pade pade lnk\"  ho buck\"  dollar 7… ',\n",
       " 'rt rt where where are all those lawyers that were tutored by sagay ? you can actually ask for a refund of your tuition fees from your your un un … ',\n",
       " 'mitali mitali heart ji these\"  ye haramkhor haramkhor to to ladna ladna other than nahi chaha chaha raha raha tha tha isko isko to to phasa phasa diya diya gaya gaya these\"  ye to … ',\n",
       " 'hlo god of cricket heart ji apko apko sabse sabse ayada ayada kon kon se se bowler bowler ki ki pitayi pitayi karte karte in the very act of huye maza maza aata aata tha tha # sachinopensagain sachinopensagain ',\n",
       " \"can't wait for this # happyacademic workshop still time to register for this eent eent on friday _ gnursing … \",\n",
       " '__ me _ mt mt _ pchna pchna yup yup twistooo rubber like :face_with_tears_of_joy: not gud gud for health ',\n",
       " 'modi modi ki ki winning\"  jeet jasahn jasahn manane manane Allah allah khud khud I\"  aye the threatre me unonhne unonhne modiji modiji on ko badhai badhai too\"  bhi p … ',\n",
       " 'Taylor\"  tailor ki ki old lady maa ki ki ankh ankh ! abbu abbu or apny suit of\"  ka size dy K\"  k aya aya tha tha kanjr kanjr ne ne my\"  mera too\"  bhi mery mery abbu abbu K\"  k size size of\"  ka seeee seeee diyaa diyaa ! ace a … ',\n",
       " 'modi modi sir there is no light light since since 1020 pm in tilak tilak town nagar ( west delhi ) ',\n",
       " 'rt rt thanks thanks _ chopra1 . i hope you are recovering well . my\"  my best wishes . ',\n",
       " '_ ind ind … ',\n",
       " 'dharam dharam over pe bahas bahas K\"  ke alawa alawa have is ghodi ghodi K\"  ke paas paas kuch kuch other than nahi hai hai .. gdp pe gahas gahas karegi karegi to to salary cut tax kar di … ',\n",
       " 'india india K\"  ke sartaj sartaj Mr.\"  mr # narendramodi narendramodi heart ji on ko we\"  hum sabhi sabhi bhartiyon bhartiyon ki ki taraf taraf se se bahut bahut bahut bahut badhai badhai !! all all the b … ',\n",
       " 'bhaiyya bjp winning\"  jeet gayee gayee sabhi sabhi seats plume\"  par yet ab kahe kahe ki ki khunnas khunnas . bses is not … ',\n",
       " 'jita to hitlet v tha tha brother bhai burnol to tume tume chahiye chahiye kaam kaam to to ginate ginate other than nahi ever kabhi bjp bjp K\"  k cows ka gobar gobar b … ',\n",
       " 'while jab up until <something> tak bjp bjp K\"  ke talwe talwe chatoge chatoge tab tab up until <something> tak congress kya kya koi koi other than nahin dikhega dikhega aapko aapko yet aur what kitna jaleel jaleel hoge hoge sub sab dal … ',\n",
       " '_ ahmd ahmd yet ab modi modi terrorist terrorist like like u u I\"  mujhe sikhayege sikhayege ... yourself\"  tum log log yet ab adorer\"  bhakt other than nahi rahe rahe yet ab yourself\"  tum modi modi supporter ji … ',\n",
       " '_ arushi _ shine _ glows _ bnane bnane _ wala wala _ kamine kamine … ',\n",
       " 'rt rt thank thank u for for coming coming live :face_blowing_a_kiss: but i i missed it it :loudly_crying_face: brother bhai she apne duaa duaa K\"  k wherever kaha I\"  me apka apka lia lia each\"  har namaz namaz I\"  me duaa duaa krti krti hn hn apka apka nam nam la la of\"  ka r r aesa aesa … ',\n",
       " '_ lover loool loool . yaahn yaahn toh toh woke woke of\"  ka sawaal sawaal have hi other than nahi . yourself\"  tum matlub matlub romance enjoy without na karne karne two do insaan insaan on ko . ',\n",
       " 'woke up to this very beautiful feature .. thank you ',\n",
       " 'dekoyou\\'re dekoyou\\'re within in good form i see see how U\"  you got this far far but unfortunately your time\\'s up ',\n",
       " '_ sharma4 sharma4 evm me dhandli dhandli lnk\"  ho sakti sakti hbut hbut etne etne bade bade level level over pe other than nahi congress congress on ko suppose agar vote vote lene lene h h to to within andar have hi and … ',\n",
       " 'to chori chori ki ki words\"  baat kisne kisne ki ki bjp ne ne koi koi congress congress ki ki tarah tarah ghotale ghotale to to other than nahi kiye kiye yesterday\"  kal se se have hi to congressi congressi ev … ',\n",
       " 'canny believe av been this excited for my new car n n yet now a don\"  don ’ t t want it :slightly_smiling_face: this is going to be fun telling them am patching it :slightly_smiling_face::slightly_smiling_face::slightly_smiling_face: ',\n",
       " 'but but hamari hamari to to actually\"  abhi saadi saadi have hi other than nahi hui hui to to we\"  hame to to pta pta have hi other than nahi hai hai ager ager mere mere sath sath tumari tumari stinking stinking lnk\"  ho jay … ',\n",
       " 'bhakton bhakton on ko lagta lagta hain hain ki ki maine maine unki unki side side li li hain hain .:thinking_face: yet aur usse usse too\"  bhi khatarnak khatarnak words\"  baat ki ki these\"  yeh sub sab se se disagree too\"  bhi other than nahi tax kar … ',\n",
       " 'long before rock n n roll und you can ‘ t steal my love von mando diao ; don\"  don ‘ t matter ( kings of leon );… ',\n",
       " 'you aap sirfsabko sirfsabko recollection yaad dilaiye dilaiye ace ek ek flyover se se aapne aapne 25 crore crore 50 crore crore 75 crore 125 cro … ',\n",
       " 'mla mla bjp k hain mayor bjp k hain hain other than nahi mp mp too\"  bhi bjp k the but but koi koi too\"  bhi dhayan dhayan other than nahi deta deta pls look in to this ',\n",
       " 'we\"  hum labon labon se se keh keh without na paaye paaye un un se se haale haale ticker\"  dil ever kabhi yet aur those\" wo smjhe smjhe other than nahi these\"  ye khamoshi khamoshi kya kya cheez cheez hai hai ',\n",
       " '1 have hi tareek tareek D\"  de two do 20 -30 year\"  saal after baad ki ki sub sab khus khus rahege rahege 1 jana jana khus khus rahega rahega ki ki case case travelling\"  chal raha raha hae hae 1 jana jana khus khus lnk\"  ho … ',\n",
       " 'absolutely absolutely correct correct hon\\'ble hon\\'ble true patriot yet and hinduism hinduism dharma dharma ki ki fighter fighter adult female\"  woman sadhvi sadhvi madam madam namo namo namo namo jai jai … ',\n",
       " 'ur ur love love no u u r r my\"  my lovez one sided wala — sunkr sunkr dukh dukh lnk\"  hua ',\n",
       " 'other than nahi to to dharam dharam K\"  ke adhar adhar per per have hi state\"  desh of\"  ka batwara batwara lnk\"  hua tha tha Muslim muslim on ko pakistan bangladesh mila mila yet aur hindu hindu si … ',\n",
       " 'jaaz jaaz saab saab on ko salo salo year\"  saal K\"  ke pending case on ko soultion soultion I\"  me maza maza other than nahi aata aata * inko inko to public paise monthly case case miljaye miljaye * ',\n",
       " 'rt kodwa guys guys gave us thandiwe thandiwe forget national this man is an international treasure that has to be protected … ',\n",
       " 'brother bhai you aap ais ais tarah tarah rok rok rok rok K\"  kay other than nahi acrobatic stunt\"  khel saktey saktey . you aap jiesey jiesey khelte khelte hoo hoo wiesey wiesey hee hee khelo khelo . team team aur … ',\n",
       " 'actually\"  abhi samajh samajh aaye aaye to to thik thik ... warna warna badhao badhao bhaichaara bhaichaara ..... jiske jiske pass pass chaara chaara up until <something> tak K\"  k paise paise other than nahi unke unke sath sath … ',\n",
       " 'sister fucker log murder murder karke karke without bahar ghoom ghoom the the hain hain government waalon free free # avadheshdubey avadheshdubey ',\n",
       " 'welcome new india new pm pm mannia mannia yasaswi yasaswi friend wa wa hamare hamare sabse sabse lokpria lokpria bhayi bhayi sahib\"  sahab you aap on ko wa wa poore poore deshwasiyon deshwasiyon on ko j … ',\n",
       " 'king\"  raja prithiwi prithiwi secret raj chauhan chauhan galti galti other than nahi karta karta toh toh yourself\"  tum paida paida have hi other than nahi hote hote y … ',\n",
       " 'mere mere bhaijan bhaijan ki ki movie or india K\"  ke sultan sultan ki ki movie darling only India bharat ',\n",
       " '_ views0 mera favourite favourite hn hn bhartan bhartan dhona dhona ghr ghr mei mei Mary\"  meri work duty hy hy baqi baqi aik aik bnda bnda handi handi pakaata pakaata hy hy yet aur dosra dosra roti … ',\n",
       " 'anti anti hindu hindu anti national or inka inka omnibus\"  bas chale chale to to kanahiya kanahiya ki ki tarah tarah these\"  ye pakistani pakistani hafij hafij on ko too\"  bhi india india ka 1st nagrik nagrik b b … ',\n",
       " 'modi modi heart ji address\"  say my\"  mera anurodh anurodh hai hai ki ki manniye manniye jai jai bhan bhan singh heart ji pawaiya pawaiya on ko rastriye rastriye adyakch adyakch of\"  ka pad pad diya diya jay ',\n",
       " '_ off of _ lyching yet ab aate aate h h tmhri tmhri words\"  baat parkya parkya hatya hatya … ',\n",
       " '_ son teri teri bander bander too\"  bhi agr agr gand mar kr kr bhag bhag gaya gaya to to usko usko too\"  bhi yahi yahi boliyo boliyo blega blega kiya kiya ',\n",
       " '_ who isko isko chupake chupake rakho rakho bjp ticket without na dede dede isko isko ',\n",
       " 'bilkul bilkul unerring\"  sahi have he nirupam nirupam kyunki kyunki congress congress K\"  ke paas paas kuch kuch other than nahi bacha bacha yet ab to to ja ja K\"  ke bolege bolege too\"  bhi kya kya ? galiya galiya ?… ',\n",
       " '_ n n bengal me 40se jyada jyada bjp bjp worker ki hatya hatya these\"  ye hui hui knha knha lnk\"  ho Mr.\"  mr so called patrakar patrakar ? ',\n",
       " 'rt rt no no words can explain the love and respect for you dear keep going and have a blast enjoy your day and may U\"  you get whateve … ',\n",
       " '_ sattar sattar or ya Allah allah in logoon se pakistan pakistan ki ki louti louti hui hui dolat dolat of\"  ka too\"  bhi hisaab hisaab le le ameen ameen ',\n",
       " 'rt _ lotus kamal sir sir app app bary bary cuss\"  admi hay hay ignore what others made personal comment on U\"  you please please focus on your cmship and resolve th … ',\n",
       " '_ patrag patrag nafrat nafrat bahot bahot lnk\"  ho chuki chuki abh abh 4 year\"  saal tho tho araam araam karo karo sambit dont dont worry 5 years no one can get get u off st … ',\n",
       " '“ without na i i told u u i i ain ain have no girl ” :face_with_tears_of_joy::face_with_tears_of_joy: y ’ all niggas just be lying smh :woman_facepalming_medium-dark_skin_tone: ',\n",
       " \"rt drop your name and i'll ask you a question .:heart_suit: 1 age 2 height height 3 fav fav song song 4 birthday birthday 5 bad bad habit 6 best friend 7 good habit … \",\n",
       " 'certificate pe 167m kyu kyu dikha dikha rha rha ? ',\n",
       " '_ bjp bjp bahut bahut sari sari shubh shubh kananeaapko kananeaapko seco seco … ',\n",
       " \"rt happy happy birthday birthday :party_popper::balloon::wrapped_gift: up khush rho rho Allah allah pak pak tmko tmko kamyab kamyab krain krain stay blessed _ 001 she its ur 50's birthday :face_with_tears_of_joy::face_with_tears_of_joy: \",\n",
       " 'weekend tho tho tab tab tha tha while jab 5 daytime din school\"  school me gond gond ghisne ghisne K\"  ke after baad milta milta tha tha nothing can reach that satisfaction ',\n",
       " 'itni itni problem problem hai hai to to D\"  de kyu kyu nhi nhi deta deta jiya jiya on ko talakh talakh .. have he very well know know jiya jiya ka behaviour kisa hai hai ti ti kisne kisne bola bola iss iss … ',\n",
       " 'tiran tiran se se tel tel loge loge . mna mna government\"  sarkar actually\"  abhi to to state\"  desh have hi other than nahi pura pura banta banta yet aur sambhal sambhal rahabas rahabas 3-4 tv houses walon walon ki ki salary … ',\n",
       " 'pakiatan pakiatan I\"  me what kitna h h … ',\n",
       " 'nwaz nwaz chor b to to chori chori kr kr K\"  k aaya tha2013 main . 4 halqy halqy kiun kiun nai nai kholy kholy suppose agar sacha sacha tha tha to :thinking_face::thinking_face::thinking_face::thinking_face::thinking_face: ',\n",
       " 'dur dur se se dekha dekha to to ganje ganje uchhal uchhal rhe rhe the xiami 7 pro se se dekha dekha to to ande ande ubbal rhe the ;) ',\n",
       " '_ shono :face_with_tears_of_joy::face_with_tears_of_joy::face_with_tears_of_joy: exactly yourself\"  tum jeeto jeeto yhh yhh haro haro hmma hmma yourself\"  tum sa sa love pyar h h pakistani team bss india k mada mada mukabil mukabil aoo aoo ',\n",
       " 'rt heart ji pranam pranam sir sir ..... ayush homoeopathy doctors ki ki jagah jagah govt bsc gnm nursing ko community health officer … ',\n",
       " '_ m m # modi # bjp # india pray that rahul filthy never leaves his post - he does more for bjp than e … ',\n",
       " 'rubika heart ji you aap bhout bhout badiya badiya yet aur sach sach bolne bolne wale wale lnk\"  ho you aap ace ek solemn mahan anchor anchor lnk\"  ho aapke aapke sath sath each\"  har … ',\n",
       " 'rt ewe tante tante leny memek nya becek becek seru seru sape sape basah basah kasur kasur nya nya haa haa :grinning_face::beaming_face_with_smiling_eyes::beaming_face_with_smiling_eyes: i i love love U\"  you tante tante leny :face_blowing_a_kiss::face_blowing_a_kiss::face_blowing_a_kiss::face_blowing_a_kiss: tar tar kita kita ber cinta lgh tante tante leny leny … ',\n",
       " 'i i wish wish very very happy happy yet and blessed blessed # ramadan ramadan or or # ramjaan ramjaan month month to to the almost most most powerful powerful celebrity celebrity tabu tabu g off of bollywood bollywood … ',\n",
       " 'rt ¿ est est á you tu hijo hijo tuiteando sobre la liga liga de las leyendas ? btw btw = buen teleport wukong lol = lucha lucha otra linea lmao = los magos anda anda … ',\n",
       " '* after sex * she she kisiko kisiko batana batana mat mat . I\"  me koi koi mujhpar mujhpar yakeen yakeen karega karega too\"  bhi other than nahi . :face_without_mouth: # sedlife sedlife # memes # memesdaily ',\n",
       " 'these\"  ye parchi parchi ki ki have hi nahosat nahosat se se lock sara match match khrab khrab lnk\"  hua hai hai sala sala shuro shuro within main have hi team pe presher dal K\"  k chla chla jata jata hai hai ',\n",
       " 'bjp ki ki 303 seats seats aane aane we mai apka apka too\"  bhi yogdan yogdan hai hai sudhir sudhir heart ji thank thank you ! ',\n",
       " 'it\\'s too much sticky high humidity is unbearable . bohat bohat stale\"  purana wala wala lawn suit zindabaad zindabaad ',\n",
       " 'rt duniya of\"  ka masoom masoom tareen tareen semi-dick semi-dick Allah allah jhoot jhoot without na bulway bulway masoom masoom dekho dekho :face_with_tears_of_joy::face_with_tears_of_joy::face_with_tears_of_joy::face_with_tears_of_joy::face_with_tears_of_joy: ',\n",
       " 'iska iska fayda fayda too\"  bhi sirf sirf those\" woh log log uthayenge uthayenge jinko jinko dusro dusro ki ki problem problem se se koi koi matlab matlab other than nahi hain hain . thoda thoda public public on ko swabhimaan swabhimaan se … ',\n",
       " 'motherfucker hooker hooker of\"  ka sulad sulad suwar suwar teri teri old lady maa behan behan beti beti on ko fuck fuck .... tumlg tumlg sudhrog sudhrog … ',\n",
       " 'ma\\'am don\\'t spread fake news . musalmaan musalmaan dara dara lnk\"  hua hain hain . ',\n",
       " 'garmi garmi bhoolnay bhoolnay have hi other than nahi day day passer-by rahi K\"  kay those\" wo hai hai . those\" wo who\"  jo irritating uninvited mehman houta houta hai hai without na ? who\"  jo kitchen up until <something> tak puhanch puhanch jaata jaata hai hai ? ',\n",
       " 'aagaya aagaya apni apni breed breed over pe suar suar teri teri sister\"  bahan on ko my\"  mera pasand pasand hai hai teri teri bv bv on ko tere tere abba abba of\"  ka teri teri old lady ma on ko te … ',\n",
       " 'meh meh yet ab iss iss larki larki sey interact nhi nhi krunga krunga while jab up until <something> tak these\"  yeh mujh mujh sey sey pehlay pehlay interact na krley ) ',\n",
       " 'rahul sir congress jamboree\"  party ki ki vichardhara vichardhara India bharat ki ki janta janta K\"  ke beach beach other than nahi bahut bahut pa pa passer-by rahi hai hai logo logo K\"  ke bich bich v … ',\n",
       " '_ mp :folded_hands: jai jai modiji modiji . jai jai . rss :India::India::triangular_flag::triangular_flag::tulip::tulip: ',\n",
       " 'sir sir apko apko yet aur bjp on ko Mary\"  meri taraf taraf se se winning\"  jeet ki ki bahut bahut bahut bahut subhkamnaye subhkamnaye app app state\"  desh yet aur uchaiyo uchaiyo plume\"  par le le jaye jaye p … ',\n",
       " 'dkh k b b bolna bolna nhe nhe ata ata dar dar dar dar k prh prh rahe rahe apr apr pakistan me gala gala round phar round phar k bolti bolti ',\n",
       " 'aj aj k match K\"  k bad bad sb keh keh ry k 92 I\"  me b b asa asa e e huwa huwa tha tha dosto dosto phr these\"  ye without na lnk\"  ho K\"  k india india bazi bazi ly ly jay jay kio kio K\"  k 83 wala cup b idr e e huwa huwa tha tha ',\n",
       " 'rt _ aneeta aneeta sir sir .... apke apke kaal kaal I\"  me too\"  bhi hm hm berojgaar berojgaar bethe bethe hai hai ... well qualified hone K\"  k wabjud wabjud ... pareekha pareekha pas pas hone hone K\"  k wabjud wabjud ... K\"  k … ',\n",
       " 'yet aur you tu have is pr pr too\"  bhi attention attention lele lele :rolling_on_the_floor_laughing::rolling_on_the_floor_laughing: sister fucker sister fucker itna effort she apne jhaant jhaant se se career ko improve krne me lg … ',\n",
       " 'jada jada muslimo muslimo K\"  ke masiha masiha banne banne ki ki kosis kosis mat mat karo karo .. nase nase ki ki halat halat I\"  me log log kuch kuch too\"  bhi tax kar sakte sakte hai hai . tumhe tumhe too\"  bhi … ',\n",
       " 'jaahil jaahil thinking thinking every voter voted for bjp bjp is not godse godse adorer\"  bhakt netiher netiher mindsick like u u ',\n",
       " \"i don't understand what does he mean by ' surakshit surakshit other than nahi hain hain '?? have is he not getting electricit … \",\n",
       " 'rt vaha of\"  ka hindu hindu marta marta pehle pehle hai hai dr dr . maruituis maruituis of\"  ka have hi du du India bharat K\"  ke hindu hindu jaisa jaisa nhe nhe kehta kehta kuch kuch … ',\n",
       " \"wish wish you allah's khair and noor ... yet and may allah grant you good ending in this this duniha duniha . \",\n",
       " 'manifesto lo lo unadi unadi chestunadu :thumbs_up: inka inka problem problem anti ',\n",
       " 'nahi radha radha heart ji kaon kaon kahta kahta h h ki ki bhagat bhagat singh singh chandrashekhar chandrashekhar aajad aajad jaise jaise deshbhakt deshbhakt have is dharati dharati over pe janm janm nhi nhi … ',\n",
       " 'hahahaha ... Allah allah aisey aisey maulana maulana sahib\"  sahab se se kaum kaum ki ki hifazat hifazat farmayee farmayee .. these\"  ye mudde mudde uthane uthane other than nahi … ',\n",
       " 'rt many many congratulations :raising_hands::raising_hands: yet ab apke apke 2209 followes lnk\"  ho gye gye hai hai ese ese khub khub tarraki tarraki kro kro or or up khush rho rho :face_with_tears_of_joy::face_with_tears_of_joy::face_with_tears_of_joy::folded_hands: Ram\"  ram Ram\"  ram sa sa _ boy boy _… ',\n",
       " 'kuya kuya acrobatic stunt\"  khel kaninang kaninang 1111 Naga nag wish ako ako without na sana sana magkita magkita tayoooo tayoooo !:face_with_tears_of_joy: pa pa meet and greet kanaman dyan dyan oh oh ! para para makapag makapag p p …… ',\n",
       " 'ace a vyapari vyapari hai hai usdin usdin modi modi heart ji k photos aur dialogs k cd cd bechega bechega !!! ',\n",
       " \"_ farmer farmer omg she's so so beautiful :loudly_crying_face: so dramatic \",\n",
       " 'abey abey hooker hooker teri teri gardan gardan on ko kya kya lnk\"  hua re re ??? muft muft of\"  ka maal maal milna milna band band lnk\"  ho gaya gaya toh toh ....... toh toh … ',\n",
       " 'kab sudhroge sudhroge bjp bjp K\"  ke paltu paltu anchors chitput chitput ghatnae ghatnae bta bta rhe rhe lnk\"  ho itni itni fatti fatti hai hai ',\n",
       " 'rt _ ppp ace ek zardari zardari sub sub over pe bhari bhari :victory_hand: shairon shairon of\"  ka huntsman shikari zardari zardari :victory_hand: agli agli turn bari phir phir zardari zardari :victory_hand: … ',\n",
       " 'yhi ki ki I\"  mujhe tere tere over pe religion trust other than nahi you tu harr harr turn baari meko meko last circle me marwa marwa deta deta hai hai :unamused_face: ',\n",
       " 'these\"  ye zaleel zaleel mulk mulk K\"  ke prime minister on ko galiya galiya deta deta tha officers on ko damkiya damkiya deta deta tha tha these\"  ye ghaddar ghaddar q q nhi nhi ? ',\n",
       " 'ayaaaaay ayaaaaay of\"  ka ! mag mag shat daw daw me 1st day of school :see-no-evil_monkey::hear-no-evil_monkey::speak-no-evil_monkey::face_screaming_in_fear: ',\n",
       " 'rt # talash pakistan K\"  kay each\"  har nidus\"  ghar ki ki yarn kahani thank thank U\"  you # muftay muftay for a well researched preview # featurefilm # zeekayfilms # coming … ',\n",
       " 'happy happy new month beloved of yahweh mercy is still settling our case ... thank U\"  you mrs mrs seun ogunfile ... all the way fro … ',\n",
       " 'rt my\"  my fav fav film coming soon soon # ardaaskaraan ardaaskaraan by by paji paji :folded_hands: paji paji here here ’ s the teaser ',\n",
       " 'rt don ’ t t be sad if if Allah allah separates you from someone you love love . always remember it ’ s for for your own good . Allah allah has has a beauti beauti … ',\n",
       " ':face_with_tears_of_joy::face_with_tears_of_joy::face_with_tears_of_joy: _ kon kon or ya bi bi ak song lover hy :speak-no-evil_monkey: ',\n",
       " 'rt happy birthday birthday hasin hasin vasiyo vasiyo K\"  k rhne rhne vale vale :birthday_cake::face_blowing_a_kiss::party_popper::victory_hand::confetti_ball::birthday_cake::face_blowing_a_kiss::party_popper::party_popper: :tiger_face: piti piti heart ji always blesssss u u :crown::clapping_hands: :smiling_face_with_heart-eyes: piti piti … ',\n",
       " 'yes yes u u got right we ll remove all infiltrator except those who believe in humanity all human haters will … ',\n",
       " 'sir sir bhaeya bhaeya heart ji of\"  ka bahut bahut have hi sarahniya sarahniya fesla fesla . while jab hamari hamari words\"  baat sunney .… ',\n",
       " 'oath hote hote have hi plaible media their\"  apna agenda agenda lekar lekar chalu chalu . bantaware bantaware ki ki rajneeti rajneeti rajneta rajneta kam kam yet aur media media vale vale jyada jyada karte karte hai hai . ',\n",
       " 'these\"  yeh toh toh kuch kuch too\"  bhi other than nahi hai hai 5june 5june K\"  ke after baad world world cup cup too\"  bhi postpone lnk\"  ho jayegaa jayegaa brother bhai of\"  ka stardom :red_heart::red_heart: ',\n",
       " '_ truths fouj fouj mulk mulk other than nahi chala chala sakti sakti lnk\"  ho sub sub se se mazbut mazbut off of munazam munazam ha ha but but these\"  ye haram haram khor khor sneak\"  chor jahil jahil bey bey eman eman siasa … ',\n",
       " 'nhi those\" wo who\"  jo ankhein ankhein dikh dikh rhi rhi un un pr pr make-up kea hua prda to allah pak pak ki ki raza raza yet aur muhabbat muhabbat K\"  ke lea lea hota hota have he :red_heart::smiling_face: ',\n",
       " 'tumhaare tumhaare pass pass or or koi koi news news nhi nhi h h kya kya who\"  jo esi esi faaltu faaltu chize chize dikha dikha rhe rhe lnk\"  ho state\"  desh ki ki security ke liye liye who\"  jo jroori jroori h h … ',\n",
       " 'news 18 sala sala tumhare tumhare pass pass dog dog bili bili sabki sabki news news h h lekin lekin bikbot bikbot scam scam K\"  ke itne itne tweets lnk\"  ho rhe rhe hai hai sirf sirf rak rak … ',\n",
       " 'rt it ’ s s my\"  my dream dream to see an acoustic performance of since i have chronic #… ',\n",
       " '2014 K\"  ke after baad who\"  jo state\"  desh ne ne tarakki tarakki ki ki hai hai those\" vo pehle pehle other than nahi thi thi . these\"  ye sub sab modi modi heart ji K\"  ke aane aane K\"  ke after baad lnk\"  hua . ash ash modi modi heart ji you aap ne ne ba ba … ',\n",
       " 'you aap swell sundar sexy sexy hai hai gajab gajab ki ki waistline\"  kamar hai hai kya kya visitation\"  mulakat lnk\"  ho sakti sakti hai hai their\"  apna no den words\"  baat karke karke milunga milunga y … ',\n",
       " 'young india youth prema prema khandu khandu heart ji on ko badhai badhai congratulation cm pad pad ki ki oath\"  shapath bahut bahut bahut bahut badhai badhai ',\n",
       " 'pehle pehle you used to write emo poetry yet ab kyu kyu band band tax kar diya diya ? — likh likh likh likh K\"  ke saare saare emotions emotions khatam khatam hogaye hogaye hain hain ',\n",
       " 'happy happy birthday birthday fati fati churail churail within may you have many many many more within in sha sha Allah allah stay blessed :purple_heart::purple_heart: _ says _ ',\n",
       " '_ hotels bakwas bakwas tax kar passer-by rahi hay hay . she is a habitual liar & fond of creating such hollow scenes . ',\n",
       " \"ya i i know know owaisi owaisi heart ji very well bcz bcz i'm from hyderabad ..… \",\n",
       " '_ bose07 recollection yad aya aya abhinandon abhinandon K\"  ke kapde kapde humare humare pas pas have he hain hain . kehna kehna … ',\n",
       " 'mamta mamta banerjee banerjee K\"  ke gusse gusse mul mul karan karan bjp bjp nhi nhi uska uska khud khud of\"  ka aham aham hai hai those\" wo khud khud on ko kansh kansh cuss\"  man passer-by rahi hai hai yet aur uske uske liye liye modi modi ji … ',\n",
       " 'solemn mahan p p m m modi modi jee jee on ko winning\"  jeet ki ki bahut bahut bahut bahut subhkamnaye subhkamnaye mahanta mahanta K\"  ke liye liye pag pag pag pag ahead aage bade bade :India::India::India::India::India::India:… ',\n",
       " 'oye oye bhagori bhagori pehle pehle model model town is hisaab hisaab two do had had jaga jaga siasat siasat khelte khelte lnk\"  ho dead bodies on ko too\"  bhi spare spare other than nahi kerte kerte ghatya ghatya log log ',\n",
       " 'i know know it ’ s s you jennie anyways i i will will fight fight everyone everyone who who will will aay aay sth sth against U\"  you ! bby bby love love u u uwu ',\n",
       " '# pledgeagainstcorruption good morning guru heart g . bless us and give us power to two do more and more more service sewa … ',\n",
       " 'you aap jaisa jaisa neta neta to to my\"  mera :folded_hands::folded_hands: you aap today aaj K\"  ke rajniti rajniti of\"  ka ideal ideal hai hai jai jai :folded_hands::folded_hands: we\"  we want to see you in ministry again & again ',\n",
       " '_ syd i fw the d d ’ uss uss é U\"  you gotta gotta really sip that that mf mf tho tho ',\n",
       " 'these\"  ye madam madam ki ki glti glti ni h h those\" wo kya kya h h ki ki title naam K\"  ke piche piche who\"  jo inc inc lga lga lnk\"  hua h h n n heart ji those\" wo have hi motivate krwa krwa deta deta h … ',\n",
       " 'have hi friends allah blessed me with a cute grand daughter . pls suggest some beautiful names starting with k or or q .… ',\n",
       " 'U\"  you dont hafta explain yourself buddy U\"  you know everyones proud of you no matter what … ',\n",
       " 'ise bolo bolo kalutosh kalutosh bolta bolta have he these\"  ye congress congress ja dog dog have he ',\n",
       " 'have is state\"  desh of\"  ka Muslim muslim on ko hamesha hamesha uska uska fundamental right milla hai hai kya kya muslmaan muslmaan jantantr jantantr of\"  ka hisha hisha ni owais … ',\n",
       " 'allah pak app yet aur appki appki ki ki family family on ko sabr-e-jameel sabr-e-jameel atta atta farmayie farmayie . ameen ameen . loads of love and respect for your brother .. ',\n",
       " 'rt shaadi shaadi kab kab karni karni hai hai ? # bharatthiseid bharatthiseid - ',\n",
       " 'pakistan wale wale itne itne the poor garib hai hai ki ki she apne captain on ko ace ek ₹200 wala wala tie tie too\"  bhi other than nahi D\"  de sakte # iccworldcup2019 ',\n",
       " '_ ps ps younger\"  chota boy india is a democracy it means we have right to choose o … ',\n",
       " 'kyuu K\"  k tm tm log log ghareeb ghareeb awaam awaam of\"  ka tax of\"  ka the wherewithal paisa chori chori krta krta thay thay yet aur kr kr rhay rhay lnk\"  ho awaam awaam tm tm logo logo K\"  ke adamant money lau … ',\n",
       " '_ sharma sharma # govt to 5sal to to sirf sirf # jumla jumla diya diya we\"  hum e e these\"  ye # bjp bjp # government\"  sarkar # jumle jumle K\"  k siwa siwa yet aur K\"  k … ',\n",
       " 'jb jb hindustan hindustan khud khud hindustan hindustan K\"  ke bare bare m m nhi nhi sonch sonch raha raha h h dhrm dhrm K\"  ke title naam over pe bjp bjp jaise jaise logon logon on ko jitaya jitaya ..… ',\n",
       " '- bjp bjp on ko vote on muslim mahilaon mahilaon n n purushon purushon ne ne diye diye jinko jinko yojnaon yojnaon of\"  ka fayda fayda milaya milaya m m … ',\n",
       " 'rt south africa is not even trying . this world cup so far is like an apology letter to cricket\"  cricket . # savban savban ',\n",
       " 'mp mp I\"  me congress ki ki government\"  sarkar I\"  aayi hai hai to to light kase rh rh jaegi jaegi ..... invertor le le aao aao .... ki ki government\"  sarkar phle phle pai … ',\n",
       " 'rt __ tweets bahut bahut late late lnk\"  ho gaaye gaaye brother bhai # bharatin5days bharatin5days ',\n",
       " 'dicto tmhare tmhare abba abba ( rahul rahul ) jaise jaise cover kia tune tune :face_with_tears_of_joy::face_with_tears_of_joy:.. ',\n",
       " 'jb jb itni itni fat fat rhi rhi to to muh muh kyu kyu maarne maarne aa aa jaate jaate lnk\"  ho dusre dusre tweet tweet dekh dekh K\"  ke :face_with_tears_of_joy::face_with_tears_of_joy::folded_hands: kya kya ja ja … ',\n",
       " 'modi heart ji one kisi K\"  ke saga saga other than nahi hain hain yet aur saga saga why kyun lnk\"  ho ? muft muft I\"  me modi modi of\"  ka jhuth jhuth I\"  me sath sath d … ',\n",
       " 'phir phir too\"  bhi pata pata nhi nhi kiss kiss trah trah qarza qarza charr charr gaya gaya hai hai ',\n",
       " 'rt dear dear sir sir sabko sabko nay nay milna milna chahia chahia brick test of\"  ka problem problem sabko sabko huo huo have he lekin lekin kuch kuch particular students on ko … ',\n",
       " '… ',\n",
       " 'sambit ticket patra yesterday\"  kal se se wherever kaha jaoge jaoge tumhari tumhari bakwas bakwas band band lnk\"  ho jayegi jayegi bahut bahut tax kar li li tumne tumne bakwas bakwas yourself\"  tum too\"  bhi wherever kaha … ',\n",
       " '_ bahen bahen so so glad to have you by by my side always :red_heart::red_heart: that will never change . ily ily shan & thanks for always being … ',\n",
       " 'hdkdhdkdjddjdjd oh my\"  my god god tbh the fact rhey have that vibe is a good thing to I\"  me like catch me listening to more ',\n",
       " '# rt rt end end of term 1 - 2019. we wish enjoyable holidays . eid eid mubaarak mubaarak to to all the par … ',\n",
       " 'cm heart ji apse apse nevedan nevedan hai hai K\"  ke mariyahu mariyahu vidhansabha vidhansabha K\"  ke vidhayak vidhayak heart ji ne ne aisa aisa koi koi kam kam nhi nhi kare kare K\"  ke we\"  ham sub sab unhe unhe … ',\n",
       " 'rt _ possitiverd yahan room room se se without bahar nikalte nikalte have hi aisa aisa lagta lagta hai hai jaise jaise yamraj yamraj spirit aatma nikal nikal K\"  ke le le ja ja rha rha lnk\"  ho yet aur tumhe tumhe masti masti vala vala j j … ',\n",
       " 'sister fucker these\"  ye shahrukh shahrukh workings\"  khan of\"  ka angrezi angrezi version version why kyun ban ban raha raha hai hai you tu . other than nahi milni milni those\" wo tujhe tujhe . dil-e-bekhabar dil-e-bekhabar Mary\"  meri … ',\n",
       " '@_ yogendrayadav yogendrayadav heart ji ... i i am am with with heart ji for this woods one while jab unhone unhone aapke aapke gpl maari .. u u deserved … ',\n",
       " 'waseem waseem brother bhai ap ap kuvh kuvh b b without na karo karo phir phir b b i i love love uou uou yar yar . from faisalabad . bs tusi tusi great great lnk\"  ho pa pa heart g . apko apko wai … ',\n",
       " 'rt rt thanks thanks a lot anna for the inviting me to your biggest day grateful and honoured by your kind gesture i will be … ',\n",
       " 'just look at the mentions mentions kitni kitni ghatiya ghatiya mentality mentality hai hai suppose agar use monk banne I\"  me koy koy problem problem other than nahi hai hai to to we\"  hum kon kon hai hai … ',\n",
       " 'the best paul gascoigne video U\"  you will ever see laughing after 25 seconds - crying at 7 minutes 30 seconds … ',\n",
       " 'america have is a great country and it has has always always been been a great country . think of this as a way to fumigate … ',\n",
       " 'rt _ cronic so many have sacrificed their lives so that we can enjoy the blessings of freedom - john 1513 greater love hath hath no cuss\"  man th th … ',\n",
       " 'sir rahul rahul you aap pareshan pareshan without na lnk\"  ho aapbjeete aapbjeete hai hai haare haare other than nahi kyu kyu ki ki bjp bjp evm evm we mai gadbadi gadbadi karke karke jeeti jeeti hai hai we mai a … ',\n",
       " 'yun yun to to kehne kehne on ko teri teri rah rah of\"  ka stone patthar nikla nikla tune tune thhokar thhokar who\"  jo laga laga di di toh toh my\"  mera sir sar nikla nikla ace ek those\" woh shakhs shakhs tha tha who\"  jo phoolo\\'n phoolo\\'n … ',\n",
       " 'waise waise chutiye chutiye uski uski cabinet 7 logo ki ki hai hai hai hai benkelode ... yaha yaha 25 hai hai amendment 69th padhle sister fucker sister fucker ',\n",
       " 'wish wish . u u . all the best . namo again . sub sab of\"  ka sath sath . sub sab of\"  ka vikas vikas sabka sabka viswash viswash . iss iss blow bar . we\"  hum . muslim . state\"  desh wasi wasi p … ',\n",
       " 'rt rt _ thefilm shaadi shaadi kab kab karni karni hai hai ? # bharatthiseid bharatthiseid - ',\n",
       " 'dekho dekho have is channel of\"  ka kamini kamini pana pana didi didi prawakta prawakta on ko bhejna bhejna band band karo karo plzzz plzzz .. ',\n",
       " 'now india will deliver new terror like sadhwi pragya congratulations new india yet ab aapke aapke children bachhe yahi yahi banenge banenge ..:OK_hand: ',\n",
       " 'amit amit brother bhai prachand prachand bhumat bhumat K\"  ke liye liye badhai badhai lnk\"  ho you aap se se prathna prathna ha ha you aap sabhi sabhi indian voters and supports on ko narender narender bhai … ',\n",
       " 'sri shri narender modi heart ji apko apko my\"  mera sadar sadar naman naman jis jis trah trah she apne zindagi zindagi on ko jeya jeya or or aj aj humare humare pradhanmantri pradhanmantri dobara dobara bne bne aa aa … ',\n",
       " 'rt retweet retweet for for this this king king 5 daytime din intizar intizar K\"  k after baad secret raaj lnk\"  ho ga ga bollywood bollywood py py salman salman workings\"  khan of\"  ka # bharatin5days ',\n",
       " '_ yourself\"  tum toh toh khud khud ace ek buri buri maut maut maroge maroge . bjp bjp on ko tumko tumko maarkar maarkar tool haath gande gande karne karne ki ki zaroorat zaroorat other than nahi hai hai yet aur wai … ',\n",
       " 'adaraniya adaraniya narendra narendra modi modi heart ji ap ap have hi each\"  har blow bar hamare hamare pradhan pradhan mantri mantri bane bane sir sir hamare hamare state\"  desh on ko jansankhya jansankhya niy … ',\n",
       " 'very very good good perchi bolls miss miss kerne kerne K\"  k bad cot behind . out out . ',\n",
       " 'chutiyo tanasahi tanasahi other than nahi hai hai ye security concern hai hai ',\n",
       " '_ das123 brother bhai we\"  hame babri babri mosque\"  masjid other than nahi chahiye chahiye you aap bna bna lo lo raam raam old lady ma … ',\n",
       " 'isko isko kisine kisine irctc ke helpline ka place number pakda pakda diya diya yet aur these\"  yeh bola bola K\"  ke these\"  yeh place number modiji of\"  ka personal number hai hai :face_with_tears_of_joy::face_with_tears_of_joy: ',\n",
       " 'lekin lekin those\" wo too\"  bhi mummy mummy rakh rakh leti leti h :expressionless_face::expressionless_face::face_with_tears_of_joy: ',\n",
       " 'ha ha unerring\"  sahi suna suna h h 1988 K\"  ke email email jaisa jaisa . pehle pehle khud khud of\"  ka system toh update kr kr lo lo . bahut bahut saare saare virus virus h sinha sinha baboo\"  babu . ',\n",
       " '_ 007 these\"  ye to police\"  police on ko chiaye chiaye tha tha ki ki so aise logon logon on ko mana mana kate kate yet ab these\"  ye samajh samajh other than nahi aata aata ki ki these\"  ye police bikie bikie hii hii hai hai … ',\n",
       " 'dosto dosto on ko itne itne video call call kiye kiye hai hai life life K\"  ke gin gin nhi nhi skte lekin lekin ever kabhi too\"  bhi screenshot leke leke apni apni filthy filthy shakal shakal post nhi nhi ki ki hai hai . ',\n",
       " ':rolling_on_the_floor_laughing::rolling_on_the_floor_laughing::rolling_on_the_floor_laughing: khud khud ki ki how kaise marte marte hain hain koi koi have is mahatma :folded_hands: se se sikhe sikhe :rolling_on_the_floor_laughing::rolling_on_the_floor_laughing: cookies saf saf karne karne se se … ',\n",
       " 'agar media media too\"  bhee congress congress of\"  ka boycott karne karne lagi lagi to 5 seaten seaten too\"  bhee nhi nhi aayegi aayegi ',\n",
       " 'these\"  ye khud khud confuse confuse thi thi kya kya bol bol passer-by rahi hai hai isko isko have hi nhi nhi pata pata . hindu hindu koi koi dhrm dhrm have hi nhi nhi hai hai is … ',\n",
       " 'ajj ajj beshak beshak waqat waqat K\"  k firon firon k samany samany sir sir jhukha jhukha lia lia hai hai Allah allah on ko bhe moa moa dekhna dekhna hoga hoga oven\"  bhatti use use daytime din p … ',\n",
       " 'hindu hindu hindu hindu yet aur hindusthan hindusthan are are the only slogans sir . ',\n",
       " 'these\"  ye h h bjp bjp of\"  ka bharstachar bharstachar uttarakhand uttarakhand I\"  me bord bord lava lava diya diya kam kam khatam khatam hisab hisab puchne puchne se se on ko jwab jwab other than nahi deta deta cm portel par si … ',\n",
       " '_ 0f _ nope thank U\"  you ) yeeeeee yeeeeee ha ha ',\n",
       " 'rt ___ rajpoot rajpoot i i ’ m not sure how many times i i ’ m going to want to wish you a happy birthday so i thought i ’ d better start right now :red_heart: i a … ',\n",
       " '_ pallavi92 can U\"  you give some love to your your westward\"  west bengal bengal fans ? # asksaipallavi ',\n",
       " ':folded_hands: namaskar namaskar mam congratulations on your hard earned victory i am really overawed by the way you have c … ',\n",
       " '__ here privatised h h ... but sister fucker as paas paas K\"  k rural area\"  gaon se se zyada zyada electricity yaha yaha jaane jaane lag lag gyi h h :persevering_face::persevering_face::persevering_face: ',\n",
       " 'rahul keep it bro bro u u r r the real champion of world cup cup jaisa jaisa nature nature hai hai waisa waisa have hi khelna khelna bro bro ',\n",
       " '_ who _ bhagat bhagat no no it was normal chetan vs bjp bjp of\"  ka chamcha chamcha chetan chetan .. q unerring\"  sahi bole bole without na ?? ',\n",
       " '25 cror cror gawaaar gawaaar kam kam other than nahi hote hote ......... books pad K\"  k knowledge aati aati hai hai without na ki ki madasha madasha … ',\n",
       " '_ sarita sarita _ sk _ without na matlab matlab these\"  ye words\"  baat saabit saabit hota hota ki ki masooma masooma … ',\n",
       " 'bahut bahut badiya badiya ! good good night # askdeepti ',\n",
       " '2 kaudi kaudi ki ki film maker :face_with_tears_of_joy::face_with_tears_of_joy::face_with_tears_of_joy::face_with_tears_of_joy: aukat aukat se se without bahar nikalne nikalne K\"  k koahish koahish I\"  me ',\n",
       " 'jitne jitne tweet tweet karna karna hai hai tax kar kyu kyu ki ki janta janta too\"  bhi these\"  ye chahti chahti hai hai bakre bakre ki ki old lady maa kab kab up until <something> tak kher kher benayegi benayegi bechare bechare k … ',\n",
       " 'sir m m aapse aapse milna milna chahtu chahtu or bundelkhand m haar haar K\"  k krn pr pr aapse aapse chrcha chrcha chahta chahta hu hu m m bht bht chhota chhota hu hu but m m aapko aapko suggest … ',\n",
       " 'i i really really love love it :two_hearts: thanks my\"  my dear dear you\\'re special too :face_blowing_a_kiss::face_blowing_a_kiss: ',\n",
       " 'etne etne salo salo I\"  me pehli pehli mertaba mertaba sapat sapat gerhan gerhan . nahe nahe dekha dekha each\"  har winning\"  jeet bahut bahut dekhi dekhi . per per these\"  yeh election election dlalo dlalo sneak\"  chor jahil jahil state\"  desh droh droh … ',\n",
       " ':rolling_on_the_floor_laughing::rolling_on_the_floor_laughing: sudhr sudhr jaoo jaoo ever kabhi one kisi yet aur on ko too\"  bhi moka moka two do passage\"  gali khane khane of\"  ka q q each\"  har baaar baaar gandhi family on ko have hi spike\"  bali of\"  ka bakra bakra bana bana rahe congessio :rolling_on_the_floor_laughing::rolling_on_the_floor_laughing: ',\n",
       " 'you aap within in sabdo sabdo ki ki jagah jagah suppose agar these\"  ye likhte likhte ki ki modi modi heart g of\"  ka this much yah phesla phesla swaagat swaagat yogya yogya hai hai yet aur hm hm to to chahte chahte hai hai … ',\n",
       " 'who says breakup hurts the most ever kabhi phone phone ki screen screen she apne you aap chalne chalne lagi lagi hai hai or or rokne rokne over pe too\"  bhi without na ruke ruke :crying_face: ',\n",
       " '_ 009 _ 1 _ ap ap K\"  k alfaaz alfaaz se se saabit saabit hoa hoa K\"  k muslmano muslmano I\"  me ehsaas ehsaas zinda zinda hy hy well well done :thumbs_up::thumbs_up::thumbs_up::thumbs_up: ',\n",
       " '_ bymistake ever kabhi other than nahi kyonki kyonki these\"  ye topibaaz topibaaz hain hain :winking_face_with_tongue: ',\n",
       " \"nice pics nice dp dp looking gorgeous laura and lehsun lehsun up until <something> tak thik thik hai hai but but what's the logic behind rt ing someone's profile pic ? \",\n",
       " '_ anbudan anbudan _ offl offl _ sr bro trailer eppa vittanga :face_with_tears_of_joy::face_with_tears_of_joy::face_with_tears_of_joy::face_with_tears_of_joy: ',\n",
       " 'sarji sarji kiya kiya we\"  ham you aap se se ever kabhi too\"  bhi words\"  bat hahi hahi tax kar sakte sakte suppose agar other than nahi to to you aap these\"  ye ever kabhi mat mat kijiy kijiy ki ki you aap garibo garibo … ',\n",
       " 'chaa chaa gaaye gaaye brother bhai ... :sparkler::sparkler: keep winning !! :OK_hand: ',\n",
       " '_ rofique _ afruj afruj these\"  ye mujse mujse dur dur nhi nhi reh reh skti skti warna warna isko isko bhav bhav kon kon dega dega or footage kha kha se se legi legi these\"  ye ',\n",
       " 'same same to u u bhaya bhaya :smiling_face_with_heart-eyes: have have nice day :grinning_face_with_smiling_eyes::grinning_face_with_smiling_eyes::smiling_face_with_heart-eyes::face_savoring_food: ',\n",
       " 'rt _ iyd iyd those\" wo konse konse log log hote hote hein hein who\"  jo like kiyr beghair beghair rt rt krte krte :sleepy_face: barre barre have hi chawal chawal hote hote :sleepy_face: ',\n",
       " '_ ind ind kya kya milta milta h h yourself\"  tum gobhi gobhi bhakton bhakton on ko .. only talking about hindu hindu Muslim muslim ghanta ghanta gaadi gaadi … ',\n",
       " 'modi modi modi modi kahte kahte kahte kahte hindustan hindustan pura pura lnk\"  ho gaya gaya kathmulllo kathmulllo K\"  ke jute jute pade pade pakistan pakistan adhura adhura rah rah gaya gaya ....... . . aaaj aaaj old lady maa … ',\n",
       " 'jai jai shi shi ram 17bi lok society\"  sabha ki ki p m m ki ki sapat sapat lene lene K\"  ke liye liye mere mere sapariwar sapariwar ki ki tarf tarf se se bahut bahut bahut bahut mubarak mubarak … ',\n",
       " 'while jab congress congress ke spokesperson tv debate I\"  me battamiji battamiji karte karte the the tab tab to to unko unko other than nahi roka roka gaya gaya yet ab haar haar K\"  ke after baad answer jawab den … ',\n",
       " 'pmln K\"  k kuttey kuttey hr hr wqt wqt bhonktey bhonktey hein hein apni apni value maan ki ki tarah tarah ',\n",
       " 'rt dear :face_with_tears_of_joy::face_with_tears_of_joy::face_with_tears_of_joy: 105 run run swing maar tax kar poori poori team out out sister fucker sister fucker modi modi of\"  ka itna itna darr darr ki ki words\"  bat samhal samhal other than nahi paa paa rahe rahe pakistani play … ',\n",
       " 'block fenk fenk K\"  ke marunga marunga suppose agar biggboss ka fuck all felayega felayega to to tl over pe :face_with_symbols_on_mouth::face_with_symbols_on_mouth: fake fake log log fake show or use use dekhne dekhne wale wale sabse sabse bade bade chutiye chutiye :face_with_tears_of_joy::face_with_tears_of_joy: ',\n",
       " '_ hariom these\"  ye log log ever kabhi too\"  bhi one kisi K\"  ke saagein saagein nhi nhi lnk\"  ho saktein saktein kyon kyon ki ki inki inki aasmaani aasmaani kitaa kitaa … ',\n",
       " 'Mary\"  meri id id sy sy log log jealous bohot bohot lnk\"  ho rahy hein hein aj aj kall kall 3 + 4 times\"  baar id report lnk\"  ho chuki chuki hy hy Mary\"  meri but but koi koi farq farq ni ni parny parny wala wala :smiling_face_with_sunglasses::smiling_face_with_sunglasses::smiling_face_with_sunglasses::smiling_face_with_sunglasses: ',\n",
       " 'gambhir sir sir salam salam appko appko !!! kya kya paari paari khele khele just just like 2011 world cup final ',\n",
       " '_ rosy rosy _ ind ind actually\"  abhi water\"  jal rah rah … ',\n",
       " 'kadi kadi ninnda ninnda karte karte hain hain . iske iske alawa alawa we\"  hame kuch kuch sikhaya sikhaya other than nahi shakaon shakaon I\"  me sorry sorry . iski iski bh bh … ',\n",
       " 'happy pa pa sya sya non non ?:disappointed_face: i i hope i won\\'t regret giving you my 3rd chance which it is the last . marupok marupok of\"  ka kasi kasi kaya kaya may … ',\n",
       " 'rt _ rajpoot333 __ khalid _ here here thankyou brother bhai post post yet ab mujhy mujhy yqen yqen haiun haiun up until <something> tak pohonch pohonch jay jay heart g … ',\n",
       " '@_ unzila unzila _ heart g btw thnks ap ky ky itne itne likes ky lia :red_heart::victory_hand: ',\n",
       " 'aapko aapko 67 seats evm hack kr K\"  k mili mili hogi hogi ? kaise hack krwayi krwayi thi thi bhaisahaab bhaisahaab ',\n",
       " 'mubarak mubarak to all all young naya pakistan ',\n",
       " 'who\"  jo who\"  jo ilzam ilzam lag lag rha rha hai hai these\"  yeh govt govt ki ki yet aur nab nab ki ki zimadari zimadari hai hai K\"  k saza saza K\"  k sath sath jurm jurm sabit sabit lnk\"  ho warna warna roz roz roz roz media media pe tas … ',\n",
       " 'prayer for generosity ',\n",
       " 'rt abe laudu laudu kise kise pagal pagal bnara bnara hai hai saaale saaale d4 d4 ki ki news these\"  ye fan fan dega dega terko terko ? isse isse achha achha to to ace ek fake fake account bnakr bnakr khu khu … ',\n",
       " 'rt thank U\"  you _ waraich _ pti pti Royal Highness malik zaman zaman for coming to my aftari at at dha dha without na 131 ',\n",
       " 'rt _ creations super excited sirf sirf aapke aapke liye liye jau jau … ',\n",
       " 'hahah hahah these\"  yeh you tu other than nahi tera tera jala jala lnk\"  hua pichwada pichwada bol bol raha raha hain hain . adat adat lnk\"  ho gayi gayi thi thi without na ki ki mullon … ',\n",
       " 'sorry sorry not moulana moulana iss iss dog dog suwwar suwwar of\"  ka place number hiske hiske too\"  bhi pass pass hai hai two do muje muje please its a humble request ',\n",
       " 'isko isko bf bf other than nahi kehta kehta isko isko noukar noukar kehta kehta hain hain . ',\n",
       " 'rt _ 0103 twitter twitter py half time you tu oska oska header header dekhne dekhne we mai guzar guzar jata jata :smiling_face_with_heart-eyes::see-no-evil_monkey::two_hearts: ',\n",
       " 'rt good morning sir . my\"  my self p . s . saini saini from krishi jagran monthly ( in hindi hindi punjabi punjabi gujarati gujarati marathi marathi kanna kanna … ',\n",
       " '_ fc sid sid ki ki flop flop movie count tax kar le le pehele pehele tera tera sid biggest flop ',\n",
       " 'achche achche Muslim muslim joot joot other than nahi bolte bolte bolke bolke those\" wo sheila sheila tweet tweet karee karee thi thi .. or ya kuda kuda !!! hamaari hamaari paalya paalya log log like like iss iss joote joote janaa janaa … ',\n",
       " 'what ever the results may be but love afghanistan cricket team well played najib najib rehmat rehmat yet and rashid ',\n",
       " 'rt __ sh sh pubg pubg nhi nhi khelta khelta * match match nhi nhi dekhta dekhta ! smoke smoke nhi nhi krta krta will this society accept me ? ',\n",
       " \"rt theses sanghis are alike . the bjp wants to erase nehru . let's let's see what india would have been without him h h … \",\n",
       " 'daily of\"  ka routine ban ban gaya gaya hai hai train late khuch khuch other than nahi badlega badlega ',\n",
       " 'aap K\"  ke honesty honesty on ko koti-koti koti-koti naman naman :folded_hands_medium_skin_tone::face_with_tears_of_joy: ',\n",
       " 'my\"  mera India bharat state\"  desh breed breed paat paat se se mukt mukt yahi yahi sangharsh sangharsh state\"  desh of\"  ka vikas vikas yet aur sureness\"  vishwas vikas vikas nidus\"  ghar gha gha … ',\n",
       " 'the well-known music director gopi sunder is celebrating his birthday today wishing a very happy happy birthday birthday & within may yo yo … ',\n",
       " \"_ bhootfm bhootfm i i love love ghost ghost fm ...:heart_suit: cox's bazar app deya deya sonce \",\n",
       " 'respected respected modi modi sir sir aj aj state\"  desh K\"  ke deshbhagato deshbhagato yet aur world dunia within mey phale phale hue hue deshbhgato deshbhgato ki ki manokamana manokamana puri puri hui hui . ap ap esi esi tarah tarah s s … ',\n",
       " 'rt bts world world tour tour \\' love love yourself yourself speak speak yourself yourself \\' live streaming in wembley wembley stadium stadium ! finally it\\'s d-day !! plume\"  on 6/1 ( sat sat ) 7… ',\n",
       " 'bawdi bawdi ga ga ... d d fucker fucker banati banati he public on ko mother fucker mulli ',\n",
       " 'rt _ is1 show I\"  me your your emir emir palace palace these are palaces of emir of kano state malam muhammad sunusi ll __________ … ',\n",
       " '_ bear _ krishna isme isme too\"  bhi cheating cheating .. yet aur what kitna large public on ko bewakoof bewakoof banaoge banaoge ? those these edited video well p … ',\n",
       " 'uploaded aao aao sunday sunday (5/26/2019) ii ii to ',\n",
       " 'yoongi yoongi is so intellectual and woke i i wish he had the chance to exhibit all that in his own songs sighhh sighhh ',\n",
       " '_ ticker\"  dil sister fucker this not our hair hair jindgi jindgi hai hai ulajhti ulajhti bikharti bikharti hai hai to to fattt fattt K\"  ke hath hath I\"  me aa aa jati jati hai hai :angry_face: ',\n",
       " 'again partying with my\"  my best ever companion # domino _ india india # khushiyo khushiyo _ ki ki _ home _ delivery ',\n",
       " '# India bharat my\"  my favorite being human bajrangi bajrangi sultan sultan salman salman workings\"  khan shoot film bharat 5th june june dekhna dekhna without na bhule bhule ',\n",
       " '_ nighat nighat brother bhai mere mere sirf sirf social media over pe woman empowerment ki ki words\"  baat other than nahi honi honi chahiye chahiye balki balki real … ',\n",
       " 'modi modi heart ji sapat sapat se se phale phale ace ek daytime din bi bi light light nhi nhi gyi gyi kyu kyu ki ki lene lene the the yet ab pht pht vohi vohi darma darma strt strt lnk\"  ho gya gya hai hai or or who\"  jo kirshan kirshan pal … ',\n",
       " 'mubarak mubarak lnk\"  ho .. these\"  ye b b apk apk abu abu K\"  k kaarnamy kaarnamy hn hn .. btw # ldl ',\n",
       " 'modi government come back within in 2019 sabka sabka sath sath sabka sabka vikas vikas sabka sabka visvas visvas ',\n",
       " 'these\"  ye log planet of the apes K\"  ke those\" wo bandar bandar hai hai who\"  jo north on ko human enemies samajhte samajhte hai hai yet aur khud khud on ko intelligent ',\n",
       " '_ sun sun bh bh K\"  ke ... tere tere jaise jaise jh jh @@ ntu ntu on ko aukaat aukaat dikhana dikhana zaruri zaruri hai hai tere tere jaise jaise m m @@ darch logo logo on ko support … ',\n",
       " 'annie this is absolutely beautiful these precious girls have great voices for our abba abba father . keep makin … ',\n",
       " 'isko isko mar mar mar mar k mar mar mar mar k sary haram haram K\"  k buck\"  dollar bhir bhir nikalo nikalo have is se se ',\n",
       " 'modi modi heart ji jaiye jaiye aasirwaad aasirwaad lekar lekar aaiye aaiye yet aur ghotalebaaz ghotalebaaz guiness securities ltd of\"  ka md md lotus kamal kothari kothari on ko jai jai … ',\n",
       " '_ krishna kutto on ko dawat dawat plume\"  par other than nahi bulaya bulaya jata jata sport yaar ',\n",
       " '_ subscription\"  chanda that\\'s not a wishful thinking . think about living . think about all the good stuff that can be done . things you love love to two do . :grinning_face_with_big_eyes: ',\n",
       " 'the nep is an unmitigated disaster in some areas . if it took U\"  you guys 5 years to come up with this . god god bless bless you ..… ',\n",
       " 'these\"  ye unerring\"  sahi nhi nhi kiya kiya she apne heart ji she apne राजनाथ सिंह जी on ko home ministry nhi nhi diya diya she apne q q .. uss uss cuss\"  admi of\"  ka kadd kadd bjp … ',\n",
       " 'hamare hamare sheher sheher within mein sach sach words\"  baat kehne kehne wala wala hee hee each\"  har ik ik nazar nazar within mein sazawaar sazawaar kuch kuch zyada zyada hai hai poetry poetry ejaz hussain hussain fakhi fakhi … ',\n",
       " 'kharagpur se se ki ki hai hai but but kahi kahi aisa aisa to to other than nahi inke inke promises ki tarah tarah those\" wo bh bh … ',\n",
       " 'proud to be my parents only child and a daughter !!! thank U\"  you beeswax\"  mom n n dad dad ! U\"  you said it right kbk < khelo khelo beti beti khelo khelo >… ',\n",
       " 'rt with with U\"  you sambit sambit you fought a hard election and you fought it well ! congratulations on the spirited conte … ',\n",
       " 'oye oye idiot idiot K\"  ke idiot idiot kabb kabb up until <something> tak yet aur what kitna jhooth jhooth failayga failayga ? sharm sharm bol bol K\"  ke koi koi cheej cheej hai hai ki ki other than nahi ? this is a scene from a fo … ',\n",
       " '_ suttybaz suttybaz these\"  yeh ajeeb ajeeb percentage percentage nikaal nikaal di di wese wese i i am am harami for some people ',\n",
       " 'rt _ please please she apne bachon bachon on ko coeducation colleges ma admission admission dilvaya dilvaya karen karen these\"  ye university aake aake yahan yahan of\"  ka mahol mahol kharab kharab kardete kardete … ',\n",
       " '_ k27 nawaz sharif on ko anar anar nigger nigger ki ki tarha tarha wall deewar I\"  me chun chun dena dena chahye chahye haram haram khor khor ne ne marna marna you tu hai hai nhi nhi itni itni jaldi jaldi ... ',\n",
       " 'congratulations modi heart ji to become our pm once again jai jai hind hind mere mere people pariwar on te taraf taraf se se hardik hardik subhkamnaye subhkamnaye ',\n",
       " 'hoooo hoooo hooo hooo ... U\"  you good ?:rolling_on_the_floor_laughing::rolling_on_the_floor_laughing::rolling_on_the_floor_laughing::rolling_on_the_floor_laughing::rolling_on_the_floor_laughing::rolling_on_the_floor_laughing::rolling_on_the_floor_laughing: ',\n",
       " \"_ twt it's officially nam june june . nothing's changed i still love u u forever forever \",\n",
       " 'rt _ saeed jummah tul tul wida wida mubarak from us to all of U\"  you :red_heart: within may U\"  you all be blessed with whatever you wish for amen amen . ',\n",
       " 'dont dont feel feel even jealous of allah sb on ko nhi nhi bulata bulata apny apny ghr ghr yaha yaha up until <something> tak K\"  k 2 blow bar itni itni jaldi jaldi mash mash … ',\n",
       " '_ maala maala hahaha hahaha thats thats niceee ',\n",
       " 'rahul gandhi gandhi without bahar hai hai to to vajpayee vajpayee jinki jinki wajah wajah se se other than nahi to america me band band hota hota ',\n",
       " 'you aap what kitna tweet tweet kroga kroga these\"  ye chij chij harr harr roj roj hoti hoti india india old lady ma you aap kitni kitni jagha jagha of\"  ka pta pta kroga kroga saab saab jagha jagha yehi yehi hota hota b … ',\n",
       " '_ cool cool sport yaar Mary\"  meri tou tou halat tight tight hogayee hogayee thee thee . really really good read after such a long time . also marvel\\'s war of the realms is a fun read . ',\n",
       " 'sir sir so thanks for it it these\"  ye yaha yaha se se dumling ground on ko shift krne krne K\"  ke liye liye apka apka yet aur ji of\"  ka thanks thanks sb … ',\n",
       " 'yet aur two do vote vote .... yun yun bhenchodo bhenchodo ki ki tarah tarah pite pite jaoge jaoge ... kab kab samjhenge samjhenge these\"  ye state\"  desh K\"  k log log ... sub sab sale … ',\n",
       " 'sir sir bahut bahut bahut bahut badhai badhai hamari hamari jamboree\"  party bahut bahut aachhe aachhe se se winning\"  jeet gyi gyi aapse aapse request request hai hai kashmir kashmir se se sewer\"  pani raja … ',\n",
       " 'brother bhai itna itna time waqt lnk\"  ho giya giya h h I\"  me to to omnibus\"  bas itna itna janta janta hu hu ki ki suppose agar saliky saliky se se koi koi thodi thodi samjhdari samjhdari se se kahi kahi jay jay to to apko apko asma asma chu … ',\n",
       " 'idk idk how auditions are gonna gonna go tomorrow but i guess we ’ ll see see . ',\n",
       " '_ 54 on ko khud khud on ko to to batting krne krne aati aati ni ni bus captain bana bana huwa huwa have he . title naam of\"  ka without na toss toss winning\"  jeet sakta sakta h … ',\n",
       " 'yet and hooooo hooooo boy boy am i shocked that meghan “ my father is john mccain my father is john mccain my father is john mcca … ',\n",
       " 'rt rt # derasachasauda derasachasauda good night night papa papa heart ji come come in my sweet dreams please bless me and all insa insa fa fa … ',\n",
       " '_ scindia sir sir U\"  you are are my\"  my favorite favorite political political leader leader U\"  you are are always always my\"  my hero hero you aap K\"  ke liye liye winning\"  jeet haar haar K\"  ke mayne … ',\n",
       " 'rt _ sjian _ behen ! tere tere tweets tweets padh padh pr pr Mary\"  meri belly\"  pet aching\"  dard hone hone laga laga he ! # 1yearofbehir ',\n",
       " 'rt listen if U\"  you want to love love love love like you own nothing ',\n",
       " '_ these\"  ye parchi parchi or selfish nai chala chala team of\"  ka halat halat dekh dekh lo lo ',\n",
       " 'congratulations modi heart ji . but but we mai you aap request request karta karta hu hu ki ki ghazipur ghazipur K\"  ke manoj manoj sinha sinha heart ji on ko you aap bhuliyega bhuliyega … ',\n",
       " '# modi modi phone phone up until <something> tak other than nahi uthate uthate nalayak nalayak of\"  ka darr darr hai hai unhe unhe ki ki kahi kahi these\"  ye humse humse paise paise without na maang maang le le - maryam maryam naw naw … ',\n",
       " '_ thonu thonu v v lkh lkh lkh mubarka mubarka . .. nd congratulations mam ',\n",
       " 'you aap jaise jaise yet ab koi koi sayad sayad mile mile :folded_hands::loudly_crying_face: india best minister forever :folded_hands: ',\n",
       " 'jai italy ne bs jebloty jebloty yet aur kuch kuch other than nahi kiya kiya suppose agar opposition itni itni nikammi nikammi yet aur hindu hindu virodhi virodhi without na h … ',\n",
       " 'so aise I\"  me khate khate hai hai ki ki 2021 tak christian or islam islam on ko kahtm kahtm krnenge krnenge yesterday\"  pahle those\" wo khud khud she apne andr these\"  ye chuwa chuwa pussy pussy khatm khatm kre kre ',\n",
       " 'state\"  desh wasio wasio on ko mamuli mamuli lag lag raha raha hai hai islye islye koi koi protest protest other than nahi h h koi koi chintit chintit other than nahi h h ise ise lek … ',\n",
       " '_ 003 _ rishu rishu aisehi aisehi log log hai hai who\"  jo each\"  har legend legend on ko tight bura bhala bhala bolte bolte hai hai yha yha tk k god of cricket on ko too\"  bhi nh … ',\n",
       " 'ammi ammi jaan jaan kehti kehti thi thi yet aur Shah\"  shah posture rukh workings\"  khan kehte kehte hain hain :raising_hands_light_skin_tone: extremely humbled yet and overjoyed overjoyed . i i love love U\"  you sir sir :red_heart::red_heart::red_heart: ',\n",
       " '_ 2244 _ kunwar kunwar those\" wo kya kya h h without na ki ki fake profile itne itne lnk\"  ho rkhe rkhe h h ki ki lagta lagta h h ki ki pi6e pi6e koi koi without na koi koi bjp it … ',\n",
       " 'teri teri shakal shakal se se toh toh you tu incest incest ki ki paidaish paidaish lagta lagta hai hai sister fucker yet aur mere mere on ko pakistani bol bol raha raha hai hai sister fucker … ',\n",
       " 'abey abey buddhe buddhe you tu sala sala dog dog hm hm 130 cr cr hindustanio hindustanio on ko jhoota jhoota bol bol rha rha hai hai bsdk hmne hmne too\"  bhi modi modi on ko vote d … ',\n",
       " 'freedom of speech . .. suna suna h h without na heart ji .. hm hm to to bolenge bolenge ... jay jay sri shri Ram\"  ram ... or or haan haan mam mam .. pura pura India bharat my\"  mera g … ',\n",
       " '_ sena sena iss so-called unguided youth on ko 1 moth moth K\"  ke lie lie jail jail within mein daalo daalo phir phir sub sab she apne you aap line line peaa peaa gye gye ge ge :pouting_face::pouting_face::pouting_face: ',\n",
       " 'solemn mahan p p m m modi modi jee jee on ko winning\"  jeet ki ki bahut bahut bahut bahut subhkamnaye subhkamnaye mahanta mahanta K\"  ke liye liye pag pag pag pag ahead aage bade bade :India::India::India::India::India::India:… ',\n",
       " 'chachu chachu on ko shaadi shaadi mubarak mubarak lnk\"  ho ... :rose: ',\n",
       " 'shohar shohar hai hai ” omnibus\"  bas thats thats it it . one kisi ne ne se se that\"  us se se boycott other than nahi kiyakisi kiyakisi ne ne usey usey nidus\"  ghar se se nikaalne nikaalne ki ki threat\"  dhamki other than nahi di di . why why ? why … ',\n",
       " 'rt was watching a stream and while the game looks fun the unironic use of sjw made I\"  me tune tune out immediately . lnk\"  be a better sampl sampl … ',\n",
       " 'jhut jhut bolna bolna # dhoka dhoka dena dena of\"  ka taluk taluk # dadhi dadhi se se thodi thodi hai hai ki ki dadhi dadhi hai hai to to sach sach bolo bolo # dhoka dhoka without na two do ? # jhuut jhuut other than nahi bolna bolna dh dh … ',\n",
       " 'within may 2019 K\"  ke chunav chunav I\"  me party members haare haare hain hain congress jamboree\"  party other than nahi haari haari suppose agar congress haa haa … ',\n",
       " 'death over ki ki okad okad bata bata deya deya sister fucker block swing maar deya deya paid user of\"  ka lakho lakho rupee rupee lekr lekr ye l … ',\n",
       " 'rt purd bhumat bhumat se se winning\"  vijay in the very act of huye mere mere payare payare aadarniy aadarniy pm pm modiji have hi badhai badhai lnk\"  ho Ram\"  ram rajy rajy agaya agaya bhagva bhagva ace ek blow bar back fir sunami bn kr kr ch ch … ',\n",
       " 'anchor anchor look so happy t … ',\n",
       " '_ radhey radhey arey arey bilkul bilkul deewane deewane the the why kyun other than nahi honge honge akhir akhir apni apni old lady maa of\"  ka … ',\n",
       " 'b . j j . p p . walo walo ki ki khas khas aadat aadat h h . who\"  jo deshbhakt deshbhakt or ya rastrabhakt rastrabhakt other than nahi h h onko onko too\"  bhi jabardasti jabardasti deshbhakt deshbhakt rastrabha … ',\n",
       " 'happy happy birthday birthday Shah\"  shah ! get get ready ready for all the saying you aren ’ t 24. i am glad z thinks i … ',\n",
       " 'rt _ youkiss youkiss _ nia happy bday bday jit jit . hope you enjoy it and be lit af :hundred_points: ',\n",
       " 'liberalswoh to dara dara lnk\"  hua samuday samuday of\"  ka insaan insaan hai hai . dar dar K\"  ke maare maare chhed chhed di di ladki ladki . hindu intolerant hai hai ',\n",
       " 'why women if all are equal than samanta samanta K\"  ke seizure\"  adhikar K\"  ke tahat tahat these\"  ye suvidha suvidha sabko sabko milni milni chahiye chahiye other than nahi to to one kisi ki ki other than nahi . ',\n",
       " 'fantastic film # pmnarendramodi must watch biopic . great performance by underrated dhaansu actor actor Mr.\"  mr si … ',\n",
       " 'insan insan chahe chahe to to she apne vichar vichar dusronke dusronke dil-dimag dil-dimag I\"  me sthapit sthapit ker ker sakta sakta hai hai . kubhi kubhi kubhi kubhi bade bade insanoko insanoko aisa aisa lagta lagta hai hai ki … ',\n",
       " 'i\\'m just gonna gonna sing ralf gum\\'s take I\"  me to my\"  my love ....:beating_heart::beating_heart::raising_hands::raising_hands::raising_hands: ',\n",
       " '_ hamare hamare mulk mulk mei mei log log up khush hain hain .. tumhe tumhe sub sab acchi acchi bato bato mei mei sirf sirf buri buri nazar nazar aay … ',\n",
       " 'this is nothing !! my\"  my sister once used fevistick as lip lip balm balm !!:smiling_face_with_smiling_eyes: ',\n",
       " 'abhivyakti ki ki aajadi aajadi of\"  ka gala gala yourself\"  tum tv tv channel wale wale ghot ghot rahe rahe lnk\"  ho . bulaao bulaao debate debate me common people on ko . ',\n",
       " 'rt rt hearty congratulations to jee jee rankers . proud of our telugu toppers . wishing you all the very best for your future . ',\n",
       " \"open it it sirjee sirjee .... two do one thing ... send me ace a dm ... i'll respond ... thank you ! \",\n",
       " 'there there is no national language in india and as your whish whish i i know ace eak tho tho theen theen chaar chaar ..... now thus an … ',\n",
       " '_ sharma4 sharma4 tera tera sa certificate lane ki ki mujha mujha jarurt jarurt other than nahi ',\n",
       " 'rt ramadan ramadan is a season of mercy and a period during which we are encouraged to make positive changes in our lives . as our m m … ',\n",
       " 'sri shri narendra modi modi heart ji yet aur naveen naveen patnayak patnayak heart ji on ko winning\"  jeet ki ki bahut bahut sari sari subhkamnaye subhkamnaye umeed umeed hai hai ki ki modi modi ji farmer K\"  ke liye liye … ',\n",
       " 'mashaallah they bothlook good . patwari patwari & media media walay walay jaltay jaltay hain hain jalkukkar jalkukkar . ',\n",
       " 'so so i i got got this skin from the # crates # kar98k new skin looks damn good thank you pubg yet ab yahi yahi chamkaunga chamkaunga … ',\n",
       " 'rt rt this this is important for all people of color everywhere in the world ',\n",
       " ':grinning_face_with_smiling_eyes::grinning_face_with_smiling_eyes::grinning_face_with_big_eyes: isko isko doosra doosra kaam kaam other than nahi only criticism to cm all time ',\n",
       " 'takky takky over pe bhik bhik jaty jaty lnk\"  ho yourself\"  tum log log . we don\\'t trust you people ',\n",
       " '_ ar1 iska ss ss leke leke rakho rakho badme badme tweet delete krke krke palti palti khayegi khayegi warna warna :face_with_tears_of_joy::face_with_tears_of_joy::face_with_tears_of_joy::face_with_tears_of_joy: ',\n",
       " '_ donorrr kyo qureshi on ko kya kya pta pta while jab those\" vo election commission me he … ',\n",
       " 'rt rt steven gerrard is the best player in love prem history history ',\n",
       " 'rt suppose agar sach sach I\"  me bahaduri bahaduri hai hai to to rajneeti rajneeti chhor chhor kyon kyon other than nahi deta deta mader mader tera tera father baap amethi amethi haar haar gaya gaya ',\n",
       " '_ yash yash other than nahi mam mam we\"  ham apni apni matrubhasha matrubhasha other than nahi choddenge choddenge we\"  ham hindi hindi other than nahi bolenge bolenge yesterday\"  kal modi modi ayah\"  aaya to to we\"  ham hajaro hajaro sal sal ki … ',\n",
       " 'rt fokat of\"  ka samosa samosa khaane khaane & fokat fokat ki ki movie movie dekhne dekhne wale wale critics are tweeting about boycotting salman khan movies . lol lol funny c … ',\n",
       " '_ firstt firstt oho oho have is ki ki to is K\"  k nidus\"  ghar have he within mein baaj baaj gai gai ',\n",
       " 'happy happy birthday birthday apurva apurva paithane :partying_face::birthday_cake::party_popper::rainbow: – celebrating birthday at juhu juhu chaupati chaupati mumbai ',\n",
       " 'ghatia ghatia batein batein mat mat karo karo yet ab these\"  yeh thinking\"  soch on ko kejriwal kejriwal how kaise cm cm ban ban gaya gaya jisko jisko kuch kuch other than nahi aata aata delhi delhi on ko barbad barbad of\"  ka … ',\n",
       " 'rt rt _ vikal vikal this scene is from “ young naya zamana zamana “ ace a super hit film . with his blessings your dharam dharam has playe … ',\n",
       " 'within main have is sarkarko sarkarko yet ab akhari akhari blow bar bata bata king\"  raja hun hun ki ki inhone inhone suppose agar shreychoropar shreychoropar karvai karvai other than nahi ki ki to to within main unko unko anewalen anewalen chun … ',\n",
       " '_ h h _ ace a _ r _ m _ i i _ oye oye chutiye chutiye sub sab bol bol rahe rahe I\"  mujhe these\"  yeh dekh dekh isne isne tera tera tweet copy kia kia idiot idiot K\"  ke patthe patthe kahi kahi K\"  ke :face_with_tears_of_joy::face_with_tears_of_joy: timing … ',\n",
       " 'i i wish nargees mother was alive then sambhoo sambhoo snj snj duttmba duttmba banta banta . country of\"  ka title naam roshan roshan kartasab kartasab … ',\n",
       " 'yeh other than nahi badlega badlega . hara hara flavour\"  rang iske iske blood\"  khoon I\"  me sama sama chuka chuka hai hai omnibus\"  bus yet ab these\"  ye kuch kuch daytime din of\"  ka hindu hindu h h jald jald hi … ',\n",
       " 'this have is spirited\"  brave girla great daughter of sindh \\' dharti\\'daughter of shaheed muhtama benazeer bhutto . shah … ',\n",
       " 'rt _ snack one kisi on ko pehly message krne krne se se apki apki shaan shaan we mai kami kami other than nahi ajati ajati . . . han han lekin lekin dosra dosra khud khud on ko bohat bohat toup toup cheez cheez smjhne smjhne l l … ',\n",
       " 'sir sir alladin alladin K\"  ke jariye jariye you aap ne ne hume hume bachpan bachpan recollection yaad dilaya dilaya hai hai thanks for that but story I\"  me ever kabhi ever kabhi th th … ',\n",
       " 'rt we\"  we don\"  don ’ t t need it . but but i i ’ ll teach you so you can addd a lil razzle dazzle ',\n",
       " 'rt i i think prabhas is right choice for d4 srk ko slb K\"  k sath sath koi koi movie movie krna krna chaiye chaiye jisme jisme powerful act … ',\n",
       " 'congratulations heart ji our very own prime minister on ur such a super winning . my 5 year old daughter is … ',\n",
       " 'or or i i wish wish very very yet and very very happy happy yet and blessed blessed # ramadan ramadan or or # ramjaan ramjaan month month to to indian indian national national congress congress president president shri … ',\n",
       " 'abb abb to to samajh samajh ja ja ... yet aur these\"  ye filthy filthy raajneeti raajneeti karna karna chhod chhod D\"  de ... janta janta ne ne too\"  bhi other than nahi vote vote diya diya tujhe tujhe ... d … ',\n",
       " 'naif\"  bhola character character with 0000 haters .. love love U\"  you imran after watching this episode kis kis tarah gradually theek horaha horaha hy hy o … ',\n",
       " 'have is bandy bandy K\"  ke each\"  har words\"  baat jhoot jhoot se se shoro shoro hoti hoti hai hai or or jhoot jhoot over pe khatm khatm hoti hoti hai hai . the worst part is that every indian believ … ',\n",
       " 'rt is it possible ?? sabhi sabhi situatiin situatiin on ko dkhne dkhne K\"  ke after baad nd nd saari saari logical chz ke result on ko jaannne jaannne K\"  ke after baad aisa aisa hona hona chahiye chahiye or ya n n … ',\n",
       " '_ tuj tuj jaise jaise on ko koi koi kyu kyu marega marega you tu free free ka entertainment deta deta hai hai waise waise b b while jab se se congress join join kiya kiya tab tab s … ',\n",
       " '_ sharma sharma tero tero on ko passage\"  gali sunne sunne of\"  ka shok shok hai hai lagta lagta hai hai ispar ispar video video banan banan lnk\"  be bhikhari bhikhari sale :backhand_index_pointing_down: ',\n",
       " 'khaber D\"  de rahe rahe lnk\"  ho ya opinion band karo karo these\"  ye drama drama jitne jitne propaganda journalist bhare bhare I\"  me studio I\"  me unko unko nikalo nikalo without bahar ',\n",
       " 'upa upa K\"  ke dikha dikha many kitne mile mile ?? baaki baaki parties parties K\"  ke dikha dikha many kitne mile mile ?? kya kya nda nda se se zyada zyada mile mile ?? answer is no … ',\n",
       " 'jaise nidus\"  ghar I\"  me paise paise K\"  ke lale lale pade pade lnk\"  ho to to children bache khelne khelne other than nahi jate jate shoaib these\"  ye asar asar hota hota hai hai dimag dimag over pe playe … ',\n",
       " 'sabhi sabhi state\"  desh wassion wassion on ko bahut bahut bahut bahut badhaai badhaai lnk\"  ho today aaj 2014 K\"  ke after baad sh sh modi modi heart ji phir phir se se dusari dusari times\"  baar India bharat K\"  ke prime prime minist … ',\n",
       " 'have is on ko you tu bolny bolny ki ki too\"  bhi tameez tameez ni ni apny apny father baap ki ki umer umer waly waly on ko kaisy kaisy mukhtib mukhtib krti krti hai hai suppose agar tameez tameez hoti hoti you tu ap … ',\n",
       " '_ sun surya have he is not moron because he is capable to be a mp people have voted for ice him aapne aapne itne itne … ',\n",
       " 'yet ab ap ap on ko esy esy rrmarks ni ni dyne chahy chahy yet ab you tu ap ap hath hath mila mila chuky chuky hai hai ..... or ya sirf sirf maryam maryam on ko sath sath baitha baitha … ',\n",
       " 'these\"  yeh many kitne kamine kamine lootere lootere hain hain state\"  desh K\"  ke who\"  jo apni apni haar haar pacha pacha other than nahi pa pa rahe rahe hain hain aakhir aakhir kis kis mooh mooh se se ayenge ayenge … ',\n",
       " 'rt ye hd kumaraswamy hamesha hamesha aisi aisi shakal shakal kyon kyon bana bana K\"  ke rakhta rakhta hai hai jaise jaise kayi kayi daytime din se se shit shit other than nahi I\"  aayi . ever kabhi bangalore bangalore within mein di di … ',\n",
       " 'we are always on omnibus\"  bus mauka mauka milna milna chahiye chahiye program program turant turant lnk\"  ho jaayega jaayega ',\n",
       " 'rt _ allsports news flash shooting world cup ( munich ) | manu manu bhaker bhaker / saurabh saurabh chaudhary win gold medal in 10m air pistol mixed team … ',\n",
       " 'ianuragthakur ianuragthakur anurag anurag brother bhai bahut bahut buhut buhut mubarak mubarak bahut bahut badi badi winning\"  jeet per per or mantri mantri banane banane ki ki . yesterday\"  kal oath ce … ',\n",
       " '_ rode rode nice nice bohot bohot khob khob jorri jorri banai banai hai hai khuda khuda ',\n",
       " '@_ pakhtoon _ @_ bunnytherabbit _ mahdi _ I\"  me _ saifayy saifayy _ flavour\"  rang apun apun qaid qaid have he other than nahi lnk\"  hua ',\n",
       " 'these\"  ye hamrey hamrey state\"  desh of\"  ka aaur aaur state\"  desh K\"  ke logo logo of\"  ka saubhagya saubhagya hai hai ki ki you aap jaisa jaisa state\"  desh bhakat pm pm hamko hamko yet and hamrey hamrey state\"  desh on ko mila mila for … ',\n",
       " '_ offl offl _ pallavi92 rakul rakul preet preet U\"  you are beautiful :smiling_face_with_heart-eyes: ',\n",
       " 'eid tk 5k yes yes karao karao :new_moon_face::new_moon_face::new_moon_face::full_moon_face::full_moon_face::face_with_tears_of_joy::face_with_tears_of_joy: _ my favourities :relieved_face::new_moon_face::face_with_tears_of_joy::red_heart: ',\n",
       " '_ jerry ghr ghr mae mae he best best hti hti ha ha bt bt yet ab bahr bahr of\"  ka arda arda ha ha ',\n",
       " 'or these\"  ye who\"  jo news channel waale waale gustakhi gustakhi maaf maaf jaisa jaisa majaak majaak udaate udaate hai hai those\" wo uska uska kya kya uspar uspar koi koi action action ku ku other than nahi . ',\n",
       " '… ',\n",
       " '_ jane jain sir sir yet ab omnibus\"  bas yet aur other than nahi these\"  yeh rona rona dhona dhona band band kariye kariye . bhad bhad within main jaye jaye media media bhad bhad within main jaye jaye … ',\n",
       " 'many congratulations modiji . it is our good fortune to have you as our pm once gain . prospect aasha hai hai we\"  hamara … ',\n",
       " '_ tax kar _ lae normally meri madrid walon walon K\"  ke sath sath nai nai lgti lgti lekin lekin yourself\"  tum bht achy achy lnk\"  ho iss iss liye liye tumhare tumhare sath sath kbhi kbhi clubs over pe words\"  baat other than nahi ki ki ',\n",
       " 'yourself\"  tum apny indian ki ki fikkar fikkar karo karo pakistan pakistan on ko we\"  hum khud khud dykh lyngy . ease\"  mukti bahini bahini 2 other than nahi ban … ',\n",
       " 'today aaj yesterday\"  kal pakistan on ko koi koi too\"  bhi mar mar leta leta hai hai .:face_with_tears_of_joy::face_with_tears_of_joy::face_with_tears_of_joy: inse inse without na lnk\"  ho paega paega :face_with_tears_of_joy::face_with_tears_of_joy: # pakvwi ',\n",
       " '_ aqxiii aqxiii bhena bhena logon logon on ko nend aching\"  dard K\"  k bestar bestar pr pr b b ajati ajati thi thi baqol baqol nfak nfak plume\"  par humy humy molty foam pr b b other than nahi severe ati :face_with_tears_of_joy::face_with_tears_of_joy::face_with_tears_of_joy: ',\n",
       " 'rt _ p _ s now that you are no longer his fan please join some other fan club--like pulkit Goliath\"  samrat or sun suraj pancholi pancholi . good r r … ',\n",
       " 'yes mam mam dream come true true . # tukdetukdegang tukdetukdegang on ko these\"  ye # amitshah amitshah have hi aazadi aazadi denge denge ',\n",
       " 'apka apka esi esi bt bt pe dio dio up khush hogya hogya to to wapis wapis bula bula len len ? awin semi-dick semi-dick thak thak without na jawe jawe :face_with_tears_of_joy: just just for fun bro ',\n",
       " 'rt _ gogri gogri their\"  apna time time aayega aayega who kaun bola bola mujse mujse without na lnk\"  ho payega payega ? reservation quota of\"  ka anth anth aayega aayega mere mere jaisa jaisa open open merit merit lala lala modi modi on ko … ',\n",
       " 'congratulations on your huge win one question question kya kya you aap pradhanmantri pradhanmantri aaarakshan aaarakshan K\"  ke aadhar aadhar plume\"  par bane bane h … ',\n",
       " '_ — star tara hanap hanap tayo tayo ano ano uhm .... usap hangout soon and movie nightt nightt hahahah hahahah miss miss U\"  you paps ',\n",
       " 'got got my mobile back ... thank god !!! special thanks to elita api api sabbir sabbir vaiya vaiya ... tushar tushar vai vai ... # uber ... krisno day & rasel rasel vaiya vaiya ... :red_heart::red_heart::red_heart: ',\n",
       " 'good good kismat\"  luck today guys . i i ’ ll ll be watching on gamechanger . bring home regionals ! # decaturproud ',\n",
       " 'ba ba zameer zameer on ko elaan elaan ni ni kerna kerna perta without na have hi one kisi ki ki support support ki ki zaroorit zaroorit hoti hoti hai hai those\" wo apnibawaz apnibawaz knliae knliae apn … ',\n",
       " 'cute (@ maryamjan143 ) on tiktok tiktok # imran imran # workings\"  khan # perfamance # umarh umarh # ramzan ramzan # mubarak mubarak # alvida alvida # friday ',\n",
       " 'kahi kahi other than nahi karat karat ... bjp cha cha fayada fayada karnar karnar . baki baki k … ',\n",
       " 'ek apel he K\"  ke sb sb on ko K\"  ke hume hume sanghar sanghar I\"  me koi koi sahoolt sahoolt nhi nhi have he seht seht ki ki . humare humare pas pas without na medico\"  doctor he without na n n i i c … ',\n",
       " 'rt state of pakistan is no no banana banana republic .. the way bilawal bilawal & maryam safdar still supporting 2 well known traitors … ',\n",
       " 'rt sir sir ye # congress logo change kr kr two do kyoki election election harne harne K\"  ke bad bad these\"  ye # tiranga tiranga dustbin I\"  me jata jata h h or pta pta nhi nhi … ',\n",
       " 'imran imran workings\"  khan on ko phasany phasany ki ki pori pori tayari tayari hai hai ptm ptm on ko mar mar k pashtoon pashtoon kpk kpk yet aur balochistan balochistan K\"  k haalat haalat kharab kharab … ',\n",
       " 'i i wish wish very very happy happy yet and blessed blessed # ramadan ramadan or or ramjaan ramjaan month month to to U\"  you the the how how res res old lady ma \\' m kinds how how res res wife wife off of … ',\n",
       " 'aur that\"  us old lady maa K\"  ke dukh dukh of\"  ka alam alam kya kya hoga hoga jisko jisko son beta she apne sath sath too\"  bhi other than nahi rakh rakh pa pa raha raha while jab K\"  ke those\" woh pm pm hai hai yet aur n … ',\n",
       " 'roza hai hai koi koi glass\"  kaanch other than nahi who\"  jo ghalti ghalti se se toot toot jaega jaega aesy aesy . nothing to worry about . ',\n",
       " '_ elec _ mum sir sir aapki aapki housing board ki ki ki ki office band band tax kar dijiye dijiye yaha yaha per per shikayto shikayto per per koi koi sunwai sunwai other than nahi hoti hoti raa raa … ',\n",
       " 'rt _ i swear swear :face_with_tears_of_joy::face_with_tears_of_joy::face_with_tears_of_joy: ever kabhi arsal arsal kamina kamina lagta lagta toh toh ever kabhi jiya jiya ',\n",
       " 'hindu hindu Muslim muslim of\"  ka itna itna have hi problem problem hai hai toh toh mughlai mughlai chicken chicken khaana khaana band band tax kar two do yet aur panipuri panipuri sevpuri sevpuri too\"  bhi ban ban tax kar do .… ',\n",
       " 'rt :musical_notes: allez allez allez allez allez :musical_notes: showing some love for our friends across the pond today ! good luck ! # uclfinal ',\n",
       " 'zimbabwe ka shoaib akhtar akhtar tha tha these\"  yeh wahiyat wahiyat tareen tareen wool baal thay thay sister fucker sister fucker K\"  ke eid eid K\"  ke eid eid nahata nahata tha tha ',\n",
       " '_ patrag patrag while jab movies or tv tv other than nahi tha tha to rape rape other than nahi hote hote the the daketi daketi other than nahi hoti hoti thi thi you aap jis jis sanskruti sanskruti ki ki words\"  bat kar … ',\n",
       " '_ thefilm best jodi jodi salman salman and ali ali bhai # 15daystobharat ',\n",
       " 'cuz cuz hindi is not a national language and modi have is just a leader not a god .. its their own choice to whom … ',\n",
       " '__ pictures bro use use your watermark . you deserve more credit so many pages posted your picture . love love U\"  you :blue_heart::red_heart: ',\n",
       " 'abe abe you tu apni apni movie movie too\"  bhi yed yed kr kr le le thori thori trip bhul gaya gaya lnk\"  ho to to ghatiya ghatiya cuss\"  aadmi that\"  us movie movie on ko to poster over pe have he thuk thuk diya diya tha tha audience ne :face_with_tears_of_joy::face_with_tears_of_joy::face_with_tears_of_joy::face_with_tears_of_joy::face_with_tears_of_joy: ',\n",
       " 'it it ’ s audrey ’ s birthday :birthday_cake: let ’ s wish her a happy birthday :collision: # bunphotography # jesa # photograghy # babiesarethebest … ',\n",
       " '__ _ jassie jassie _ seedha seedha sale sale ja ja ja ja K\"  ke hamare hamare bare bare I\"  me unse unse ulta ulta sidha sidha bolta bolta hai hai kamine kamine dekha dekha lena lena Mary\"  meri … ',\n",
       " 'smt sonia gandhi K\"  k jagah jagah old lady maa / mummy mummy kuch kuch v v likhta likhta i i bet bet you apke apke liye liye 20% respect respect aata which is now -… ',\n",
       " '_ sh sh proud feel kro kro or or up khush raho raho log log copy to krty krty hy naw :smiling_face_with_sunglasses: ',\n",
       " ':rosette: good morning papa papa heart ji plz plz bless bless I\"  me more more service sewa sumiran sumiran parmarth parmarth of\"  ka wool bal bakhshna bakhshna heart ji dhan dhan dhan dhan sa sa … ',\n",
       " 'who\"  jo gunegar gunegar hai hai usko usko to # rpf dhunti dhunti other than nahi .. ace ek lnk\"  be wrong\"  gunah on ko pakad pakad K\"  k their\"  apna power power dekhati dekhati hai hai ... # rpf ko sarm sarm aani aani c … ',\n",
       " 'thanku thanku very very much you aap sbne sbne ace ek times\"  baar phir phir modi modi heart ji on ko chuna chuna U\"  you are the best you get the best ',\n",
       " 'hera mandi mandi K\"  ke harami harami tere tere nigger nigger mouth within main peshab peshab karo karo what is this ',\n",
       " 'his smile :two_hearts: we\"  our jaan jaan :red_heart: love pyar dosti dosti hai hai love love is friendship :man_and_woman_holding_hands: bff time # parthsamthaan … ',\n",
       " '_ carmen22 carmen22 we\"  we thank google ok ok K\"  ke sanalwam sanalwam one step at the time time phela phela mna mna im not a troll i just just want us to gt … ',\n",
       " 'are are these\"  yeh khurje khurje wala wala of\"  ka gale gale I\"  me kya kya hai hai ... kahi kahi mota mota brother bhai amit amit sah sah of\"  ka wwf wala punch to to other than nahi pad pad gaya gaya ?… ',\n",
       " '_ geo ager qom e youngness\"  youth wah wah wah wah leni leni lnk\"  ho to to ik ik times\"  baar bolein bolein . nawaz sharif chor ha ha . apko apko followers b b milenge milenge tar … ',\n",
       " 'wherever kahan mar mar gaya gaya hai hai . opposition wala wala asad asad umer . yet aur tabaadli tabaadli ly ly of\"  ka anay anay walon walon . pata pata chala chala hai hai tabaadl tabaadl … ',\n",
       " 'i i am am praying for your health sir get well soon sir party organization upcoming youths needs your margdarshan margdarshan . ',\n",
       " 'godbless bro always remember so you may never forget forget ! _ jarina jarina ',\n",
       " '_ palsapkar palsapkar yet and what about buffalo K\"  k seengh seengh ?? actually\"  abhi b b g *** d d I\"  me have he hai hai kya kya :face_with_tears_of_joy::face_with_tears_of_joy::face_with_tears_of_joy: ',\n",
       " 'congress congress jeeti jeeti to to evm evm thik thik ... nhi nhi jeeti jeeti to to evm evm khrab .... :cat_face_with_tears_of_joy::cat_face_with_tears_of_joy::cat_face_with_tears_of_joy::cat_face_with_tears_of_joy: logic of # congess nowdays ',\n",
       " '_ uditraj uditraj have is words\"  bat ki ki jyada jyada nolleg nolleg tumko tumko lagti lagti h h tabhi tabhi to to bolne bolne I\"  me bilkul bilkul too\"  bhi sarm sarm nhi … ',\n",
       " 'rt _ insan insan _ rohit … ',\n",
       " 'rt __ dee dee i hope next time will show you some love love bhut bhut wami wami . some of us still listen to your old music # sama25 ',\n",
       " 'rt happy happy diwali diwali to each and everyone . may this this diwali diwali bring a new light into our lives . yet and i would like to thank all my fans … ',\n",
       " 'rt arjun arjun ram meghwal bjp i thank the pm & amit shah ji for showing trust in I\"  me . i thank them on behalf of the people of bikaner . pm … ',\n",
       " 'good morning pita pita heart ji thanks for the new day pls bless I\"  me service sewa sumrin sumrin and parmarth parmarth bakso bakso ji … ',\n",
       " 'rt _ sekcy _ beti per per to to jannat jannat ki ki zamanat zamanat hai hai khuda khuda ki ki these\"  ye booj booj nhi nhi amanat amanat hai hai khuad khuad ki ki bete bete ki ki mohabat mohabat I\"  me khien khien bhool bhool without na jana jana beti beti … ',\n",
       " 'rt happy birthday birthday _ kas kas a talented actor and family man U\"  you are great performer whp always try to win audience heart … ',\n",
       " 'dear dear sir sir jin students ne ne one kisi problem problem ki ki wajh wajh se se rrb je exam I\"  me shamil shamil other than nahi lnk\"  ho paye paye unhe unhe ace ek yet aur mauka mauka diya diya jaye jaye plzzz plzzz sir sir ',\n",
       " 'haram haram khor khor log log ulta ulta sneak\"  chor kotowal kotowal on ko dantey dantey !! mulk torney ki ki words\"  bat kerney kerney waley waley on ko or or phulon phulon K\"  ke each\"  har pehn … ',\n",
       " '_ meanboi meanboi _ tahir tahir _ 995 abe abe ekdam ekdam shut up shut up she apne oppar oppar on ko jaa jaa K\"  ke these\"  ye bakwas bakwas suna suna you tu hindu hindu hai hai iska iska matla matla … ',\n",
       " '_ subscription\"  chanda should i i hope fr the best - d ',\n",
       " 'may 24 1844 samuel morse typed out the 1st telegraph message . it read what hath hath god wrought and was sent from … ',\n",
       " 'you aap sabhi sabhi on ko hamari hamari tarf tarf se se bahut bahut sari sari subhkamnaye subhkamnaye ',\n",
       " 'bibi bibi these\"  ye who\"  jo video video dikha dikha passer-by rahi lnk\"  ho these\"  ye kher kher se se tumare tumare sneak\"  chor papa papa yet aur sneak\"  chor uncle K\"  k kale kale kartooton kartooton of\"  ka result … ',\n",
       " 'i i address\"  say world world cup . they hear hear # jitega jitega to to india india hi ',\n",
       " 'bahut bahut bahut bahut badhai badhai priy priy modi modi heart ji janta janta jis jis bharose bharose se se aapko aapko chuna chuna hai hai unka unka dhyan dhyan … ',\n",
       " '_ gif gif _ very very good . U\"  you are are saccha saccha state\"  desh adorer\"  bhakt . proud of you . who needs food when there is air ! ',\n",
       " '70 yrs se to saab saab log employed the . sirf sirf 5 year\"  saal within main berojgari berojgari badhi badhi hai hai . waise waise sach sach to to hai hai . rahul gandhi gandhi berojgar berojgar lnk\"  ho gaya gaya ',\n",
       " 'dekho dekho tumhe tumhe I\"  me didi didi other than nahi bol bol sakta sakta kyunki kyunki yourself\"  tum rakshak rakshak other than nahi rakshashi rakshashi ki ki tarah tarah logo logo K\"  ke s … ',\n",
       " 'rt proud moment for goa as sri shri takes oath within in # modisarkar2 modisarkar2 i congratulate shripad bhau bhau and thank the hon hon ’ b b … ',\n",
       " 'rt _ winn _ er _ ___ 10 dhoova dhoova other than nahi nikalta nikalta ...:smiling_face_with_sunglasses::face_with_tears_of_joy::face_with_tears_of_joy: ',\n",
       " 'prathamtah prathamtah aapko aapko pm pm banne banne ki ki hardik hardik hardik hardik shubhkamnaye shubhkamnaye . modi modi heart ji you aap India bharat on ko digital india banaeye banaeye … ',\n",
       " 'we mai toh toh chala chala # jcbkikhudayi jcbkikhudayi dekhne dekhne you aap gyan gyan dete dete rahiye rahiye jai jai hind hind saradna saradna heart ji bulaao bulaao ever kabhi mansion haveli over pe thoda thoda bartal … ',\n",
       " 'omnibus\"  bas tera tera sath sath lnk\"  ho chahe chahe who\"  jo words\"  bat lnk\"  ho :red_heart: tere tere kahne kahne se se tax kar jaenge jaenge :hugging_face: miss miss U\"  you pushp pushp :smiling_face_with_heart-eyes: i i really miss miss you :face_blowing_a_kiss::face_blowing_a_kiss::grinning_face::loudly_crying_face::crying_face::folded_hands::folded_hands: ',\n",
       " 'i love love U\"  you so much shahrukh shahrukh workings\"  khan you are the best actor and the best father good night … ',\n",
       " 'rt rt _ sharma sharma _ # nakash nakash _ aziz aziz # live _ concert # happy red fm fm bajaate bajaate raho raho ! ',\n",
       " 'bilkul bilkul modi modi heart ji se se niwedan niwedan hai hai ki ki jitna jitna jaldi jaldi lnk\"  ho sake sake kanun kanun lana lana chahiye chahiye state\"  desh fit k … ',\n",
       " '_ krishna lagbhag lagbhag mnaa mnaa tax kar dia dia hai hai modi modi z z ne ne bola bola K\"  k those\" vo sister fucker fucker  hai hai ',\n",
       " 'gandhi fucker fucker tha tha . state\"  desh of\"  ka divide tax kar diya diya bina bina kuch kuch thinking\"  soch samajhke samajhke . yet ab who\"  jo musalman musalman reh reh gaya gaya tha tha w w … ',\n",
       " '_ nighat nighat maine maine dekha dekha aapka aapka episode wak … ',\n",
       " '100 % d e f . ...? lnk\"  ho brother bhai good job lagay lagay raho raho ',\n",
       " '_ nigam nigam police of\"  ka these\"  ye bartav bartav bahut bahut have hi galat galat hai hai . ',\n",
       " 'bleed blue # cheerwithpride jeetega jeetega brother bhai jeetega jeetega india india jeetega jeetega winning\"  jeet hamari hamari hai hai ',\n",
       " 'aisi aisi bakwaas bakwaas karke karke pso pso on ko notorious\"  badnaam mat mat karo karo kahi kahi gusse gusse I\"  me aake aake unerring\"  sahi I\"  me without na swing maar D\"  de :grinning_face_with_big_eyes::grinning_face: or or sisodia apni … ',\n",
       " 'yet ab ise ise these\"  ye smaj smaj kya kya bolega bolega actually\"  abhi too\"  bhi koi koi bolega bolega ki ki ise ise rhne rhne of\"  ka pehenne pehenne of\"  ka dhng dhng ni ni tha tha isliie isliie aisa aisa lnk\"  hua is bachi bachi ko … ',\n",
       " 'army dress dress within mein aisa aisa lag lag raha raha hai hai .. world world cup cup have hi other than nahi .... islamabad islamabad too\"  bhi leke leke aayenge aayenge . ',\n",
       " 'neem neem of\"  ka patta patta kadva kadva hai hai siddhu siddhu sala sala pimp pimp hai hai have he is famous for taking taking u u tu … ',\n",
       " 'filhal filhal to to teri teri swing maar rha rha hun hun hahahahahahahahaha hahahahahahahahaha hahahahahahahahahahaha hahahahahahahahahahaha hahahhahahahha hahahhahahahha ha ha … ',\n",
       " 'have is sneak\"  chor ne ne mulk mulk of\"  ka pesssa pesssa loot loot tax kar air blue bana bana li li ha ha have is se se pessa wapes lo lo ',\n",
       " '__ jay jay jay sri shree Ram\"  ram Ram\"  ram rajye rajye ayah\"  aaya have he danavo danavo rakshasho rakshasho chudelno chudelno or or surpankha surpankha K\"  ke gharoke gharoke sa sa … ',\n",
       " 'sharkary nokary kon kon dega dega . intihash intihash gawah gawah hai hai bjp ne ne ever kabhi sharkary nokary nokary other than nahi diya diya . jumalo jumalo ki ki sharkar sharkar ',\n",
       " 'rt how how to to respond respond to to thank thank U\"  you - U\"  you are welcome - it is my pleasure - i know know you would do the same for I\"  me - no no problem - it\\'s … ',\n",
       " 'brother bhai of\"  ka daytime din have hi kharab kharab hai hai today aaj pehle pehle chappal chappal chori chori lnk\"  ho gyi gyi new delhi railway station per per khane khane . pahucha pahucha to irctc cant … ',\n",
       " 'many many happy returns of the day :confetti_ball::party_popper::OK_hand::confetti_ball::party_popper: informal sada up khush raho raho ..:slightly_smiling_face: muskurati muskurati raho raho ..:slightly_smiling_face: each\"  har raste raste I\"  me khushi khushi pao pao ..:heart_suit::heart_suit: or or hume … ',\n",
       " 'rt rt aaa aaa ’ s s only romantic song song ello ello heart ji sanam sanam was a tribute to a whole lot of things made famous by retro bollywood . the the tangewala tangewala … ',\n",
       " 'rt sir sir kya kya ap ap ki ki university national national technology technology council sy accredit hy ? kya kya nutech nutech main bsc engine … ',\n",
       " 'we mai to to fucker fucker other than nahi bana bana so so it is obvious ki tere tere jaise jaise piddi piddi jaldi jaldi fucker fucker banaye banaye ja ja sakte sakte hai hai ',\n",
       " 'rt _ tweets mast news news hai hai re re baba baba .. waah waah modiji modiji waah waah .. state\"  desh on ko duba duba two do we\"  hum tumhare tumhare sath sath hain hain . :face_with_tears_of_joy::face_with_tears_of_joy::face_with_tears_of_joy::face_with_tears_of_joy: ',\n",
       " '# dsscampaignagainstdrugabuse papa papa heart ji aj aj my\"  mera p p . hd entrance exam tha tha . ap ap heart ji ki ki rehmt rehmt se se bahut bahut acha acha … ',\n",
       " 'wazeer wazeer azam azam hind hind modi modi sub sab yet aur unki unki kabeena kabeena on ko tahe tahe ticker\"  dil se se mubarakbad mubarakbad pesh pesh karta karta hun hun ',\n",
       " '5 not 15 such bolna bolna to to aata aata nhe nhe hai hai siwai siwai jhoot jhoot K\"  k you aap on ko aata aata kya kya hai hai yet aur those\" wo 5 bacchay bacchay K\"  ke wajha wajha s … ',\n",
       " '_ sharma sharma _ also also i hope you find it in your heart to love . i hope love wins over hate . god god bless bless you ',\n",
       " '_ sharma sharma you tu what kitna faggot faggot hai hai lnk\"  be tere tere within andar hindu hindu kerry lite nafrat nafrat bhari bhari hai hai fucker fucker tumko tumko these\"  ye other than nahi dikh dikh … ',\n",
       " '_ khan these\"  ye to muhammad muhammad paigambar paigambar ki ki tasvir tasvir hai hai . ',\n",
       " 'rt rt _ insan12 # valuetime _ valuelife the revered saint dr . singh ji insan insan motivate people to put their time in good go … ',\n",
       " 'maine suna suna tha tha kuch kuch ladkiya ladkiya dimag dimag se se paidal paidal hoti hoti h h ... bhut bhut daytime din se se tracking\"  khoj rha rha tha tha pr pr koi koi dikhi dikhi … ',\n",
       " \"jake jake you have become a fake fake news news . i'm done . i truly thought you were about this . \",\n",
       " 'mr narender modi heart ji you aap we\"  hum garibo garibo K\"  ke liye liye who\"  jo these\"  ye balance h h bank m us minimum bank balance balance K\"  ke wajah wajah se se we\"  hum the poor garib l … ',\n",
       " 'best chappal chappal award confirm can\\'t can\\'t wait wait # tummeriho tummeriho these\"  ye movie bht achi achi hogi hogi 100% yet aur iss iss … ',\n",
       " 'rt _ aishwarya aishwarya happy happy birthday birthday mani mani ratnam ratnam sir sir :birthday_cake: one of my most fav director :star-struck: can ’ t t wait to see your next with aishwarya aishwarya :crossed_fingers_medium_skin_tone: # hbdmanira hbdmanira … ',\n",
       " 'rt this picture picture has come in the right right timeeeee timeeeee ~~~!!!! # mishbir mishbir hamare hamare Shah\"  shah and rheaso rheaso cuteee cuteee ! # yehrishteyhainpyaarke yehrishteyhainpyaarke ',\n",
       " 'yahi yahi to to ki ki or or # congress congress ki ki fitrat fitrat passer-by rahi hai hai !!! inke inke she apne yaha yaha abhivyakti abhivyakti ki ki azadi azadi other than nahi hai hai ace ek 50 year\"  saal K\"  k … ',\n",
       " 'teri teri ammi ammi hooker hooker ne ne kya kya tha tha tujhe tujhe msg msg @_ mansoor mansoor _ ali ali bhan bhan K\"  k lore . lanat lanat tere tere jaman jaman wale wale daytime din te :smiling_face_with_horns: :smiling_face_with_horns: :smiling_face_with_horns: ',\n",
       " 'apni apni smjh smjh of\"  ka upyog upyog suppose agar nhi nhi kiya kiya to to who\"  jo galati galati old generation ne ne ki ki those\" wo have hi repeat repeat hoti hoti rhegi rhegi . hindi hindi से hindu hindu jaag jaag gya gya … ',\n",
       " 'my\"  mera behen behen sony sony I\"  me esiliye esiliye evm evm other than nahi of\"  ka gutala gutala other than nahi mantahu mantahu kiu kiu K\"  ke congress . sp . bsp . ncp . yet aur dus dus … ',\n",
       " 'rt says I\"  me apko apko love pyaar dena dena chahta chahta hun hun modi modi heart ji K\"  ke ticker\"  dil I\"  me love pyaar bharna bharna chahata chahata hun hun love pyaar K\"  k … ',\n",
       " 'dear ji nrc tho tho koi koi too\"  bhi sadharan sadharan vyakti vyakti too\"  bhi home home minister K\"  ke padh padh se se tax kar sakta sakta hai hai parantu parantu you aap jai jai se se v … ',\n",
       " 'sir-ji sir-ji these\"  yeh baby\"  baccha sub sab on ko heela heela dheyghi dheyghi phele phele andhadhun andhadhun ( what what a film ) abi abi these\"  yeh article 15 - trailer | a … ',\n",
       " 'bsdk maafi maafi have hi to to mangi mangi thi thi atleast atleast angrejo K\"  k sath sath baith baith kr kr dinner to other than nahi kiye kiye . ',\n",
       " '_ haque haque again bakwas bakwas ... purpose of previous letter was just referral of cv not nepotism .... bibi bibi je referral … ',\n",
       " '_ am _ mowglu _ memo memo insaan insaan qatam qatam hojata hojata hai hai zindagi zindagi other than nahi . ',\n",
       " '_ these\"  yeh words\"  baat sri sri krishna krishna ki ki old lady maa over pe other than nahi laagu laagu hoti hoti kya kya jiski jiski 8 aulaade aulaade thi thi these\"  yeh words\"  baat kunti kunti over pe … ',\n",
       " 'yourself\"  tum jiyo jiyo hajaro hajaro sal sal sal sal K\"  ke daytime din lnk\"  ho 50000 happy happy birthday birthday to you my son sanskar ',\n",
       " 'rt nashville nashville have is season not state\"  country like like what what yall yall without outside states / cities think . ',\n",
       " 'sir sir ap ap kab kab ptm k against action lengy while jab mulk mulk khrb khrb krdy krdy those\" wo ',\n",
       " 'no no need re re .. it\\'s just random thought :face_with_tears_of_joy::face_with_tears_of_joy::face_with_tears_of_joy: suppose agar mereko mereko marathi marathi too\"  bhi aate aate without na pakka pakka tereko tereko chodunge chodunge other than nahi I\"  me ',\n",
       " '_ muhammadpti muhammadpti ali ali muhammad muhammad sb sb apki apki boht boht respect ha ha hare hare ticker\"  dil mn mn ap ap jesa jesa insan insan b b ager imran niyazi K\"  k lye ache comm … ',\n",
       " 'those\" wo to to hai hai have hi these\"  ye sale atankwadiyon K\"  k sport yaar hafij hafij masud masud jiosama jiosama heart ji wale wale party or khandan khandan se se .. sale sale rahul rahul chutiye chutiye atank … ',\n",
       " 'rt what a song song sport yaar jitna jitna v v sunoo sunoo mann mann have hi nehi nehi blow var raha raha hai hai # bekhayali bekhayali i i think this is the most infectious song of the these\"  ye … ',\n",
       " '_ rafique kameeny loogo loogo on ko justice system sy wessy wessy have he nikal nikal deena deena chaheye chaheye khud khud dafa dafa hona hona too\"  bhi theek theek hy ',\n",
       " '_ sheikh no no entry entry ka board nhi nhi laga laga tha tha wahan wahan ? _ sheikh ',\n",
       " 'arey arey hamza hamza brother bhai i i . m hugest fan u r r the legend off of pyarey pyarey afzal afzal mann mann mail moula moula jutt jutt love U\"  you so mu … ',\n",
       " 'world duniya ki ki sari sari khushi khushi ace ek taraf taraf ... padosiyon padosiyon K\"  k harne harne ki ki khushi khushi ace ek taraf taraf :rolling_on_the_floor_laughing::rolling_on_the_floor_laughing::rolling_on_the_floor_laughing::rolling_on_the_floor_laughing: # wehavewewill wehavewewill # pakvwi pakvwi # wivpak # cwc19 ',\n",
       " 'very good thinking jai jai siya siya Ram\"  ram jii jii ',\n",
       " '_ 11 i ’ m not fed anything . i i ’ m m an atheist . i didn ’ t have religious teachers come home and teach I\"  me quran or b … ',\n",
       " 'sir kuchh kuchh logo logo K\"  ke question question poochhne poochhne of\"  ka tareeqa tareeqa of\"  ka samajh samajh other than nahi ata ata . condescending sa laga laga . jaise jaise a … ',\n",
       " 'chutiye chutiye me stoner other than nahi hu hu without na teri teri tarh tarh kuch kuch sungne sungne or ya fukne fukne other than nahi jata jata . lawde pata pata too\"  bhi other than nahi chalta chalta ki … ',\n",
       " 'you tu wohi wohi fucker fucker hain hain naa naa .. who\"  jo foot foot foot foot K\"  ke roya roya tha tha ... abki abki times\"  baar tere tere ass ass within mein jhaadu jhaadu khos khos K\"  ke mor mor ba … ',\n",
       " 'o o god god dame it it .. bullshittt on this all ... kiaaa kiaaa wasta wasta lraya hy os ny ... have is mulk mulk mn mn bray bray b … ',\n",
       " '_ ugh ugh i i love them . ap hamein hamein these\"  ye eidi eidi bhej bhej ga ga eid eid per per okay okay ? ',\n",
       " 'yet ab bsd bsd K\"  k one kisi on ko jalan jalan other than nahi hoti hoti koi koi other than nahi bolta bolta inka inka father bap other than nahi mara mara without na isliye isliye on ko … ',\n",
       " 'are are murkh murkh shikshamitro shikshamitro kiya kiya bjp bjp ne ne isse isse pehle pehle kuch kuch diya diya h h tumhe tumhe who\"  jo a … ',\n",
       " 'those\" wo residency road ki ki shopping shopping those\" wo purani purani mandi mandi ki ki mastiya mastiya ever kabhi lambu lambu K\"  ke goll goll gappe gappe ever kabhi matman\"  pahalwan ki ki mithas … ',\n",
       " 'haram haram ki ki khane khane wale wale on ko suppose agar haram haram of\"  ka kuch kuch milata milata hai hai to to koi koi kuch kuch kahata kahata hai hai to to sahan sahan too\"  bhi karana karana cha cha … ',\n",
       " \"who doesn't love mangoes in the season of mangoes !? mouthwatering mangoes made into a laddoo laddoo ! make irresistibly del … \",\n",
       " 'ja politie swing maar het het gaat gaat om om de vertaling richting de politiek . toch benieuwd wie dat het het bewuste lijstj … ',\n",
       " '_ bear bjp fucker fucker banaya banaya hai hai state\"  desh on ko logo logo on ko yet aur vote vote of\"  ka pehele pehele army army on ko lekr politics kiya kiya vote vote pana pana of\"  ka liya liya ',\n",
       " '_ samuel79 ur plume\"  on a right track .. zindagi zindagi within mein bahut bahut up khush rahoge rahoge son beta .. :thumbs_up: ',\n",
       " \"don't don't bark yr channel and that that bhadwa bhadwa rahul rahul kunwal kunwal seems to be everything okay with bjp . \",\n",
       " '_ harne harne K\"  k bad bad these\"  ye drama drama qabul qabul have he wo 1999 final final each\"  har ker wasim akram ki ki makruh makruh hansi hansi se se behter behter have he ',\n",
       " 'jay jay jay jay tax kar tab tab hota hota h h while jab modi modi K\"  ke jase jase sachche sachche dilvale dilvale neta neta lnk\"  ho ',\n",
       " 'bhart bhart I\"  me yahi yahi bastard bastard hai hai sister fucker ganga jamuni jamuni ki ki nazyaz nazyaz piddio piddio on ko paida paida tax kar India bharat on ko apvitra apvitra tax kar diya diya suppose agar yahi yahi son … ',\n",
       " 'brother bhai verma verma ji . apke apke kehne kehne of\"  ka matlab matlab each\"  har jagah jagah arvind arvind kejriwal kejriwal on ko imandaar imandaar of\"  ka natak natak thappad thappad marva marva K\"  ke karna karna padega padega .… ',\n",
       " '_ 14 _ sister fucker sister fucker itne itne daytime din se se thinking\"  soch raha raha hu hu dirty word gaali naa naa du du plume\"  par these\"  ye behan behan K\"  ke l maiya maiya ch ch * dane dane aajate aajate hai hai r … ',\n",
       " 'rt rt konten rated ditantang sama okd okd i\\'m i\\'m bored with your hands that always touch my head . why don\\'t don\\'t U\"  you touch touch my down … ',\n",
       " 'it it was not sameers shirt . some people just ass … ',\n",
       " 'papa papa heart g today aaj my\"  mera central warehousing ka exam exam ha ha please please mujha mujha their\"  apna ashirwad ashirwad dejea dejea heart ji yet and hmesha hmesha ki ki t … ',\n",
       " 'mamtadidi mamtadidi these\"  yeh ranga ranga billa billa ki ki jodiy jodiy aeisiy aeisiy chalak lomdiy lomdiy jese jese hei hei K\"  ke khud khud kucchh kucchh other than nahi karenge karenge onliy onliy bholi bholi publick publick ko … ',\n",
       " 'rt do not beleive beleive anything anything bad bad U\"  you here here about about potus potus she its all all lies lies they they are are plume\"  on ace a crusade crusade to to … ',\n",
       " 'love love kee kee U\"  you dia . ',\n",
       " '_ patniak patniak koi koi too\"  bhi ghatna ghatna hojaye hojaye .... tumlog tumlog sale sale sabhi sabhi I\"  me sampradayik sampradayik jatibad jatibad ki ki rajneeti rajneeti karoge karoge have hi .... sale sale chu … ',\n",
       " 'bihar bihar ki ki tarah tarah up up I\"  me too\"  bhi daru daru band band hona hona chahiye chahiye tabhi tabhi actually\"  abhi blow bar you aap winning\"  jeet payenge payenge other than nahi to to kuch kuch too\"  bhi s … ',\n",
       " '# fox29goodday mamas is mon shout put happy 81st birthday to my mama mama love love or ya to to the moon n back love your your crazy daug … ',\n",
       " 'but topi topi walay walay baboo\"  babu ki ki tau tau new job hougi hougi humey humey chutti chutti kesay kesay milay milay heart gi ? :loudly_crying_face::loudly_crying_face::loudly_crying_face::loudly_crying_face: ',\n",
       " 'world duniya of\"  ka sabse sabse bada bada imandaar imandaar to to you tu hai hai democracy democracy m m birodh birodh of\"  ka adhikaar adhikaar hai hai yourself\"  tum unpadhoo unpadhoo on ko kaya kaya malum malum ',\n",
       " 'happy fifth month sayang :frowning_face: i i miss miss U\"  you so much :frowning_face: i want want you to be here here :frowning_face: jaga jaga diri diri kat kampung :frowning_face: please drive ca … ',\n",
       " 'jaise jaise sun suraj K\"  k prakash prakash se se sare sare world sansar on ko roshni roshni milti milti h h vese vese have hi hamare hamare pm modi modi heart ji K\"  ke donara pm banne … ',\n",
       " 'those\" wo vote le le K\"  k other than nahi betha betha tha tha logo logo on ko laray laray D\"  de K\"  kay K\"  k paris or france bna bna doonga doonga pakistan pakistan on ko ! beghairat beghairat insan insan ! ',\n",
       " '_ mirchi mirchi travelling\"  chal tune confirm krdia n n deta deta hun hun we mai ? travelling\"  chal yet ab suppose agar these\"  ye jhut jhut hai hai to to lanat lanat tujh tujh pr pr teri teri nasal … ',\n",
       " 'kalindi express -14703 railway very bed facility in sleeper class seat confirm hone K\"  ke bad bad too\"  bhi other than nahi milti milti seat seat bina … ',\n",
       " 'hit me up whenever you feel like it buddy buddy brother bhai scenes hain hain she apne ',\n",
       " 'rt sabka sabka saath saath sabka sabka vikas vikas sabka sabka sureness\"  vishwas # vijayibharat vijayibharat _ mahajan ',\n",
       " 'slogan giveaway woahhhhh woahhhhh but but i i really really want to get one sister fucker i cant cant ever win giveaways sighhh sighhh :moai::moai::moai: ',\n",
       " '__ mb I\"  me plume\"  on kismat\"  kismat ki ki laari laari these days ',\n",
       " '_ jiiiii jiiiii social media over pe these\"  ye ( kripaya kripaya she apne kaam kaam se se matlab matlab rakhe rakhe ) these\"  ye words\"  bat sobha sobha other than nahi deti deti you aap on ko … ',\n",
       " 'beta cbi court ne ne faisla faisla diya diya hai hai ndtv ne nhi nhi while jab jaankari jaankari other than nahin lnk\"  ho to to muh muh se se haga haga mat mat kro kro ',\n",
       " '# nostalgia # sachin # cricket who all remember these anthems ... sachin sachin humei humei world world cup cup jeetna jeetna hai hai ...!!! cricket\"  cricket w … ',\n",
       " '_ vksingh vksingh aapko aapko dobara dobara winning\"  jeet ki ki hardik hardik badhai badhai lnk\"  ho magar magar aapse aapse anurodh anurodh h h ki ki you aap garima garima garden garden pasonda ghaziabad ghaziabad m m s … ',\n",
       " 'chamchi chamchi wamchi wamchi kutch kutch other than nahi these\"  ye sub sab paiso paiso over pe nachne nachne wale wale log log hain hain . the wherewithal paisa phek phek yet aur who\"  jo c … ',\n",
       " 'we e e e e e e e e e e e e . U\"  you ’ re cuter . i i loge loge U\"  you ',\n",
       " 'rahul gandhi gandhi ne ne these\"  yeh kya kya tidings\"  sandesh state\"  desh on ko diya diya ki ki party president ko power power nahi … ',\n",
       " 'tl pa kch kch h h ni ni acha acha ajkl ajkl :new_moon_face: ye phr phr b b acha acha h h wrna wrna jitna jitna ganda ganda kia kia hwa hwa h h without na kch kch ladkon ladkon ne ne tl tl on ko k bss bss :new_moon_face: ',\n",
       " 'jaisi tumhare tumhare captain ki ki sakal sakal hai hai same same waisa waisa have hi performance diya diya hai hai today aaj pakistan pakistan ne ne :clapping_hands::clapping_hands: ',\n",
       " 'rt these\"  ye father baap hai hai these\"  ye saanp saanp hai hai these\"  ye she apne jamboree\"  party of\"  ka wrong\"  paap hai hai inko inko pade pade jhaap jhaap hai hai yet ab aaplog aaplog samajdar samajdar hai hai kon kon kis kis pic pic ko denote k … ',\n",
       " 'app app logo logo on ko bohat bohat jalan jalan lnk\"  ho rahe rahe hain hain bernol bernol use use keya keya karo karo :rolling_on_the_floor_laughing::rolling_on_the_floor_laughing: bloody afghanis . khud khud to london I\"  me mazey mazey l … ',\n",
       " '_ I\"  me _ 80 third is what murder or swing maar dhaad dhaad karne karne wala wala ? :face_with_tears_of_joy: kaam kaam of\"  ka place number hai hai ',\n",
       " 'tweeten gick in i i 3 lag s s å h h ä r grovt grovt haha haha dog dog av av garv garv ',\n",
       " 'rt ok you ’ re up up what what ’ s s your pick for best episode for people to watch in an effort to # saveapbio ? # bingebio … ',\n",
       " 'ace ek buddhe buddhe on ko these\"  ye shoba shoba other than nahi deta deta ... bekaar bekaar tau tau you tu tha tha who\"  jo jail jail within mein makhiya makhiya marne marne bheja bheja hai hai . khattarji khattarji … ',\n",
       " 'sir suppose agar you aap fm fm ban ban jate jate to bombino buddhu buddhu sister fucker pucca chor vegarah vegarah on ko jail jail who kaun bhejta bhejta .. you aap isi isi role role we mai bdi … ',\n",
       " 'i i wish wish very very happy happy yet and blessed blessed # ramadan ramadan or or # ramjaan ramjaan month month to to U\"  you the the hon 44th president shri sir off of uni … ',\n",
       " '_ zafar zafar jake punture bana bana yet aur gandhe gandhe bech bech travelling\"  chal nikal nikal idhar idhar se se ',\n",
       " 'other than nahin . these\"  yeh jhoot jhoot hai hai .. pappu already already zone bhaag gaya gaya . these\"  yeh dekho dekho . ',\n",
       " 'oyeee oyeee happy happy birthdayyy birthdayyy !!!! javiiii !:red_heart::red_heart: you are one the best girl in twitter ! literally !:loudly_crying_face::red_heart: its your your day day n n i i wish wish k … ',\n",
       " 'asad asad brother bhai always available for his people either you can meet ice him at his offi … ',\n",
       " '_ shine _ glows _ wave24 _ happuu happuu maine maine those\" woh sub sab kuchh kuchh ni ni dekha dekha :face_with_tears_of_joy::face_with_tears_of_joy::face_with_tears_of_joy: ',\n",
       " 'mashaallha beautiful couple in the world world brother bhai donoko donoko nazar nazar lagjayegi lagjayegi :OK_hand::OK_hand::OK_hand::OK_hand: ',\n",
       " 'humari humari team team kyu consistently perform other than nahi tax kar paati paati iski iski bohot bohot badi badi waja waja humare humare fans fans too\"  bhi hai hai . itne itne reactionary or n … ',\n",
       " 'you tu kyon kyon rota rota hai hai harami harami tere tere nidus\"  ghar of\"  ka wind gas toh toh tere tere pichwade pichwade se se nikla nikla lnk\"  hua istemal istemal hota hota hai hai chane chane kha kha p … ',\n",
       " 'tumhari tumhari rozi rozi cake\"  roti of\"  ka question sawal to to ayega ayega other than nahi those\" wo to unofficial bite mill mil jata jata hai hai bjp spokesperson jo lnk\"  ho ',\n",
       " '_ rashid rashid yet aur salo salo these\"  ye galat galat h h toh toh haiiii haiiii lkn lkn bjp bjp of\"  ka nam nam kyu kyu kya kya wahan wahan narendra narendra modi modi khda khda h h or ya amit amit shahh shahh .... s … ',\n",
       " 'teachers ko powerful kia kia jay jay . pass pass failed\"  fail of\"  ka system system hona hona chahiye chahiye . teachers of\"  ka kaam kaam just just teaching lnk\"  ho . hr … ',\n",
       " 'rt happy happy happy birthday birthday :birthday_cake::birthday_cake: # teamindia ',\n",
       " 'rt sirjee sirjee U\"  you are our last hope . we\"  we are eagerly awaiting for your good step towards jet airways employees … ',\n",
       " 'rt sahe sahe silver silver 22’ w played at a very high level this weekend so much activity on both ends of the floor back … ',\n",
       " 'samajwadi party ki ki government\"  sarkar I\"  me these\"  ye mahoday mahoday pal pal pal pal I\"  me jamboree\"  party on ko chetaya chetaya krte krte the the yet ab sayad sayad enhone enhone aankh aankh over pe patti patti baand baand l … ',\n",
       " '_ adarsh adarsh all the best !!! next chindi chindi hit hit like like # kesari kesari for b grade actor in his best phase :face_with_tears_of_joy: ',\n",
       " 'i i love hanging with old lady ma ’ khya khya all all we two do is laugh ',\n",
       " 'rt _ sa kindly kindly today aaj bta bta have hi dijiye dijiye private private bank ne ne today aaj tk ki ki … ',\n",
       " \"i'll two do my best ! poured love to to mitra mitra :smiling_face_with_heart-eyes::smiling_face_with_heart-eyes: \",\n",
       " 'happy ending :smiling_face_with_heart-eyes::face_blowing_a_kiss::face_blowing_a_kiss: so sad sad K\"  k inta inta zabardast zabardast tv tv serial end lnk\"  ho gia gia :sad_but_relieved_face::sad_but_relieved_face: hats off to to iqra iqra aziz aziz nd nd imran ashraf for amazing inc … ',\n",
       " 'good good morning morning samaniya samaniya pm pm modi modi heart ji i i am from odisha odisha ape ape jit jit K\"  ke liye liye mubarakho mubarakho yea yea pura pura India bharat bars ke l … ',\n",
       " 'you\\'re you\\'re so humble :heart_suit: while jab neeyat neeyat achi achi lnk\"  ho to to awaaz awaaz khud khud have hi meethi meethi hojati hojati hai hai :purple_heart: you\\'re such a sweet soul Allah allah tumhe tumhe up khush rakhe rakhe ',\n",
       " 'evm K\"  ke harware harware I\"  me setting setting karke karke chunaaw chunaaw jeetaa jeetaa gya gya hai hai election commission pese pese khaakar khaakar bjp on ko jitaya jitaya hai hai . hardwar … ',\n",
       " 'modi modi heart ji you aap on ko pm pm keliy keliy lalat lalat plume\"  par true sandalwood chandan ki ki nose mahak aor aor scarlet\"  lal dwaja dwaja kandhe kandhe plume\"  par dharan dharan tax kar old lady ma bharti bharti of\"  ka adorer\"  bhakt banne banne K\"  ke … ',\n",
       " 'rt rt _ mumbai mumbai thanks thanks sir appreciate your efforts ',\n",
       " 'modi modi heart ji aapko aapko 2nd term kai liya liya congrats congrats these\"  yeh dusra dusra safar safar aapka aapka india india on ko bahut bahut aagaye aagaye lai lai jayega jayega y y … ',\n",
       " 'manniya manniya ravishankar ravishankar prasad prasad heart ji you aap se se aagrah aagrah hai hai ki ki you aap jis jis rural area\"  gaon alawalpur alawalpur on ko god god liya liya tha tha u … ',\n",
       " 'i i love love this this baby\"  baccha :red_heart: he\\'s he\\'s so cute :smiling_face_with_heart-eyes::smiling_face_with_heart-eyes: his expressions :face_with_tears_of_joy::smiling_face_with_heart-eyes::smiling_face_with_heart-eyes: his hair :two_hearts: his chubby cheeks :smiling_face_with_smiling_eyes::grinning_face_with_smiling_eyes: ps i don\\'t watch … ',\n",
       " 'the light of truth truth off of we\"  our king king lord lord rayel rayel ! let let all all mankind mankind address\"  say amen-shalom-allah amen-shalom-allah the the meriful meriful ! love love off of the the light of truth truth ! ',\n",
       " 'lol :beaming_face_with_smiling_eyes::beaming_face_with_smiling_eyes: india india on ko aik aik blow bar nae nae haraya haraya aj aj up until <something> tak yet aur ap ap nay nay dau dau blow bar harwa harwa dia dia aik aik he tournament men d d tho … ',\n",
       " 'rt young young and energetic have is the new # mos mos congratulations and all the best . _ awaaz awaaz # modi2 modi2 ',\n",
       " '_ tech tech ahh ahh no no problem thanks for offering help ! ',\n",
       " 'rt rt :folded_hands: waheguru waheguru heart ji of\"  ka khalsa khalsa waheguru waheguru heart ji ki ki fateh fateh :red_heart: prayed for all of us !!! :smiling_face_with_smiling_eyes::red_heart:# goldentemple # amritsar amritsar long guru nanak ’ s 550th b … ',\n",
       " ':face_with_tears_of_joy::face_with_tears_of_joy::face_with_tears_of_joy:.. sultan sultan dabangg dabangg tiger tiger bhaijaan bhaijaan masterpiece masterpiece straightforward\"  real king king off of bollywood bollywood darling only big big smell\"  boss anchor anchor fee 300c … ',\n",
       " 'chaar chaar panktiyan panktiyan have is a perfect tool for writers it is providing free editing designing publishing and marketing … ',\n",
       " 'modiji modiji on ko hardik hardik subhkamnaye subhkamnaye . India bharat of\"  ka bhavishya bhavishya unke unke chhatra-chhaya chhatra-chhaya within main ujjwal ujjwal hai hai … ',\n",
       " 'kam kam se se kam kam iswar iswar ne ne ace ek aisa aisa leader state\"  desh mei mei bheja bheja hai hai warna warna kya kya hota hota state\"  desh of\"  ka ... s … ',\n",
       " 'wow wow very very nice nice unko unko within main bahut bahut bahut bahut badhai badhai dein dein ti ti huh huh yet aur prospect asha rakhti rakhti huh huh K\"  ke sath sath lein lein ney ney K\"  ke after baad se se turant turant kaam kaam … ',\n",
       " ...]"
      ]
     },
     "execution_count": 27,
     "metadata": {
      "tags": []
     },
     "output_type": "execute_result"
    }
   ],
   "source": [
    "sentences"
   ]
  },
  {
   "cell_type": "code",
   "execution_count": 0,
   "metadata": {
    "colab": {
     "base_uri": "https://localhost:8080/",
     "height": 252
    },
    "colab_type": "code",
    "executionInfo": {
     "elapsed": 7554,
     "status": "ok",
     "timestamp": 1572872289078,
     "user": {
      "displayName": "Abhishek Singh, 4-Yr B Tech, Electrical Engg, IIT (BHU) Varanasi",
      "photoUrl": "https://lh3.googleusercontent.com/a-/AAuE7mBAu6pD-I3Pdn_I1oxZJBB7hudMcmxHG9cW6HOh=s64",
      "userId": "13571043541178143551"
     },
     "user_tz": -330
    },
    "id": "PodgXpsvshbw",
    "outputId": "150edd4f-d662-439d-9758-030d3862b615"
   },
   "outputs": [
    {
     "name": "stdout",
     "output_type": "stream",
     "text": [
      "Collecting googletrans\n",
      "  Downloading https://files.pythonhosted.org/packages/fd/f0/a22d41d3846d1f46a4f20086141e0428ccc9c6d644aacbfd30990cf46886/googletrans-2.4.0.tar.gz\n",
      "Requirement already satisfied: requests in /usr/local/lib/python3.6/dist-packages (from googletrans) (2.21.0)\n",
      "Requirement already satisfied: idna<2.9,>=2.5 in /usr/local/lib/python3.6/dist-packages (from requests->googletrans) (2.8)\n",
      "Requirement already satisfied: urllib3<1.25,>=1.21.1 in /usr/local/lib/python3.6/dist-packages (from requests->googletrans) (1.24.3)\n",
      "Requirement already satisfied: certifi>=2017.4.17 in /usr/local/lib/python3.6/dist-packages (from requests->googletrans) (2019.9.11)\n",
      "Requirement already satisfied: chardet<3.1.0,>=3.0.2 in /usr/local/lib/python3.6/dist-packages (from requests->googletrans) (3.0.4)\n",
      "Building wheels for collected packages: googletrans\n",
      "  Building wheel for googletrans (setup.py) ... \u001b[?25l\u001b[?25hdone\n",
      "  Created wheel for googletrans: filename=googletrans-2.4.0-cp36-none-any.whl size=15776 sha256=69f312c275c346a4a99d011c21665459feabb402a4051426749ef17135db7cdd\n",
      "  Stored in directory: /root/.cache/pip/wheels/50/d6/e7/a8efd5f2427d5eb258070048718fa56ee5ac57fd6f53505f95\n",
      "Successfully built googletrans\n",
      "Installing collected packages: googletrans\n",
      "Successfully installed googletrans-2.4.0\n"
     ]
    }
   ],
   "source": [
    "!pip install googletrans\n",
    "import googletrans"
   ]
  },
  {
   "cell_type": "code",
   "execution_count": 0,
   "metadata": {
    "colab": {},
    "colab_type": "code",
    "id": "InTBtjREsw4s"
   },
   "outputs": [],
   "source": [
    "from googletrans import Translator"
   ]
  },
  {
   "cell_type": "code",
   "execution_count": 0,
   "metadata": {
    "colab": {},
    "colab_type": "code",
    "id": "SfklYTEhs6fT"
   },
   "outputs": [],
   "source": [
    "translator=Translator()\n"
   ]
  },
  {
   "cell_type": "code",
   "execution_count": 0,
   "metadata": {
    "colab": {
     "base_uri": "https://localhost:8080/",
     "height": 162
    },
    "colab_type": "code",
    "executionInfo": {
     "elapsed": 831,
     "status": "error",
     "timestamp": 1572872296058,
     "user": {
      "displayName": "Abhishek Singh, 4-Yr B Tech, Electrical Engg, IIT (BHU) Varanasi",
      "photoUrl": "https://lh3.googleusercontent.com/a-/AAuE7mBAu6pD-I3Pdn_I1oxZJBB7hudMcmxHG9cW6HOh=s64",
      "userId": "13571043541178143551"
     },
     "user_tz": -330
    },
    "id": "nXBNvGnF0fLl",
    "outputId": "bbb915d4-fa4d-4643-de05-ecdf7e29e230"
   },
   "outputs": [
    {
     "ename": "NameError",
     "evalue": "ignored",
     "output_type": "error",
     "traceback": [
      "\u001b[0;31m---------------------------------------------------------------------------\u001b[0m",
      "\u001b[0;31mNameError\u001b[0m                                 Traceback (most recent call last)",
      "\u001b[0;32m<ipython-input-40-99331a9e6469>\u001b[0m in \u001b[0;36m<module>\u001b[0;34m()\u001b[0m\n\u001b[0;32m----> 1\u001b[0;31m \u001b[0msentences\u001b[0m\u001b[0;34m\u001b[0m\u001b[0;34m\u001b[0m\u001b[0m\n\u001b[0m",
      "\u001b[0;31mNameError\u001b[0m: name 'sentences' is not defined"
     ]
    }
   ],
   "source": [
    "sentences"
   ]
  },
  {
   "cell_type": "code",
   "execution_count": 0,
   "metadata": {
    "colab": {},
    "colab_type": "code",
    "id": "hapLYfPC5JpP"
   },
   "outputs": [],
   "source": [
    "sentences[144]='Doston My New sad song Pyar ki Raah Kathin written by My big brother Shivendra Sugam'"
   ]
  },
  {
   "cell_type": "code",
   "execution_count": 0,
   "metadata": {
    "colab": {
     "base_uri": "https://localhost:8080/",
     "height": 323
    },
    "colab_type": "code",
    "executionInfo": {
     "elapsed": 1435,
     "status": "error",
     "timestamp": 1572778689774,
     "user": {
      "displayName": "Abhishek Singh, 4-Yr B Tech, Electrical Engg, IIT (BHU) Varanasi",
      "photoUrl": "https://lh3.googleusercontent.com/a-/AAuE7mBAu6pD-I3Pdn_I1oxZJBB7hudMcmxHG9cW6HOh=s64",
      "userId": "13571043541178143551"
     },
     "user_tz": -330
    },
    "id": "Eyy9ftaZ20qi",
    "outputId": "396b1814-4b46-4488-9f16-3019b7f5613d"
   },
   "outputs": [
    {
     "ename": "JSONDecodeError",
     "evalue": "ignored",
     "output_type": "error",
     "traceback": [
      "\u001b[0;31m---------------------------------------------------------------------------\u001b[0m",
      "\u001b[0;31mJSONDecodeError\u001b[0m                           Traceback (most recent call last)",
      "\u001b[0;32m<ipython-input-56-041d7626f78a>\u001b[0m in \u001b[0;36m<module>\u001b[0;34m()\u001b[0m\n\u001b[1;32m      3\u001b[0m     \u001b[0mprint\u001b[0m\u001b[0;34m(\u001b[0m\u001b[0mi\u001b[0m\u001b[0;34m)\u001b[0m\u001b[0;34m\u001b[0m\u001b[0;34m\u001b[0m\u001b[0m\n\u001b[1;32m      4\u001b[0m     \u001b[0;32mcontinue\u001b[0m\u001b[0;34m\u001b[0m\u001b[0;34m\u001b[0m\u001b[0m\n\u001b[0;32m----> 5\u001b[0;31m   \u001b[0mx\u001b[0m\u001b[0;34m=\u001b[0m\u001b[0mtranslator\u001b[0m\u001b[0;34m.\u001b[0m\u001b[0mtranslate\u001b[0m\u001b[0;34m(\u001b[0m\u001b[0msentences\u001b[0m\u001b[0;34m[\u001b[0m\u001b[0mi\u001b[0m\u001b[0;34m]\u001b[0m\u001b[0;34m.\u001b[0m\u001b[0mlstrip\u001b[0m\u001b[0;34m(\u001b[0m\u001b[0;34m)\u001b[0m\u001b[0;34m,\u001b[0m\u001b[0msrc\u001b[0m\u001b[0;34m=\u001b[0m\u001b[0;34m'hi'\u001b[0m\u001b[0;34m,\u001b[0m\u001b[0mdest\u001b[0m\u001b[0;34m=\u001b[0m\u001b[0;34m'en'\u001b[0m\u001b[0;34m)\u001b[0m\u001b[0;34m.\u001b[0m\u001b[0mtext\u001b[0m\u001b[0;34m\u001b[0m\u001b[0;34m\u001b[0m\u001b[0m\n\u001b[0m",
      "\u001b[0;32m/usr/local/lib/python3.6/dist-packages/googletrans/client.py\u001b[0m in \u001b[0;36mtranslate\u001b[0;34m(self, text, dest, src)\u001b[0m\n\u001b[1;32m    170\u001b[0m \u001b[0;34m\u001b[0m\u001b[0m\n\u001b[1;32m    171\u001b[0m         \u001b[0morigin\u001b[0m \u001b[0;34m=\u001b[0m \u001b[0mtext\u001b[0m\u001b[0;34m\u001b[0m\u001b[0;34m\u001b[0m\u001b[0m\n\u001b[0;32m--> 172\u001b[0;31m         \u001b[0mdata\u001b[0m \u001b[0;34m=\u001b[0m \u001b[0mself\u001b[0m\u001b[0;34m.\u001b[0m\u001b[0m_translate\u001b[0m\u001b[0;34m(\u001b[0m\u001b[0mtext\u001b[0m\u001b[0;34m,\u001b[0m \u001b[0mdest\u001b[0m\u001b[0;34m,\u001b[0m \u001b[0msrc\u001b[0m\u001b[0;34m)\u001b[0m\u001b[0;34m\u001b[0m\u001b[0;34m\u001b[0m\u001b[0m\n\u001b[0m\u001b[1;32m    173\u001b[0m \u001b[0;34m\u001b[0m\u001b[0m\n\u001b[1;32m    174\u001b[0m         \u001b[0;31m# this code will be updated when the format is changed.\u001b[0m\u001b[0;34m\u001b[0m\u001b[0;34m\u001b[0m\u001b[0;34m\u001b[0m\u001b[0m\n",
      "\u001b[0;32m/usr/local/lib/python3.6/dist-packages/googletrans/client.py\u001b[0m in \u001b[0;36m_translate\u001b[0;34m(self, text, dest, src)\u001b[0m\n\u001b[1;32m     79\u001b[0m         \u001b[0mr\u001b[0m \u001b[0;34m=\u001b[0m \u001b[0mself\u001b[0m\u001b[0;34m.\u001b[0m\u001b[0msession\u001b[0m\u001b[0;34m.\u001b[0m\u001b[0mget\u001b[0m\u001b[0;34m(\u001b[0m\u001b[0murl\u001b[0m\u001b[0;34m,\u001b[0m \u001b[0mparams\u001b[0m\u001b[0;34m=\u001b[0m\u001b[0mparams\u001b[0m\u001b[0;34m)\u001b[0m\u001b[0;34m\u001b[0m\u001b[0;34m\u001b[0m\u001b[0m\n\u001b[1;32m     80\u001b[0m \u001b[0;34m\u001b[0m\u001b[0m\n\u001b[0;32m---> 81\u001b[0;31m         \u001b[0mdata\u001b[0m \u001b[0;34m=\u001b[0m \u001b[0mutils\u001b[0m\u001b[0;34m.\u001b[0m\u001b[0mformat_json\u001b[0m\u001b[0;34m(\u001b[0m\u001b[0mr\u001b[0m\u001b[0;34m.\u001b[0m\u001b[0mtext\u001b[0m\u001b[0;34m)\u001b[0m\u001b[0;34m\u001b[0m\u001b[0;34m\u001b[0m\u001b[0m\n\u001b[0m\u001b[1;32m     82\u001b[0m         \u001b[0;32mreturn\u001b[0m \u001b[0mdata\u001b[0m\u001b[0;34m\u001b[0m\u001b[0;34m\u001b[0m\u001b[0m\n\u001b[1;32m     83\u001b[0m \u001b[0;34m\u001b[0m\u001b[0m\n",
      "\u001b[0;32m/usr/local/lib/python3.6/dist-packages/googletrans/utils.py\u001b[0m in \u001b[0;36mformat_json\u001b[0;34m(original)\u001b[0m\n\u001b[1;32m     60\u001b[0m         \u001b[0mconverted\u001b[0m \u001b[0;34m=\u001b[0m \u001b[0mjson\u001b[0m\u001b[0;34m.\u001b[0m\u001b[0mloads\u001b[0m\u001b[0;34m(\u001b[0m\u001b[0moriginal\u001b[0m\u001b[0;34m)\u001b[0m\u001b[0;34m\u001b[0m\u001b[0;34m\u001b[0m\u001b[0m\n\u001b[1;32m     61\u001b[0m     \u001b[0;32mexcept\u001b[0m \u001b[0mValueError\u001b[0m\u001b[0;34m:\u001b[0m\u001b[0;34m\u001b[0m\u001b[0;34m\u001b[0m\u001b[0m\n\u001b[0;32m---> 62\u001b[0;31m         \u001b[0mconverted\u001b[0m \u001b[0;34m=\u001b[0m \u001b[0mlegacy_format_json\u001b[0m\u001b[0;34m(\u001b[0m\u001b[0moriginal\u001b[0m\u001b[0;34m)\u001b[0m\u001b[0;34m\u001b[0m\u001b[0;34m\u001b[0m\u001b[0m\n\u001b[0m\u001b[1;32m     63\u001b[0m \u001b[0;34m\u001b[0m\u001b[0m\n\u001b[1;32m     64\u001b[0m     \u001b[0;32mreturn\u001b[0m \u001b[0mconverted\u001b[0m\u001b[0;34m\u001b[0m\u001b[0;34m\u001b[0m\u001b[0m\n",
      "\u001b[0;32m/usr/local/lib/python3.6/dist-packages/googletrans/utils.py\u001b[0m in \u001b[0;36mlegacy_format_json\u001b[0;34m(original)\u001b[0m\n\u001b[1;32m     52\u001b[0m             \u001b[0mtext\u001b[0m \u001b[0;34m=\u001b[0m \u001b[0mtext\u001b[0m\u001b[0;34m[\u001b[0m\u001b[0;34m:\u001b[0m\u001b[0mp\u001b[0m\u001b[0;34m]\u001b[0m \u001b[0;34m+\u001b[0m \u001b[0mstates\u001b[0m\u001b[0;34m[\u001b[0m\u001b[0mj\u001b[0m\u001b[0;34m]\u001b[0m\u001b[0;34m[\u001b[0m\u001b[0;36m1\u001b[0m\u001b[0;34m]\u001b[0m \u001b[0;34m+\u001b[0m \u001b[0mtext\u001b[0m\u001b[0;34m[\u001b[0m\u001b[0mnxt\u001b[0m\u001b[0;34m:\u001b[0m\u001b[0;34m]\u001b[0m\u001b[0;34m\u001b[0m\u001b[0;34m\u001b[0m\u001b[0m\n\u001b[1;32m     53\u001b[0m \u001b[0;34m\u001b[0m\u001b[0m\n\u001b[0;32m---> 54\u001b[0;31m     \u001b[0mconverted\u001b[0m \u001b[0;34m=\u001b[0m \u001b[0mjson\u001b[0m\u001b[0;34m.\u001b[0m\u001b[0mloads\u001b[0m\u001b[0;34m(\u001b[0m\u001b[0mtext\u001b[0m\u001b[0;34m)\u001b[0m\u001b[0;34m\u001b[0m\u001b[0;34m\u001b[0m\u001b[0m\n\u001b[0m\u001b[1;32m     55\u001b[0m     \u001b[0;32mreturn\u001b[0m \u001b[0mconverted\u001b[0m\u001b[0;34m\u001b[0m\u001b[0;34m\u001b[0m\u001b[0m\n\u001b[1;32m     56\u001b[0m \u001b[0;34m\u001b[0m\u001b[0m\n",
      "\u001b[0;32m/usr/lib/python3.6/json/__init__.py\u001b[0m in \u001b[0;36mloads\u001b[0;34m(s, encoding, cls, object_hook, parse_float, parse_int, parse_constant, object_pairs_hook, **kw)\u001b[0m\n\u001b[1;32m    352\u001b[0m             \u001b[0mparse_int\u001b[0m \u001b[0;32mis\u001b[0m \u001b[0;32mNone\u001b[0m \u001b[0;32mand\u001b[0m \u001b[0mparse_float\u001b[0m \u001b[0;32mis\u001b[0m \u001b[0;32mNone\u001b[0m \u001b[0;32mand\u001b[0m\u001b[0;34m\u001b[0m\u001b[0;34m\u001b[0m\u001b[0m\n\u001b[1;32m    353\u001b[0m             parse_constant is None and object_pairs_hook is None and not kw):\n\u001b[0;32m--> 354\u001b[0;31m         \u001b[0;32mreturn\u001b[0m \u001b[0m_default_decoder\u001b[0m\u001b[0;34m.\u001b[0m\u001b[0mdecode\u001b[0m\u001b[0;34m(\u001b[0m\u001b[0ms\u001b[0m\u001b[0;34m)\u001b[0m\u001b[0;34m\u001b[0m\u001b[0;34m\u001b[0m\u001b[0m\n\u001b[0m\u001b[1;32m    355\u001b[0m     \u001b[0;32mif\u001b[0m \u001b[0mcls\u001b[0m \u001b[0;32mis\u001b[0m \u001b[0;32mNone\u001b[0m\u001b[0;34m:\u001b[0m\u001b[0;34m\u001b[0m\u001b[0;34m\u001b[0m\u001b[0m\n\u001b[1;32m    356\u001b[0m         \u001b[0mcls\u001b[0m \u001b[0;34m=\u001b[0m \u001b[0mJSONDecoder\u001b[0m\u001b[0;34m\u001b[0m\u001b[0;34m\u001b[0m\u001b[0m\n",
      "\u001b[0;32m/usr/lib/python3.6/json/decoder.py\u001b[0m in \u001b[0;36mdecode\u001b[0;34m(self, s, _w)\u001b[0m\n\u001b[1;32m    337\u001b[0m \u001b[0;34m\u001b[0m\u001b[0m\n\u001b[1;32m    338\u001b[0m         \"\"\"\n\u001b[0;32m--> 339\u001b[0;31m         \u001b[0mobj\u001b[0m\u001b[0;34m,\u001b[0m \u001b[0mend\u001b[0m \u001b[0;34m=\u001b[0m \u001b[0mself\u001b[0m\u001b[0;34m.\u001b[0m\u001b[0mraw_decode\u001b[0m\u001b[0;34m(\u001b[0m\u001b[0ms\u001b[0m\u001b[0;34m,\u001b[0m \u001b[0midx\u001b[0m\u001b[0;34m=\u001b[0m\u001b[0m_w\u001b[0m\u001b[0;34m(\u001b[0m\u001b[0ms\u001b[0m\u001b[0;34m,\u001b[0m \u001b[0;36m0\u001b[0m\u001b[0;34m)\u001b[0m\u001b[0;34m.\u001b[0m\u001b[0mend\u001b[0m\u001b[0;34m(\u001b[0m\u001b[0;34m)\u001b[0m\u001b[0;34m)\u001b[0m\u001b[0;34m\u001b[0m\u001b[0;34m\u001b[0m\u001b[0m\n\u001b[0m\u001b[1;32m    340\u001b[0m         \u001b[0mend\u001b[0m \u001b[0;34m=\u001b[0m \u001b[0m_w\u001b[0m\u001b[0;34m(\u001b[0m\u001b[0ms\u001b[0m\u001b[0;34m,\u001b[0m \u001b[0mend\u001b[0m\u001b[0;34m)\u001b[0m\u001b[0;34m.\u001b[0m\u001b[0mend\u001b[0m\u001b[0;34m(\u001b[0m\u001b[0;34m)\u001b[0m\u001b[0;34m\u001b[0m\u001b[0;34m\u001b[0m\u001b[0m\n\u001b[1;32m    341\u001b[0m         \u001b[0;32mif\u001b[0m \u001b[0mend\u001b[0m \u001b[0;34m!=\u001b[0m \u001b[0mlen\u001b[0m\u001b[0;34m(\u001b[0m\u001b[0ms\u001b[0m\u001b[0;34m)\u001b[0m\u001b[0;34m:\u001b[0m\u001b[0;34m\u001b[0m\u001b[0;34m\u001b[0m\u001b[0m\n",
      "\u001b[0;32m/usr/lib/python3.6/json/decoder.py\u001b[0m in \u001b[0;36mraw_decode\u001b[0;34m(self, s, idx)\u001b[0m\n\u001b[1;32m    355\u001b[0m             \u001b[0mobj\u001b[0m\u001b[0;34m,\u001b[0m \u001b[0mend\u001b[0m \u001b[0;34m=\u001b[0m \u001b[0mself\u001b[0m\u001b[0;34m.\u001b[0m\u001b[0mscan_once\u001b[0m\u001b[0;34m(\u001b[0m\u001b[0ms\u001b[0m\u001b[0;34m,\u001b[0m \u001b[0midx\u001b[0m\u001b[0;34m)\u001b[0m\u001b[0;34m\u001b[0m\u001b[0;34m\u001b[0m\u001b[0m\n\u001b[1;32m    356\u001b[0m         \u001b[0;32mexcept\u001b[0m \u001b[0mStopIteration\u001b[0m \u001b[0;32mas\u001b[0m \u001b[0merr\u001b[0m\u001b[0;34m:\u001b[0m\u001b[0;34m\u001b[0m\u001b[0;34m\u001b[0m\u001b[0m\n\u001b[0;32m--> 357\u001b[0;31m             \u001b[0;32mraise\u001b[0m \u001b[0mJSONDecodeError\u001b[0m\u001b[0;34m(\u001b[0m\u001b[0;34m\"Expecting value\"\u001b[0m\u001b[0;34m,\u001b[0m \u001b[0ms\u001b[0m\u001b[0;34m,\u001b[0m \u001b[0merr\u001b[0m\u001b[0;34m.\u001b[0m\u001b[0mvalue\u001b[0m\u001b[0;34m)\u001b[0m \u001b[0;32mfrom\u001b[0m \u001b[0;32mNone\u001b[0m\u001b[0;34m\u001b[0m\u001b[0;34m\u001b[0m\u001b[0m\n\u001b[0m\u001b[1;32m    358\u001b[0m         \u001b[0;32mreturn\u001b[0m \u001b[0mobj\u001b[0m\u001b[0;34m,\u001b[0m \u001b[0mend\u001b[0m\u001b[0;34m\u001b[0m\u001b[0;34m\u001b[0m\u001b[0m\n",
      "\u001b[0;31mJSONDecodeError\u001b[0m: Expecting value: line 1 column 1 (char 0)"
     ]
    }
   ],
   "source": [
    "for i in range(len(sentences)):\n",
    "  if len(sentences[i])==0:\n",
    "    print(i)\n",
    "    continue\n",
    "  x=translator.translate(sentences[i].lstrip(),src='hi',dest='en').text"
   ]
  },
  {
   "cell_type": "code",
   "execution_count": 0,
   "metadata": {
    "colab": {
     "base_uri": "https://localhost:8080/",
     "height": 34
    },
    "colab_type": "code",
    "executionInfo": {
     "elapsed": 1180,
     "status": "ok",
     "timestamp": 1572778715144,
     "user": {
      "displayName": "Abhishek Singh, 4-Yr B Tech, Electrical Engg, IIT (BHU) Varanasi",
      "photoUrl": "https://lh3.googleusercontent.com/a-/AAuE7mBAu6pD-I3Pdn_I1oxZJBB7hudMcmxHG9cW6HOh=s64",
      "userId": "13571043541178143551"
     },
     "user_tz": -330
    },
    "id": "B67DKxq54PoY",
    "outputId": "af3614c8-1706-45f3-a8ba-bf37906e6cea"
   },
   "outputs": [
    {
     "data": {
      "text/plain": [
       "'pakistan ka ghra tauq he pakistan israel ko tasleem nahein kerta isko palestine kehta he - occupied palestine '"
      ]
     },
     "execution_count": 58,
     "metadata": {
      "tags": []
     },
     "output_type": "execute_result"
    }
   ],
   "source": [
    "sentences[i].lstrip()"
   ]
  },
  {
   "cell_type": "code",
   "execution_count": 0,
   "metadata": {
    "colab": {
     "base_uri": "https://localhost:8080/",
     "height": 34
    },
    "colab_type": "code",
    "executionInfo": {
     "elapsed": 1264,
     "status": "ok",
     "timestamp": 1572778539167,
     "user": {
      "displayName": "Abhishek Singh, 4-Yr B Tech, Electrical Engg, IIT (BHU) Varanasi",
      "photoUrl": "https://lh3.googleusercontent.com/a-/AAuE7mBAu6pD-I3Pdn_I1oxZJBB7hudMcmxHG9cW6HOh=s64",
      "userId": "13571043541178143551"
     },
     "user_tz": -330
    },
    "id": "TCh4UqiH5mRw",
    "outputId": "b8db3946-e750-414f-b9f7-d9ef066da7e5"
   },
   "outputs": [
    {
     "data": {
      "text/plain": [
       "'mere bhaijan ki movie or india ke sultan ki movie only bharat '"
      ]
     },
     "execution_count": 53,
     "metadata": {
      "tags": []
     },
     "output_type": "execute_result"
    }
   ],
   "source": [
    "sentences[401]"
   ]
  },
  {
   "cell_type": "code",
   "execution_count": 0,
   "metadata": {
    "colab": {
     "base_uri": "https://localhost:8080/",
     "height": 34
    },
    "colab_type": "code",
    "executionInfo": {
     "elapsed": 1157,
     "status": "ok",
     "timestamp": 1572778777090,
     "user": {
      "displayName": "Abhishek Singh, 4-Yr B Tech, Electrical Engg, IIT (BHU) Varanasi",
      "photoUrl": "https://lh3.googleusercontent.com/a-/AAuE7mBAu6pD-I3Pdn_I1oxZJBB7hudMcmxHG9cW6HOh=s64",
      "userId": "13571043541178143551"
     },
     "user_tz": -330
    },
    "id": "11lYt4Su64Bb",
    "outputId": "2a835d7c-51d4-4a64-85de-570d046de5e0"
   },
   "outputs": [
    {
     "data": {
      "text/plain": [
       "'pakistan ka ghra tauq he pakistan israel ko tasleem nahein kerta isko palestine kehta he - occupied palestine '"
      ]
     },
     "execution_count": 61,
     "metadata": {
      "tags": []
     },
     "output_type": "execute_result"
    }
   ],
   "source": [
    "sentences[0]"
   ]
  },
  {
   "cell_type": "code",
   "execution_count": 0,
   "metadata": {
    "colab": {
     "base_uri": "https://localhost:8080/",
     "height": 34
    },
    "colab_type": "code",
    "executionInfo": {
     "elapsed": 1139,
     "status": "ok",
     "timestamp": 1572872307321,
     "user": {
      "displayName": "Abhishek Singh, 4-Yr B Tech, Electrical Engg, IIT (BHU) Varanasi",
      "photoUrl": "https://lh3.googleusercontent.com/a-/AAuE7mBAu6pD-I3Pdn_I1oxZJBB7hudMcmxHG9cW6HOh=s64",
      "userId": "13571043541178143551"
     },
     "user_tz": -330
    },
    "id": "cDBJ5ebj5vMx",
    "outputId": "a2fcacdd-c55c-4285-9e88-7a56fa075a82"
   },
   "outputs": [
    {
     "data": {
      "text/plain": [
       "\"Your mother's pussy\""
      ]
     },
     "execution_count": 41,
     "metadata": {
      "tags": []
     },
     "output_type": "execute_result"
    }
   ],
   "source": [
    "translator.translate('teri maa ki chut',src='hi',dest='en').text"
   ]
  },
  {
   "cell_type": "code",
   "execution_count": 0,
   "metadata": {
    "colab": {
     "base_uri": "https://localhost:8080/",
     "height": 1000
    },
    "colab_type": "code",
    "id": "rE3DmlIWtCYR",
    "outputId": "73415fa1-1681-4c2b-b2e9-277dfecd836b"
   },
   "outputs": [
    {
     "name": "stdout",
     "output_type": "stream",
     "text": [
      "\n",
      "so true yaaaar . what a load of disappointment this country has turned out to be :disappointed_face: and ye aisi ch … \n",
      "his special appeal is to defeat bjp ! not giving anything like hopescheme etc . fucker kya kam hai desh mein . hain :folded_hands: \n",
      "maam apko inke . jese logo ko jawab nahi dena chaye ....... kyu ki inhone humesa aurto ko burkhe me rk … \n",
      "yahi sb kro .. hmare desh ke yuvao ko berojgar krke bjp wale ye postman ka kaam de diye hai .. sa … \n",
      "_ sharma1 bsdk nahi sister fucker kohli are but tumne hamare wali gali seekh li \n",
      "jaan bojh kar nahi haare ... wc ka apna pressure hota hai ... haarne ka matlab ye nahi k ga … \n",
      "navjot singh sidhhu ji .. aapki life itni achhi ja rahi thi .. aapke commentary ki tarif pura desh karta tha .... kapil … \n",
      "_ offical _ prash04 _ deepika006 _ snehal … \n",
      "many thanks for your kind wishes lallu ji \n",
      "_ beast uske perosnal problem h 20 khelna & 50 over khelne me difference h agr whi wc me perform nhi kr pata … \n",
      "_ sharma4 tu sharif ladki ho ke aisa copy paste karti hai ye koi bhi female / lady ko shobha nahi deta aur … \n",
      "_ a _ org ye dadoo charger ko koi ye bataye ke jo semi-dick chaye ke sath biscuit nahi deta … \n",
      "rt _ exe _ ntf ek hi toh dil hai asit bhai kitni baar jitoge !? \n",
      "youtube views ko vote samjhne wale agar is bar nahi jita to kabhi nahi jitega . bharat … \n",
      "hi brooke stores usually should have substitute lines for the main things if they do sell out . i will … \n",
      "inta goal achieve karle isme hi bharat ki naiya kuchh paar ho jayegi ab godse ka jikr nahi karna sachhai kisi ki mohtaj nahi hoti \n",
      "hooo my ggod . please tell her im a fan . incredible . \n",
      "attention to all godi media 5 sal tak gae gobar hindu muslim 3 talaq etc . pe dabate ker ker desh ka kiya bhala kiy … \n",
      "tun chuteya hein ki pagal sala ... teinu kha c na mein phla apni aukaat ch rha kr ... teri aukaat boot … \n",
      "rt where are all those lawyers that were tutored by sagay ? you can actually ask for a refund of your tuition fees from your un … \n",
      "hlo god of cricket ji apko sabse ayada kon se bowler ki pitayi karte huye maza aata tha # sachinopensagain \n",
      "can't wait for this # happyacademic workshop still time to register for this eent on friday _ gnursing … \n",
      "__ me _ mt _ pchna yup twistooo rubber like :face_with_tears_of_joy: not gud for health \n",
      "tailor ki maa ki ankh ! abbu or apny suit ka size dy k aya tha kanjr ne mera bhi mery abbu k size ka seeee diyaa ! a … \n",
      "modi sir there is no light since 1020 pm in tilak nagar ( west delhi ) \n",
      "rt thanks _ chopra1 . i hope you are recovering well . my best wishes . \n",
      "_ ind … \n",
      "dharam pe bahas ke alawa is ghodi ke paas kuch nahi hai .. gdp pe gahas karegi to salary cut kar di … \n",
      "india ke sartaj mr # narendramodi ji ko hum sabhi bhartiyon ki taraf se bahut bahut badhai !! all the b … \n",
      "bhaiyya bjp jeet gayee sabhi seats par ab kahe ki khunnas . bses is not … \n",
      "jita to hitlet v tha bhai burnol to tume chahiye kaam to ginate nahi kabhi bjp k cows ka gobar b … \n",
      "jab tak bjp ke talwe chatoge tab tak congress kya koi nahin dikhega aapko aur kitna jaleel hoge sab dal … \n",
      "_ ahmd ab modi terrorist like u mujhe sikhayege ... tum log ab bhakt nahi rahe ab tum modi supporter ji … \n",
      "_ arushi _ shine _ glows _ bnane _ wala _ kamine … \n",
      "rt thank u for coming live :face_blowing_a_kiss: but i missed it :loudly_crying_face: bhai apne duaa k kaha me apka lia har namaz me duaa krti hn apka nam la ka r aesa … \n",
      "woke up to this very beautiful feature .. thank you \n",
      "canny believe av been this excited for my new car n now a don ’ t want it :slightly_smiling_face: this is going to be fun telling them am patching it :slightly_smiling_face::slightly_smiling_face::slightly_smiling_face: \n",
      "but hamari to abhi saadi hi nahi hui to hame to pta hi nahi hai ager mere sath tumari stinking ho jay … \n",
      "long before rock n roll und you can ‘ t steal my love von mando diao ; don ‘ t matter ( kings of leon );… \n",
      "aap sirfsabko yaad dilaiye ek ek flyover se aapne 25 crore 50 crore 75 crore 125 cro … \n",
      "mla bjp k hain mayor bjp k hain nahi mp bhi bjp k the but koi bhi dhayan nahi deta pls look in to this \n",
      "1 hi tareek de do 20 -30 saal baad ki sab khus rahege 1 jana khus rahega ki case chal raha hae 1 jana khus ho … \n",
      "absolutely correct hon'ble true patriot and hinduism dharma ki fighter woman sadhvi madam namo namo jai … \n",
      "ur love no u r my lovez one sided wala — sunkr dukh hua \n",
      "nahi to dharam ke adhar per hi desh ka batwara hua tha muslim ko pakistan bangladesh mila aur hindu si … \n",
      "jaaz saab ko salo saal ke pending case ko soultion me maza nahi aata * inko to public paise monthly case miljaye * \n",
      "rt kodwa guys gave us thandiwe forget national this man is an international treasure that has to be protected … \n",
      "bhai aap ais tarah rok rok kay nahi khel saktey . aap jiesey khelte hoo wiesey hee khelo . team aur … \n",
      "abhi samajh aaye to thik ... warna badhao bhaichaara ..... jiske pass chaara tak k paise nahi unke sath … \n",
      "mere bhaijan ki movie or india ke sultan ki movie only bharat \n",
      "_ views0 mera favourite hn bhartan dhona ghr mei meri duty hy baqi aik bnda handi pakaata hy aur dosra roti … \n",
      "anti hindu anti national or inka bas chale to kanahiya ki tarah ye pakistani hafij ko bhi india ka 1st nagrik b … \n",
      "modi ji say mera anurodh hai ki manniye jai bhan singh ji pawaiya ko rastriye adyakch ka pad diya jay \n",
      "_ of _ lyching ab aate h tmhri baat parkya hatya … \n",
      "_ son teri bander bhi agr gand mar kr bhag gaya to usko bhi yahi boliyo blega kiya \n",
      "_ who isko chupake rakho bjp ticket na dede isko \n",
      "bilkul sahi he nirupam kyunki congress ke paas kuch nahi bacha ab to ja ke bolege bhi kya ? galiya ?… \n",
      "_ n bengal me 40se jyada bjp worker ki hatya ye hui knha ho mr so called patrakar ? \n",
      "rt no words can explain the love and respect for you dear keep going and have a blast enjoy your day and may you get whateve … \n",
      "_ sattar ya allah in logoon se pakistan ki louti hui dolat ka bhi hisaab le ameen \n",
      "rt _ kamal sir app bary admi hay ignore what others made personal comment on you please focus on your cmship and resolve th … \n",
      "_ patrag nafrat bahot ho chuki abh 4 saal tho araam karo sambit dont worry 5 years no one can get u off st … \n",
      "“ na i told u i ain have no girl ” :face_with_tears_of_joy::face_with_tears_of_joy: y ’ all niggas just be lying smh :woman_facepalming_medium-dark_skin_tone: \n",
      "rt drop your name and i'll ask you a question .:heart_suit: 1 age 2 height 3 fav song 4 birthday 5 bad habit 6 best friend 7 good habit … \n",
      "certificate pe 167m kyu dikha rha ? \n",
      "_ bjp bahut sari shubh kananeaapko seco … \n",
      "rt happy birthday :party_popper::balloon::wrapped_gift: khush rho allah pak tmko kamyab krain stay blessed _ 001 its ur 50's birthday :face_with_tears_of_joy::face_with_tears_of_joy: \n",
      "weekend tho tab tha jab 5 din school me gond ghisne ke baad milta tha nothing can reach that satisfaction \n",
      "itni problem hai to de kyu nhi deta jiya ko talakh .. he very well know jiya ka behaviour kisa hai ti kisne bola iss … \n",
      "tiran se tel loge . mna sarkar abhi to desh hi nahi pura banta aur sambhal rahabas 3-4 tv houses walon ki salary … \n",
      "pakiatan me kitna h … \n",
      "nwaz chor b to chori kr k aaya tha2013 main . 4 halqy kiun nai kholy agar sacha tha to :thinking_face::thinking_face::thinking_face::thinking_face::thinking_face: \n",
      "dur se dekha to ganje uchhal rhe the xiami 7 pro se dekha to ande ubbal rhe the ;) \n",
      "rt ji pranam sir ..... ayush homoeopathy doctors ki jagah govt bsc gnm nursing ko community health officer … \n",
      "_ m # modi # bjp # india pray that rahul filthy never leaves his post - he does more for bjp than e … \n",
      "i wish very happy and blessed # ramadan or # ramjaan month to the almost most powerful celebrity tabu g of bollywood … \n",
      "rt ¿ est á tu hijo tuiteando sobre la liga de las leyendas ? btw = buen teleport wukong lol = lucha otra linea lmao = los magos anda … \n",
      "* after sex * she kisiko batana mat . me koi mujhpar yakeen karega bhi nahi . :face_without_mouth: # sedlife # memes # memesdaily \n",
      "ye parchi ki hi nahosat se sara match khrab hua hai sala shuro main hi team pe presher dal k chla jata hai \n",
      "bjp ki 303 seats aane mai apka bhi yogdan hai sudhir ji thank you ! \n",
      "it's too much sticky high humidity is unbearable . bohat purana wala lawn suit zindabaad \n",
      "rt duniya ka masoom tareen semi-dick allah jhoot na bulway masoom dekho :face_with_tears_of_joy::face_with_tears_of_joy::face_with_tears_of_joy::face_with_tears_of_joy::face_with_tears_of_joy: \n",
      "iska fayda bhi sirf woh log uthayenge jinko dusro ki problem se koi matlab nahi hain . thoda public ko swabhimaan se … \n",
      "motherfucker hooker ka sulad suwar teri maa behan beti ko fuck .... tumlg sudhrog … \n",
      "ma'am don't spread fake news . musalmaan dara hua hain . \n",
      "aagaya apni breed pe suar teri bahan ko mera pasand hai teri bv ko tere abba ka teri ma ko te … \n",
      "meh ab iss larki sey interact nhi krunga jab tak yeh mujh sey pehlay interact na krley ) \n",
      "rahul sir congress party ki vichardhara bharat ki janta ke beach nahi bahut pa rahi hai logo ke bich v … \n",
      "_ mp :folded_hands: jai modiji . jai . rss :India::India::triangular_flag::triangular_flag::tulip::tulip: \n",
      "sir apko aur bjp ko meri taraf se jeet ki bahut bahut subhkamnaye app desh aur uchaiyo par le jaye p … \n",
      "dkh k b bolna nhe ata dar dar k prh rahe apr pakistan me gala phar phar k bolti \n",
      "rt _ aneeta sir .... apke kaal me bhi hm berojgaar bethe hai ... well qualified hone k wabjud ... pareekha pas hone k wabjud ... k … \n",
      "aur tu is pr bhi attention lele :rolling_on_the_floor_laughing::rolling_on_the_floor_laughing: sister fucker itna effort apne jhaant se career ko improve krne me lg … \n",
      "jada muslimo ke masiha banne ki kosis mat karo .. nase ki halat me log kuch bhi kar sakte hai . tumhe bhi … \n",
      "rt vaha ka hindu marta pehle hai dr . maruituis ka hi du bharat ke hindu jaisa nhe kehta kuch … \n",
      "manifesto lo unadi chestunadu :thumbs_up: inka problem anti \n",
      "hahahaha ... allah aisey maulana sahab se kaum ki hifazat farmayee .. ye mudde uthane nahi … \n",
      "kuya khel kaninang 1111 nag wish ako na sana magkita tayoooo !:face_with_tears_of_joy: pa meet and greet kanaman dyan oh ! para makapag p …… \n",
      "a vyapari hai usdin modi ji k photos aur dialogs k cd bechega !!! \n",
      "ayaaaaay ka ! mag shat daw me 1st day of school :see-no-evil_monkey::hear-no-evil_monkey::speak-no-evil_monkey::face_screaming_in_fear: \n",
      "rt # talash pakistan kay har ghar ki kahani thank you # muftay for a well researched preview # featurefilm # zeekayfilms # coming … \n",
      "rt my fav film coming soon # ardaaskaraan by paji :folded_hands: paji here ’ s the teaser \n",
      "rt don ’ t be sad if allah separates you from someone you love . always remember it ’ s for your own good . allah has a beauti … \n",
      "sir bhaeya ji ka bahut hi sarahniya fesla . jab hamari baat sunney .… \n",
      "yeh toh kuch bhi nahi hai 5june ke baad world cup bhi postpone ho jayegaa bhai ka stardom :red_heart::red_heart: \n",
      "_ truths fouj mulk nahi chala sakti ho sub se mazbut of munazam ha but ye haram khor chor jahil bey eman siasa … \n",
      "tumhaare pass or koi news nhi h kya jo esi faaltu chize dikha rhe ho desh ki security ke liye jo jroori h … \n",
      "news 18 sala tumhare pass dog bili sabki news h lekin bikbot scam ke itne tweets ho rhe hai sirf rak … \n",
      "young india youth prema khandu ji ko badhai congratulation cm pad ki shapath bahut bahut badhai \n",
      "pehle you used to write emo poetry ab kyu band kar diya ? — likh likh ke saare emotions khatam hogaye hain \n",
      "ya i know owaisi ji very well bcz i'm from hyderabad ..… \n",
      "mamta banerjee ke gusse mul karan bjp nhi uska khud ka aham hai wo khud ko kansh man rahi hai aur uske liye modi ji … \n",
      "# pledgeagainstcorruption good morning guru g . bless us and give us power to do more and more sewa … \n",
      "aap jaisa neta to mera :folded_hands::folded_hands: aap aaj ke rajniti ka ideal hai jai :folded_hands::folded_hands: we want to see you in ministry again & again \n",
      "is desh ka muslim ko hamesha uska fundamental right milla hai kya muslmaan jantantr ka hisha ni owais … \n",
      "pakistan wale itne garib hai ki apne captain ko ek ₹200 wala tie bhi nahi de sakte # iccworldcup2019 \n",
      "_ ps chota boy india is a democracy it means we have right to choose o … \n",
      "kyuu k tm log ghareeb awaam ka tax ka paisa chori krta thay aur kr rhay ho awaam tm logo ke money lau … \n",
      "jb hindustan khud hindustan ke bare m nhi sonch raha h dhrm ke naam pe bjp jaise logon ko jitaya ..… \n",
      "- bjp ko vote on muslim mahilaon n purushon ne diye jinko yojnaon ka fayda milaya m … \n",
      "mp me congress ki sarkar aayi hai to light kase rh jaegi ..... invertor le aao .... ki sarkar phle pai … \n",
      "modi ji kisi ke saga nahi hain aur saga kyun ho ? muft me modi ka jhuth me sath d … \n",
      "phir bhi pata nhi kiss trah qarza charr gaya hai \n",
      "sambit patra kal se kaha jaoge tumhari bakwas band ho jayegi bahut kar li tumne bakwas tum bhi kaha … \n",
      "_ bahen so glad to have you by my side always :red_heart::red_heart: that will never change . ily shan & thanks for always being … \n",
      "# rt rt end of term 1 - 2019. we wish enjoyable holidays . eid mubaarak to all the par … \n",
      "rt _ possitiverd yahan room se bahar nikalte hi aisa lagta hai jaise yamraj aatma nikal ke le ja rha ho aur tumhe masti vala j … \n",
      "rt thanks a lot anna for the inviting me to your biggest day grateful and honoured by your kind gesture i will be … \n",
      "just look at the mentions kitni ghatiya mentality hai agar use monk banne me koy problem nahi hai to hum kon hai … \n",
      "america is a great country and it has always been a great country . think of this as a way to fumigate … \n",
      "rt _ cronic so many have sacrificed their lives so that we can enjoy the blessings of freedom - john 1513 greater love hath no man th … \n",
      "yun to kehne ko teri rah ka patthar nikla tune thhokar jo laga di toh mera sar nikla ek woh shakhs tha jo phoolo'n … \n",
      "rt _ thefilm shaadi kab karni hai ? # bharatthiseid - \n",
      "dekho is channel ka kamini pana didi prawakta ko bhejna band karo plzzz .. \n",
      "shri narender modi ji apko mera sadar naman jis trah apne zindagi ko jeya or aj humare pradhanmantri dobara bne aa … \n",
      "adaraniya narendra modi ji ap hi har bar hamare pradhan mantri bane sir hamare desh ko jansankhya niy … \n",
      "chutiyo tanasahi nahi hai ye security concern hai \n",
      "isko kisine irctc ke helpline ka number pakda diya aur yeh bola ke yeh number modiji ka personal number hai :face_with_tears_of_joy::face_with_tears_of_joy: \n",
      "_ 007 ye to police ko chiaye tha ki aise logon ko mana kate ab ye samajh nahi aata ki ye police bikie hii hai … \n",
      ":folded_hands: namaskar mam congratulations on your hard earned victory i am really overawed by the way you have c … \n",
      "_ who _ bhagat no it was normal chetan vs bjp ka chamcha chetan .. q sahi bole na ?? \n",
      "_ sarita _ sk _ na matlab ye baat saabit hota ki masooma … \n",
      "jitne tweet karna hai kar kyu ki janta bhi ye chahti hai bakre ki maa kab tak kher benayegi bechare k … \n",
      "i really love it :two_hearts: thanks my dear you're special too :face_blowing_a_kiss::face_blowing_a_kiss: \n",
      "etne salo me pehli mertaba sapat gerhan . nahe dekha har jeet bahut dekhi . per yeh election dlalo chor jahil desh droh … \n",
      "nice pics nice dp looking gorgeous laura and lehsun tak thik hai but what's the logic behind rt ing someone's profile pic ? \n",
      "_ rofique _ afruj ye mujse dur nhi reh skti warna isko bhav kon dega or footage kha se legi ye \n",
      "rt _ iyd wo konse log hote hein jo like kiyr beghair rt krte :sleepy_face: barre hi chawal hote :sleepy_face: \n",
      "jab congress ke spokesperson tv debate me battamiji karte the tab to unko nahi roka gaya ab haar ke baad jawab den … \n",
      "pmln k kuttey hr wqt bhonktey hein apni maan ki tarah \n",
      "rt dear :face_with_tears_of_joy::face_with_tears_of_joy::face_with_tears_of_joy: 105 run maar kar poori team out sister fucker modi ka itna darr ki bat samhal nahi paa rahe pakistani play … \n",
      "meri id sy log jealous bohot ho rahy hein aj kall 3 + 4 baar id report ho chuki hy meri but koi farq ni parny wala :smiling_face_with_sunglasses::smiling_face_with_sunglasses::smiling_face_with_sunglasses::smiling_face_with_sunglasses: \n",
      "@_ unzila _ g btw thnks ap ky itne likes ky lia :red_heart::victory_hand: \n",
      "mubarak to all naya pakistan \n",
      "prayer for generosity \n",
      "rt thank you _ waraich _ pti malik zaman for coming to my aftari at dha na 131 \n",
      "rt _ 0103 twitter py half time tu oska header dekhne mai guzar jata :smiling_face_with_heart-eyes::see-no-evil_monkey::two_hearts: \n",
      "what ever the results may be but love afghanistan cricket team well played najib rehmat and rashid \n",
      "rt __ sh pubg nhi khelta * match nhi dekhta ! smoke nhi krta will this society accept me ? \n",
      "rt theses sanghis are alike . the bjp wants to erase nehru . let's see what india would have been without him h … \n",
      "aap ke honesty ko koti-koti naman :folded_hands_medium_skin_tone::face_with_tears_of_joy: \n",
      "_ bhootfm i love ghost fm ...:heart_suit: cox's bazar app deya sonce \n",
      "rt bts world tour ' love yourself speak yourself ' live streaming in wembley stadium ! finally it's d-day !! on 6/1 ( sat ) 7… \n",
      "yoongi is so intellectual and woke i wish he had the chance to exhibit all that in his own songs sighhh \n",
      "_ nighat bhai mere sirf social media pe woman empowerment ki baat nahi honi chahiye balki real … \n",
      "modi government come back in 2019 sabka sath sabka vikas sabka visvas \n",
      "_ sun bh ke ... tere jaise jh @@ ntu ko aukaat dikhana zaruri hai tere jaise m @@ darch logo ko support … \n",
      "_ krishna kutto ko dawat par nahi bulaya jata yaar \n",
      "hamare sheher mein sach baat kehne wala hee har ik nazar mein sazawaar kuch zyada hai poetry ejaz hussain fakhi … \n",
      "_ suttybaz yeh ajeeb percentage nikaal di wese i am harami for some people \n",
      "rt _ please apne bachon ko coeducation colleges ma admission dilvaya karen ye university aake yahan ka mahol kharab kardete … \n",
      "_ k27 nawaz sharif ko anar nigger ki tarha deewar me chun dena chahye haram khor ne marna tu hai nhi itni jaldi ... \n",
      "hoooo hooo ... you good ?:rolling_on_the_floor_laughing::rolling_on_the_floor_laughing::rolling_on_the_floor_laughing::rolling_on_the_floor_laughing::rolling_on_the_floor_laughing::rolling_on_the_floor_laughing::rolling_on_the_floor_laughing: \n",
      "rt _ saeed jummah tul wida mubarak from us to all of you :red_heart: may you all be blessed with whatever you wish for amen . \n",
      "sir so thanks for it ye yaha se dumling ground ko shift krne ke liye apka aur ji ka thanks sb … \n",
      "aur do vote .... yun bhenchodo ki tarah pite jaoge ... kab samjhenge ye desh k log ... sab sale … \n",
      "_ 54 ko khud ko to batting krne aati ni bus captain bana huwa he . naam ka na toss jeet sakta h … \n",
      "and hooooo boy am i shocked that meghan “ my father is john mccain my father is john mccain my father is john mcca … \n",
      "# modi phone tak nahi uthate nalayak ka darr hai unhe ki kahi ye humse paise na maang le - maryam naw … \n",
      "desh wasio ko mamuli lag raha hai islye koi protest nahi h koi chintit nahi h ise lek … \n",
      "_ 003 _ rishu aisehi log hai jo har legend ko bura bhala bolte hai yha tk k god of cricket ko bhi nh … \n",
      "abey buddhe tu sala dog hm 130 cr hindustanio ko jhoota bol rha hai bsdk hmne bhi modi ko vote d … \n",
      "death over ki okad bata deya sister fucker block maar deya paid user ka lakho rupee lekr ye l … \n",
      "rt purd bhumat se vijay huye mere payare aadarniy pm modiji hi badhai ho ram rajy agaya bhagva ek bar fir sunami bn kr ch … \n",
      "rt _ youkiss _ nia happy bday jit . hope you enjoy it and be lit af :hundred_points: \n",
      "liberalswoh to dara hua samuday ka insaan hai . dar ke maare chhed di ladki . hindu intolerant hai \n",
      "insan chahe to apne vichar dusronke dil-dimag me sthapit ker sakta hai . kubhi kubhi bade insanoko aisa lagta hai ki … \n",
      "open it sirjee .... do one thing ... send me a dm ... i'll respond ... thank you ! \n",
      "_ sharma4 tera sa certificate lane ki mujha jarurt nahi \n",
      "takky takky pe bhik jaty ho tum log . we don't trust you people \n",
      "rt steven gerrard is the best player in prem history \n",
      "rt fokat ka samosa khaane & fokat ki movie dekhne wale critics are tweeting about boycotting salman khan movies . lol funny c … \n",
      "_ h _ a _ r _ m _ i _ oye chutiye sab bol rahe mujhe yeh dekh isne tera tweet copy kia idiot ke patthe kahi ke :face_with_tears_of_joy::face_with_tears_of_joy: timing … \n",
      "i wish nargees mother was alive then sambhoo snj duttmba banta . country ka naam roshan kartasab … \n",
      "yeh nahi badlega . hara rang iske khoon me sama chuka hai bus ab ye kuch din ka hindu h jald hi … \n",
      "bhola character with 0000 haters .. love you imran after watching this episode kis tarah gradually theek horaha hy o … \n",
      "is bandy ke har baat jhoot se shoro hoti hai or jhoot pe khatm hoti hai . the worst part is that every indian believ … \n",
      "is ko tu bolny ki bhi tameez ni apny baap ki umer waly ko kaisy mukhtib krti hai agar tameez hoti tu ap … \n",
      "_ surya he is not moron because he is capable to be a mp people have voted for him aapne itne … \n",
      "yeh kitne kamine lootere hain desh ke jo apni haar pacha nahi pa rahe hain aakhir kis mooh se ayenge … \n",
      "rt ye hd kumaraswamy hamesha aisi shakal kyon bana ke rakhta hai jaise kayi din se shit nahi aayi . kabhi bangalore mein di … \n",
      "we are always on bus mauka milna chahiye program turant ho jaayega \n",
      "ye hamrey desh ka aaur desh ke logo ka saubhagya hai ki aap jaisa desh bhakat pm hamko and hamrey desh ko mila for … \n",
      "_ jerry ghr mae he best hti ha bt ab bahr ka arda ha \n",
      "_ jain sir ab bas aur nahi yeh rona dhona band kariye . bhad main jaye media bhad main jaye … \n",
      "_ aqxiii bhena logon ko nend dard k bestar pr b ajati thi baqol nfak par humy molty foam pr b nahi ati :face_with_tears_of_joy::face_with_tears_of_joy::face_with_tears_of_joy: \n",
      "rt _ p _ s now that you are no longer his fan please join some other fan club--like pulkit samrat or suraj pancholi . good r … \n",
      "_ — tara hanap tayo ano uhm .... usap hangout soon and movie nightt hahahah miss you paps \n",
      "imran khan ko phasany ki pori tayari hai ptm ko mar k pashtoon kpk aur balochistan k haalat kharab … \n",
      "_ elec _ mum sir aapki housing board ki ki office band kar dijiye yaha per shikayto per koi sunwai nahi hoti raa … \n",
      "rt _ i swear :face_with_tears_of_joy::face_with_tears_of_joy::face_with_tears_of_joy: kabhi arsal kamina lagta toh kabhi jiya \n",
      "zimbabwe ka shoaib akhtar tha yeh wahiyat tareen baal thay sister fucker ke eid ke eid nahata tha \n",
      "_ thefilm best jodi salman and ali bhai # 15daystobharat \n",
      "cuz hindi is not a national language and modi is just a leader not a god .. its their own choice to whom … \n",
      "__ pictures bro use your watermark . you deserve more credit so many pages posted your picture . love you :blue_heart::red_heart: \n",
      "abe tu apni movie bhi yed kr le thori bhul gaya ho to ghatiya aadmi us movie ko to poster pe he thuk diya tha audience ne :face_with_tears_of_joy::face_with_tears_of_joy::face_with_tears_of_joy::face_with_tears_of_joy::face_with_tears_of_joy: \n",
      "__ _ jassie _ seedha sale ja ja ke hamare bare me unse ulta sidha bolta hai kamine dekha lena meri … \n",
      "smt sonia gandhi k jagah maa / mummy kuch v likhta i bet you apke liye 20% respect aata which is now -… \n",
      "_ sh proud feel kro or khush raho log copy to krty hy naw :smiling_face_with_sunglasses: \n",
      ":rosette: good morning papa ji plz bless me more sewa sumiran parmarth ka bal bakhshna ji dhan dhan sa … \n",
      "his smile :two_hearts: our jaan :red_heart: pyar dosti hai love is friendship :man_and_woman_holding_hands: bff time # parthsamthaan … \n",
      "are yeh khurje wala ka gale me kya hai ... kahi mota bhai amit sah ka wwf wala punch to nahi pad gaya ?… \n",
      "_ geo ager qom e youth wah wah leni ho to ik baar bolein . nawaz sharif chor ha . apko followers b milenge tar … \n",
      "_ palsapkar and what about buffalo k seengh ?? abhi b g *** d me he hai kya :face_with_tears_of_joy::face_with_tears_of_joy::face_with_tears_of_joy: \n",
      "rt _ insan _ rohit … \n",
      "rt __ dee i hope next time will show you some love bhut wami . some of us still listen to your old music # sama25 \n",
      "rt happy diwali to each and everyone . may this diwali bring a new light into our lives . and i would like to thank all my fans … \n",
      "rt arjun ram meghwal bjp i thank the pm & amit shah ji for showing trust in me . i thank them on behalf of the people of bikaner . pm … \n",
      "rt _ sekcy _ beti per to jannat ki zamanat hai khuda ki ye booj nhi amanat hai khuad ki bete ki mohabat me khien bhool na jana beti … \n",
      "haram khor log ulta chor kotowal ko dantey !! mulk torney ki bat kerney waley ko or phulon ke har pehn … \n",
      "_ meanboi _ tahir _ 995 abe ekdam shut up apne oppar ko jaa ke ye bakwas suna tu hindu hai iska matla … \n",
      "may 24 1844 samuel morse typed out the 1st telegraph message . it read what hath god wrought and was sent from … \n",
      "i say world cup . they hear # jitega to india hi \n",
      "bahut bahut badhai priy modi ji janta jis bharose se aapko chuna hai unka dhyan … \n",
      "70 yrs se to saab log employed the . sirf 5 saal main berojgari badhi hai . waise sach to hai . rahul gandhi berojgar ho gaya \n",
      "rt _ winn _ er _ ___ 10 dhoova nahi nikalta ...:smiling_face_with_sunglasses::face_with_tears_of_joy::face_with_tears_of_joy: \n",
      "mai toh chala # jcbkikhudayi dekhne aap gyan dete rahiye jai hind saradna ji bulaao kabhi haveli pe thoda bartal … \n",
      "bas tera sath ho chahe jo bat ho :red_heart: tere kahne se kar jaenge :hugging_face: miss you pushp :smiling_face_with_heart-eyes: i really miss you :face_blowing_a_kiss::face_blowing_a_kiss::grinning_face::loudly_crying_face::crying_face::folded_hands::folded_hands: \n",
      "rt _ sharma _ # nakash _ aziz # live _ concert # happy red fm bajaate raho ! \n",
      "gandhi fucker tha . desh ka divide kar diya bina kuch soch samajhke . ab jo musalman reh gaya tha w … \n",
      "_ nighat maine dekha aapka episode wak … \n",
      "100 % d e f . ...? ho bhai good job lagay raho \n",
      "bleed blue # cheerwithpride jeetega bhai jeetega india jeetega jeet hamari hai \n",
      "filhal to teri maar rha hun hahahahahahahahaha hahahahahahahahahahaha hahahhahahahha ha … \n",
      "is chor ne mulk ka pesssa loot kar air blue bana li ha is se pessa wapes lo \n",
      "sharkary nokary kon dega . intihash gawah hai bjp ne kabhi sharkary nokary nahi diya . jumalo ki sharkar \n",
      "many many happy returns of the day :confetti_ball::party_popper::OK_hand::confetti_ball::party_popper: sada khush raho ..:slightly_smiling_face: muskurati raho ..:slightly_smiling_face: har raste me khushi pao ..:heart_suit::heart_suit: or hume … \n",
      "rt aaa ’ s only romantic song ello ji sanam was a tribute to a whole lot of things made famous by retro bollywood . the tangewala … \n",
      "mai to fucker nahi bana so it is obvious ki tere jaise piddi jaldi fucker banaye ja sakte hai \n",
      "rt _ tweets mast news hai re baba .. waah modiji waah .. desh ko duba do hum tumhare sath hain . :face_with_tears_of_joy::face_with_tears_of_joy::face_with_tears_of_joy::face_with_tears_of_joy: \n",
      "5 not 15 such bolna to aata nhe hai siwai jhoot k aap ko aata kya hai aur wo 5 bacchay ke wajha s … \n",
      "_ khan ye to muhammad paigambar ki tasvir hai . \n",
      "jake you have become a fake news . i'm done . i truly thought you were about this . \n",
      "best chappal award confirm can't wait # tummeriho ye movie bht achi hogi 100% aur iss … \n",
      "mera behen sony me esiliye evm nahi ka gutala nahi mantahu kiu ke congress . sp . bsp . ncp . aur dus … \n",
      "rt says me apko pyaar dena chahta hun modi ji ke dil me pyaar bharna chahata hun pyaar k … \n",
      "dear ji nrc tho koi bhi sadharan vyakti bhi home minister ke padh se kar sakta hai parantu aap jai se v … \n",
      "sir-ji yeh baccha sab ko heela dheyghi phele andhadhun ( what a film ) abi yeh article 15 - trailer | a … \n",
      "bsdk maafi hi to mangi thi atleast angrejo k sath baith kr dinner to nahi kiye . \n",
      "_ haque again bakwas ... purpose of previous letter was just referral of cv not nepotism .... bibi je referral … \n",
      "_ yeh baat sri krishna ki maa pe nahi laagu hoti kya jiski 8 aulaade thi yeh baat kunti pe … \n",
      "tum jiyo hajaro sal sal ke din ho 50000 happy birthday to you my son sanskar \n",
      "rt nashville is not country like what yall outside states / cities think . \n",
      "_ rafique kameeny loogo ko justice system sy wessy he nikal deena chaheye khud dafa hona bhi theek hy \n",
      "_ sheikh no entry ka board nhi laga tha wahan ? _ sheikh \n",
      "duniya ki sari khushi ek taraf ... padosiyon k harne ki khushi ek taraf :rolling_on_the_floor_laughing::rolling_on_the_floor_laughing::rolling_on_the_floor_laughing::rolling_on_the_floor_laughing: # wehavewewill # pakvwi # wivpak # cwc19 \n",
      "very good thinking jai siya ram jii \n",
      "sir kuchh logo ke question poochhne ka tareeqa ka samajh nahi ata . condescending sa laga . jaise a … \n",
      "ab bsd k kisi ko jalan nahi hoti koi nahi bolta inka bap nahi mara na isliye ko … \n",
      "wo residency road ki shopping wo purani mandi ki mastiya kabhi lambu ke goll gappe kabhi pahalwan ki mithas … \n",
      "who doesn't love mangoes in the season of mangoes !? mouthwatering mangoes made into a laddoo ! make irresistibly del … \n",
      "_ harne k bad ye drama qabul he wo 1999 final har ker wasim akram ki makruh hansi se behter he \n",
      "jay jay kar tab hota h jab modi ke jase sachche dilvale neta ho \n",
      "bhart me yahi bastard hai sister fucker ganga jamuni ki nazyaz piddio ko paida kar bharat ko apvitra kar diya agar yahi son … \n",
      "_ 14 _ sister fucker itne din se soch raha hu gaali naa du par ye behan ke l maiya ch * dane aajate hai r … \n",
      "love kee you dia . \n",
      "# fox29goodday mamas is mon shout put happy 81st birthday to my mama love ya to the moon n back love your crazy daug … \n",
      "but topi walay babu ki tau new job hougi humey chutti kesay milay gi ? :loudly_crying_face::loudly_crying_face::loudly_crying_face::loudly_crying_face: \n",
      "kalindi express -14703 railway very bed facility in sleeper class seat confirm hone ke bad bhi nahi milti seat bina … \n",
      "rt sabka saath sabka vikas sabka vishwas # vijayibharat _ mahajan \n",
      "__ mb me on kismat ki laari these days \n",
      "# nostalgia # sachin # cricket who all remember these anthems ... sachin humei world cup jeetna hai ...!!! cricket w … \n",
      "_ vksingh aapko dobara jeet ki hardik badhai ho magar aapse anurodh h ki aap garima garden pasonda ghaziabad m s … \n",
      "we e e e e e e . you ’ re cuter . i loge you \n",
      "tl pa kch h ni acha ajkl :new_moon_face: ye phr b acha h wrna jitna ganda kia hwa h na kch ladkon ne tl ko k bss :new_moon_face: \n",
      "rt ye baap hai ye saanp hai ye apne party ka paap hai inko pade jhaap hai ab aaplog samajdar hai kon kis pic ko denote k … \n",
      "app logo ko bohat jalan ho rahe hain bernol use keya karo :rolling_on_the_floor_laughing::rolling_on_the_floor_laughing: bloody afghanis . khud to london me mazey l … \n",
      "_ me _ 80 third is what murder or maar dhaad karne wala ? :face_with_tears_of_joy: kaam ka number hai \n",
      "i wish very happy and blessed # ramadan or # ramjaan month to you the hon 44th president shri sir of uni … \n",
      "oyeee happy birthdayyy !!!! javiiii !:red_heart::red_heart: you are one the best girl in twitter ! literally !:loudly_crying_face::red_heart: its your day n i wish k … \n",
      "rt happy happy birthday :birthday_cake::birthday_cake: # teamindia \n",
      "rt sahe silver 22’ w played at a very high level this weekend so much activity on both ends of the floor back … \n",
      "samajwadi party ki sarkar me ye mahoday pal pal me party ko chetaya krte the ab sayad enhone aankh pe patti baand l … \n",
      "i'll do my best ! poured love to mitra :smiling_face_with_heart-eyes::smiling_face_with_heart-eyes: \n",
      "you're so humble :heart_suit: jab neeyat achi ho to awaaz khud hi meethi hojati hai :purple_heart: you're such a sweet soul allah tumhe khush rakhe \n",
      "evm ke harware me setting karke chunaaw jeetaa gya hai election commission pese khaakar bjp ko jitaya hai . hardwar … \n",
      "modi ji aapko 2nd term kai liya congrats yeh dusra safar aapka india ko bahut aagaye lai jayega y … \n",
      "lol :beaming_face_with_smiling_eyes::beaming_face_with_smiling_eyes: india ko aik bar nae haraya aj tak aur ap nay dau bar harwa dia aik he tournament men d tho … \n",
      "rt :folded_hands: waheguru ji ka khalsa waheguru ji ki fateh :red_heart: prayed for all of us !!! :smiling_face_with_smiling_eyes::red_heart:# goldentemple # amritsar guru nanak ’ s 550th b … \n",
      "chaar panktiyan is a perfect tool for writers it is providing free editing designing publishing and marketing … \n",
      "kam se kam iswar ne ek aisa leader desh mei bheja hai warna kya hota desh ka ... s … \n",
      "jai jai jai akhelish jai samajwad pir 5sal jhelna padega na … \n",
      "_ unnao jaha bhi dekho bjp karykarta hi mare ja rehe h . state aur desh m bjp sarkar k babjud … \n",
      "acha hai borhi sahi laikin apne khandan ki orat ko maidan main laya ali wazir ... warna tou abhi tak p … \n",
      "jahil woh hota hai jo ksi bray admi kay saath photo khichwa kay proud feel kare aur k … \n",
      "kitni baar kahu tum shit khane wale suar harami jaise gaaliyan mat istemaal karo kyun … \n",
      "modi ji ko pranaam aap jarrurr lijiye ashirwaad aur kashi bhi jaaiye lekin saath hi saatha hamaare s … \n",
      "rt # ramadankareem to all muslim ikonics and bh shippers ! it marks one of the holiest days of ramdan the last friday ! may alla … \n",
      "abe o maderchod rand kanhaiya kumar k uper deshdrohi ka aarop he vo kuch nahi aur tu kitna bhi karle s … \n",
      "_ you isss tarah ke tweet se malum chalta hai tum bjp ke agent ho tum par dalal ka lable th … \n",
      "very very good i proud of you all jaise log jiyo hajaro sal \n",
      "aagar bjp ki 2 seat bhi kaam aati ye aadmi toh pradhanmantri ka pad bhi maag … \n",
      "siyar agar sher ki khaal pahan le tho sher nahi ho jata hai jese hi muh kholta hai apni aukat bata deta hai . ves … \n",
      "pata nai kon pagal log inbox karty wo b asy logo ko :unamused_face: ye post karne ki bajye tum apna inbox hide kr dyti wo zaida changa c :smirking_face: \n",
      "appi asslam o alaikum appi kaafi arsay say apko contact kar raha hoon please contac … \n",
      "thank you so much dato inshallah will celebrate the 6th star tonight :folded_hands::folded_hands: # ynwa \n",
      "_ a :face_with_tears_of_joy::face_with_tears_of_joy::face_with_tears_of_joy::face_with_tears_of_joy: watt lg gyi fake victim card khelne ki ......# metoo exposed \n",
      "2019 k chunab se clear ho gaya h ki adhikari karm chariyon ka - bjp ko bot karna unke nakarapan ka pratek h - bjp k … \n",
      "madam ji aap apne party ka laptops apne pass rakhe up ke students bahut ache hai unhe kisi dee hui bhikh nahi chahiye \n",
      "where are the hindu haters .. how come they don ’ t criticize / report this nonsensical behavior of deshdrohi dodo ? \n",
      "_ insan1 happy birthday to you dearest kasam . sada khush rho msg aapko hmesha bhut khushiyon de . dil ek man … \n",
      "@_ 123sms khar mubarak :smiling_face_with_heart-eyes: allah sy dua hai ap log b jald humary sath her din many :smiling_face_with_heart-eyes::rose: \n",
      "sad to read this ! all cities in india see a rise in temp all thanks to rapid expansion of cities and cutting dow … \n",
      "ye kuchh ulta sidha bolanewalo ka jara bhi dhyan nahi dena chahiye ye sirf samy barbad karate hai inlogo ko des ya … \n",
      "first of all i did he paid my bills and spoiled the fuck out of me . he was crazy so i kicked him to the curb end of storyyyyy ! \n",
      "shut up se baith tere har tweet main sirf hate n crime h sirf batein and tweet karne se kuch nahi bad … \n",
      "behen ! tere tweets padh pr meri pet dard hone laga he ! # 1yearofbehir \n",
      "happy birthday _ g1 from me and mrs . decarlo :purple_heart::star-struck:. be good !! \n",
      "aap all mai kuch log broker criminal ke liye work kr te the aur digital deta ko chori kr ke dalali & shutta khelne … \n",
      "sir aurangabad me village sonaura ko v aap ki jarurat hai woh v kuchh kiya jai \n",
      "everytime # mamatafrustrated acts up this bengali song ghost amaar son petni amaar jhi ram lakkhan sathe ache … \n",
      "bahoot hi sweet nd nice hai \n",
      "picture par effect bhe boohat lag jata ha ajj kal \n",
      "finally we didn ’ t change cowkidaar jaisa bhi imandaar hey \n",
      "are bhojai haar gayi ho aap ab koi haq nahi bjp ko kosne mein tumhare mister super flopp saabit ho … \n",
      "_ gt are c rahu filthy ki tarah bat na kar wo jo pm ki aukat k andar hona chahie … \n",
      "rt happppy birthday bhaiyaa :smiling_face_with_smiling_eyes: allah apko hmesh khush rkhe salamat raho :smiling_face_with_smiling_eyes: \n",
      "ye hoti bewakoof o ki nisani .. india m toilet coverage 93% hain ..... pak m 58 %... muj … \n",
      "sahab ye sab news chanlo ka kamal hai obc ko samjha diya gaya ki jo pm the our jo pm banrahe hain wo … \n",
      "_ burde board ke exam mein fail hone pe apni mummy ka reaction socho itne pe to meri … \n",
      "_ zayain2 phir arjiya ko ehsaas hojaega ke woh aik dosre ke bagair nahi reh sakte .. season 2 ka kiya faida j … \n",
      "dear all of every one so i am help you me vishnu sharma gwalior madhyapradesh se hoo my mere teen better he jo jan … \n",
      "_ 16 muslim khud modi virodhi hai modi ne 5sal mai muslim virodhi kuch kiya hi nahi .... \n",
      "really a marvellous drama with a very beautiful acting of .. masha allah .. allah a … \n",
      "rt kejriwal ko aagae bhejo baki bjp ko vote dalo dh … \n",
      "wo yahen kehna chahty jo aplogo k dimag m ayega nahi \n",
      "rt safar khoobsurat he mazil se bhi happy wedding aniversery avneil # naamkarann # adiza # avneilsecondanniversary # avneil # zai … \n",
      "rt _ insan g :face_blowing_a_kiss::face_blowing_a_kiss: d morning guru pita ji :face_blowing_a_kiss::face_blowing_a_kiss::face_blowing_a_kiss::face_blowing_a_kiss::tulip::tulip::tulip::tulip: today is my 5th exam ( service marketing ):page_facing_up::page_facing_up: dhan dhan satguru tera … \n",
      "rt great question and great answer from see \n",
      "rt # tujhekitnachahnelage ft . and _ kiara from # kabirsingh is sure to make you feel love loss and lon … \n",
      "any explanation is not possible bus kuchh bhee \n",
      "congratulations to prime minister ( adarana pradhan mantri ) nerandra modi ji won th … \n",
      "khadi don is the most unfunny “ comedian ” on social media . \n",
      "_ me _ jao _ gaaarl mainu samajh ni aaundi ki pakistan de saare account fake pics daal kar prove ki karna … \n",
      "_ fernandez i miss youu moree :frowning_face::growing_heart: see youu soon :kissing_face_with_closed_eyes: \n",
      "im proud of u mam n thank u so much aapne apna kam bahut achi tarah se nibhaya hai hum apko hamesha y … \n",
      "kaam nahi hai logon ke paas election bhi khatam hua ab kya karen toh orgasm movement hi kyon na chala … \n",
      "bjp ke 54 karykarta ko buri tarah mara gaya uspe to kabhi dukh prakat nahi kiya apn … \n",
      "ek baat batau tum sabko ? mai aaj 13 ghante soyi hu bina disturbance ke it's actually so satisfying and scary at t … \n",
      "baba agar accha swadeshi janmo nirodhok ( contraceptive ) banaye aur ek saal ke liye population explos … \n",
      "bahi ap log itny bar jhoot bol chuky ho ab yakeen nai ata tum logo ki bat ka ab agly match m … \n",
      "rt my girl is so great looking mashallah nazar na lagey \n",
      "rt ham gujju itne bhi chutiye nhi hai bina dekhe samje kuch bhi tweet kar rahe kuch chutiye \n",
      "rt @_ ur _ ex drop your home screen :red_heart: mere v dekh loo :backhand_index_pointing_down::see-no-evil_monkey::grinning_face_with_smiling_eyes: \n",
      "congratulations to you and best wishes . sub ka saath sub ka vikas aur sub ka vishwas yehi h sub ka bharat veer bharat \n",
      "tum hindu kahlane ke layak hi nahi ho .. kya sanskar diye the tumko tumhare mata pita ne or tum kya ban gai … \n",
      "_ haytham _ sena _ kr … \n",
      "kashmir india ka atoot ang tab hoga jab india khud rahy ga war kro ge to india nhi rahy ga war n … \n",
      "ab kia kia es me sharat bhi nhi ki sad bnai phr bhi :confused_face::smiling_face_with_horns::unamused_face: \n",
      "rt thank you ! team india has won today . \n",
      "rt drop your fav person in twiiter mine _ raho meray liyeh yeh bandi sab sai best hai :alien_monster: wbu ? \n",
      "tumhare malik ne stifa diya hai manjur nahi hua . tum jante ho ki chor kaun hai . lekin itna jhuth … \n",
      "honorable sir hum logo ko rojgar deya jay again thanks to all mission manager mission associate puvvn … \n",
      "_ haryana ye h police ka asli chera .. esleye logo ka visvas nhe h police pr . kya thane me … \n",
      "video khali against thode naa tha . kagta hai ikka dukka dekhe ho . oure video dekho sahab ke happyfi me v dekho \n",
      "bakhsh deta hai khuda unko jinki qismat kharab hoti hai woh hargiz nahin bakhshe jaatey hain jinki niyat kharab h … \n",
      "thik hai bolte rho or bjp k kami ko ginate rho bjp in kamo ko krk tumko chunao se pehle bolne ka m … \n",
      "omg yayyyyyy !!! im glad he can make u happy )))) \n",
      "i sandeep mey ek vichar rakna chahta hu modi ji sir s kiek box banaya jay her zile me jisme public apni problem … \n",
      "in polticians ki kaam he hame aapas me ladana aur vote bank k naam pe iss desh ko todna kyunki iss … \n",
      "5 sal mt bhejo sir media valon ki dal roti bnd ho jayegi \n",
      "ab pata nahi mera prsa milega ki nahi mere paas uska sabut he koie mera help karega bhai log \n",
      ":two_hearts: good morning my rockstar papa ji :two_hearts: :rose: plz bless me more sewa sumiran parmarth ka ba … \n",
      "_ bhandari what about jhootha and don modi \n",
      "_ awaaz laxman is the best reporter for sure . only gas bag in team is he … \n",
      "i don ’ t want to feel bad ㅠㅠ \n",
      "_ khurramjr are motherfucker eshi karan to aaj tumre mulk ko hum bhikhari bana diye hai ba … \n",
      "you have worked for sabka saath sabka vikas ( everyone's support everyone's development ) now sabka vishwas ( every … \n",
      "ya absolutely chowkidar hamara dil ka chor hai .... aap k dp me rahane waale bail pe hai vo mahatma hai \n",
      "es desh ki public ko kheechad hi psand hai ..! 5 salo me etana pareshan hue log wo sari pareshani 5 mint me … \n",
      "no other language has a word as sweet as bhai jaan in urdu . :red_heart: \n",
      "dekha tune bola aur public ne actual main dimaag lagake aur sochke vote diya hai ab thoda khud be akal use karo .. v … \n",
      "mai janta hu kyu mood kharab kyuki inme se koi nahi pahucha furnel & prayer meet me . rishi ji ne to … \n",
      "good job pappu . let ur mom do that job . u can carry on playing video games n watching chotta bheem for next 5 years . \n",
      "so called neutral cartoonists fir bolte he log inhe gali dete he bloody assholes \n",
      "7a abhi nhi aa reha .. its redmi go extented version .. \n",
      "abe aqal sar phi agayee kia sir jeee policy change karne mai … \n",
      "_ goi _ goi _ india sir best wishes and aapse kaafi ummede judi huyee hai \n",
      "_ shahnawaz problem evm nahi hai .... problem hai junta ke saath samvaad khatm ... netaji ke time pa … \n",
      "_ armaal22 :red_heart::red_heart: ab bss wait kr rahi :neutral_face: jab unhe agar dikhega hamara tweet to chale … \n",
      "rt o tere ki jub ant samay aata hai to log khana peena chor dete hai legta hai is haramkhor bharastachari gh … \n",
      "“ uncle you ’ re my father ’ s age and the bhakti lesson you impart makes you worthy of respe … \n",
      "wo rpf wala pakka tmc / congress ka supporter hoga . ek suppor … \n",
      "so _ r we are going to have a big campfire at your rekindling hope workshop right ? # revoice19 \n",
      "frequently aisi tweets karna koi surgial strikes se kam nahi hai mar jaoge luteyens liberals aur tukde gang :face_with_tears_of_joy::face_with_tears_of_joy: \n",
      "hye can u open ur dm ? thankyou :smiling_face_with_smiling_eyes: \n",
      "chaudhri saab ka status khrab kr diya is tweet ne :face_with_tears_of_joy: \n",
      "kisano ki chinta ki or pansion ki ghoshna kr apne majboot irade jata dene wale pm modi ji aapko hardik badhai .... \n",
      "yahi mudde ne rahul gandhi ko haraya ab lagta hai apki bari hai .. bjp ki jeet hi in muddo par hui hai ye mudde nahi … \n",
      "hamare aadarniya pm narendra modi ji ko doobara pm banane par dher sari subhkamnaye aasha karta hu a … \n",
      "rt _ heart # bharat and the wait ends in 7 days i believe this will be his best till date might surpass bajrangi ( movie w … \n",
      "a3 ) place chapora fort goa movie dil chahata hai # contestalert # contest # vacationmodeon :beach_with_umbrella: \n",
      "isn ’ t that a tight slap on your face and # presstitutes like you in india ? socha … \n",
      "rt _ chanda i will take screen shot of ur account and put wallpaper to my whole life in loving memory of you \n",
      "itni grmi me bhi govt light nahi de rahi h . glti kr di vote dekr congress ko \n",
      "_ return yeh wala tweet like karke aaj ka din bana diya :grimacing_face: mein toh iska dusre account me bhi … \n",
      "us ass k bachy ne pain killer di he nahi keh raha tha stomach ki waja se yeh sab hua bhenchod mera stomach theek hai \n",
      "are flipkart support ghatiya he ekdm amazon is far better than that … \n",
      "rt wishing shri . _ gadkari a very happy birthday . my prayers for a long and healthy life . your dedication and hard work … \n",
      "news channels se bhi experts social media hai kyu ki evm me ghotala gadbadi ke hajaaro videos social media me aarah … \n",
      "aj ne oic ma jo takreer ki h us ko sunany k bad un logon ko ghairat se mar jana chahiye jo khan ko yah … \n",
      "hii i love u sunshine :red_heart::red_heart::red_heart::red_heart::red_heart: — hiii i love you more sweetie :red_heart::red_heart::red_heart::crown: \n",
      "_ ayuba we apologize for that difficulty send us a dm let ’ s see the screenshot of the errors you got \n",
      "why did my grandmother decide that squash sardines and 2 patties were a good mix for my lunch ? hhhhhh \n",
      "is qoum ka kch nhe ho sakta pori team na khailtay galti captain ke hai waisy ye naye logic aise qoum … \n",
      "should have given cricket bat hockey ki sunte nahi lok ( \n",
      "_ nikhil happy birthday bhayya ... all the best for ur feature projects \n",
      "rohit jab tere jese bhadve patrakar banke bjp ke talve chatate hai to bahiskar ho … \n",
      "party se maal leke bech k or apni sale … \n",
      "sir i am bihari apes mera anurodh ki aap bihar ki hit ko dekhate hue aap mantrimandal ke bhai bihar … \n",
      "“ to take on ” in chaar shabdo me aapke baukhlahat … \n",
      "rt aap toh :smiling_face_with_heart-eyes: badi pyari ho jii very polite and strong enough to face any situation i owe you for always appreciat … \n",
      ".. sir just saw your fabulous steps in the song ... pehla pehla pyar hain janam tere liye ... simply electrifying ... \n",
      "_ ind _ 22045 i don't know where did i come out as a congress suppor … \n",
      "bjp me kaam krne valo ki kami nahi ha … \n",
      "itna to tay ho gaya ki kitna bhi padhkar is desh ka nojawan bhale hi pakore bech lega lekin kisi ke feke huye ₹720… \n",
      "kyaaa !! ciel you look so cuuuute ! do your best !! - elizabeth ( to ciel ) \n",
      "shrm tmko mgr nh ati ehsan faramosh ho tum ch nisar ki tc krty nh thkty thy ab b … \n",
      "exactly . 30's m jab tk hota weather i like it . coz it's cool and something bearable :loudly_crying_face::loudly_crying_face::loudly_crying_face: har 10-15mi … \n",
      "rt whats going on ................ wow love with status # bharat # bharatadvancebookingstarts \n",
      "woo hoo cricket world cup starts today ! good luck to hosts in the tournament - hope for a good st … \n",
      "iss shw mein shuru se yahi bola hai 90's mein yeh nahi woh nahi hota khaskar ladkiyaan itni fast thi ye … \n",
      "wahh re chutiye wahh yahi umid thi latkhor sale laat kha k hi sudhroge kaam pe dhayn d … \n",
      "ji dear sir ji vry vry congratulations .. aap jeete hme bhut khushi hui bhut bhut hardik shubhkamnay … \n",
      "_ who _ by _ two kyonki inke piche modi ji ka naam tha . baki to samajh aa hi gya hoga . \n",
      "jantaa ne bahut vishwash ke saath sarkar banai hai gareebo ko direct benefit mile jai hind \n",
      "media ko list nahi deker galat kiya media ka haq he list lena or public ko btana kon minister ban raha he \n",
      "_ says _ yr wo english ka paper lhr me postpone hogaya tha wo 4 ko ha \n",
      "rotudu wagle ...... ha ha ha . i am enjoying this even more than i enjoyed the election victory . parasite … \n",
      "boht achy naya pakistan khawar manika ke qurbaniyon ke wajha se he to bna hai . \n",
      "aisha mat koro momta didi nahi to bjp sorkaar raatoraat gir jayegaa :loudly_crying_face: \n",
      "harbhajjan jesa third class semi-dick nahi dekha . overconfident fucker sisters husband \n",
      "woh congress doosra congress hai ab jo bhi hai south indian national congress ya toh italy national congress \n",
      "happy birthday _ says _ many happy returns of the day :red_heart: allah lmbi eman wli zindgi ata kre ameen :red_heart: \n",
      "mera apki tweet se agree he nai hy . love apko kamzor nai krta . love apko takatwar bnata hy . u have lov … \n",
      "sorry gill sahb azaadi sirf in journalists ka haq hai baqi ko ye chorte kab hain kabhi \n",
      "aise keh raha hai jaise k kabhi kisi larki ko hath nai lagaya ho isne . nai nai yeh bhai … \n",
      "ab ye kon kiya lekin jo bhi kiya kya gazab kiya :face_with_tears_of_joy: :face_with_tears_of_joy: \n",
      "chicha aap rahne dau tumse naa ho payega naa tumse election jeeti jati hai naa dhangse tv par debat … \n",
      "last episode ki starting ne dil jeet liya tha ... is baar end ne ... really bahut tanha hote h diwa … \n",
      "tum jeeto ya haro hamy tum sy payar hy good luck for next match \n",
      "khuda yaha bhe hai waha bhe hai . har jagah sirf wohi hai . sirf wo . jis rab se tum yakeen ke sath kharray hokay ma … \n",
      "these r some small mistakes which india should avoid .... kutto ko ghee hazam nahi hoti waise bhi . \n",
      "who cares ... ab modi ji he na ... gdp 0 % bhi hoga to bhakto ko koi fark nahi padega ... bas ... vo aur lokpriy h … \n",
      "kya hua nhi bulaaya to koi kanoon hai ki dmk ko aana hi chahiye pata nhi ye bbc kabse pagla gayi hai a … \n",
      "kisi bhi maa ko apna bachcha nakara nhi hota haa . mulyankn to smaj krta haa . \n",
      "and they want kashmir kabi nahi sudrega ee log _ pspk \n",
      "_ faz _ are you that pussy that you can ’ t take that on your ones ( man up bhaiya \n",
      "_ flickk tera baap bhi chaaka hoga na phir to .:thinking_face: khud ki ijjat to h nhi km se km virat ki ijjat to kr le bkl \n",
      "have a happiest birthday sir you are an inspiration a good human with a great gre … \n",
      "army mulk ko doone derahi hai agr yeh martial law lagake in lgon ko mayt ki saza nahi d … \n",
      "rt lovely beautiful movie lovely all songs tu shayer hai mein teri shayeri jiye to … \n",
      "anjana ka problem ye hai ki congress nahi debate mei toh raunak nahi ati hai debate mei trp drop hoti hai \n",
      "oye begum hathi .. pm ke khwaab le rahe they ... arre teri toh b b udh gayee .. ab doh bungalow gurudwara rakab gan … \n",
      "tyjhe teri hi bhasha me jawab to diya ja sakta he me bhi teri behan ko hooker kothewali bol sakta … \n",
      "what an amazing ending of # ranjharanjhakardi :heart_suit::heart_suit: rona agya tha end dekh kr :sad_but_relieved_face::sad_but_relieved_face::sad_but_relieved_face: absolutely outstanding acting by … \n",
      "i am proud of you my country pm narendar modi ji \n",
      "_ shatram arey ye meri didi depressed ho gyi :fearful_face::fearful_face::fearful_face::fearful_face::fearful_face: bechari chlo 5 din me rr to band hoga aur ye tweets kuki mjh … \n",
      "you are too kind muzhe sirf aapne aap se sharminda nahi hoona hain baki jo kuch thoda bahut accha karloon that is gravy on top \n",
      "huhuhuhu :sparkling_heart::sparkling_heart::sparkling_heart::sparkling_heart: thank you my maalala life support system huhuhu di ko maendure lahat ng probs … \n",
      "_ singh jeet ki hardik subhkamnaye bhai \n",
      "_ mehakz mera sa bi fb la unfollow kar diya tha is na :face_with_tears_of_joy::face_with_tears_of_joy: \n",
      "allah ne betiyan dekar mujh par ehsan kiya betiyon ki muhabbat ek baap hi samjh sakta he thanks god \n",
      "thank you ms . mangu amen i will be better soon \n",
      "aaplog jaise broker politician ka dukan ab close hi samje ki lalu ke beta ke through rajsabha aana hai nahi to nave … \n",
      "jo log slam ka jwab b w / s is trah dety hain un se request hai k ap jo bomb bna rhy ho na wo pehly bna lo bad mai furst se jawab de dena \n",
      "rt the “ ram naam satya hai ” moment for the left in india ! \n",
      "one of my favorite photo by the way sham use it as a whats app wallpaper :zany_face: :zany_face: :zany_face: :zany_face: :zany_face: :zany_face: :zany_face: :zany_face: :zany_face: :zany_face: :zany_face: :zany_face: :zany_face: :zany_face: :zany_face: :zany_face: :zany_face: :zany_face: :zany_face: :zany_face: :smiling_face:… \n",
      "ye bjp spokesperson aur modiji ka kauf . ab ye tutiye kar bhi kya sakte . congress ko harane me in spokespersons ka bhi yogdan hai \n",
      "rt @_ fire14 i hope baby kicks a lot tonight :face_with_rolling_eyes::face_with_tears_of_joy::face_with_tears_of_joy: alu e koe moe \n",
      "aaya result desh ka pappu toh fail hai . papu k saatgathbandhan toh fail hai . bua bhateja eka bandhan fail hai . didi … \n",
      "big day for the nation aaj hamare ghar ka society ka bahut bada din hai all the best for next 5 years :folded_hands::folded_hands::folded_hands::folded_hands::folded_hands::folded_hands::folded_hands::folded_hands: \n",
      "this # cosmetology job might be a great fit for you . click the link in our bio to see it and more . prestige beauty a … \n",
      "rt election 2019 1. misa bharti - lost 2. prakash ambedkar - lost 3. prakash raj - lost 4. kanhaiya - lost 5. urmila - lost 6. sha … \n",
      "bachpan maii yeh chuha mera crush tha :face_with_tears_of_joy::red_heart: \n",
      "armaan my b'day pe tum mujhe wish karoge nah .. i want your wish on my special day .. without your wish … \n",
      "rt neki aisi ki dil khush karde ! small or big all good deeds matter . help someone in need feed someone poor help your p … \n",
      "suni sunai py amal kr lijiya maloom ho jy ga g chitta jora paya aray kahi aap wo wala sufaid to nahi … \n",
      "jub tak burayi k khilaf ladoge nahi thab tak tum sahi ya haq wale sabit nahi hoge . haq ushe nahi kahete jo batil ko … \n",
      "citizen's portal part (2) for example aik aam admi jab wapda ki shikayat karta hai yoh osay sub division or divisi … \n",
      "sad that u didn ‘ t come to austria ( maybe nect time i ‘ m waiting \n",
      "@_ ravidubey sir apki 3 dev movise ka kiya hua trailer dekh liya wah kamal trailer hai magar movie nahi kabhi tv pr … \n",
      "yehi toh rahul gandhi samjha rahe the ki 45 years ki highunemployment aaj hai . but people of india cant u … \n",
      "i love yoongi but hoseok ..... wow papi :zany_face: \n",
      "hamid mir sb appreciate bhi kr dety well done pm ik hi likh den we r proud of you ik . i … \n",
      "rt im so proud of you !!!! :green_heart::graduation_cap: i love you .. congratulations to you + all your homies ! \n",
      "rt best wishes for today's laylatulqadar transmission . may allah pak give uh more & more energy :dizzy::dizzy::face_blowing_a_kiss::face_blowing_a_kiss: hopefully ye mehfil bhi tam … \n",
      "aur dharne pe meine teri choti baji ko choda tha . captain safdar ke sale … \n",
      "madam abhi tak samajh me nahi aaya congress ki itani badi haar ka karan aap jayese social media per activ … \n",
      "_ okay frl like is that too much to ask for ? :face_with_rolling_eyes: mfs ain ’ t shit lmao \n",
      "unfollow karne ke phale hi wo suspend ho gai hai :rolling_on_the_floor_laughing::rolling_on_the_floor_laughing::face_with_tears_of_joy: \n",
      "so we must ban onion and garlic :smiling_face_with_smiling_eyes::smiling_face_with_smiling_eyes::smiling_face_with_smiling_eyes: bjp walo ko kam nahi hai ... concept chillate rahenge bina matlab ke . \n",
      "bhakt before election - 45 years or 70 years unemployment rate high aayega to modi hi . after elec … \n",
      "ek ek . mullo ko . kutto ki tarah . bhaga bhaga . ke . maro . mother fucker . ko . eid like . a very . dust and . only . samelee \n",
      "mr khan still what you are doing on twitter as well as in india ? you challenged on twitter on 27th a … \n",
      "is dogle ko kabhi bhi bjp me samil nahi karna chahiye waise to bjp khuda hi samajhadar haiisne gujrat el … \n",
      "rt _ raj _ offl thank you so much ! bro :beaming_face_with_smiling_eyes::beaming_face_with_smiling_eyes: \n",
      "inshallah pakistan will win the coming world cup 2nd time # sarfaraz _ dokha _ nhi _ dyga # wehavewewill \n",
      "we are looking forward to ispe ’ s summer social at the guinness brewery on june 11th from 5-8pm join us for networ … \n",
      "aap sada haste rahen khushal rahen dusron ko bhi khus rakhen good afternoon \n",
      "kunal kamra be like ... main kya mandir ka ghanta hu jo har koi aake baja jata hai \n",
      "_ itna kya bokhla gaye jo yahi bhul gaye ki bharat ki janta ne hi # bjp ko chuna hai hare hai desh k gad … \n"
     ]
    }
   ],
   "source": [
    "translated_sentences=[]\n",
    "for i in range(len(sentences)):\n",
    "  try:\n",
    "    translated_sentences.append(translator.translate(sentences[i],src='hi',dest='en').text)\n",
    "  except:\n",
    "    print(sentences[i])\n"
   ]
  },
  {
   "cell_type": "code",
   "execution_count": 0,
   "metadata": {
    "colab": {
     "base_uri": "https://localhost:8080/",
     "height": 1000
    },
    "colab_type": "code",
    "executionInfo": {
     "elapsed": 1654,
     "status": "ok",
     "timestamp": 1572774375179,
     "user": {
      "displayName": "Abhishek Singh, 4-Yr B Tech, Electrical Engg, IIT (BHU) Varanasi",
      "photoUrl": "https://lh3.googleusercontent.com/a-/AAuE7mBAu6pD-I3Pdn_I1oxZJBB7hudMcmxHG9cW6HOh=s64",
      "userId": "13571043541178143551"
     },
     "user_tz": -330
    },
    "id": "ahfXVXPoqFJ6",
    "outputId": "b2b49186-8877-49b1-a637-b71946dfa7e7"
   },
   "outputs": [
    {
     "data": {
      "text/plain": [
       "['pakistan of\"  ghra tauq he pakistan israel ko tasleem nahein kerta isko palestine kehta have - occupied palestine ',\n",
       " 'motherfucker mulle these\"  mathura I\"  other than dikha tha while mullo ne hindu on iss liye mara ki those\" lasse ki paise mag liye the … ',\n",
       " 'manya pradhan mantri mahoday shriman narendra modi heart pradhanmantri banne plume\"  hardik badhai tahe ticker\"  … ',\n",
       " '_ krishna jcb full trend me travelling\"  passer-by aa ',\n",
       " '_ loksabha I\"  janta sirf modi on vote D\"  passer-by thi without ki one mp or bjp ko without m … ',\n",
       " 'bhosdike yourself\"  pechvade ki shit have rahoge sister fucker ',\n",
       " 'love u bhaijan ...♥♥ father + son .. # India # iambharat # bharatthiseid best pic from entire # promotions ... mashallah … ',\n",
       " 'tumhara pass abh deemagh hai other than islea google on their\"  deemagh banaya lnk\"  hai . each\"  koi tumhari tarh … ',\n",
       " '_ nolo weni ankere o gae this weekend 😂😂😂😂😂 ',\n",
       " '_ aimim lage raho mullo tumhre issi quran faad gyan ki kayal hain world Allah too\"  khus … ',\n",
       " '_ omer _ muhammadpti pakhtoon k haqooq ki jang other than punjab K\"  haqooq ki jung pak … ',\n",
       " 'these\"  sale have state\"  K\"  ever sage other than lnk\"  sakte these\"  ratter\"  hain inke sath kadi se kadi kanun … ',\n",
       " 'saf baby (( i ’ m sorry i wasn ’ t online i hope you ’ re sleeping well though i love U\"  ',\n",
       " 'real life K\"  log sneak\"  diye hain mene already jo snakes thy yet internet k chorne hain ... i\\'m sad for no reason solmon ((( ',\n",
       " 'mohsin dawartweets daikho yet kuch kha ker mar jao bayghayrat insantum yet ali wazir harami lnk\"  . pakistan … ',\n",
       " 'kuch media channel dikh rahe hai ki inke upar kai prakaar K\"  criminal cases hai shame\"  on this type of media channel ',\n",
       " 'abe mother fucker .. nhi malum to ammi mat chuda bsdk .. grahm stains on dara singh ne mara tha adivasiy … ',\n",
       " '_ well chara sneak\"  K\"  chele this news is a year old ... ',\n",
       " 'twitter K\"  baghair their\"  roza mumkin other than hota ? their\"  chutiyaap dusron per thopna band karo bhai ! ',\n",
       " 'oh haha the soldier is reading american gods hardy each\"  each\"  thanks for reminding everyone of your other clusterfuck ',\n",
       " 'mp me govt kamalnath ki h ... wese ace or video viral h jisme aapke shantidut brother ace dukandar … ',\n",
       " 'dev da tmr new movie song ami tmk valobasi i really loved ❤😘 a lot 😍😘☺❤💓 ',\n",
       " 'abe bc kya le jayenge these\"  toh batah actually\"  😜 # pakvwi babaji of\"  thullu 😂 ',\n",
       " 'i hope i see my\"  baby this weekend but highly doubt it \\U0001f97a ugh ',\n",
       " 'teri old lady of\"  sakinaka tujhe bhadi chinta lnk\"  passer-by today yet 2014 se pehle bhadve log bethe the tab you dudh … ',\n",
       " 'isko zammene chayiye omnibus\"  dogma hai these\"  ever akhilesh ki tareef karta hai yet ever rahul I\"  pm dikh … ',\n",
       " 'jai sri Ram\"  jai sri krishna jai bajrang spike\"  jai bholenath !!! we\"  log bolne lage to rukenge other than … ',\n",
       " '_ rao hindi tumhari bass ki other than . other than seekh paoge . darte lnk\"  somewhere or other hindi I\"  marks have nahi … ',\n",
       " 'hamyat you donkey khor corrupt ganje ki too\"  kerte thy kia ukhar lia unhon ne ....... lanat tere on patwari ',\n",
       " 'rt _ io plume\"  sale today # nxttakeoverxxv !! it ’ s my entrance mask . quality is very very nice 👍🏻 even back side too . coming soon … ',\n",
       " '_ ch1 pakeeza language of\"  istemaal you koi nooni bhayoon se poochhay youthie pe aewen e criticism karte hain . these\"  too\"  sahb ',\n",
       " '_ gulwish other than those\" is news ko defend kerne ki koshesh ker rhe hain ',\n",
       " 'rt _ murali noone cares we will boycott world cup till # nesamani recovers and his attacker krishnamurthy is arreste … ',\n",
       " '_ ahmad884 1971 😂🤣🤣 lulli hoti other than khadi baten karalo badi badi ',\n",
       " 'rt dho diya ashk-e-nadamat ne gunahon on meray tar lnk\"  daman to baare paak daman lnk\"  gaya . ~ momin workings\"  momin ',\n",
       " 'son nafrat yourself\"  jaise jahil ( illiterate ) failate hain pata nhi kon see phd travelling\"  rhi h … ',\n",
       " 'woods of my favorites too . another one at the beginning of the movie . chhoti-chhoti chitrayi yaadein … ',\n",
       " '@_ mansoor _ ali tera nam taray ander ki jalan btaa raha hai . sari world within oil price … ',\n",
       " '. jai bheem . . great news for bahujan kumbkarnaas becoz of whom this is in happening . this is the kick st … ',\n",
       " 'don\"  ’ t u love when the one person that gave a fuck about u is dead -) ',\n",
       " '_ zaini _ en ki zalalat ki daastano se tareekh K\"  aoraaq bhare pare hai behna these\"  so other than world … ',\n",
       " '_ flavour\"  yourself\"  india wale sari yahi sochti lnk\"  ki pakistan wale atankistan h plume\"  nhi kuch have log lagti h thik pakistani bhuta achi h ',\n",
       " 'rohit brother i am your big fan want to meet U\"  ',\n",
       " 'ma lanat bhejta hn tun pe or tmare harami leader niazi over ',\n",
       " '_ dont _ slay 🤣🤣🤣🤣🤣 inta seriously other than leneka segments ko segments are pure fun 80% nonsense and only cast makes sense ',\n",
       " 'dog bhonkne lga bhaiyo firse ....... sale gale I\"  patt … ',\n",
       " 'world cup within man other than khusre gae hein who\"  larna other than twitter per k sath talian bajana jaante hein ',\n",
       " 'bhaijaan heart please within apka bahot bahot bada fan hoon please Mary\"  jindagi bachalijiye please mein … ',\n",
       " \"the scene where sahil proposed to vedika ... that dialogue was magical indeed coz i haven't heard that … \",\n",
       " 'a bhauji tohra of\"  haal ba you kahe ludhak gailu .... eka matlab akhilesh bha … ',\n",
       " 'scratch that . kfc K\"  too\"  auqaat other than rahee after today\\'s defeat - pesay drown gayee sarfi K\"  chakaar within . andaay … —… ',\n",
       " 'rt # dsscampaignagainstdrugabuse papa heart aj my\"  p hd entrance exam tha ap heart ki rehmt se bahut acha lnk\"  gy … ',\n",
       " 'to all muslim sub e qadar mubarak 💓💓💓 ',\n",
       " '_ rj kai bar product khrab nhi hota logo ki choice khrab hoti hai product ki … ',\n",
       " 'aaiye aapka intezaar tha .... damn !!!!! what khoobsurat hai these\"  ladka . mashallah 😘😘😘 can\\'t wait for new season … ',\n",
       " 'rt _ zeeshan09 love u bhaijan ... father + son .. # India # iambharat best pic from entire # promotions ... mashallah 👌♥🔥 ',\n",
       " '_ saheb _ to tera jat talbani jess harqate kyu tax tahe masum logo on kyu marta tab tera ammi wherever mar jate have … ',\n",
       " 'mazhab K\"  title plume\"  election jeetna koi bada kaarnama other than hota ace message to and ',\n",
       " '_ dhol __ seriously one of the best post i have seen . bravo nd respect ',\n",
       " 'rt may allah bless us all with strong imaan taqwa piety a pure heart and good manners . 🌹 or allah give I\"  eyes that se … ',\n",
       " 'chiller man giving big jhtka # nsecoloscam has made it a laughing stock ',\n",
       " \"rt u two things for ppl u adore because u just want to . it's not a transaction . it's not give & take . u two because it's what u r su … \",\n",
       " 'apne state\"  K\"  logo on thug tax chala sanjeev kapoor world cup dekne ',\n",
       " 'yet these\"  btaega . isse pucho tere jiyne b mla hai usme se gina hindu mla kaunsa hai teri Muslim awaadi wale gaao … ',\n",
       " '_ haaa no lie i think you should buy a new pair bc i haven ’ t put these shits on the charger in a minute 😂 ',\n",
       " 'brother yeah glasses wali cuss\"  kon hai who\"  appki each\"  pic within hota hai ...? ',\n",
       " 'rt mumta bano mhatma ghandhi ki smadhi over nhi jayegi kyu ? vhan ghandhi heart K\"  akhi … ',\n",
       " 'india me to modi heart aaane K\"  after muslims sa … ',\n",
       " 'boy kiya world hy tmhri ✴❔❓⁉ girl 17❗😏 boy be mine . i love U\"  😗❤💓 girl i\\'m taken 💏 boy actually\"  tmhri umer hi … ',\n",
       " '_ here _ ali _ 9 btw one jhootay maseeha on maseeha cuss\"  leny sy qafir other than lnk\"  jata koi .. k … ',\n",
       " 'mother fucker hai sala sale lo jyada arrogance hai .. kuch daytime ruk sale tera arrogance dur lnk\"  jayega .. ',\n",
       " '_ pathan _ 14 ikk toh government\"  job ni D\"  rhi or upper se she india K\"  log kaam karna other than chahat … ',\n",
       " 'han chara ghotale within too\"  to laloo ne kitney have gavahon ki maut K\"  ghat utar diya that ',\n",
       " '🏵️ good morning papa heart plz bless I\"  more service sumiran parmarth of\"  wool bakhshna heart dhan dhan sa … ',\n",
       " '_ qau pakistani girls photo without pakistan of\"  karz ada karo pakistani girls for sparkler\"  mandi within bata two karz … ',\n",
       " '_ boi _ kdo most unpractical and cool sword i ’ ve seen ',\n",
       " 'journals k bare I\"  . bt ki isne jbhi isko these\"  cripption ka certificate dia gaya h ',\n",
       " 'sir # tranquil\"  _ dhawan have kohinoor of study iq have is the best teacher of current aff … ',\n",
       " 'last checked mp I\"  congress ki government\"  hai and law and order is a state subject . ',\n",
       " 'yeah who\"  you we\"  roza kharaab karay hain without these\"  uss of\"  notice hay lol . Allah you on yet you ki family … ',\n",
       " 'state\"  K\"  gaddaro K\"  liye 5 year\"  bahut painful hoge kyoki mota brother is now home minister of india 🇮🇳 💪😜😜 ',\n",
       " '🌺 ekto you log 😉 muskurate bhut lnk\"  ...... or sharmate 😆 too\"  bhut lnk\"  ..... ticker\"  to karta have aaplogon on eid pr bolaun ..… ',\n",
       " 'nice joke tmhare ghaddaron on stick janay waala hai landay of\"  istimal maal .. pakra hai ussay … ',\n",
       " 'antar atma on bech diya hain while up until <something> beijjat karke bhagaya other than jata tab up until <something> other than hilega lekin rahe … ',\n",
       " 'workings\"  sahib\"  apko vote diya taky ap pm bany or alhamdulillah ap bany bi pm 😘😘😘 magar workings\"  sahib\"  yet to gabraht lnk\"  passer-by … ',\n",
       " 'sir mere a / c se 22/04/2019 ko rs1180 /= deduct lnk\"  gaya hai kekin branch office kahta ki we other than janta ki k … ',\n",
       " '@__ amrann U\"  can ’ t even be nice for a second smh 😓 salaam\"  my\"  love 😩 ',\n",
       " 'aapko bahut bahut badhai lnk\"  amitshah heart prospect karte hain ki you too\"  modi heart ki tarah have hama … ',\n",
       " 'it would bring me great joy to hear your rendition of des ’ ree ’ s “ U\"  gotta lnk\"  ”. just sayin . xoxo ',\n",
       " 'my\"  khayal have apki nazron se those\" document nehein guzra jis I\"  apke papa ne bahir janey keley mushar … ',\n",
       " 'rt no one no one at all jane the virgin narrator i knoow ! straight out of a telenovela right ????? ',\n",
       " 'brother plz the infinite kre # India acchi movie lnk\"  qki # dedepyarde jitna … ',\n",
       " 'rt wishing my bro a very happy birthday . many more hits on the way together 🙏😊 thankyou for giving music to so … ',\n",
       " 'rt apki aik gawahi ne mannat on pagal saabit kerdia hai ... watch # cheekh tonight at 1000 pm only on # arydigital ',\n",
       " 'just listened to my yesterday\"  jojo siwa song ............. i am a fan lol ',\n",
       " 'sara masla have have bande ki wajh se hai .. yehi fasad ki jar hai ... have on team nhe chalane severe ... in palyers of\"  aps men hasd hai ',\n",
       " '_ sk _ chetan _ adarsh abe chutiye tera criminal jaisa ghatiya publicity stunt to nhi kr rha h n who\"  unneces … ',\n",
       " '_ 613 kung hnd on pa checheck words\"  of\"  dm on mukha ni jungkooky hnd on maalala without ikaw to hahaha ',\n",
       " 'baby you did an amazing job today .. i hope you ’ re feeling good .. i wish i would be at your hotel room wating for yo … ',\n",
       " 'ticker\"  K\"  up krny on ghalib khyal acha ha .... what a myth 😂 ',\n",
       " 'Allah jise chahe izaat D\"  r jise chahey zilat dt dua ha Allah nawaz shareef on that\"  K\"  khandan on r u … ',\n",
       " 'rt # ngk good one ... kudos to the heroes _ offl ',\n",
       " 'unerring\"  hoga sayad tabhi sirf appki channel over these\"  dikh raha hai warna kuch bikav media … ',\n",
       " '_ ez1403 ja without pakistani 🐖 pig + dukkar + dog + suvar ki mix aulad 😂😂😝😝😆😆😛😛🤣🤣😖😖😆😆😆 ',\n",
       " 'so barish se dosti a66i nahi maaraz tere khud of\"  gar gutter\"  of\"  h ku6 to khyal tax tera intzar each\"  koi other than karega … ',\n",
       " 'what the fuck does this mean their\"  neeche of\"  band karke rakhna jyada kholne ki jaroorat hani ??… ',\n",
       " 'we\"  you ace ayena ha you dikhaya gya dagh chahru of\"  jis ku tight laga samna sa hat jay .... we\"  love pak army 👍💪💪 ',\n",
       " 'happy birthday to U\"  brother . i pray to baba vishwanath for your good health and bright future .… ',\n",
       " 'good morning pita heart thanks for the new day pls bless I\"  service sumrin and parmarth bakso ji … ',\n",
       " '_ official superbbb voice arjun heart u have 🤗 realy its mean it so much ❤ i salute yuh .… ',\n",
       " 'absolutely right but in the history of independent india inclusion & secularism were talked about but nev … ',\n",
       " \"thicccccccc ! xd ( i can confirm that did this for a dare . i'm one of the witness hahaha .) \",\n",
       " 'congrats sir .... lucknow ki shaan bada di aapne ... veerta yet shaurya ki missal yet you pesh kariyega ... jai hind ',\n",
       " 'ha ha ha . cow mutr peeke we have won all wars against you guys . you should st … ',\n",
       " '',\n",
       " 'modi K\"  jitne of\"  asar vipaksh over have other than padosiyo over too\"  lnk\"  hai . bokhla gaye sare K\"  sare . modi akela … ',\n",
       " 'bholy bhayaa . ufffff ticker\"  winning\"  liya ap ne . love U\"  imran brother . mind blowing ap ki acting hai . alla … ',\n",
       " '_ r4y pori dunya 2019 within or yourself\"  log actually\"  too\"  1971 main 😂😂😂😂 growup yet one on bhaija to sath khud aa jana ',\n",
       " 'rt ne aate have half century kr di 😂 thnku brother itne like K\"  liye 😁 ',\n",
       " 'jansankhya yet atikraman state\"  of\"  sabse bada samasya hai beat plastic pollution jai hind ',\n",
       " 'obc bhikhari other than hai yet bhenchod bheemte obc title of\"  account bnakar apni old lady chuda rah … ',\n",
       " '_ fizakhan # pakistani girls photo without pakistan of\"  karz ada karo pakistani girls for sparkler\"  mandi within bata two … ',\n",
       " '_ pti janab thank U\"  very much for your short break place )) may allah protect you & your family … ',\n",
       " '_ org chalo g bc inhi c … ',\n",
       " '👌 congratulations 👌 welkin\"  brother you on phir se 5 year\"  ➕ of\"  contract ✔ mill gaya # keepitup note - sorry … ',\n",
       " 'husain haqqani sub ap time nikal k mar q other than jatay have dharti py bojh have lnk\"  yourself\"  ratter\"  besharam . ',\n",
       " 'rt nothing like a fresh hit of pepsi on a day like today 👌 ',\n",
       " '_ without pehle you their\"  photo dp rak phir bark tax dog ki tarah travelling\"  bhag yaha bandhar kahika ',\n",
       " 'sir need ur blessing on my 9 wedding anniversary myself my wife sonia pranam U\"  you of\"  ashirwad b … ',\n",
       " '_ cnbc 🤣🤣🤣🤣🤣🤣 aka sir ne to cnbc K\"  yesterday\"  bol diya tha ',\n",
       " 'nxt five years main india change hone wala hai kyoki modi government\"  bht bda bdlav krne wali hai ... these\"  within ni hmare modi sir of\"  kehna hai ',\n",
       " 'uff kya acting have bholey heart apki !!! feat\"  krdya . aisa koi actor have nai abtk who\"  have charactr K\"  concomitant … ',\n",
       " 'raand congress se v randwa rjd se buri tarah se haara vote denewale on sadhuwad ',\n",
       " 'rt _ dvn kalank within theatres now # zafar you of\"  hain ace character i loved playing in this epic love story no spoilers please ',\n",
       " 'bahut bahut badhai you jaise logo K\"  karan have modi heart on majboori mili hai . isi tarah se … ',\n",
       " 'sasty or ghatya nashy tax K\"  these\"  suwar samjhty have trah ki bakwas tax K\"  humein sasti publicity mill jaegi ',\n",
       " 'rt proud to have been part of this brilliant commercial released during 1996 wc time . great production team that include … ',\n",
       " 'haha overrated kisko bolte hain chuuuu pehle these\"  pata kar bc ata pata kuchh other than chale aate hain … ',\n",
       " 'pogo launches all new show kalari-kids love the enthusiasm of my little ones when they saw # chhotabheem dancing an … ',\n",
       " '_ i _ r _ K\"  _ i pakistani to so have 1992 ki rote rhte hain uss time to england ne 74 over tax diya tha all-out . iss times\"  too\"  wohi ummeed hai 😂😂 ',\n",
       " 'i wanted to see you in loksabha it\\'s ok kanhaiya heart vichaar badlenge state\"  badlega vidhyarthi … ',\n",
       " 'wow yourself\"  red plain saree pahen without bahut cute lagegi . red plain saree with sleeveless blouse . will look so awasome ',\n",
       " 'chaa .. can ihave any cheap ace ? cuz ak it\\'s my\"  fav weapon .. if u woods we can battle .. if i win u give me … ',\n",
       " 'day by day this slogan has proven to be true afghani bhagao mulk bachao ! ',\n",
       " 'those\" election K\"  liye badha K\"  btaya tha accpt this is bar election commission or media on too\"  bewakoof bnaya h janta K\"  sath ',\n",
       " 'he is ace bemaar bhikhari dog why was he dying dub his stupid movies in hindi no wonder the people of tn … ',\n",
       " 'abp news 5 year\"  se mon other than bhara congress on koste question karte yet tweet duwara mazaak urane aare … ',\n",
       " 'rt evm hack of\"  bahana nhi chla paye 😜 yet back these\"  saath nikli slips ka le aaye back too\"  lnk\"  gyi bye bye 👋👋 😝😜😂😂 # evmscandal # evm … ',\n",
       " 'rt dhan dhan satguru tera have aasra papa g good morning pita g # pledgeagainstcorruption … ',\n",
       " 'manmohan singh being considered for party presidents post ace chuppi hazaar baton se behtar hai usse badhiya udaharan other than lnk\"  sakta ',\n",
       " 'one india sabka saath sabka vikas sabka visvas ',\n",
       " '__ ind prothom kolkata campaigncalling media sangbad biswa bangla etc eisob chotokhato channel gulo dekho . sudhu jai sri Ram\"  cholche . ',\n",
       " '_ rohatgi tere old lady father ne bohat badhiya sikhaya hai certificate batna sabko ki who kiska chamcha … ',\n",
       " 'i miss them we were a craze .. we used for them .. omnibus\"  koi kuch galat bolde .. old memories ',\n",
       " '_ for _ pm mumtaz bano hindu on threat\"  D\"  passer-by hai . bengal I\"  have nai pure state\"  I\"  hindu of\"  blood\"  steamy\"  lnk\"  chuka … ',\n",
       " 'i love u so much 😭♥️ and theres absolutely nothing to be insecure about bc ur unique in ur own way ok u … ',\n",
       " 'ap beti hein apko beshak apny father ki recollection severe hoo heart Allah apko hosla dy pr certainly apka father ace … ',\n",
       " 'thank you all for supporting thank U\"  . thank U\"  !!! strongwitheliza samanthajayz angelmartin00 galiya _ s … ',\n",
       " '_ rathee han to gaand K\"  keede cow meat kliye pehle se bnde convicted h these\"  log yet jb ban h to teri old lady on khilane jaa rha tha ',\n",
       " 'it ’ s proud moment for ganjam that more than 83 students of odisha template\"  vidyalaya of ganjam scored more than 90%… ',\n",
       " '# pakvwi 92 I\"  wi 10 wickets se victory tha ajj 7 wickets se winning\"  gya world cup we\"  hai .... these\"  wali chawle koi without m … ',\n",
       " 'rt _ engr sir merey lye bahut khoshi of\"  maqam hoga agr ap ne mujy reply kya . love U\"  sir ❤ ',\n",
       " 'i love U\"  \\'3000\\' i said \\' ace night\"  of\"  5000 lungi \\' she replied . # newgfkitalsshme ',\n",
       " 'pr these\"  oopr who\"  btaya those\" to surgery ni h without 😂 ',\n",
       " 'very nice tamanna tamanna very nice i like you ',\n",
       " 'apko deputy cm se minister chief kb bnaya ja rhaa h we r waiting ',\n",
       " '_ vbk78 tera pichwada hai sister fucker 🤣🤣 jb se modi heart jeete hai jali padi hai 🤣 tabse pichwaade ki jagah muh se hag rahe lnk\"  ',\n",
       " 'shahid bahi wahab riaz ki bowling mein experience other than sirf wide yet no balls have hain ',\n",
       " '_ isko nikal dia tha world cup 2011 I\"  sayad ace semi-dick call p aya bolta h india england and australia ni ayga semifinal m ',\n",
       " 'rt # pledgeagainstcorruption good afternoon guru heart . bless us and give us power to two more and more service s … ',\n",
       " 'it ’ s so nice seeing the glow-up of people after may-hem 😍 congrats guys 👌🏻 wohooo !!! bbye tired year !!! ',\n",
       " 'jitni media ne bjp K\"  liye prachar ki hai utna to khud bjp ne too\"  bjp K\"  liye other than surgical strike … ',\n",
       " 'rt _ in siasat I\"  rawadari hai samajhta hai . those\" roza to other than rahta iftari sam … ',\n",
       " '_ patrag sub she yesterday\"  tere gahr I\"  kanon lago kr kiyo K\"  teri faimly pr tera kabo other than he … ',\n",
       " '_ india arjun heart 🙏🌹 jai punrasar baba ki jai bikaner rajasthan … ',\n",
       " 'doc saab bahut have badhiya video banaya andhere se much better hai ',\n",
       " 'sari shairi tassali yet dilasay pay hi munhasir hoti hai .. warna shairi why karay koi suppose pas lnk\"  kuch 😜 ',\n",
       " '_ om gandhi on we\"  isliye rastrapita mante hai kyu ki those\" ahinsa vadi the these\"  other than hote to aja … ',\n",
       " 'if i am not wrong you loved soty 2 naa ??😹😹 ',\n",
       " 'world we these\"  other than aaraha ki why halat we sudhaar other than lnk\"  raha hai why karyawahi other than ki ja passer-by roads per the … ',\n",
       " 'usko toh kejriwal ne khud reject tax diya tha . education minister toh kejriwal khud bana sakta tha ? raj … ',\n",
       " '_ subscription\"  make a gentle and nice relation with someone .... life I\"  one K\"  sahare ki zarort parti ha ',\n",
       " '_ rahiye sex is cool but after nikah ose phele kise on hath laga ne of\"  too\"  chase nai hai hume ',\n",
       " 'sub bakwas ha these\"  apni harkaton se baz nhi ayen ge one without one fault on jawaz bana kr these\"  light band ra … ',\n",
       " 'x cm shila dixet or under karne wale the feku yourself\"  annaji on b dhokha D\"  diya ',\n",
       " 'lekin itne kharab result se kuta bauna harami handsome suvar singh etc of\"  ira\"  … ',\n",
       " 'rt # valuetime _ valuelife pujya guru heart kehte h ki who\"  insan samya ki kader karte h alasya … ',\n",
       " 'are bsdkk ... celestial pole\"  tyagi K\"  bare within kitni blow muslim aatankwad bola tune ... marbles\"  hatyakand K\"  bad teri zu … ',\n",
       " '_ India of\"  musalman hamesha secular govt K\"  liye vote karta raha hai karta rahega . haar winning\"  1 sikke K\"  d … ',\n",
       " 'congress party ne pehle se feku adorer\"  media of\"  agenda world liya hote to these\"  chunav nhi hartefeku adorer\"  media ne fe … ',\n",
       " 'ghoda ghaans se dosti tax lega to khayega kya .. delhi sarkaar home ministry public ki na … ',\n",
       " 'rt for real tho we\"  ’ re trying to pay off those loans . introducing whopper loans – make a purchase through the bk app for a cha … ',\n",
       " 'rt _ ph watching # btsatwembley is making I\"  miss them more . sighhh i ’ m really hoping for bts in ph \\U0001f97a😭💜 we miss U\"  everyday guys … ',\n",
       " 'how come he was the first man . what about earlier incidents .. yet inke title se cake\"  pel raha hai ... shame on you ',\n",
       " 'need is branch ke students ki hai jisase digiral india par force diya ja sake yet corruption too\"  without lnk\"  .... we shr … ',\n",
       " 'you pichla 5 year\"  se media of\"  ghatna kramank on rewind karke dekhiye jabbi vipaksh ne ruling party K\"  neeti K\"  times\"  … ',\n",
       " 'aur bakwas karma yet tv per galat tidings\"  dena to kam lnk\"  instead each congressi neta yet tax … ',\n",
       " 'desh aaghe after raha hai ye religion ke title over bakwas karna baand karo .. yet tumhare you bhaiyon on too\"  shikhao .. ',\n",
       " 'rt _ workings\"  i\\'m very sad to hear about veeruji passing away i had the pleasure & privilege of working with veeruji he was an amazing over … ',\n",
       " 'rt * I\"  as a father * son - papa today within night study K\"  liye jau ga I\"  - many baje son - 10 baje up until <something> I\"  - haan … ',\n",
       " '_ mohad we\"  log on koe dukh nhi hay tumko hay to pakistan ja \\U0001f928\\U0001f928\\U0001f928\\U0001f928\\U0001f928\\U0001f928\\U0001f928\\U0001f928 ',\n",
       " 'i know it\\'s so late for me to comment on this tweet but i just wanna address\"  i really miss U\"  and your n … ',\n",
       " 'mp m kamalnath government on vote diye the ki employment milega pr 6 months lnk\"  gye ghanta kuch ni lnk\"  without aagey kuch hoga ',\n",
       " '_ rashid krishna tab tha while tera Allah peda too\"  other than hua … ',\n",
       " 'show acha chalna chahiye people dont care kisko chance diya kisko nhi who\"  within h kisliye hai entertainment jyada krt … ',\n",
       " 'rt _ team lathi goli ki government\"  nhi chalegi nhi chalegi ',\n",
       " 'travelling\"  lnk\"  each\"  gaya yet to sudhar ja .. ki back se uncle on harwayega . tere jeson ki wajah s … ',\n",
       " '_ 777 _ pak … ',\n",
       " '_ pious hopes\"  we\"  eradicate untouchability & poverty is a sin for life . ',\n",
       " '_ abu dog ki tarah bhonkta have jb K\"  these\"  farishta k cousin of\"  those\" attitude have who\"  tere jese … ',\n",
       " 'respected pm modi jiii hamare odisha ka educational system of\"  daityo aparajita sadangi mam on dene K\"  … ',\n",
       " 'kab K\"  uth gye flower garden\"  K\"  karobar too\"  travelling\"  pare fed the dogs did the few dishes left from last night laundry going on 🤗 ',\n",
       " 'rt # ff have a great weekend ! _ popat _ panju … ',\n",
       " 'modi sneak\"  on pta tha K\"  evm set lnk\"  chuki h yet election commission ko inform kr diya gaya h K\"  hme 300 seat chahiye e … ',\n",
       " 'sir congratulations on your marvellous victory but it seems that no one is ever bothered about sev … ',\n",
       " 'make sure he becomes the bootlicker exactly the way you are . Allah apke saye se have masoom on bachaye . ameen ! ',\n",
       " 'yesterday\"  usko bulao jisne wherever tha notebandi failed\"  hui to ap I\"  beech chaurahe plume\"  phansi plume\"  latka dena 😁 ',\n",
       " 'm ạ nh m ẽ l ê n nh é em heart á i stay strong lalisa . we always love you ❤️. # alwaysstaywithlalisa ',\n",
       " 'hamsab milkar dhundhe that\"  teesre on who\"  Muslim I\"  jake hindu bnke inferno\"  lagata or hindu I\"  jake Muslim bnke . yet either … ',\n",
       " 'chutiye K\"  lodo mna kisne kiya hai orgasm karne on .... karo without bhosdi walo suppose orgasm nhi lnk\"  … ',\n",
       " 'we\"  will miss the beautiful voice of # amjadsabrishaheed Allah un K\"  darjaat buland far … ',\n",
       " 'harekrishna 2024 ke parliament election I\"  hg modi on koe passage\"  other than degaphir v modi have jitega son jara passage\"  D\"  K\"  dekh to ? ',\n",
       " 'appne too ever one shahid K\"  family on ever bulaya other than oath\"  K\"  liye ? kya comparison tax rahe … ',\n",
       " \"happiest b'day . thanku bade bhaiya for motivating and making great content for us . \",\n",
       " 'rt _ loyal _ guy Allah apko kushiyaan naseeb farmai brother jan duaon I\"  recollection rkhna ',\n",
       " 'correct these\"  chatukar good meadiagovt . K\"  always one words\"  other than sunta boycott hona chahiy magar these\"  … ',\n",
       " 'one ki too\"  hatya hona bahut galat hai per ashraf heart while koi hindu ki maut hoti hai to you tweet ku other than … ',\n",
       " '_ megha you stinking K\"  liye kayo tayar hui while ki valiant\"  se you bahut payar karti hai koi without koi words\"  … ',\n",
       " 'teri old lady ki pussy behen K\"  lode teri gand within jor h to 15 minute K\"  liye mill le tujhe teri hooker old lady K\"  … ',\n",
       " 'modi heart apko fr ace times\"  pm banne pr congrats hamare state\"  K\"  logo ne who\"  these\"  visvas banaya hai apke uper is visvas ko … ',\n",
       " 'brother .. modi heart on jeetna have tha .. but now early waiting this epic advrtsmnt series .. mauka mauka … ',\n",
       " 'she okkkk loveee U\"  are one of my most favourite persons here ♥️ ',\n",
       " 'sir we allahabad ( ald ) se sirathu (… ',\n",
       " 'rubika filthy to bata who\"  within on matri banya h bjp ne o kya bayan deya h sali haramkhor terei fuck … ',\n",
       " 'ravi shankar heart namaskar waise to sabhi jatiyo ne aapko vote diya kuchh ne other than diya parantu kayasth ne 1… ',\n",
       " 'jini zindgi guzri ace jini baki ace sari ty lant beshumar . ',\n",
       " 'if you don\"  ’ t like zhoom barabar jhoom ( movie ) then we can not be friends . ',\n",
       " 'are have wajah se khatana we bahut jam kah gaya tha waha police\"  unerring\"  se work other than tax passer-by th … ',\n",
       " 'today is a bday of my\"  murshid within Allah give them great health that they can more work muslim ummah or Allah unka s … ',\n",
       " 'rt 12 listen bhenchod U\"  ’ re such ace pyaara bachha im so fucking happy you finally have a gf omg i love U\"  yet ill text U\"  when … ',\n",
       " 'sir kya apka sharkar aane K\"  bad too\"  Muslim safe nhi hain madhay pardesh I\"  . 23may on who\"  video ayah\"  … ',\n",
       " 'bjp is now garibo ki party who thinks for everyone and congress is now \\' one ki too\"  jamboree\"  other than \\' who thinks only for self ',\n",
       " 'rt Mary\"  life mae aik ap or apa K\"  brday of\"  daytime so hota hae js of\"  mujae bht intazar hota ha bcz … ',\n",
       " 'naa we\"  bhulte have khuda on naa unhko who\"  hume as allah s gift mile have unko bhulne wali galiya we\"  sneak\"  aaye piche ',\n",
       " 'tumhari marzi chhor two twitter yehi suppose facebook hota without toh yourself\"  log chhorne of\"  sochte up until <something> nhi p … ',\n",
       " 'swami heart karmo of\"  fal jaroor milta hai chinta without kare . she acche karm kiye their\"  dha … ',\n",
       " 'no bro ... aghar tera playfellow hota team ma to phir possible tha ... umer akmal p ',\n",
       " '_ bear _ krishna zoo bear brother .... tumara each\"  jagah se cut gaya hai .... keep calm and start preparing for 2024... good kismat\"  👍 ',\n",
       " '_ bam so happy that uncle is fine ♥ hamare bb K\"  pita heart hey aaise have thodi bimar rehete strong hey uncle 😍 ',\n",
       " 'looks great & stays that way # jatayuplywood-visvas ka prateek # plywood # wood # plywoodfurniture # woodworking … ',\n",
       " 'yourself\"  logo ki terah pakistam k logo of\"  the wherewithal chori ker K\"  harap ker k baher flat or mehal other than khareeday … ',\n",
       " 'jio ki wajah see log ki waat lgi padi hai choro ... yet their\"  profit customer of\"  the wherewithal chura K\"  nikal rhe lnk\"  ..... ghatiya … ',\n",
       " 'to be construed as ... yourself\"  sabne modi on vote kyu diya ...😨 tumhe Mary\"  naukri ki koi chinta other than ? meri … ',\n",
       " 'haha bombed on trees wheres we did it in broad day light . ask you commanders jo that\"  waqat … ',\n",
       " 'rt one last reporting trip with _ runwal to pick strawberries (@ mendozamartha you were right — this is fun !) can ’ t b … ',\n",
       " 'rt exclusive censor reports of # bharat is world class . words like movie of the year best performance sunney on miley ev … ',\n",
       " 'rt _ m i address\"  gaya they hear gautam buddha ! ',\n",
       " 'rt sarfraz workings\"  you hamare haqeeqi hero lnk\"  you ne pakistan K\"  leye their\"  gar blow dos … ',\n",
       " 'aiiiii my\"  chhotu bacha 💙💙 love U\"  and adore you so much mini 💙 U\"  seem distant a few weeks back but … ',\n",
       " 'dede love D\"  is super hit . wht ever U\"  want to bark . 12th movie in to 100 cr club ! ',\n",
       " 'dear nakko thank you for being the best part of my life . thank you for always there for I\"  i know U\"  love to hug … ',\n",
       " '_ n _ o to meet the love of my life dear ',\n",
       " 'pain yako mar jao apis I\"  lar lar K\"  those\" kuty K\"  bachy hamre enemy\"  you chata have these\"  K\"  these\"  larn apis … ',\n",
       " 'these\"  state\"  within tadi plume\"  too\"  home minister banta hai .... yet ace pm … ',\n",
       " 'you too\"  laat khayeg ace daytime .. yet election aane waala hain .. sudhar jaa .. other than to yet to teri ass mein … ',\n",
       " 'wow .... brother you either bahut ache lagte lnk\"  pls you either se request hai shaadi tax lo very nice coupl … ',\n",
       " 'rt # welfarebydssvolunteers dhan dhan satguru tera have aasra good morning dear papa heart beti of\"  kaam shuru … ',\n",
       " 'ki rightwingers ne itni li hae ki bechare of\"  ira\"  jayaz hae .... frustrated soul 😂😂😂 ',\n",
       " '_ bc like karke chodh D\"  ',\n",
       " 'modi heart today utthey modi heart ne signature karey modi heart ne today saffed kurta pyjama pehna again gonna b sick of this … ',\n",
       " 'bhale teri English thori kachi ha per we\"  are really proud of you bro # sarfarazahmed ❤️ ',\n",
       " '_ warriors _ bangesh _ umair96 _ 25 _ guy029 _ 2109 … ',\n",
       " 'rt - bjp on vote on muslim mahilaon n purushon ne diye jinko yojnaon of\"  fayda milaya modi … ',\n",
       " 'because hind isnt indic . vande mataram is better though . but jai sri Ram\"  is another emotion . ',\n",
       " '_ says han without .. ghr m nae tha sb on pehly 😂 so best escape point tha ',\n",
       " 'arey bhau iss bar budget kaam hain without 😂 lonavla se direct goregaon filmcity mein sent\"  laga hain 😅 ',\n",
       " '_ well done sabir brother bilkul theak kha app without hamian pakistan main app kasay have anker chaiya gin\"  of\"  … ',\n",
       " \"_ k i miss youuu 😭 and i know you'll see this later kraaa but ok but i miss youuuu 😭 \",\n",
       " 'bahut bahut subhkamna ...@ narendramodi sir ... we\"  yuva on apse yahi ummid hai ki ap humare state\"  K\"  ujjaw … ',\n",
       " 'rahul heart aapka bahut bahut dhanay wad . you congres precident hai . you bahut mehanat kiye . good per you … ',\n",
       " 'rassi water\"  gayi plume\"  wool other than gayi evm plume\"  jor other than chala to patrakar plume\"  K\"  kapde utaro kuch to karna hai … ',\n",
       " 'so true yaaaar . what a load of disappointment this country has turned out to be 😞 and these\"  aisi ch … ',\n",
       " 'his special appeal is to defeat bjp ! not giving anything like hopescheme etc . fucker kya kam hai state\"  within . hain 🙏 ',\n",
       " 'rt _ kaoje _ hmb __ _ tiy _ bie _ abdallah0 ______ i disagree tunda ba money rituals z … ',\n",
       " 'sport these\"  kesi demands ker rahay hou itni mushkil sey manaya hai larkay on nashay lanay pay ',\n",
       " 'allah says the night off al qadar have better than a thousand months may allah forgive U\"  yet your family and fulfi … ',\n",
       " 'maam apko inke . jese logo on answer other than dena chaye ....... kyu ki inhone humesa aurto on burkhe me rk … ',\n",
       " 'happy birthday to the most adorable and remarkable human being on this earth love U\"  the most # happybirthdayjenniferwinget ',\n",
       " 'sir rajasthan ki sari recruitment process band karke kau berozgaro on pareshan tax rahe lnk\"  2018 me … ',\n",
       " 'yahi sb kro .. hmare state\"  K\"  yuvao on berojgar krke bjp wale these\"  postman of\"  kaam D\"  diye hai .. sa … ',\n",
       " 'who\"  modi heart over ungli utha rahe have unhe bata du ... these\"  pichli government\"  of\"  wrong\"  have .... suppose actually\"  convince other than hue to ne … ',\n",
       " '_ sharma1 bsdk other than bc kohli are but tumne hamare wali passage\"  seekh li ',\n",
       " 'tumhare jaisa besharm on while jaanta ne chun tab v hume itna have dukh lnk\"  tha . visashyak to chuna tha delh … ',\n",
       " '_ dead apun of\"  title aa giya akhbaar within too much happy uff ',\n",
       " 'wish you all the best jiii ',\n",
       " 'rt _ willy i love when a guy always sees me without makeup and thinks i ’ m cute and then when we go on a date it ’ s like boom yeah U\"  … ',\n",
       " 'jaan bojh tax other than haare ... wc of\"  their\"  pressure hota hai ... haarne of\"  matlab these\"  other than K\"  ga … ',\n",
       " 'navjot singh sidhhu heart .. aapki life itni achhi ja passer-by thi .. aapke commentary ki tarif pura state\"  karta tha .... kapil … ',\n",
       " '_ sharma _ rofl . so more chai for iaf ?? ',\n",
       " '_ offical _ prash04 _ deepika006 _ snehal … ',\n",
       " '_ v _ Mr.\"  😪😪 i feel this ',\n",
       " 'join us for our first finally friday yoga class ! book using the link in our bio ! we\"  ’ d love to see you there ! … ',\n",
       " 'rt menaka gandhi to rahul - rajneeti bachhon of\"  acrobatic stunt\"  other than hai we\"  congress mukt bhart ki taraf badh rahe hain ......... gaadi I\"  … ',\n",
       " 'ali bahi jesy have big\"  ki waja sy army plume\"  jan deny on ticker\"  krta ha of\"  kabi nai dekha eid jo … ',\n",
       " 'rt kya kahun I\"  tumhare baray I\"  you to Mary\"  jaan hr vheez within two tool agy hai 😏 i love U\"  to namjoon-i I\"  … ',\n",
       " '_ ind what murkh banavoge janta on . varso se public on dharm karam K\"  title pr murkh banate rahe lnk\"  mish … ',\n",
       " '__ yet haan pimp these\"  sun maine vote other than diya thaa within D\"  have other than sakta plume\"  sache … ',\n",
       " 'Muslim tustikarad hindu virodbhrashtachar public on bevkuf samajhkar safed jhuthbharat ki sbhya … ',\n",
       " 'fake news coz yrf itni badi galti ni krga .. # shahrukhkhan on yet action I\"  psnd nhi krgi audie … ',\n",
       " 'aplogo ne to betetctet 201117 walo of\"  majak banakar … ',\n",
       " '_ tyagi happy birthday aditi tyagi heart the infinite se prathna karta hu K\"  apka khudka channel khul jaye yet pura di … ',\n",
       " '__ government\"  on koi kos nhi rha hai . these\"  fe … ',\n",
       " 'bapa ki 26veen you sub on mubarak lnk\"  humari mubabbat bapa se yet barh jaati hai jb we\"  mureed e kamil nigran e shoo … ',\n",
       " 'chub ne dog ki awlaad . tere father of\"  other than hai sale this much india . you ja be nepal ag … ',\n",
       " 'have - one on mohabbat se dekhna sawaab hai without ? she - haan heart have - toh phir I\"  sawaab kamaane two without 14 year ol … ',\n",
       " '_ ratia waise slavery\"  of\"  asli wajah sangh wale other than batate honge . those\" hai aapsi enemy\"  … ',\n",
       " 'lagta have ap old age b cross kr chuky han ',\n",
       " 'jb tk so chutiye rhenge .. India ahead nhi badh skta .... saale caste on she pichhwade I\"  daal lo ',\n",
       " '_ killer _ sunoo i don\\'t know whether it\\'s correct news or wrong but pubg tou within nai final sai kafi pehlay sneak\"  di thi ',\n",
       " 'many thanks for your kind wishes lallu heart ',\n",
       " 'owaisi sahib\"  mill K\"  modi heart se issues haal karne ki koshish kare .. you aachr insan lag … ',\n",
       " '_ beast uske perosnal problem h 20 khelna & 50 over khelne I\"  difference h agr whi wc me perform nhi kr pata … ',\n",
       " 'my picks for this weekend anthony smith volkan oezdimir jimi manuwa chris fishgold damir hadzovic sung BIN who\"  serg … ',\n",
       " 'aksebdkrak neta congress committee K\"  meating . I\"  sabhi members on naye posts milege . congress ahead badte javo . ',\n",
       " 'is trah ki chawalon se sirf maryam safdar ki calibri have up hoskti h … ',\n",
       " 'bahot bahot badhai for our nation pm-2 terms sir jee ',\n",
       " 'music is my\"  life ...❤ thank you to chhote wiz ( salman ali ) for posting this on his instagram stories today !!! \\U0001f970… ',\n",
       " 'amethi I\"  bjp of\"  ace pilla mara to bjp K\"  neta yet bitch media esko so dhika passer-by thi jaise koi cm & pm mer gaya hol … ',\n",
       " 'rt allah with U\"  dont worry its ramadan time hamari dua Allah qubul karthi hon within dua karti hun appki ',\n",
       " '_ rahne very nice . ane you killed him with a shotlock . hard to do for that boss . congrats !! ',\n",
       " '_ sharma4 you sharif ladki lnk\"  K\"  aisa copy paste karti hai these\"  koi too\"  female / lady on shobha other than deta aur … ',\n",
       " 'ricardo pat ó n philips mario m é ndez mariochalatetorres el chepe ardines ',\n",
       " '_ ace _ org these\"  dadoo charger on koi these\"  bataye K\"  who\"  semi-dick chaye K\"  sath biscuit other than deta … ',\n",
       " 'still far better than mms govt ... so if u r so connected with numbers and economy .... can u share your … ',\n",
       " 'gaddar loag too\"  ajib hote hain khate hain nidus\"  ki yet help karte hain padoshi ki these\"  abdulla mehbuba consress ki paidaish hai ',\n",
       " 'rt _ maker oho old lady ktna pyara lag rha 🙈😎😍 nazr nae marna oye yet 😂🤣 ',\n",
       " 'didi zyada younger\"  other than lnk\"  gaya aapka ted talk ? tho seriously guys leave . her . the fuck . alone ',\n",
       " 'rt _ exe _ ntf ace have toh ticker\"  hai asit brother kitni times\"  jitoge !? ',\n",
       " 'amen great job plume\"  ice . thank U\"  for that beaten it was good . ',\n",
       " 'youtube views ko vote samjhne wale suppose is blow other than jita to ever other than jitega . bharat … ',\n",
       " 'have brooke stores usually should have substitute lines for the main things if they do sell out . i will … ',\n",
       " 'have dear i am indira from india . U\"  are sach a nice person you appreciate avery body wo … ',\n",
       " 'rt chahe seat samajh lo or inke dwara kiye hue ghotale 😀 ',\n",
       " 'rt received times power women award in category of bureaucracy on 28th may . dedicate this award to all my colleagues who ar … ',\n",
       " 'phir too\"  to dmk jaisi anti hindu jamboree\"  on vote karte hai !! ',\n",
       " 'inta goal achieve karle isme have India ki naiya kuchh par lnk\"  jayegi yet godse of\"  jikr other than karna sachhai one ki mohtaj other than hoti ',\n",
       " 'rt _ insan __ insan _ insan1 🎂🎂 happy birthday 🎂🎂 _ insan1 🎂🍧🍨 sister heart 🎁🍫🍬🎈 papa heart aapko … ',\n",
       " 'hooo my\"  ggod . please tell her im a fan . incredible . ',\n",
       " 'nice congratulations mam state\"  aapko rakhe ahead 😃 ',\n",
       " 'i like egg but i hate banana ',\n",
       " 'attention to all godi media 5 sal up until <something> gae gobar hindu Muslim 3 talaq etc . over dabate ker ker state\"  of\"  kiya bhala kiy … ',\n",
       " 'i can totally understand ! i can usually be pretty about what i have done with my slumber\"  as well . U\"  know … ',\n",
       " 'kyu congress yet sp ke spokesperson nahi arahe hai to politics se cricket\"  I\"  agaye ',\n",
       " '# shayad # shair jinke ticker\"  acche hote hai ... unki kismat\"  kharaab hoti hai ... hume kissi se koi shikaayat other than ... shaya … ',\n",
       " 'we\"  love you as you are . continue to inspire people and always remember that we will always be here f … ',\n",
       " 'khud sharda chitfund ki ghotale ki pramukh waiti hain duaro on daket bolti hain . khud c … ',\n",
       " 'muslimo K\"  chatukar you muslimo K\"  mude uthata hai delhi I\"  dhurav tyagi on swing diya gya meerut I\"  s … ',\n",
       " 'rt don\"  ’ t underestimate the power of ballpoint pen or for that matter chai walla on the street time is a great leveller htt … ',\n",
       " 'tun chuteya hein ki pagal sala ... teinu kha c na within phla apni aukaat ch rha kr ... teri aukaat boot … ',\n",
       " '20 year\"  se Ram\"  temple\"  other than bana sake or today westward\"  bengal K\"  pishe pade lnk\"  buck\"  7… ',\n",
       " 'rt where are all those lawyers that were tutored by sagay ? you can actually ask for a refund of your tuition fees from your un … ',\n",
       " 'mitali heart these\"  haramkhor to ladna other than chaha raha tha isko to phasa diya gaya these\"  to … ',\n",
       " 'hlo god of cricket heart apko sabse ayada kon se bowler ki pitayi karte in the very act of maza aata tha # sachinopensagain ',\n",
       " \"can't wait for this # happyacademic workshop still time to register for this eent on friday _ gnursing … \",\n",
       " '__ me _ mt _ pchna yup twistooo rubber like 😂 not gud for health ',\n",
       " 'modi ki winning\"  jasahn manane Allah khud I\"  the threatre me unonhne modiji on badhai too\"  p … ',\n",
       " 'Taylor\"  ki old lady ki ankh ! abbu or apny suit of\"  size dy K\"  aya tha kanjr ne my\"  too\"  mery abbu K\"  size of\"  seeee diyaa ! ace … ',\n",
       " 'modi sir there is no light since 1020 pm in tilak town ( west delhi ) ',\n",
       " 'rt thanks _ chopra1 . i hope you are recovering well . my\"  best wishes . ',\n",
       " '_ ind … ',\n",
       " 'dharam over bahas K\"  alawa have ghodi K\"  paas kuch other than hai .. gdp pe gahas karegi to salary cut tax di … ',\n",
       " 'india K\"  sartaj Mr.\"  # narendramodi heart on we\"  sabhi bhartiyon ki taraf se bahut bahut badhai !! all the b … ',\n",
       " 'bhaiyya bjp winning\"  gayee sabhi seats plume\"  yet kahe ki khunnas . bses is not … ',\n",
       " 'jita to hitlet v tha brother burnol to tume chahiye kaam to ginate other than ever bjp K\"  cows ka gobar b … ',\n",
       " 'while up until <something> bjp K\"  talwe chatoge tab up until <something> congress kya koi other than dikhega aapko yet what jaleel hoge sub dal … ',\n",
       " '_ ahmd yet modi terrorist like u I\"  sikhayege ... yourself\"  log yet adorer\"  other than rahe yet yourself\"  modi supporter ji … ',\n",
       " '_ arushi _ shine _ glows _ bnane _ wala _ kamine … ',\n",
       " 'rt thank u for coming live 😘 but i missed it 😭 brother she duaa K\"  wherever I\"  apka lia each\"  namaz I\"  duaa krti hn apka nam la of\"  r aesa … ',\n",
       " '_ lover loool . yaahn toh woke of\"  sawaal have other than . yourself\"  matlub romance enjoy without karne two insaan on . ',\n",
       " 'woke up to this very beautiful feature .. thank you ',\n",
       " 'dekoyou\\'re within good form i see how U\"  got this far but unfortunately your time\\'s up ',\n",
       " '_ sharma4 evm me dhandli lnk\"  sakti hbut etne bade level over other than congress on suppose vote lene h to within have and … ',\n",
       " 'to chori ki words\"  kisne ki bjp ne koi congress ki tarah ghotale to other than kiye yesterday\"  se have to congressi ev … ',\n",
       " 'canny believe av been this excited for my new car n yet a don\"  ’ t want it 🙂 this is going to be fun telling them am patching it 🙂🙂🙂 ',\n",
       " 'but hamari to actually\"  saadi have other than hui to we\"  to pta have other than hai ager mere sath tumari stinking lnk\"  jay … ',\n",
       " 'bhakton on lagta hain ki maine unki side li hain .🤔 yet usse too\"  khatarnak words\"  ki these\"  sub se disagree too\"  other than tax … ',\n",
       " 'long before rock n roll und you can ‘ t steal my love von mando diao ; don\"  ‘ t matter ( kings of leon );… ',\n",
       " 'you sirfsabko recollection dilaiye ace ek flyover se aapne 25 crore 50 crore 75 crore 125 cro … ',\n",
       " 'mla bjp k hain mayor bjp k hain other than mp too\"  bjp k the but koi too\"  dhayan other than deta pls look in to this ',\n",
       " 'we\"  labon se keh without paaye un se haale ticker\"  ever yet those\" smjhe other than these\"  khamoshi kya cheez hai ',\n",
       " '1 have tareek D\"  two 20 -30 year\"  after ki sub khus rahege 1 jana khus rahega ki case travelling\"  raha hae 1 jana khus lnk\"  … ',\n",
       " 'absolutely correct hon\\'ble true patriot yet hinduism dharma ki fighter adult female\"  sadhvi madam namo namo jai … ',\n",
       " 'ur love no u r my\"  lovez one sided wala — sunkr dukh lnk\"  ',\n",
       " 'other than to dharam K\"  adhar per have state\"  of\"  batwara lnk\"  tha Muslim on pakistan bangladesh mila yet hindu si … ',\n",
       " 'jaaz saab on salo year\"  K\"  pending case on soultion I\"  maza other than aata * inko to public paise monthly case miljaye * ',\n",
       " 'rt kodwa guys gave us thandiwe forget national this man is an international treasure that has to be protected … ',\n",
       " 'brother you ais tarah rok rok K\"  other than acrobatic stunt\"  saktey . you jiesey khelte hoo wiesey hee khelo . team aur … ',\n",
       " 'actually\"  samajh aaye to thik ... warna badhao bhaichaara ..... jiske pass chaara up until <something> K\"  paise other than unke sath … ',\n",
       " 'bc log murder karke without ghoom the hain government waalon free # avadheshdubey ',\n",
       " 'welcome new india new pm mannia yasaswi friend wa hamare sabse lokpria bhayi sahib\"  you on wa poore deshwasiyon on j … ',\n",
       " 'king\"  prithiwi secret chauhan galti other than karta toh yourself\"  paida have other than hote y … ',\n",
       " 'mere bhaijan ki movie or india K\"  sultan ki movie darling India ',\n",
       " '_ views0 mera favourite hn bhartan dhona ghr mei Mary\"  work hy baqi aik bnda handi pakaata hy yet dosra roti … ',\n",
       " 'anti hindu anti national or inka omnibus\"  chale to kanahiya ki tarah these\"  pakistani hafij on too\"  india ka 1st nagrik b … ',\n",
       " 'modi heart address\"  my\"  anurodh hai ki manniye jai bhan singh heart pawaiya on rastriye adyakch of\"  pad diya jay ',\n",
       " '_ off _ lyching yet aate h tmhri words\"  parkya hatya … ',\n",
       " '_ son teri bander too\"  agr gand mar kr bhag gaya to usko too\"  yahi boliyo blega kiya ',\n",
       " '_ who isko chupake rakho bjp ticket without dede isko ',\n",
       " 'bilkul unerring\"  have nirupam kyunki congress K\"  paas kuch other than bacha yet to ja K\"  bolege too\"  kya ? galiya ?… ',\n",
       " '_ n bengal me 40se jyada bjp worker ki hatya these\"  hui knha lnk\"  Mr.\"  so called patrakar ? ',\n",
       " 'rt no words can explain the love and respect for you dear keep going and have a blast enjoy your day and may U\"  get whateve … ',\n",
       " '_ sattar or Allah in logoon se pakistan ki louti hui dolat of\"  too\"  hisaab le ameen ',\n",
       " 'rt _ lotus sir app bary cuss\"  hay ignore what others made personal comment on U\"  please focus on your cmship and resolve th … ',\n",
       " '_ patrag nafrat bahot lnk\"  chuki abh 4 year\"  tho araam karo sambit dont worry 5 years no one can get u off st … ',\n",
       " '“ without i told u i ain have no girl ” 😂😂 y ’ all niggas just be lying smh 🤦🏾\\u200d♀️ ',\n",
       " \"rt drop your name and i'll ask you a question .♥️ 1 age 2 height 3 fav song 4 birthday 5 bad habit 6 best friend 7 good habit … \",\n",
       " 'certificate pe 167m kyu dikha rha ? ',\n",
       " '_ bjp bahut sari shubh kananeaapko seco … ',\n",
       " \"rt happy birthday 🎉🎈🎁 up rho Allah pak tmko kamyab krain stay blessed _ 001 she ur 50's birthday 😂😂 \",\n",
       " 'weekend tho tab tha while 5 daytime school\"  me gond ghisne K\"  after milta tha nothing can reach that satisfaction ',\n",
       " 'itni problem hai to D\"  kyu nhi deta jiya on talakh .. have very well know jiya ka behaviour kisa hai ti kisne bola iss … ',\n",
       " 'tiran se tel loge . mna government\"  actually\"  to state\"  have other than pura banta yet sambhal rahabas 3-4 tv houses walon ki salary … ',\n",
       " 'pakiatan I\"  what h … ',\n",
       " 'nwaz chor b to chori kr K\"  aaya tha2013 main . 4 halqy kiun nai kholy suppose sacha tha to 🤔🤔🤔🤔🤔 ',\n",
       " 'dur se dekha to ganje uchhal rhe the xiami 7 pro se dekha to ande ubbal rhe the ;) ',\n",
       " '_ shono 😂😂😂 exactly yourself\"  jeeto yhh haro hmma yourself\"  sa love h pakistani team bss india k mada mukabil aoo ',\n",
       " 'rt heart pranam sir ..... ayush homoeopathy doctors ki jagah govt bsc gnm nursing ko community health officer … ',\n",
       " '_ m # modi # bjp # india pray that rahul gandi never leaves his post - he does more for bjp than e … ',\n",
       " 'rubika heart you bhout badiya yet sach bolne wale lnk\"  you ace solemn anchor lnk\"  aapke sath each\"  … ',\n",
       " 'rt ewe tante leny memek nya becek seru sape basah kasur nya haa 😀😁😁 i love U\"  tante leny 😘😘😘😘 tar kita ber cinta lgh tante leny … ',\n",
       " 'i wish very happy yet blessed # ramadan or # ramjaan month to the almost most powerful celebrity tabu g off bollywood … ',\n",
       " 'rt ¿ est á you hijo tuiteando sobre la liga de las leyendas ? btw = buen teleport wukong lol = lucha otra linea lmao = los magos anda … ',\n",
       " '* after sex * she kisiko batana mat . I\"  koi mujhpar yakeen karega too\"  other than . 😶 # sedlife # memes # memesdaily ',\n",
       " 'these\"  parchi ki have nahosat se lock match khrab lnk\"  hai sala shuro within have team pe presher dal K\"  chla jata hai ',\n",
       " 'bjp ki 303 seats aane we apka too\"  yogdan hai sudhir heart thank you ! ',\n",
       " 'it\\'s too much sticky high humidity is unbearable . bohat stale\"  wala lawn suit zindabaad ',\n",
       " 'rt duniya of\"  masoom tareen semi-dick Allah jhoot without bulway masoom dekho 😂😂😂😂😂 ',\n",
       " 'iska fayda too\"  sirf those\" log uthayenge jinko dusro ki problem se koi matlab other than hain . thoda public on swabhimaan se … ',\n",
       " 'madarchod hooker of\"  sulad suwar teri old lady behan beti on fuck .... tumlg sudhrog … ',\n",
       " 'ma\\'am don\\'t spread fake news . musalmaan dara lnk\"  hain . ',\n",
       " 'garmi bhoolnay have other than day passer-by K\"  those\" hai . those\" who\"  irritating uninvited mehman houta hai without ? who\"  kitchen up until <something> puhanch jaata hai ? ',\n",
       " 'aagaya apni breed over suar teri sister\"  on my\"  pasand hai teri bv on tere abba of\"  teri old lady on te … ',\n",
       " 'meh yet iss larki sey interact nhi krunga while up until <something> these\"  mujh sey pehlay interact na krley ) ',\n",
       " 'rahul sir congress jamboree\"  ki vichardhara India ki janta K\"  beach other than bahut pa passer-by hai logo K\"  bich v … ',\n",
       " '_ mp 🙏 jai modiji . jai . rss 🇮🇳🇮🇳🚩🚩🌷🌷 ',\n",
       " 'sir apko yet bjp on Mary\"  taraf se winning\"  ki bahut bahut subhkamnaye app state\"  yet uchaiyo plume\"  le jaye p … ',\n",
       " 'dkh k b bolna nhe ata dar dar k prh rahe apr pakistan me gala round round k bolti ',\n",
       " 'aj k match K\"  bad sb keh ry k 92 I\"  b asa e huwa tha dosto phr these\"  without lnk\"  K\"  india bazi ly jay kio K\"  83 wala cup b idr e huwa tha ',\n",
       " 'rt _ aneeta sir .... apke kaal I\"  too\"  hm berojgaar bethe hai ... well qualified hone K\"  wabjud ... pareekha pas hone K\"  wabjud ... K\"  … ',\n",
       " 'yet you have pr too\"  attention lele 🤣🤣 sister fucker itna effort she jhaant se career ko improve krne me lg … ',\n",
       " 'jada muslimo K\"  masiha banne ki kosis mat karo .. nase ki halat I\"  log kuch too\"  tax sakte hai . tumhe too\"  … ',\n",
       " 'jaahil thinking every voter voted for bjp is not godse adorer\"  netiher mindsick like u ',\n",
       " \"i don't understand what does he mean by ' surakshit other than hain '?? have he not getting electricit … \",\n",
       " 'rt vaha of\"  hindu marta pehle hai dr . maruituis of\"  have du India K\"  hindu jaisa nhe kehta kuch … ',\n",
       " \"wish you allah's khair and noor ... yet may allah grant you good ending in this duniha . \",\n",
       " 'manifesto lo unadi chestunadu 👍 inka problem anti ',\n",
       " 'nahi radha heart kaon kahta h ki bhagat singh chandrashekhar aajad jaise deshbhakt have dharati over janm nhi … ',\n",
       " 'hahahaha ... Allah aisey maulana sahib\"  se kaum ki hifazat farmayee .. these\"  mudde uthane other than … ',\n",
       " 'rt many many congratulations 🙌🙌 yet apke 2209 followes lnk\"  gye hai ese khub tarraki kro or up rho 😂😂😂🙏 Ram\"  Ram\"  sa _ boy _… ',\n",
       " 'kuya acrobatic stunt\"  kaninang 1111 Naga wish ako without sana magkita tayoooo !😂 pa meet and greet kanaman dyan oh ! para makapag p …… ',\n",
       " 'ace vyapari hai usdin modi heart k photos aur dialogs k cd bechega !!! ',\n",
       " \"_ farmer omg she's so beautiful 😭 so dramatic \",\n",
       " 'abey hooker teri gardan on kya lnk\"  re ??? muft of\"  maal milna band lnk\"  gaya toh ....... toh … ',\n",
       " 'kab sudhroge bjp K\"  paltu anchors chitput ghatnae bta rhe lnk\"  itni fatti hai ',\n",
       " 'rt _ ppp ace zardari sub over bhari ✌ shairon of\"  huntsman zardari ✌ agli turn phir zardari ✌ … ',\n",
       " 'yhi ki I\"  tere over religion other than you harr turn meko last circle me marwa deta hai 😒 ',\n",
       " 'these\"  zaleel mulk K\"  prime minister on galiya deta tha officers on damkiya deta tha these\"  ghaddar q nhi ? ',\n",
       " 'ayaaaaay of\"  ! mag shat daw me 1st day of school 🙈🙉🙊😱 ',\n",
       " 'rt # talash pakistan K\"  each\"  nidus\"  ki yarn thank U\"  # muftay for a well researched preview # featurefilm # zeekayfilms # coming … ',\n",
       " 'happy new month beloved of yahweh mercy is still settling our case ... thank U\"  mrs seun ogunfile ... all the way fro … ',\n",
       " 'rt my\"  fav film coming soon # ardaaskaraan by paji 🙏 paji here ’ s the teaser ',\n",
       " 'rt don ’ t be sad if Allah separates you from someone you love . always remember it ’ s for your own good . Allah has a beauti … ',\n",
       " '😂😂😂 _ kon or bi ak song lover hy 🙊 ',\n",
       " 'rt happy birthday hasin vasiyo K\"  rhne vale 🎂😘🎉✌🎊🎂😘🎉🎉 🐯 piti heart always blesssss u 👑👏 😍 piti … ',\n",
       " 'yes u got right we ll remove all infiltrator except those who believe in humanity all human haters will … ',\n",
       " 'sir bhaeya heart of\"  bahut have sarahniya fesla . while hamari words\"  sunney .… ',\n",
       " 'oath hote have plaible media their\"  agenda lekar chalu . bantaware ki rajneeti rajneta kam yet media vale jyada karte hai . ',\n",
       " 'these\"  toh kuch too\"  other than hai 5june K\"  after world cup too\"  postpone lnk\"  jayegaa brother of\"  stardom ❤❤ ',\n",
       " '_ truths fouj mulk other than chala sakti lnk\"  sub se mazbut off munazam ha but these\"  haram khor sneak\"  jahil bey eman siasa … ',\n",
       " 'nhi those\" who\"  ankhein dikh rhi un pr make-up kea hua prda to allah pak ki raza yet muhabbat K\"  lea hota have ❤☺ ',\n",
       " 'tumhaare pass or koi news nhi h kya who\"  esi faaltu chize dikha rhe lnk\"  state\"  ki security ke liye who\"  jroori h … ',\n",
       " 'news 18 sala tumhare pass dog bili sabki news h lekin bikbot scam K\"  itne tweets lnk\"  rhe hai sirf rak … ',\n",
       " 'rt it ’ s my\"  dream to see an acoustic performance of since i have chronic #… ',\n",
       " '2014 K\"  after who\"  state\"  ne tarakki ki hai those\" pehle other than thi . these\"  sub modi heart K\"  aane K\"  after lnk\"  . ash modi heart you ne ba … ',\n",
       " 'you swell sexy hai gajab ki waistline\"  hai kya visitation\"  lnk\"  sakti hai their\"  no den words\"  karke milunga y … ',\n",
       " 'young india youth prema khandu heart on badhai congratulation cm pad ki oath\"  bahut bahut badhai ',\n",
       " 'pehle you used to write emo poetry yet kyu band tax diya ? — likh likh K\"  saare emotions khatam hogaye hain ',\n",
       " 'happy birthday fati churail within you have many many many more within sha Allah stay blessed 💜💜 _ says _ ',\n",
       " '_ hotels bakwas tax passer-by hay . she is a habitual liar & fond of creating such hollow scenes . ',\n",
       " \"ya i know owaisi heart very well bcz i'm from hyderabad ..… \",\n",
       " '_ bose07 recollection aya abhinandon K\"  kapde humare pas have hain . kehna … ',\n",
       " 'mamta banerjee K\"  gusse mul karan bjp nhi uska khud of\"  aham hai those\" khud on kansh cuss\"  passer-by hai yet uske liye modi ji … ',\n",
       " 'solemn p m modi jee on winning\"  ki bahut bahut subhkamnaye mahanta K\"  liye pag pag ahead bade 🇮🇳🇮🇳🇮🇳🇮🇳🇮🇳🇮🇳… ',\n",
       " 'oye bhagori pehle model town is hisaab two had jaga siasat khelte lnk\"  dead bodies on too\"  spare other than kerte ghatya log ',\n",
       " 'i know it ’ s you jennie anyways i will fight everyone who will aay sth against U\"  ! bby love u uwu ',\n",
       " '# pledgeagainstcorruption good morning guru heart . bless us and give us power to two more and more service … ',\n",
       " 'you jaisa neta to my\"  🙏🙏 you today K\"  rajniti of\"  ideal hai jai 🙏🙏 we\"  want to see you in ministry again & again ',\n",
       " '_ syd i fw the d ’ uss é U\"  gotta really sip that mf tho ',\n",
       " 'these\"  madam ki glti ni h those\" kya h ki title K\"  piche who\"  inc lga lnk\"  h n heart those\" have motivate krwa deta h … ',\n",
       " 'have friends allah blessed me with a cute grand daughter . pls suggest some beautiful names starting with k or q .… ',\n",
       " 'U\"  dont hafta explain yourself buddy U\"  know everyones proud of you no matter what … ',\n",
       " 'ise bolo kalutosh bolta have these\"  congress ja dog have ',\n",
       " 'have state\"  of\"  Muslim on hamesha uska fundamental right milla hai kya muslmaan jantantr of\"  hisha ni owais … ',\n",
       " 'allah pak app yet appki ki family on sabr-e-jameel atta farmayie . ameen . loads of love and respect for your brother .. ',\n",
       " 'rt shaadi kab karni hai ? # bharatthiseid - ',\n",
       " 'pakistan wale itne the poor hai ki she captain on ace ₹200 wala tie too\"  other than D\"  sakte # iccworldcup2019 ',\n",
       " '_ ps younger\"  boy india is a democracy it means we have right to choose o … ',\n",
       " 'kyuu K\"  tm log ghareeb awaam of\"  tax of\"  the wherewithal chori krta thay yet kr rhay lnk\"  awaam tm logo K\"  adamant lau … ',\n",
       " '_ sharma # govt to 5sal to sirf # jumla diya we\"  e these\"  # bjp # government\"  # jumle K\"  siwa yet K\"  … ',\n",
       " 'jb hindustan khud hindustan K\"  bare m nhi sonch raha h dhrm K\"  title over bjp jaise logon on jitaya ..… ',\n",
       " '- bjp on vote on muslim mahilaon n purushon ne diye jinko yojnaon of\"  fayda milaya m … ',\n",
       " 'rt south africa is not even trying . this world cup so far is like an apology letter to cricket\"  . # savban ',\n",
       " 'mp I\"  congress ki government\"  I\"  hai to light kase rh jaegi ..... invertor le aao .... ki government\"  phle pai … ',\n",
       " 'rt __ tweets bahut late lnk\"  gaaye brother # bharatin5days ',\n",
       " 'dicto tmhare abba ( rahul ) jaise cover kia tune 😂😂.. ',\n",
       " 'jb itni fat rhi to muh kyu maarne aa jaate lnk\"  dusre tweet dekh K\"  😂😂🙏 kya ja … ',\n",
       " 'modi heart one K\"  saga other than hain yet saga why lnk\"  ? muft I\"  modi of\"  jhuth I\"  sath d … ',\n",
       " 'phir too\"  pata nhi kiss trah qarza charr gaya hai ',\n",
       " 'rt dear sir sabko nay milna chahia brick test of\"  problem sabko huo have lekin kuch particular students on … ',\n",
       " '… ',\n",
       " 'sambit ticket yesterday\"  se wherever jaoge tumhari bakwas band lnk\"  jayegi bahut tax li tumne bakwas yourself\"  too\"  wherever … ',\n",
       " '_ bahen so glad to have you by my side always ❤️❤️ that will never change . ily shan & thanks for always being … ',\n",
       " 'hdkdhdkdjddjdjd oh my\"  god tbh the fact rhey have that vibe is a good thing to I\"  like catch me listening to more ',\n",
       " '# rt rt end of term 1 - 2019. we wish enjoyable holidays . eid mubaarak to all the par … ',\n",
       " 'cm heart apse nevedan hai K\"  mariyahu vidhansabha K\"  vidhayak heart ne aisa koi kam nhi kare K\"  we\"  sub unhe … ',\n",
       " 'rt _ possitiverd yahan room se without nikalte have aisa lagta hai jaise yamraj spirit nikal K\"  le ja rha lnk\"  yet tumhe masti vala j … ',\n",
       " 'bc these\"  shahrukh workings\"  of\"  angrezi version why ban raha hai you . other than milni those\" tujhe . dil-e-bekhabar Mary\"  … ',\n",
       " '@_ yogendrayadav heart ... i am with heart for this woods while unhone aapke gpl maari .. u deserved … ',\n",
       " 'waseem brother ap kuvh b without karo phir b i love uou yar . from faisalabad . bs tusi great lnk\"  pa heart . apko wai … ',\n",
       " 'rt thanks a lot anna for the inviting me to your biggest day grateful and honoured by your kind gesture i will be … ',\n",
       " 'just look at the mentions kitni ghatiya mentality hai suppose use monk banne I\"  koy problem other than hai to we\"  kon hai … ',\n",
       " 'the best paul gascoigne video U\"  will ever see laughing after 25 seconds - crying at 7 minutes 30 seconds … ',\n",
       " 'america have a great country and it has always been a great country . think of this as a way to fumigate … ',\n",
       " 'rt _ cronic so many have sacrificed their lives so that we can enjoy the blessings of freedom - john 1513 greater love hath no cuss\"  th … ',\n",
       " 'sir rahul you pareshan without lnk\"  aapbjeete hai haare other than kyu ki bjp evm we gadbadi karke jeeti hai we a … ',\n",
       " 'yun to kehne on teri rah of\"  stone nikla tune thhokar who\"  laga di toh my\"  sir nikla ace those\" shakhs tha who\"  phoolo\\'n … ',\n",
       " 'waise chutiye uski cabinet 7 logo ki hai hai benkelode ... yaha 25 hai amendment 69th padhle sister fucker ',\n",
       " 'wish . u . all the best . namo again . sub of\"  sath . sub of\"  vikas sabka viswash . iss blow . we\"  . muslim . state\"  wasi p … ',\n",
       " 'rt _ thefilm shaadi kab karni hai ? # bharatthiseid - ',\n",
       " 'dekho have channel of\"  kamini pana didi prawakta on bhejna band karo plzzz .. ',\n",
       " 'now india will deliver new terror like sadhwi pragya congratulations new india yet aapke children yahi banenge ..👌 ',\n",
       " 'amit brother prachand bhumat K\"  liye badhai lnk\"  you se prathna ha you sabhi indian voters and supports on narender bhai … ',\n",
       " 'sri narender modi heart apko my\"  sadar naman jis trah she zindagi on jeya or aj humare pradhanmantri dobara bne aa … ',\n",
       " 'rt retweet for this king 5 daytime intizar K\"  after secret lnk\"  ga bollywood py salman workings\"  of\"  # bharatin5days ',\n",
       " '_ yourself\"  toh khud ace buri maut maroge . bjp on tumko maarkar tool gande karne ki zaroorat other than hai yet wai … ',\n",
       " 'adaraniya narendra modi heart ap have each\"  blow hamare pradhan mantri bane sir hamare state\"  on jansankhya niy … ',\n",
       " 'very good perchi bolls miss kerne K\"  bad cot behind . out . ',\n",
       " 'chutiyo tanasahi other than hai ye security concern hai ',\n",
       " '_ das123 brother we\"  babri mosque\"  other than chahiye you bna lo raam old lady … ',\n",
       " 'isko kisine irctc ke helpline ka place pakda diya yet these\"  bola K\"  these\"  place modiji of\"  personal number hai 😂😂 ',\n",
       " 'lekin those\" too\"  mummy rakh leti h 😑😑😂 ',\n",
       " 'ha unerring\"  suna h 1988 K\"  email jaisa . pehle khud of\"  system toh update kr lo . bahut saare virus h sinha baboo\"  . ',\n",
       " '_ 007 these\"  to police\"  on chiaye tha ki so logon on mana kate yet these\"  samajh other than aata ki these\"  police bikie hii hai … ',\n",
       " 'dosto on itne video call kiye hai life K\"  gin nhi skte lekin ever too\"  screenshot leke apni filthy shakal post nhi ki hai . ',\n",
       " '🤣🤣🤣 khud ki how marte hain koi have mahatma 🙏 se sikhe 🤣🤣 cookies saf karne se … ',\n",
       " 'agar media too\"  congress of\"  boycott karne lagi to 5 seaten too\"  nhi aayegi ',\n",
       " 'these\"  khud confuse thi kya bol passer-by hai isko have nhi pata . hindu koi dhrm have nhi hai is … ',\n",
       " 'ajj beshak waqat K\"  firon k samany sir jhukha lia hai Allah on bhe moa dekhna hoga oven\"  use daytime p … ',\n",
       " 'hindu hindu yet hindusthan are the only slogans sir . ',\n",
       " 'these\"  h bjp of\"  bharstachar uttarakhand I\"  bord lava diya kam khatam hisab puchne se on jwab other than deta cm portel par si … ',\n",
       " '_ 0f _ nope thank U\"  ) yeeeeee ha ',\n",
       " 'rt ___ rajpoot i ’ m not sure how many times i ’ m going to want to wish you a happy birthday so i thought i ’ d better start right now ❤ i a … ',\n",
       " '_ pallavi92 can U\"  give some love to your westward\"  bengal fans ? # asksaipallavi ',\n",
       " '🙏 namaskar mam congratulations on your hard earned victory i am really overawed by the way you have c … ',\n",
       " '__ here privatised h ... but bc as paas K\"  rural area\"  se zyada electricity yaha jaane lag gyi h 😣😣😣 ',\n",
       " 'rahul keep it bro u r the real champion of world cup jaisa nature hai waisa have khelna bro ',\n",
       " '_ who _ bhagat no it was normal chetan vs bjp of\"  chamcha chetan .. q unerring\"  bole without ?? ',\n",
       " '25 cror gawaaar kam other than hote ......... books pad K\"  knowledge aati hai without ki madasha … ',\n",
       " '_ sarita _ sk _ without matlab these\"  words\"  saabit hota ki masooma … ',\n",
       " 'bahut badiya ! good night # askdeepti ',\n",
       " '2 kaudi ki film maker 😂😂😂😂 aukat se without nikalne K\"  koahish I\"  ',\n",
       " 'jitne tweet karna hai tax kyu ki janta too\"  these\"  chahti hai bakre ki old lady kab up until <something> kher benayegi bechare k … ',\n",
       " 'sir m aapse milna chahtu or bundelkhand m haar K\"  krn pr aapse chrcha chahta hu m bht chhota hu but m aapko suggest … ',\n",
       " 'i really love it 💕 thanks my\"  dear you\\'re special too 😘😘 ',\n",
       " 'etne salo I\"  pehli mertaba sapat gerhan . nahe dekha each\"  winning\"  bahut dekhi . per these\"  election dlalo sneak\"  jahil state\"  droh … ',\n",
       " '🤣🤣 sudhr jaoo ever one yet on too\"  moka two passage\"  khane of\"  q each\"  baaar gandhi family on have spike\"  of\"  bakra bana rahe congessio 🤣🤣 ',\n",
       " 'you within sabdo ki jagah suppose these\"  likhte ki modi heart of\"  this much phesla swaagat yogya hai yet hm to chahte hai … ',\n",
       " 'who says breakup hurts the most ever phone ki screen she you chalne lagi hai or rokne over too\"  without ruke 😢 ',\n",
       " '_ 009 _ 1 _ ap K\"  alfaaz se saabit hoa K\"  muslmano I\"  ehsaas zinda hy well done 👍👍👍👍 ',\n",
       " '_ bymistake ever other than kyonki these\"  topibaaz hain 😜 ',\n",
       " \"nice pics nice dp looking gorgeous laura and lehsun up until <something> thik hai but what's the logic behind rt ing someone's profile pic ? \",\n",
       " '_ anbudan _ offl _ sr bro trailer eppa vittanga 😂😂😂😂 ',\n",
       " 'sarji kiya we\"  you se ever too\"  words\"  hahi tax sakte suppose other than to you these\"  ever mat kijiy ki you garibo … ',\n",
       " 'chaa gaaye brother ... 🎇🎇 keep winning !! 👌 ',\n",
       " '_ rofique _ afruj these\"  mujse dur nhi reh skti warna isko bhav kon dega or footage kha se legi these\"  ',\n",
       " 'same to u bhaya 😍 have nice day 😄😄😍😋 ',\n",
       " 'rt _ iyd those\" konse log hote hein who\"  like kiyr beghair rt krte 😪 barre have chawal hote 😪 ',\n",
       " '_ ind kya milta h yourself\"  gobhi bhakton on .. only talking about hindu Muslim ghanta gaadi … ',\n",
       " 'modi modi kahte kahte hindustan pura lnk\"  gaya kathmulllo K\"  jute pade pakistan adhura rah gaya ....... . . aaaj old lady … ',\n",
       " 'jai shi ram 17bi lok society\"  ki p m ki sapat lene K\"  liye mere sapariwar ki tarf se bahut bahut mubarak … ',\n",
       " 'while congress ke spokesperson tv debate I\"  battamiji karte the tab to unko other than roka gaya yet haar K\"  after answer den … ',\n",
       " 'pmln K\"  kuttey hr wqt bhonktey hein apni value ki tarah ',\n",
       " 'rt dear 😂😂😂 105 run swing tax poori team out sister fucker modi of\"  itna darr ki words\"  samhal other than paa rahe pakistani play … ',\n",
       " 'block fenk K\"  marunga suppose biggboss ka chutiyapa felayega to tl over \\U0001f92c\\U0001f92c fake log fake show or use dekhne wale sabse bade chutiye 😂😂 ',\n",
       " '_ hariom these\"  log ever too\"  one K\"  saagein nhi lnk\"  saktein kyon ki inki aasmaani kitaa … ',\n",
       " 'Mary\"  id sy log jealous bohot lnk\"  rahy hein aj kall 3 + 4 times\"  id report lnk\"  chuki hy Mary\"  but koi farq ni parny wala 😎😎😎😎 ',\n",
       " 'gambhir sir salam appko !!! kya paari khele just like 2011 world cup final ',\n",
       " '_ rosy _ ind actually\"  water\"  rah … ',\n",
       " 'kadi ninnda karte hain . iske alawa we\"  kuch sikhaya other than shakaon I\"  sorry . iski bh … ',\n",
       " 'happy pa sya non ?😞 i hope i won\\'t regret giving you my 3rd chance which it is the last . marupok of\"  kasi kaya may … ',\n",
       " 'rt _ rajpoot333 __ khalid _ here thankyou brother post yet mujhy yqen haiun up until <something> pohonch jay heart … ',\n",
       " '@_ unzila _ heart btw thnks ap ky itne likes ky lia ❤✌ ',\n",
       " 'aapko 67 seats evm hack kr K\"  mili hogi ? kaise hack krwayi thi bhaisahaab ',\n",
       " 'mubarak to all young pakistan ',\n",
       " 'who\"  who\"  ilzam lag rha hai these\"  govt ki yet nab ki zimadari hai K\"  saza K\"  sath jurm sabit lnk\"  warna roz roz media pe tas … ',\n",
       " 'prayer for generosity ',\n",
       " 'rt abe laudu kise pagal bnara hai saaale d4 ki news these\"  fan dega terko ? isse achha to ace fake account bnakr khu … ',\n",
       " 'rt thank U\"  _ waraich _ pti Royal Highness zaman for coming to my aftari at dha without 131 ',\n",
       " 'rt _ creations super excited sirf aapke liye jau … ',\n",
       " 'hahah these\"  you other than tera jala lnk\"  pichwada bol raha hain . adat lnk\"  gayi thi without ki mullon … ',\n",
       " 'sorry not moulana iss dog suwwar of\"  place hiske too\"  pass hai two muje please its a humble request ',\n",
       " 'isko bf other than kehta isko noukar kehta hain . ',\n",
       " 'rt _ 0103 twitter py half time you oska header dekhne we guzar jata 😍🙈💕 ',\n",
       " 'rt good morning sir . my\"  self p . s . saini from krishi jagran monthly ( in hindi punjabi gujarati marathi kanna … ',\n",
       " '_ fc sid ki flop movie count tax le pehele tera sid biggest flop ',\n",
       " 'achche Muslim joot other than bolte bolke those\" sheila tweet karee thi .. or kuda !!! hamaari paalya log like iss joote janaa … ',\n",
       " 'what ever the results may be but love afghanistan cricket team well played najib rehmat yet rashid ',\n",
       " 'rt __ sh pubg nhi khelta * match nhi dekhta ! smoke nhi krta will this society accept me ? ',\n",
       " \"rt theses sanghis are alike . the bjp wants to erase nehru . let's see what india would have been without him h … \",\n",
       " 'daily of\"  routine ban gaya hai train late khuch other than badlega ',\n",
       " 'aap K\"  honesty on koti-koti naman 🙏🏽😂 ',\n",
       " 'my\"  India state\"  breed paat se mukt yahi sangharsh state\"  of\"  vikas yet sureness\"  vikas nidus\"  gha … ',\n",
       " 'the well-known music director gopi sunder is celebrating his birthday today wishing a very happy birthday & within yo … ',\n",
       " \"_ bhootfm i love ghost fm ...♥ cox's bazar app deya sonce \",\n",
       " 'respected modi sir aj state\"  K\"  deshbhagato yet world within phale hue deshbhgato ki manokamana puri hui . ap esi tarah s … ',\n",
       " 'rt bts world tour \\' love yourself speak yourself \\' live streaming in wembley stadium ! finally it\\'s d-day !! plume\"  6/1 ( sat ) 7… ',\n",
       " 'bawdi ga ... d fucker banati he public on mc mulli ',\n",
       " 'rt _ is1 show I\"  your emir palace these are palaces of emir of kano state malam muhammad sunusi ll __________ … ',\n",
       " '_ bear _ krishna isme too\"  cheating .. yet what large public on bewakoof banaoge ? those edited video well p … ',\n",
       " 'uploaded aao sunday (5/26/2019) ii to ',\n",
       " 'yoongi is so intellectual and woke i wish he had the chance to exhibit all that in his own songs sighhh ',\n",
       " '_ ticker\"  bc this not our hair jindgi hai ulajhti bikharti hai to fattt K\"  hath I\"  aa jati hai 😠 ',\n",
       " 'again partying with my\"  best ever companion # domino _ india # khushiyo _ ki _ home _ delivery ',\n",
       " '# India my\"  favorite being human bajrangi sultan salman workings\"  shoot bharat 5th june dekhna without bhule ',\n",
       " '_ nighat brother mere sirf social media over woman empowerment ki words\"  other than honi chahiye balki real … ',\n",
       " 'modi heart sapat se phale ace daytime bi light nhi gyi kyu ki lene the yet pht vohi darma strt lnk\"  gya hai or who\"  kirshan pal … ',\n",
       " 'mubarak lnk\"  .. these\"  b apk abu K\"  kaarnamy hn .. btw # ldl ',\n",
       " 'modi government come back within 2019 sabka sath sabka vikas sabka visvas ',\n",
       " 'these\"  log planet of the apes K\"  those\" bandar hai who\"  north on human enemies samajhte hai yet khud on intelligent ',\n",
       " '_ sun bh K\"  ... tere jaise jh @@ ntu on aukaat dikhana zaruri hai tere jaise m @@ darch logo on support … ',\n",
       " 'annie this is absolutely beautiful these precious girls have great voices for our abba father . keep makin … ',\n",
       " 'isko mar mar k mar mar k sary haram K\"  buck\"  bhir nikalo have se ',\n",
       " 'modi heart jaiye aasirwaad lekar aaiye yet ghotalebaaz guiness securities ltd of\"  md lotus kothari on jai … ',\n",
       " '_ krishna kutto on dawat plume\"  other than bulaya jata sport ',\n",
       " '_ subscription\"  that\\'s not a wishful thinking . think about living . think about all the good stuff that can be done . things you love to two . 😃 ',\n",
       " 'the nep is an unmitigated disaster in some areas . if it took U\"  guys 5 years to come up with this . god bless you ..… ',\n",
       " 'these\"  unerring\"  nhi kiya she heart she राजनाथ सिंह जी on home ministry nhi diya she q .. uss cuss\"  of\"  kadd bjp … ',\n",
       " 'hamare sheher within sach words\"  kehne wala hee each\"  ik nazar within sazawaar kuch zyada hai poetry ejaz hussain fakhi … ',\n",
       " 'kharagpur se ki hai but kahi aisa to other than inke promises ki tarah those\" bh … ',\n",
       " 'proud to be my parents only child and a daughter !!! thank U\"  beeswax\"  n dad ! U\"  said it right kbk < khelo beti khelo >… ',\n",
       " 'rt with U\"  sambit you fought a hard election and you fought it well ! congratulations on the spirited conte … ',\n",
       " 'oye idiot K\"  idiot kabb up until <something> yet what jhooth failayga ? sharm bol K\"  koi cheej hai ki other than ? this is a scene from a fo … ',\n",
       " '_ suttybaz these\"  ajeeb percentage nikaal di wese i am harami for some people ',\n",
       " 'rt _ please she bachon on coeducation colleges ma admission dilvaya karen these\"  university aake yahan of\"  mahol kharab kardete … ',\n",
       " '_ k27 nawaz sharif on anar nigger ki tarha wall I\"  chun dena chahye haram khor ne marna you hai nhi itni jaldi ... ',\n",
       " 'congratulations modi heart to become our pm once again jai hind mere people on taraf se hardik subhkamnaye ',\n",
       " 'hoooo hooo ... U\"  good ?🤣🤣🤣🤣🤣🤣🤣 ',\n",
       " \"_ twt it's officially nam june . nothing's changed i still love u forever \",\n",
       " 'rt _ saeed jummah tul wida mubarak from us to all of U\"  ❤ within U\"  all be blessed with whatever you wish for amen . ',\n",
       " 'dont feel even jealous of allah sb on nhi bulata apny ghr yaha up until <something> K\"  2 blow itni jaldi mash … ',\n",
       " '_ maala hahaha thats niceee ',\n",
       " 'rahul gandhi without hai to vajpayee jinki wajah se other than to america me band hota ',\n",
       " 'you what tweet kroga these\"  chij harr roj hoti india old lady you kitni jagha of\"  pta kroga saab jagha yehi hota b … ',\n",
       " '_ cool sport Mary\"  tou halat tight hogayee thee . really good read after such a long time . also marvel\\'s war of the realms is a fun read . ',\n",
       " 'sir so thanks for it these\"  yaha se dumling ground on shift krne K\"  liye apka yet ji of\"  thanks sb … ',\n",
       " 'yet two vote .... yun bhenchodo ki tarah pite jaoge ... kab samjhenge these\"  state\"  K\"  log ... sub sale … ',\n",
       " 'sir bahut bahut badhai hamari jamboree\"  bahut aachhe se winning\"  gyi aapse request hai kashmir se sewer\"  raja … ',\n",
       " 'brother itna time lnk\"  giya h I\"  to omnibus\"  itna janta hu ki suppose saliky se koi thodi samjhdari se kahi jay to apko asma chu … ',\n",
       " 'idk how auditions are gonna go tomorrow but i guess we ’ ll see . ',\n",
       " '_ 54 on khud on to batting krne aati ni bus captain bana huwa have . title of\"  without toss winning\"  sakta h … ',\n",
       " 'yet hooooo boy am i shocked that meghan “ my father is john mccain my father is john mccain my father is john mcca … ',\n",
       " 'rt # derasachasauda good night papa heart come in my sweet dreams please bless me and all insa fa … ',\n",
       " '_ scindia sir U\"  are my\"  favorite political leader U\"  are always my\"  hero you K\"  liye winning\"  haar K\"  mayne … ',\n",
       " 'rt _ sjian _ behen ! tere tweets padh pr Mary\"  belly\"  aching\"  hone laga he ! # 1yearofbehir ',\n",
       " 'rt listen if U\"  want to love love like you own nothing ',\n",
       " '_ these\"  parchi or selfish nai chala team of\"  halat dekh lo ',\n",
       " 'congratulations modi heart . but we you request karta hu ki ghazipur K\"  manoj sinha heart on you bhuliyega … ',\n",
       " '# modi phone up until <something> other than uthate nalayak of\"  darr hai unhe ki kahi these\"  humse paise without maang le - maryam naw … ',\n",
       " '_ thonu v lkh lkh mubarka . .. nd congratulations mam ',\n",
       " 'you jaise yet koi sayad mile 🙏😭 india best minister forever 🙏 ',\n",
       " 'jai italy ne bs jebloty yet kuch other than kiya suppose opposition itni nikammi yet hindu virodhi without h … ',\n",
       " 'so I\"  khate hai ki 2021 tak christian or islam on kahtm krnenge yesterday\"  those\" khud she andr these\"  chuwa pussy khatm kre ',\n",
       " 'state\"  wasio on mamuli lag raha hai islye koi protest other than h koi chintit other than h ise lek … ',\n",
       " '_ 003 _ rishu aisehi log hai who\"  each\"  legend on tight bhala bolte hai yha tk k god of cricket on too\"  nh … ',\n",
       " 'ammi jaan kehti thi yet Shah\"  posture workings\"  kehte hain 🙌🏻 extremely humbled yet overjoyed . i love U\"  sir ❤️❤️❤️ ',\n",
       " '_ 2244 _ kunwar those\" kya h without ki fake profile itne lnk\"  rkhe h ki lagta h ki pi6e koi without koi bjp it … ',\n",
       " 'teri shakal se toh you incest ki paidaish lagta hai bc yet mere on pakistani bol raha hai bc … ',\n",
       " 'abey buddhe you sala dog hm 130 cr hindustanio on jhoota bol rha hai bsdk hmne too\"  modi on vote d … ',\n",
       " 'freedom of speech . .. suna h without heart .. hm to bolenge ... jay sri Ram\"  ... or haan mam .. pura India my\"  g … ',\n",
       " '_ sena iss so-called unguided youth on 1 moth K\"  lie jail within daalo phir sub she you line peaa gye ge 😡😡😡 ',\n",
       " 'solemn p m modi jee on winning\"  ki bahut bahut subhkamnaye mahanta K\"  liye pag pag ahead bade 🇮🇳🇮🇳🇮🇳🇮🇳🇮🇳🇮🇳… ',\n",
       " 'chachu on shaadi mubarak lnk\"  ... 🌹 ',\n",
       " 'shohar hai ” omnibus\"  thats it . one ne se that\"  se boycott other than kiyakisi ne usey nidus\"  se nikaalne ki threat\"  other than di . why ? why … ',\n",
       " 'rt was watching a stream and while the game looks fun the unironic use of sjw made I\"  tune out immediately . lnk\"  a better sampl … ',\n",
       " 'jhut bolna # dhoka dena of\"  taluk # dadhi se thodi hai ki dadhi hai to sach bolo # dhoka without two ? # jhuut other than bolna dh … ',\n",
       " 'within 2019 K\"  chunav I\"  party members haare hain congress jamboree\"  other than haari suppose congress haa … ',\n",
       " 'death over ki okad bata deya bc block swing deya paid user of\"  lakho rupee lekr ye l … ',\n",
       " 'rt purd bhumat se winning\"  in the very act of mere payare aadarniy pm modiji have badhai lnk\"  Ram\"  rajy agaya bhagva ace blow back sunami bn kr ch … ',\n",
       " 'anchor look so happy t … ',\n",
       " '_ radhey arey bilkul deewane the why other than honge akhir apni old lady of\"  … ',\n",
       " 'b . j . p . walo ki khas aadat h . who\"  deshbhakt or rastrabhakt other than h onko too\"  jabardasti deshbhakt rastrabha … ',\n",
       " 'happy birthday Shah\"  ! get ready for all the saying you aren ’ t 24. i am glad z thinks i … ',\n",
       " 'rt _ youkiss _ nia happy bday jit . hope you enjoy it and be lit af 💯 ',\n",
       " 'liberalswoh to dara lnk\"  samuday of\"  insaan hai . dar K\"  maare chhed di ladki . hindu intolerant hai ',\n",
       " 'why women if all are equal than samanta K\"  seizure\"  K\"  tahat these\"  suvidha sabko milni chahiye other than to one ki other than . ',\n",
       " 'fantastic film # pmnarendramodi must watch biopic . great performance by underrated dhaansu actor Mr.\"  si … ',\n",
       " 'insan chahe to she vichar dusronke dil-dimag I\"  sthapit ker sakta hai . kubhi kubhi bade insanoko aisa lagta hai ki … ',\n",
       " 'i\\'m just gonna sing ralf gum\\'s take I\"  to my\"  love ....💓💓🙌🙌🙌 ',\n",
       " '_ hamare mulk mei log up hain .. tumhe sub acchi bato mei sirf buri nazar aay … ',\n",
       " 'this is nothing !! my\"  sister once used fevistick as lip balm !!😊 ',\n",
       " 'abhivyakti ki aajadi of\"  gala yourself\"  tv channel wale ghot rahe lnk\"  . bulaao debate me common people on . ',\n",
       " 'rt hearty congratulations to jee rankers . proud of our telugu toppers . wishing you all the very best for your future . ',\n",
       " \"open it sirjee .... two one thing ... send me ace dm ... i'll respond ... thank you ! \",\n",
       " 'there is no national language in india and as your whish i know ace tho theen chaar ..... now thus an … ',\n",
       " '_ sharma4 tera sa certificate lane ki mujha jarurt other than ',\n",
       " 'rt ramadan is a season of mercy and a period during which we are encouraged to make positive changes in our lives . as our m … ',\n",
       " 'sri narendra modi heart yet naveen patnayak heart on winning\"  ki bahut sari subhkamnaye umeed hai ki modi ji farmer K\"  liye … ',\n",
       " 'mashaallah they bothlook good . patwari & media walay jaltay hain jalkukkar . ',\n",
       " 'so i got this skin from the # crates # kar98k new skin looks damn good thank you pubg yet yahi chamkaunga … ',\n",
       " 'rt this is important for all people of color everywhere in the world ',\n",
       " '😄😄😃 isko doosra kaam other than only criticism to cm all time ',\n",
       " 'takky takky over bhik jaty lnk\"  yourself\"  log . we don\\'t trust you people ',\n",
       " '_ ar1 iska ss leke rakho badme tweet delete krke palti khayegi warna 😂😂😂😂 ',\n",
       " '_ donorrr kyo qureshi on kya pta while those\" election commission me he … ',\n",
       " 'rt steven gerrard is the best player in love history ',\n",
       " 'rt suppose sach I\"  bahaduri hai to rajneeti chhor kyon other than deta mader tera father amethi haar gaya ',\n",
       " '_ yash other than mam we\"  apni matrubhasha other than choddenge we\"  hindi other than bolenge yesterday\"  modi ayah\"  to we\"  hajaro sal ki … ',\n",
       " 'rt fokat of\"  samosa khaane & fokat ki movie dekhne wale critics are tweeting about boycotting salman khan movies . lol funny c … ',\n",
       " '_ firstt oho have ki to is K\"  nidus\"  have within baaj gai ',\n",
       " 'happy birthday apurva paithane \\U0001f973🎂🎉🌈 – celebrating birthday at juhu chaupati mumbai ',\n",
       " 'ghatia batein mat karo yet these\"  thinking\"  on kejriwal how cm ban gaya jisko kuch other than aata delhi on barbad of\"  … ',\n",
       " 'rt _ vikal this scene is from “ young zamana “ ace super hit film . with his blessings your dharam has playe … ',\n",
       " 'within have sarkarko yet akhari blow bata king\"  hun ki inhone suppose shreychoropar karvai other than ki to within unko anewalen chun … ',\n",
       " '_ h _ ace _ r _ m _ i _ oye chutiye sub bol rahe I\"  these\"  dekh isne tera tweet copy kia idiot K\"  patthe kahi K\"  😂😂 timing … ',\n",
       " 'i wish nargees mother was alive then sambhoo snj duttmba banta . country of\"  title roshan kartasab … ',\n",
       " 'yeh other than badlega . hara flavour\"  iske blood\"  I\"  sama chuka hai omnibus\"  yet these\"  kuch daytime of\"  hindu h jald hi … ',\n",
       " 'this have spirited\"  girla great daughter of sindh \\' dharti\\'daughter of shaheed muhtama benazeer bhutto . shah … ',\n",
       " 'rt _ snack one on pehly message krne se apki shaan we kami other than ajati . . . han lekin dosra khud on bohat toup cheez smjhne l … ',\n",
       " 'sir alladin K\"  jariye you ne hume bachpan recollection dilaya hai thanks for that but story I\"  ever ever th … ',\n",
       " 'rt we\"  don\"  ’ t need it . but i ’ ll teach you so you can addd a lil razzle dazzle ',\n",
       " 'rt i think prabhas is right choice for d4 srk ko slb K\"  sath koi movie krna chaiye jisme powerful act … ',\n",
       " 'congratulations heart our very own prime minister on ur such a super winning . my 5 year old daughter is … ',\n",
       " 'or i wish very yet very happy yet blessed # ramadan or # ramjaan month to indian national congress president shri … ',\n",
       " 'abb to samajh ja ... yet these\"  filthy raajneeti karna chhod D\"  ... janta ne too\"  other than vote diya tujhe ... d … ',\n",
       " 'naif\"  character with 0000 haters .. love U\"  imran after watching this episode kis tarah gradually theek horaha hy o … ',\n",
       " 'have bandy K\"  each\"  words\"  jhoot se shoro hoti hai or jhoot over khatm hoti hai . the worst part is that every indian believ … ',\n",
       " 'rt is it possible ?? sabhi situatiin on dkhne K\"  after nd saari logical chz ke result on jaannne K\"  after aisa hona chahiye or n … ',\n",
       " '_ tuj jaise on koi kyu marega you free ka entertainment deta hai waise b while se congress join kiya tab s … ',\n",
       " '_ sharma tero on passage\"  sunne of\"  shok hai lagta hai ispar video banan lnk\"  bhikhari sale 👇 ',\n",
       " 'khaber D\"  rahe lnk\"  ya opinion band karo these\"  drama jitne propaganda journalist bhare I\"  studio I\"  unko nikalo without ',\n",
       " 'upa K\"  dikha many mile ?? baaki parties K\"  dikha many mile ?? kya nda se zyada mile ?? answer is no … ',\n",
       " 'jaise nidus\"  I\"  paise K\"  lale pade lnk\"  to children khelne other than jate shoaib these\"  asar hota hai dimag over playe … ',\n",
       " 'sabhi state\"  wassion on bahut bahut badhaai lnk\"  today 2014 K\"  after sh modi heart phir se dusari times\"  India K\"  prime minist … ',\n",
       " 'have on you bolny ki too\"  tameez ni apny father ki umer waly on kaisy mukhtib krti hai suppose tameez hoti you ap … ',\n",
       " '_ sun have is not moron because he is capable to be a mp people have voted for ice aapne itne … ',\n",
       " 'yet ap on esy rrmarks ni dyne chahy yet you ap hath mila chuky hai ..... or sirf maryam on sath baitha … ',\n",
       " 'these\"  many kamine lootere hain state\"  K\"  who\"  apni haar pacha other than pa rahe hain aakhir kis mooh se ayenge … ',\n",
       " 'rt ye hd kumaraswamy hamesha aisi shakal kyon bana K\"  rakhta hai jaise kayi daytime se shit other than I\"  . ever bangalore within di … ',\n",
       " 'we are always on omnibus\"  mauka milna chahiye program turant lnk\"  jaayega ',\n",
       " 'rt _ allsports news flash shooting world cup ( munich ) | manu bhaker / saurabh chaudhary win gold medal in 10m air pistol mixed team … ',\n",
       " 'ianuragthakur anurag brother bahut buhut mubarak bahut badi winning\"  per or mantri banane ki . yesterday\"  oath ce … ',\n",
       " '_ rode nice bohot khob jorri banai hai khuda ',\n",
       " '@_ pakhtoon _ @_ bunnytherabbit _ mahdi _ I\"  _ saifayy _ flavour\"  apun qaid have other than lnk\"  ',\n",
       " 'these\"  hamrey state\"  of\"  aaur state\"  K\"  logo of\"  saubhagya hai ki you jaisa state\"  bhakat pm hamko yet hamrey state\"  on mila for … ',\n",
       " '_ offl _ pallavi92 rakul preet U\"  are beautiful 😍 ',\n",
       " 'eid tk 5k yes karao 🌚🌚🌚🌝🌝😂😂 _ my favourities 😌🌚😂❤ ',\n",
       " '_ jerry ghr mae he best hti ha bt yet bahr of\"  arda ha ',\n",
       " 'or these\"  who\"  news channel waale gustakhi maaf jaisa majaak udaate hai those\" uska kya uspar koi action ku other than . ',\n",
       " '… ',\n",
       " '_ jane sir yet omnibus\"  yet other than these\"  rona dhona band kariye . bhad within jaye media bhad within jaye … ',\n",
       " 'many congratulations modiji . it is our good fortune to have you as our pm once gain . prospect hai we\"  … ',\n",
       " '_ tax _ lae normally meri madrid walon K\"  sath nai lgti lekin yourself\"  bht achy lnk\"  iss liye tumhare sath kbhi clubs over words\"  other than ki ',\n",
       " 'yourself\"  apny indian ki fikkar karo pakistan on we\"  khud dykh lyngy . ease\"  bahini 2 other than ban … ',\n",
       " 'today yesterday\"  pakistan on koi too\"  mar leta hai .😂😂😂 inse without lnk\"  paega 😂😂 # pakvwi ',\n",
       " '_ aqxiii bhena logon on nend aching\"  K\"  bestar pr b ajati thi baqol nfak plume\"  humy molty foam pr b other than severe 😂😂😂 ',\n",
       " 'rt _ p _ s now that you are no longer his fan please join some other fan club--like pulkit Goliath\"  or sun pancholi . good r … ',\n",
       " 'yes mam dream come true . # tukdetukdegang on these\"  # amitshah have aazadi denge ',\n",
       " 'apka esi bt pe dio up hogya to wapis bula len ? awin semi-dick thak without jawe 😂 just for fun bro ',\n",
       " 'rt _ gogri their\"  time aayega who bola mujse without lnk\"  payega ? reservation quota of\"  anth aayega mere jaisa open merit lala modi on … ',\n",
       " 'congratulations on your huge win one question kya you pradhanmantri aaarakshan K\"  aadhar plume\"  bane h … ',\n",
       " '_ — star hanap tayo ano uhm .... usap hangout soon and movie nightt hahahah miss U\"  paps ',\n",
       " 'got my mobile back ... thank god !!! special thanks to elita api sabbir vaiya ... tushar vai ... # uber ... krisno day & rasel vaiya ... ❤❤❤ ',\n",
       " 'good kismat\"  today guys . i ’ ll be watching on gamechanger . bring home regionals ! # decaturproud ',\n",
       " 'ba zameer on elaan ni kerna perta without have one ki support ki zaroorit hoti hai those\" apnibawaz knliae apn … ',\n",
       " 'cute (@ maryamjan143 ) on tiktok # imran # workings\"  # perfamance # umarh # ramzan # mubarak # alvida # friday ',\n",
       " 'kahi other than karat ... bjp cha fayada karnar . baki k … ',\n",
       " 'ek apel he K\"  sb on K\"  hume sanghar I\"  koi sahoolt nhi have seht ki . humare pas without medico\"  he without n i c … ',\n",
       " 'rt state of pakistan is no banana republic .. the way bilawal & maryam safdar still supporting 2 well known traitors … ',\n",
       " 'rt sir ye # congress logo change kr two kyoki election harne K\"  bad these\"  # tiranga dustbin I\"  jata h or pta nhi … ',\n",
       " 'imran workings\"  on phasany ki pori tayari hai ptm on mar k pashtoon kpk yet balochistan K\"  haalat kharab … ',\n",
       " 'i wish very happy yet blessed # ramadan or ramjaan month to U\"  the how res old lady \\' m kinds how res wife off … ',\n",
       " 'aur that\"  old lady K\"  dukh of\"  alam kya hoga jisko son she sath too\"  other than rakh pa raha while K\"  those\" pm hai yet n … ',\n",
       " 'roza hai koi glass\"  other than who\"  ghalti se toot jaega aesy . nothing to worry about . ',\n",
       " '_ elec _ mum sir aapki housing board ki ki office band tax dijiye yaha per shikayto per koi sunwai other than hoti raa … ',\n",
       " 'rt _ i swear 😂😂😂 ever arsal kamina lagta toh ever jiya ',\n",
       " 'hindu Muslim of\"  itna have problem hai toh mughlai chicken khaana band tax two yet panipuri sevpuri too\"  ban tax do .… ',\n",
       " 'rt 🎶 allez allez allez 🎶 showing some love for our friends across the pond today ! good luck ! # uclfinal ',\n",
       " 'zimbabwe ka shoaib akhtar tha these\"  wahiyat tareen wool thay sister fucker K\"  eid K\"  eid nahata tha ',\n",
       " '_ patrag while movies or tv other than tha to rape other than hote the daketi other than hoti thi you jis sanskruti ki words\"  kar … ',\n",
       " '_ thefilm best jodi salman and ali bhai # 15daystobharat ',\n",
       " 'cuz hindi is not a national language and modi have just a leader not a god .. its their own choice to whom … ',\n",
       " '__ pictures bro use your watermark . you deserve more credit so many pages posted your picture . love U\"  💙❤ ',\n",
       " 'abe you apni movie too\"  yed kr le thori trip gaya lnk\"  to ghatiya cuss\"  that\"  movie on to poster over have thuk diya tha audience ne 😂😂😂😂😂 ',\n",
       " 'it ’ s audrey ’ s birthday 🎂 let ’ s wish her a happy birthday 💥 # bunphotography # jesa # photograghy # babiesarethebest … ',\n",
       " '__ _ jassie _ seedha sale ja ja K\"  hamare bare I\"  unse ulta sidha bolta hai kamine dekha lena Mary\"  … ',\n",
       " 'smt sonia gandhi K\"  jagah old lady / mummy kuch v likhta i bet you apke liye 20% respect aata which is now -… ',\n",
       " '_ sh proud feel kro or up raho log copy to krty hy naw 😎 ',\n",
       " '🏵️ good morning papa heart plz bless I\"  more service sumiran parmarth of\"  wool bakhshna heart dhan dhan sa … ',\n",
       " 'who\"  gunegar hai usko to # rpf dhunti other than .. ace lnk\"  wrong\"  on pakad K\"  their\"  power dekhati hai ... # rpf ko sarm aani c … ',\n",
       " 'thanku very much you sbne ace times\"  phir modi heart on chuna U\"  are the best you get the best ',\n",
       " 'hera mandi K\"  harami tere nigger mouth within peshab karo what is this ',\n",
       " 'his smile 💕 we\"  jaan ❤ love dosti hai love is friendship 👫 bff time # parthsamthaan … ',\n",
       " '_ carmen22 we\"  thank google ok K\"  sanalwam one step at the time phela mna im not a troll i just want us to gt … ',\n",
       " 'are these\"  khurje wala of\"  gale I\"  kya hai ... kahi mota brother amit sah of\"  wwf wala punch to other than pad gaya ?… ',\n",
       " '_ geo ager qom e youngness\"  wah wah leni lnk\"  to ik times\"  bolein . nawaz sharif chor ha . apko followers b milenge tar … ',\n",
       " 'wherever mar gaya hai . opposition wala asad umer . yet tabaadli ly of\"  anay walon . pata chala hai tabaadl … ',\n",
       " 'i am praying for your health sir get well soon sir party organization upcoming youths needs your margdarshan . ',\n",
       " 'godbless bro always remember so you may never forget ! _ jarina ',\n",
       " '_ palsapkar yet what about bhains K\"  seengh ?? actually\"  b g *** d I\"  have hai kya 😂😂😂 ',\n",
       " 'congress jeeti to evm thik ... nhi jeeti to evm khrab .... 😹😹😹😹 logic of # congess nowdays ',\n",
       " '_ uditraj have words\"  ki jyada nolleg tumko lagti h tabhi to bolne I\"  bilkul too\"  sarm nhi … ',\n",
       " 'rt _ insan _ rohit … ',\n",
       " 'rt __ dee i hope next time will show you some love bhut wami . some of us still listen to your old music # sama25 ',\n",
       " 'rt happy diwali to each and everyone . may this diwali bring a new light into our lives . yet i would like to thank all my fans … ',\n",
       " 'rt arjun ram meghwal bjp i thank the pm & amit shah ji for showing trust in I\"  . i thank them on behalf of the people of bikaner . pm … ',\n",
       " 'good morning pita heart thanks for the new day pls bless I\"  service sumrin and parmarth bakso ji … ',\n",
       " 'rt _ sekcy _ beti per to jannat ki zamanat hai khuda ki these\"  booj nhi amanat hai khuad ki bete ki mohabat I\"  khien bhool without jana beti … ',\n",
       " 'rt happy birthday _ kas a talented actor and family man U\"  are great performer whp always try to win audience heart … ',\n",
       " 'dear sir jin students ne one problem ki wajh se rrb je exam I\"  shamil other than lnk\"  paye unhe ace yet mauka diya jaye plzzz sir ',\n",
       " 'haram khor log ulta sneak\"  kotowal on dantey !! mulk torney ki words\"  kerney waley on or phulon K\"  each\"  pehn … ',\n",
       " '_ meanboi _ tahir _ 995 abe ekdam shut up she oppar on jaa K\"  these\"  bakwas suna you hindu hai iska matla … ',\n",
       " '_ subscription\"  should i hope fr the best - d ',\n",
       " 'may 24 1844 samuel morse typed out the 1st telegraph message . it read what hath god wrought and was sent from … ',\n",
       " 'you sabhi on hamari tarf se bahut sari subhkamnaye ',\n",
       " 'bibi these\"  who\"  video dikha passer-by lnk\"  these\"  kher se tumare sneak\"  papa yet sneak\"  uncle K\"  kale kartooton of\"  result … ',\n",
       " 'i address\"  world cup . they hear # jitega to india hi ',\n",
       " 'bahut bahut badhai priy modi heart janta jis bharose se aapko chuna hai unka dhyan … ',\n",
       " '_ gif _ very good . U\"  are saccha state\"  adorer\"  . proud of you . who needs food when there is air ! ',\n",
       " '70 yrs se to saab log employed the . sirf 5 year\"  within berojgari badhi hai . waise sach to hai . rahul gandhi berojgar lnk\"  gaya ',\n",
       " 'dekho tumhe I\"  didi other than bol sakta kyunki yourself\"  rakshak other than rakshashi ki tarah logo K\"  s … ',\n",
       " 'rt proud moment for goa as sri takes oath within # modisarkar2 i congratulate shripad bhau and thank the hon ’ b … ',\n",
       " 'rt _ winn _ er _ ___ 10 dhoova other than nikalta ...😎😂😂 ',\n",
       " 'prathamtah aapko pm banne ki hardik hardik shubhkamnaye . modi heart you India on digital india banaeye … ',\n",
       " 'we toh chala # jcbkikhudayi dekhne you gyan dete rahiye jai hind saradna heart bulaao ever mansion over thoda bartal … ',\n",
       " 'omnibus\"  tera sath lnk\"  chahe who\"  words\"  lnk\"  ❤ tere kahne se tax jaenge 🤗 miss U\"  pushp 😍 i really miss you 😘😘😀😭😢🙏🙏 ',\n",
       " 'i love U\"  so much shahrukh workings\"  you are the best actor and the best father good night … ',\n",
       " 'rt _ sharma _ # nakash _ aziz # live _ concert # happy red fm bajaate raho ! ',\n",
       " 'bilkul modi heart se niwedan hai ki jitna jaldi lnk\"  sake kanun lana chahiye state\"  fit k … ',\n",
       " '_ krishna lagbhag mnaa tax dia hai modi z ne bola K\"  those\" bc chutia hai ',\n",
       " 'gandhi fucker tha . state\"  of\"  divide tax diya bina kuch thinking\"  samajhke . yet who\"  musalman reh gaya tha w … ',\n",
       " '_ nighat maine dekha aapka episode wak … ',\n",
       " '100 % d e f . ...? lnk\"  brother good job lagay raho ',\n",
       " '_ nigam police of\"  these\"  bartav bahut have galat hai . ',\n",
       " 'bleed blue # cheerwithpride jeetega brother jeetega india jeetega winning\"  hamari hai ',\n",
       " 'aisi bakwaas karke pso on notorious\"  mat karo kahi gusse I\"  aake unerring\"  I\"  without swing D\"  😃😀 or sisodia apni … ',\n",
       " 'yet ise these\"  smaj kya bolega actually\"  too\"  koi bolega ki ise rhne of\"  pehenne of\"  dhng ni tha isliie aisa lnk\"  is bachi ko … ',\n",
       " 'army dress within aisa lag raha hai .. world cup have other than .... islamabad too\"  leke aayenge . ',\n",
       " 'neem of\"  patta kadva hai siddhu sala pimp hai have is famous for taking u tu … ',\n",
       " 'filhal to teri swing rha hun hahahahahahahahaha hahahahahahahahahahaha hahahhahahahha ha … ',\n",
       " 'have sneak\"  ne mulk of\"  pesssa loot tax air blue bana li ha have se pessa wapes lo ',\n",
       " '__ jay jay sri Ram\"  Ram\"  rajye ayah\"  have danavo rakshasho chudelno or surpankha K\"  gharoke sa … ',\n",
       " 'sharkary nokary kon dega . intihash gawah hai bjp ne ever sharkary nokary other than diya . jumalo ki sharkar ',\n",
       " 'rt how to respond to thank U\"  - U\"  are welcome - it is my pleasure - i know you would do the same for I\"  - no problem - it\\'s … ',\n",
       " 'brother of\"  daytime have kharab hai today pehle chappal chori lnk\"  gyi new delhi railway station per khane . pahucha to irctc cant … ',\n",
       " 'many many happy returns of the day 🎊🎉👌🎊🎉 informal up raho ..🙂 muskurati raho ..🙂 each\"  raste I\"  khushi pao ..♥️♥️ or hume … ',\n",
       " 'rt aaa ’ s only romantic song ello heart sanam was a tribute to a whole lot of things made famous by retro bollywood . the tangewala … ',\n",
       " 'rt sir kya ap ki university national technology council sy accredit hy ? kya nutech main bsc engine … ',\n",
       " 'we to fucker other than bana so it is obvious ki tere jaise piddi jaldi fucker banaye ja sakte hai ',\n",
       " 'rt _ tweets mast news hai re baba .. waah modiji waah .. state\"  on duba two we\"  tumhare sath hain . 😂😂😂😂 ',\n",
       " '# dsscampaignagainstdrugabuse papa heart aj my\"  p . hd entrance exam tha . ap heart ki rehmt se bahut acha … ',\n",
       " 'wazeer azam hind modi sub yet unki kabeena on tahe ticker\"  se mubarakbad pesh karta hun ',\n",
       " '5 not 15 such bolna to aata nhe hai siwai jhoot K\"  you on aata kya hai yet those\" 5 bacchay K\"  wajha s … ',\n",
       " '_ sharma _ also i hope you find it in your heart to love . i hope love wins over hate . god bless you ',\n",
       " '_ sharma you what faggot hai lnk\"  tere within hindu kerry lite nafrat bhari hai fucker tumko these\"  other than dikh … ',\n",
       " '_ khan these\"  to muhammad paigambar ki tasvir hai . ',\n",
       " 'rt _ insan12 # valuetime _ valuelife the revered saint dr . singh ji insan motivate people to put their time in good go … ',\n",
       " 'maine suna tha kuch ladkiya dimag se paidal hoti h ... bhut daytime se tracking\"  rha tha pr koi dikhi … ',\n",
       " \"jake you have become a fake news . i'm done . i truly thought you were about this . \",\n",
       " 'mr narender modi heart you we\"  garibo K\"  liye who\"  these\"  balance h bank m us minimum bank balance K\"  wajah se we\"  the poor l … ',\n",
       " 'best chappal award confirm can\\'t wait # tummeriho these\"  movie bht achi hogi 100% yet iss … ',\n",
       " 'rt _ aishwarya happy birthday mani ratnam sir 🎂 one of my most fav director \\U0001f929 can ’ t wait to see your next with aishwarya 🤞🏽 # hbdmanira … ',\n",
       " 'rt this picture has come in the right timeeeee ~~~!!!! # mishbir hamare Shah\"  and rheaso cuteee ! # yehrishteyhainpyaarke ',\n",
       " 'yahi to ki or # congress ki fitrat passer-by hai !!! inke she yaha abhivyakti ki azadi other than hai ace 50 year\"  K\"  … ',\n",
       " 'teri ammi hooker ne kya tha tujhe msg @_ mansoor _ ali bhan K\"  lore . lanat tere jaman wale daytime te 😈 😈 😈 ',\n",
       " 'apni smjh of\"  upyog suppose nhi kiya to who\"  galati old generation ne ki those\" have repeat hoti rhegi . hindi से hindu jaag gya … ',\n",
       " 'my\"  behen sony I\"  esiliye evm other than of\"  gutala other than mantahu kiu K\"  congress . sp . bsp . ncp . yet dus … ',\n",
       " 'rt says I\"  apko love dena chahta hun modi heart K\"  ticker\"  I\"  love bharna chahata hun love K\"  … ',\n",
       " 'dear ji nrc tho koi too\"  sadharan vyakti too\"  home minister K\"  padh se tax sakta hai parantu you jai se v … ',\n",
       " 'sir-ji these\"  baby\"  sub on heela dheyghi phele andhadhun ( what a film ) abi these\"  article 15 - trailer | a … ',\n",
       " 'bsdk maafi have to mangi thi atleast angrejo K\"  sath baith kr dinner to other than kiye . ',\n",
       " '_ haque again bakwas ... purpose of previous letter was just referral of cv not nepotism .... bibi je referral … ',\n",
       " '_ am _ mowglu _ memo insaan qatam hojata hai zindagi other than . ',\n",
       " '_ these\"  words\"  sri krishna ki old lady over other than laagu hoti kya jiski 8 aulaade thi these\"  words\"  kunti over … ',\n",
       " 'yourself\"  jiyo hajaro sal sal K\"  daytime lnk\"  50000 happy birthday to you my son sanskar ',\n",
       " 'rt nashville have season state\"  like what yall without states / cities think . ',\n",
       " 'sir ap kab ptm k against action lengy while mulk khrb krdy those\" ',\n",
       " 'no need re .. it\\'s just random thought 😂😂😂 suppose mereko marathi too\"  aate without pakka tereko chodunge other than I\"  ',\n",
       " '_ muhammadpti ali muhammad sb apki boht respect ha hare ticker\"  mn ap jesa insan b ager imran niyazi K\"  lye ache comm … ',\n",
       " 'those\" to hai have these\"  sale atankwadiyon K\"  sport hafij masud jiosama heart wale party or khandan se .. sale rahul chutiye atank … ',\n",
       " 'rt what a song sport jitna v sunoo mann have nehi blow raha hai # bekhayali i think this is the most infectious song of the these\"  … ',\n",
       " '_ rafique kameeny loogo on justice system sy wessy have nikal deena chaheye khud dafa hona too\"  theek hy ',\n",
       " '_ sheikh no entry ka board nhi laga tha wahan ? _ sheikh ',\n",
       " 'arey hamza brother i . m hugest fan u r the legend off pyarey afzal mann mail moula jutt love U\"  so mu … ',\n",
       " 'world ki sari khushi ace taraf ... padosiyon K\"  harne ki khushi ace taraf 🤣🤣🤣🤣 # wehavewewill # pakvwi # wivpak # cwc19 ',\n",
       " 'very good thinking jai siya Ram\"  jii ',\n",
       " '_ 11 i ’ m not fed anything . i ’ m an atheist . i didn ’ t have religious teachers come home and teach I\"  quran or b … ',\n",
       " 'sir kuchh logo K\"  question poochhne of\"  tareeqa of\"  samajh other than ata . condescending sa laga . jaise a … ',\n",
       " 'chutiye me stoner other than hu without teri tarh kuch sungne or fukne other than jata . lawde pata too\"  other than chalta ki … ',\n",
       " 'you wohi fucker hain naa .. who\"  foot foot K\"  roya tha ... abki times\"  tere ass within jhaadu khos K\"  mor ba … ',\n",
       " 'o god dame it .. bullshittt on this all ... kiaaa wasta lraya hy os ny ... have mulk mn bray bray b … ',\n",
       " '_ ugh i love them . ap hamein these\"  eidi bhej ga eid per okay ? ',\n",
       " 'yet bsd K\"  one on jalan other than hoti koi other than bolta inka father other than mara without isliye on … ',\n",
       " 'are murkh shikshamitro kiya bjp ne isse pehle kuch diya h tumhe who\"  a … ',\n",
       " 'those\" residency road ki shopping those\" purani mandi ki mastiya ever lambu K\"  goll gappe ever matman\"  ki mithas … ',\n",
       " 'haram ki khane wale on suppose haram of\"  kuch milata hai to koi kuch kahata hai to sahan too\"  karana cha … ',\n",
       " \"who doesn't love mangoes in the season of mangoes !? mouthwatering mangoes made into a laddoo ! make irresistibly del … \",\n",
       " 'ja politie swing het gaat om de vertaling richting de politiek . toch benieuwd wie dat het bewuste lijstj … ',\n",
       " '_ bear bjp fucker banaya hai state\"  on logo on yet vote of\"  pehele army on lekr politics kiya vote pana of\"  liya ',\n",
       " '_ samuel79 ur plume\"  a right track .. zindagi within bahut up rahoge son .. 👍 ',\n",
       " \"don't bark yr channel and that bhadwa rahul kunwal seems to be everything okay with bjp . \",\n",
       " '_ harne K\"  bad these\"  drama qabul have wo 1999 final each\"  ker wasim akram ki makruh hansi se behter have ',\n",
       " 'jay jay tax tab hota h while modi K\"  jase sachche dilvale neta lnk\"  ',\n",
       " 'bhart I\"  yahi bastard hai bc ganga jamuni ki nazyaz piddio on paida tax India on apvitra tax diya suppose yahi son … ',\n",
       " 'brother verma ji . apke kehne of\"  matlab each\"  jagah arvind kejriwal on imandaar of\"  natak thappad marva K\"  karna padega .… ',\n",
       " '_ 14 _ sister fucker itne daytime se thinking\"  raha hu dirty word naa du plume\"  these\"  behan K\"  l maiya ch * dane aajate hai r … ',\n",
       " 'rt konten rated ditantang sama okd i\\'m bored with your hands that always touch my head . why don\\'t U\"  touch my down … ',\n",
       " 'it was not sameers shirt . some people just ass … ',\n",
       " 'papa heart today my\"  central warehousing ka exam ha please mujha their\"  ashirwad dejea heart yet hmesha ki t … ',\n",
       " 'mamtadidi these\"  ranga billa ki jodiy aeisiy chalak lomdiy jese hei K\"  khud kucchh other than karenge onliy bholi publick ko … ',\n",
       " 'rt do not beleive anything bad U\"  here about potus she all lies they are plume\"  ace crusade to … ',\n",
       " 'love kee U\"  dia . ',\n",
       " '_ patniak koi too\"  ghatna hojaye .... tumlog sale sabhi I\"  sampradayik jatibad ki rajneeti karoge have .... sale chu … ',\n",
       " 'bihar ki tarah up I\"  too\"  daru band hona chahiye tabhi actually\"  blow you winning\"  payenge other than to kuch too\"  s … ',\n",
       " '# fox29goodday mamas is mon shout put happy 81st birthday to my mama love or to the moon n back love your crazy daug … ',\n",
       " 'but topi walay baboo\"  ki tau new job hougi humey chutti kesay milay heart ? 😭😭😭😭 ',\n",
       " 'world of\"  sabse bada imandaar to you hai democracy m birodh of\"  adhikaar hai yourself\"  unpadhoo on kaya malum ',\n",
       " 'happy fifth month sayang ☹️ i miss U\"  so much ☹️ i want you to be here ☹️ jaga diri kat kampung ☹️ please drive ca … ',\n",
       " 'jaise sun K\"  prakash se sare world on roshni milti h vese have hamare pm modi heart K\"  donara pm banne … ',\n",
       " 'those\" vote le K\"  other than betha tha logo on laray D\"  K\"  K\"  paris or france bna doonga pakistan on ! beghairat insan ! ',\n",
       " '_ mirchi travelling\"  tune confirm krdia n deta hun we ? travelling\"  yet suppose these\"  jhut hai to lanat tujh pr teri nasal … ',\n",
       " 'kalindi express -14703 railway very bed facility in sleeper class seat confirm hone K\"  bad too\"  other than milti seat bina … ',\n",
       " 'hit me up whenever you feel like it buddy brother scenes hain she ',\n",
       " 'rt sabka saath sabka vikas sabka sureness\"  # vijayibharat _ mahajan ',\n",
       " 'slogan giveaway woahhhhh but i really want to get one bc i cant ever win giveaways sighhh 🗿🗿🗿 ',\n",
       " '__ mb I\"  plume\"  kismat\"  ki laari these days ',\n",
       " '_ jiiiii social media over these\"  ( kripaya she kaam se matlab rakhe ) these\"  words\"  sobha other than deti you on … ',\n",
       " 'beta cbi court ne faisla diya hai ndtv ne nhi while jaankari other than lnk\"  to muh se haga mat kro ',\n",
       " '# nostalgia # sachin # cricket who all remember these anthems ... sachin humei world cup jeetna hai ...!!! cricket\"  w … ',\n",
       " '_ vksingh aapko dobara winning\"  ki hardik badhai lnk\"  magar aapse anurodh h ki you garima garden pasonda ghaziabad m s … ',\n",
       " 'chamchi wamchi kutch other than these\"  sub paiso over nachne wale log hain . the wherewithal phek yet who\"  c … ',\n",
       " 'we e e e e e e . U\"  ’ re cuter . i loge U\"  ',\n",
       " 'rahul gandhi ne these\"  kya tidings\"  state\"  on diya ki party president ko power nahi … ',\n",
       " 'tl pa kch h ni acha ajkl 🌚 ye phr b acha h wrna jitna ganda kia hwa h without kch ladkon ne tl on k bss 🌚 ',\n",
       " 'jaisi tumhare captain ki sakal hai same waisa have performance diya hai today pakistan ne 👏👏 ',\n",
       " 'rt these\"  father hai these\"  saanp hai these\"  she jamboree\"  of\"  wrong\"  hai inko pade jhaap hai yet aaplog samajdar hai kon kis pic ko denote k … ',\n",
       " 'app logo on bohat jalan lnk\"  rahe hain bernol use keya karo 🤣🤣 bloody afghanis . khud to london I\"  mazey l … ',\n",
       " '_ I\"  _ 80 third is what murder or swing dhaad karne wala ? 😂 kaam of\"  place hai ',\n",
       " 'tweeten gick in i 3 lag s å h ä r grovt haha dog av garv ',\n",
       " 'rt ok you ’ re up what ’ s your pick for best episode for people to watch in an effort to # saveapbio ? # bingebio … ',\n",
       " 'ace buddhe on these\"  shoba other than deta ... bekaar tau you tha who\"  jail within makhiya marne bheja hai . khattarji … ',\n",
       " 'sir suppose you fm ban jate to bombino buddhu bc pucca chor vegarah on jail who bhejta .. you isi role we bdi … ',\n",
       " 'i wish very happy yet blessed # ramadan or # ramjaan month to U\"  the hon 44th president shri sir off uni … ',\n",
       " '_ zafar jake punture bana yet gandhe bech travelling\"  nikal idhar se ',\n",
       " 'other than . these\"  jhoot hai .. pappu already zone gaya . these\"  dekho . ',\n",
       " 'oyeee happy birthdayyy !!!! javiiii !❤❤ you are one the best girl in twitter ! literally !😭❤ its your day n i wish k … ',\n",
       " 'asad brother always available for his people either you can meet ice at his offi … ',\n",
       " '_ shine _ glows _ wave24 _ happuu maine those\" sub kuchh ni dekha 😂😂😂 ',\n",
       " 'mashaallha beautiful couple in the world brother donoko nazar lagjayegi 👌👌👌👌 ',\n",
       " 'humari team kyu consistently perform other than tax paati iski bohot badi waja humare fans too\"  hai . itne reactionary or n … ',\n",
       " 'you kyon rota hai harami tere nidus\"  of\"  wind toh tere pichwade se nikla lnk\"  istemal hota hai chane kha p … ',\n",
       " 'tumhari rozi cake\"  of\"  question to ayega other than those\" to unofficial bite mill jata hai bjp spokesperson jo lnk\"  ',\n",
       " '_ rashid yet salo these\"  galat h toh haiiii lkn bjp of\"  nam kyu kya wahan narendra modi khda h or amit shahh .... s … ',\n",
       " 'teachers ko powerful kia jay . pass failed\"  of\"  system hona chahiye . teachers of\"  kaam just teaching lnk\"  . hr … ',\n",
       " 'rt happy happy birthday 🎂🎂 # teamindia ',\n",
       " 'rt sirjee U\"  are our last hope . we\"  are eagerly awaiting for your good step towards jet airways employees … ',\n",
       " 'rt sahe silver 22’ w played at a very high level this weekend so much activity on both ends of the floor back … ',\n",
       " 'samajwadi party ki government\"  I\"  these\"  mahoday pal pal I\"  jamboree\"  on chetaya krte the yet sayad enhone aankh over patti baand l … ',\n",
       " '_ adarsh all the best !!! next chindi hit like # kesari for b grade actor in his best phase 😂 ',\n",
       " 'i love hanging with old lady ’ khya all we two is laugh ',\n",
       " 'rt _ sa kindly today bta have dijiye private bank ne today tk ki … ',\n",
       " \"i'll two my best ! poured love to mitra 😍😍 \",\n",
       " 'happy ending 😍😘😘 so sad K\"  inta zabardast tv serial end lnk\"  gia 😥😥 hats off to iqra aziz nd imran ashraf for amazing inc … ',\n",
       " 'good morning samaniya pm modi heart i am from odisha ape jit K\"  liye mubarakho yea pura India bars ke l … ',\n",
       " 'you\\'re so humble ♥️ while neeyat achi lnk\"  to awaaz khud have meethi hojati hai 💜 you\\'re such a sweet soul Allah tumhe up rakhe ',\n",
       " 'evm K\"  harware I\"  setting karke chunaaw jeetaa gya hai election commission pese khaakar bjp on jitaya hai . hardwar … ',\n",
       " 'modi heart you on pm keliy lalat plume\"  true sandalwood ki nose aor scarlet\"  dwaja kandhe plume\"  dharan tax old lady bharti of\"  adorer\"  banne K\"  … ',\n",
       " 'rt _ mumbai thanks sir appreciate your efforts ',\n",
       " 'modi heart aapko 2nd term kai liya congrats these\"  dusra safar aapka india on bahut aagaye lai jayega y … ',\n",
       " 'manniya ravishankar prasad heart you se aagrah hai ki you jis rural area\"  alawalpur on god liya tha u … ',\n",
       " 'i love this baby\"  ❤ he\\'s so cute 😍😍 his expressions 😂😍😍 his hair 💕 his chubby cheeks 😊😄 ps i don\\'t watch … ',\n",
       " 'the light of truth off we\"  king lord rayel ! let all mankind address\"  amen-shalom-allah the meriful ! love off the light of truth ! ',\n",
       " 'lol 😁😁 india on aik blow nae haraya aj up until <something> yet ap nay dau blow harwa dia aik he tournament men d tho … ',\n",
       " 'rt young and energetic have the new # mos congratulations and all the best . _ awaaz # modi2 ',\n",
       " '_ tech ahh no problem thanks for offering help ! ',\n",
       " 'rt 🙏 waheguru heart of\"  khalsa waheguru heart ki fateh ❤️ prayed for all of us !!! 😊❤️# goldentemple # amritsar long nanak ’ s 550th b … ',\n",
       " '😂😂😂.. sultan dabangg tiger bhaijaan masterpiece straightforward\"  king off bollywood darling big smell\"  anchor fee 300c … ',\n",
       " 'chaar panktiyan have a perfect tool for writers it is providing free editing designing publishing and marketing … ',\n",
       " 'modiji on hardik subhkamnaye . India of\"  bhavishya unke chhatra-chhaya within ujjwal hai … ',\n",
       " 'kam se kam iswar ne ace aisa leader state\"  mei bheja hai warna kya hota state\"  of\"  ... s … ',\n",
       " 'wow very nice unko within bahut bahut badhai dein ti huh yet prospect rakhti huh K\"  sath lein ney K\"  after se turant kaam … ',\n",
       " ...]"
      ]
     },
     "execution_count": 77,
     "metadata": {
      "tags": []
     },
     "output_type": "execute_result"
    }
   ],
   "source": [
    "sentences"
   ]
  },
  {
   "cell_type": "code",
   "execution_count": 0,
   "metadata": {
    "colab": {
     "base_uri": "https://localhost:8080/",
     "height": 163
    },
    "colab_type": "code",
    "executionInfo": {
     "elapsed": 1115,
     "status": "error",
     "timestamp": 1572768543996,
     "user": {
      "displayName": "Abhishek Singh, 4-Yr B Tech, Electrical Engg, IIT (BHU) Varanasi",
      "photoUrl": "https://lh3.googleusercontent.com/a-/AAuE7mBAu6pD-I3Pdn_I1oxZJBB7hudMcmxHG9cW6HOh=s64",
      "userId": "13571043541178143551"
     },
     "user_tz": -330
    },
    "id": "a6Fvhy6XTzUP",
    "outputId": "112f9060-0243-4d1e-9ffb-943b19d61dd9"
   },
   "outputs": [
    {
     "ename": "KeyError",
     "evalue": "ignored",
     "output_type": "error",
     "traceback": [
      "\u001b[0;31m---------------------------------------------------------------------------\u001b[0m",
      "\u001b[0;31mKeyError\u001b[0m                                  Traceback (most recent call last)",
      "\u001b[0;32m<ipython-input-41-b288da1506e8>\u001b[0m in \u001b[0;36m<module>\u001b[0;34m()\u001b[0m\n\u001b[0;32m----> 1\u001b[0;31m \u001b[0mhindi_to_english\u001b[0m\u001b[0;34m[\u001b[0m\u001b[0;34m'का'\u001b[0m\u001b[0;34m]\u001b[0m\u001b[0;34m\u001b[0m\u001b[0;34m\u001b[0m\u001b[0m\n\u001b[0m",
      "\u001b[0;31mKeyError\u001b[0m: 'का'"
     ]
    }
   ],
   "source": [
    "hindi_to_english['का']"
   ]
  },
  {
   "cell_type": "code",
   "execution_count": 0,
   "metadata": {
    "colab": {},
    "colab_type": "code",
    "id": "BQUe8O70OtMx"
   },
   "outputs": [],
   "source": [
    "sentences=[]\n",
    "s=''\n",
    "for i in range(train_raw.shape[0]):\n",
    "  if len(train_raw[0][i].split())==3:\n",
    "    sentences.append(s)\n",
    "    s=''\n",
    "  else:\n",
    "    s=s+train_raw[0][i].split()[0]+' '"
   ]
  },
  {
   "cell_type": "code",
   "execution_count": 0,
   "metadata": {
    "colab": {},
    "colab_type": "code",
    "id": "IjQtbDNKPCjF"
   },
   "outputs": [],
   "source": [
    "sentences.append(s)"
   ]
  },
  {
   "cell_type": "code",
   "execution_count": 0,
   "metadata": {
    "colab": {},
    "colab_type": "code",
    "id": "V4z8eYexPpQn"
   },
   "outputs": [],
   "source": [
    "sentences=sentences[1:]"
   ]
  },
  {
   "cell_type": "code",
   "execution_count": 0,
   "metadata": {
    "colab": {
     "base_uri": "https://localhost:8080/",
     "height": 34
    },
    "colab_type": "code",
    "executionInfo": {
     "elapsed": 774,
     "status": "ok",
     "timestamp": 1572113144498,
     "user": {
      "displayName": "Abhishek Singh, 4-Yr B Tech, Electrical Engg, IIT (BHU) Varanasi",
      "photoUrl": "https://lh3.googleusercontent.com/a-/AAuE7mBAu6pD-I3Pdn_I1oxZJBB7hudMcmxHG9cW6HOh=s64",
      "userId": "13571043541178143551"
     },
     "user_tz": -330
    },
    "id": "9NHX-2r3Pr4s",
    "outputId": "e038be56-2f50-4cf9-cb82-6bea0fc343c3"
   },
   "outputs": [
    {
     "data": {
      "text/plain": [
       "13524"
      ]
     },
     "execution_count": 16,
     "metadata": {
      "tags": []
     },
     "output_type": "execute_result"
    }
   ],
   "source": [
    "len(sentences)"
   ]
  },
  {
   "cell_type": "code",
   "execution_count": 0,
   "metadata": {
    "colab": {
     "base_uri": "https://localhost:8080/",
     "height": 34
    },
    "colab_type": "code",
    "executionInfo": {
     "elapsed": 1250,
     "status": "ok",
     "timestamp": 1572113187322,
     "user": {
      "displayName": "Abhishek Singh, 4-Yr B Tech, Electrical Engg, IIT (BHU) Varanasi",
      "photoUrl": "https://lh3.googleusercontent.com/a-/AAuE7mBAu6pD-I3Pdn_I1oxZJBB7hudMcmxHG9cW6HOh=s64",
      "userId": "13571043541178143551"
     },
     "user_tz": -330
    },
    "id": "1xJd-shSPtJj",
    "outputId": "e3583d49-48c0-4d62-8f57-fd09817767e9"
   },
   "outputs": [
    {
     "data": {
      "text/plain": [
       "'@ kunalkamra88 @ Swamy39 ISS ko @ BJP4India wale doglepan I alawa kuch bhi nahi karenge . '"
      ]
     },
     "execution_count": 17,
     "metadata": {
      "tags": []
     },
     "output_type": "execute_result"
    }
   ],
   "source": [
    "s"
   ]
  },
  {
   "cell_type": "code",
   "execution_count": 0,
   "metadata": {
    "colab": {},
    "colab_type": "code",
    "id": "WM6gst6BP3ne"
   },
   "outputs": [],
   "source": [
    "language=[]\n",
    "l=[]\n",
    "for i in range(train_raw.shape[0]):\n",
    "  if len(train_raw[0][i].split())==3:\n",
    "    language.append(s)\n",
    "    s=[]\n",
    "  else:\n",
    "    if len(train_raw[0][i].split())==2:\n",
    "      if train_raw[0][i].split()[1]=='Hin' or train_raw[0][i].split()[1]=='Eng':\n",
    "        s.append(train_raw[0][i].split()[1])\n",
    "      else:\n",
    "        s.append('Hin')\n",
    "    else:\n",
    "      s.append('Hin')"
   ]
  },
  {
   "cell_type": "code",
   "execution_count": 0,
   "metadata": {
    "colab": {},
    "colab_type": "code",
    "id": "8awH5e5yQOh7"
   },
   "outputs": [],
   "source": [
    "language.append(s)"
   ]
  },
  {
   "cell_type": "code",
   "execution_count": 0,
   "metadata": {
    "colab": {},
    "colab_type": "code",
    "id": "QNNXtuasQR0h"
   },
   "outputs": [],
   "source": [
    "language=language[1:]"
   ]
  },
  {
   "cell_type": "code",
   "execution_count": 0,
   "metadata": {
    "colab": {
     "base_uri": "https://localhost:8080/",
     "height": 34
    },
    "colab_type": "code",
    "executionInfo": {
     "elapsed": 1367,
     "status": "ok",
     "timestamp": 1572113540190,
     "user": {
      "displayName": "Abhishek Singh, 4-Yr B Tech, Electrical Engg, IIT (BHU) Varanasi",
      "photoUrl": "https://lh3.googleusercontent.com/a-/AAuE7mBAu6pD-I3Pdn_I1oxZJBB7hudMcmxHG9cW6HOh=s64",
      "userId": "13571043541178143551"
     },
     "user_tz": -330
    },
    "id": "0SlS5BquRMPZ",
    "outputId": "65e30930-6a9c-44b2-b439-d65fe81457f8"
   },
   "outputs": [
    {
     "data": {
      "text/plain": [
       "13524"
      ]
     },
     "execution_count": 26,
     "metadata": {
      "tags": []
     },
     "output_type": "execute_result"
    }
   ],
   "source": [
    "len(language)"
   ]
  },
  {
   "cell_type": "code",
   "execution_count": 0,
   "metadata": {
    "colab": {},
    "colab_type": "code",
    "id": "kBfJ2YUFRNwd"
   },
   "outputs": [],
   "source": [
    "dev_raw=pd.read_csv('/content/drive/My Drive/Sentimix/trial_conll.txt',header=None)"
   ]
  },
  {
   "cell_type": "code",
   "execution_count": 0,
   "metadata": {
    "colab": {},
    "colab_type": "code",
    "id": "myOmBJxhRfF2"
   },
   "outputs": [],
   "source": [
    "labels_dev=[]\n",
    "for i in range(dev_raw.shape[0]):\n",
    "  if len(dev_raw[0][i].split())==3:\n",
    "    labels_dev.append(dev_raw[0][i].split()[2])"
   ]
  },
  {
   "cell_type": "code",
   "execution_count": 0,
   "metadata": {
    "colab": {
     "base_uri": "https://localhost:8080/",
     "height": 34
    },
    "colab_type": "code",
    "executionInfo": {
     "elapsed": 1811,
     "status": "ok",
     "timestamp": 1572113692005,
     "user": {
      "displayName": "Abhishek Singh, 4-Yr B Tech, Electrical Engg, IIT (BHU) Varanasi",
      "photoUrl": "https://lh3.googleusercontent.com/a-/AAuE7mBAu6pD-I3Pdn_I1oxZJBB7hudMcmxHG9cW6HOh=s64",
      "userId": "13571043541178143551"
     },
     "user_tz": -330
    },
    "id": "2NLe6pqvRtPO",
    "outputId": "9eb41c4f-e21e-488f-dc64-bfd42799c5fe"
   },
   "outputs": [
    {
     "data": {
      "text/plain": [
       "1869"
      ]
     },
     "execution_count": 30,
     "metadata": {
      "tags": []
     },
     "output_type": "execute_result"
    }
   ],
   "source": [
    "len(labels_dev)"
   ]
  },
  {
   "cell_type": "code",
   "execution_count": 0,
   "metadata": {
    "colab": {},
    "colab_type": "code",
    "id": "BVHuuKm5Rytf"
   },
   "outputs": [],
   "source": [
    "sentences_dev=[]\n",
    "s=''\n",
    "for i in range(dev_raw.shape[0]):\n",
    "  if len(dev_raw[0][i].split())==3:\n",
    "    sentences_dev.append(s)\n",
    "    s=''\n",
    "  else:\n",
    "    s=s+dev_raw[0][i].split()[0]+' '"
   ]
  },
  {
   "cell_type": "code",
   "execution_count": 0,
   "metadata": {
    "colab": {},
    "colab_type": "code",
    "id": "cehxhUg6R9Mb"
   },
   "outputs": [],
   "source": [
    "sentences_dev.append(s)\n",
    "sentences_dev=sentences_dev[1:]"
   ]
  },
  {
   "cell_type": "code",
   "execution_count": 0,
   "metadata": {
    "colab": {},
    "colab_type": "code",
    "id": "TwPW0SAwSE1A"
   },
   "outputs": [],
   "source": [
    "language_dev=[]\n",
    "l=[]\n",
    "for i in range(dev_raw.shape[0]):\n",
    "  if len(dev_raw[0][i].split())==3:\n",
    "    language_dev.append(s)\n",
    "    s=[]\n",
    "  else:\n",
    "    if len(dev_raw[0][i].split())==2:\n",
    "      if dev_raw[0][i].split()[1]=='Hin' or dev_raw[0][i].split()[1]=='Eng':\n",
    "        s.append(dev_raw[0][i].split()[1])\n",
    "      else:\n",
    "        s.append('Hin')\n",
    "    else:\n",
    "      s.append('Hin')"
   ]
  },
  {
   "cell_type": "code",
   "execution_count": 0,
   "metadata": {
    "colab": {},
    "colab_type": "code",
    "id": "zzz7uyGmSXWX"
   },
   "outputs": [],
   "source": [
    "language_dev.append(s)\n",
    "language_dev=language_dev[1:]"
   ]
  },
  {
   "cell_type": "code",
   "execution_count": 0,
   "metadata": {
    "colab": {
     "base_uri": "https://localhost:8080/",
     "height": 34
    },
    "colab_type": "code",
    "executionInfo": {
     "elapsed": 1094,
     "status": "ok",
     "timestamp": 1572113878543,
     "user": {
      "displayName": "Abhishek Singh, 4-Yr B Tech, Electrical Engg, IIT (BHU) Varanasi",
      "photoUrl": "https://lh3.googleusercontent.com/a-/AAuE7mBAu6pD-I3Pdn_I1oxZJBB7hudMcmxHG9cW6HOh=s64",
      "userId": "13571043541178143551"
     },
     "user_tz": -330
    },
    "id": "q4A3Nv7tSe4q",
    "outputId": "5db52586-cd9a-47c4-c2b0-11e324d8fe4d"
   },
   "outputs": [
    {
     "data": {
      "text/plain": [
       "1869"
      ]
     },
     "execution_count": 35,
     "metadata": {
      "tags": []
     },
     "output_type": "execute_result"
    }
   ],
   "source": [
    "len(language_dev)"
   ]
  },
  {
   "cell_type": "code",
   "execution_count": 0,
   "metadata": {
    "colab": {},
    "colab_type": "code",
    "id": "xPMcDyu5Sgkh"
   },
   "outputs": [],
   "source": [
    "df_train_labels=pd.DataFrame({'labels':labels})\n"
   ]
  },
  {
   "cell_type": "code",
   "execution_count": 0,
   "metadata": {
    "colab": {
     "base_uri": "https://localhost:8080/",
     "height": 204
    },
    "colab_type": "code",
    "executionInfo": {
     "elapsed": 788,
     "status": "ok",
     "timestamp": 1572113936713,
     "user": {
      "displayName": "Abhishek Singh, 4-Yr B Tech, Electrical Engg, IIT (BHU) Varanasi",
      "photoUrl": "https://lh3.googleusercontent.com/a-/AAuE7mBAu6pD-I3Pdn_I1oxZJBB7hudMcmxHG9cW6HOh=s64",
      "userId": "13571043541178143551"
     },
     "user_tz": -330
    },
    "id": "M-DFuslhSszo",
    "outputId": "887aea8c-c852-4e2f-b522-7432a19f88ad"
   },
   "outputs": [
    {
     "data": {
      "text/html": [
       "<div>\n",
       "<style scoped>\n",
       "    .dataframe tbody tr th:only-of-type {\n",
       "        vertical-align: middle;\n",
       "    }\n",
       "\n",
       "    .dataframe tbody tr th {\n",
       "        vertical-align: top;\n",
       "    }\n",
       "\n",
       "    .dataframe thead th {\n",
       "        text-align: right;\n",
       "    }\n",
       "</style>\n",
       "<table border=\"1\" class=\"dataframe\">\n",
       "  <thead>\n",
       "    <tr style=\"text-align: right;\">\n",
       "      <th></th>\n",
       "      <th>labels</th>\n",
       "    </tr>\n",
       "  </thead>\n",
       "  <tbody>\n",
       "    <tr>\n",
       "      <th>0</th>\n",
       "      <td>negative</td>\n",
       "    </tr>\n",
       "    <tr>\n",
       "      <th>1</th>\n",
       "      <td>negative</td>\n",
       "    </tr>\n",
       "    <tr>\n",
       "      <th>2</th>\n",
       "      <td>positive</td>\n",
       "    </tr>\n",
       "    <tr>\n",
       "      <th>3</th>\n",
       "      <td>positive</td>\n",
       "    </tr>\n",
       "    <tr>\n",
       "      <th>4</th>\n",
       "      <td>positive</td>\n",
       "    </tr>\n",
       "  </tbody>\n",
       "</table>\n",
       "</div>"
      ],
      "text/plain": [
       "     labels\n",
       "0  negative\n",
       "1  negative\n",
       "2  positive\n",
       "3  positive\n",
       "4  positive"
      ]
     },
     "execution_count": 37,
     "metadata": {
      "tags": []
     },
     "output_type": "execute_result"
    }
   ],
   "source": [
    "df_train_labels.head()"
   ]
  },
  {
   "cell_type": "code",
   "execution_count": 0,
   "metadata": {
    "colab": {},
    "colab_type": "code",
    "id": "yMdYl9haSulU"
   },
   "outputs": [],
   "source": [
    "df_train_sent=pd.DataFrame({'sent':sentences})\n",
    "df_train_lang=pd.DataFrame({'lang':language})\n",
    "df_dev_labels=pd.DataFrame({'labels':labels_dev})\n",
    "df_dev_sent=pd.DataFrame({'sent':sentences_dev})\n",
    "df_dev_lang=pd.DataFrame({'lang':language_dev})"
   ]
  },
  {
   "cell_type": "code",
   "execution_count": 0,
   "metadata": {
    "colab": {},
    "colab_type": "code",
    "id": "_lZsmhE2TVkp"
   },
   "outputs": [],
   "source": [
    "df_train_labels.to_csv('/content/drive/My Drive/Sentimix/train_labels.csv',index=False)"
   ]
  },
  {
   "cell_type": "code",
   "execution_count": 0,
   "metadata": {
    "colab": {},
    "colab_type": "code",
    "id": "2Mlxk4W_Tg-x"
   },
   "outputs": [],
   "source": [
    "df_train_lang.to_csv('/content/drive/My Drive/Sentimix/train_language.csv',index=False)"
   ]
  },
  {
   "cell_type": "code",
   "execution_count": 0,
   "metadata": {
    "colab": {},
    "colab_type": "code",
    "id": "TPfwRsMzTzrs"
   },
   "outputs": [],
   "source": [
    "df_train_sent.to_csv('/content/drive/My Drive/Sentimix/train_sentences.csv',index=False)"
   ]
  },
  {
   "cell_type": "code",
   "execution_count": 0,
   "metadata": {
    "colab": {},
    "colab_type": "code",
    "id": "TY-YWJzmT98l"
   },
   "outputs": [],
   "source": [
    "df_dev_labels.to_csv('/content/drive/My Drive/Sentimix/dev_labels.csv',index=False)"
   ]
  },
  {
   "cell_type": "code",
   "execution_count": 0,
   "metadata": {
    "colab": {},
    "colab_type": "code",
    "id": "dD7PA5sqUEMx"
   },
   "outputs": [],
   "source": [
    "df_dev_lang.to_csv('/content/drive/My Drive/Sentimix/dev_language.csv',index=False)"
   ]
  },
  {
   "cell_type": "code",
   "execution_count": 0,
   "metadata": {
    "colab": {},
    "colab_type": "code",
    "id": "qN9vR4vjUMft"
   },
   "outputs": [],
   "source": [
    "df_dev_sent.to_csv('/content/drive/My Drive/Sentimix/dev_sentences.csv',index=False)"
   ]
  },
  {
   "cell_type": "code",
   "execution_count": 0,
   "metadata": {
    "colab": {},
    "colab_type": "code",
    "id": "meiuJyH2UTC1"
   },
   "outputs": [],
   "source": [
    "hot_data.to_csv(root_path+'hot_data.csv',index=False)"
   ]
  },
  {
   "cell_type": "code",
   "execution_count": 0,
   "metadata": {
    "colab": {},
    "colab_type": "code",
    "id": "QfVkVkCn73Z7"
   },
   "outputs": [],
   "source": []
  }
 ],
 "metadata": {
  "colab": {
   "collapsed_sections": [],
   "name": "data_loader_spanglish",
   "provenance": [
    {
     "file_id": "1U1cm_CW6T5VgicTfesAaw5m2q5fJpgdE",
     "timestamp": 1574079899917
    }
   ]
  },
  "kernelspec": {
   "display_name": "Python 3",
   "language": "python",
   "name": "python3"
  },
  "language_info": {
   "codemirror_mode": {
    "name": "ipython",
    "version": 3
   },
   "file_extension": ".py",
   "mimetype": "text/x-python",
   "name": "python",
   "nbconvert_exporter": "python",
   "pygments_lexer": "ipython3",
   "version": "3.6.5"
  }
 },
 "nbformat": 4,
 "nbformat_minor": 1
}
