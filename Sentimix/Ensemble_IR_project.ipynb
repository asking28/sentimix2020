{
 "cells": [
  {
   "cell_type": "code",
   "execution_count": null,
   "metadata": {
    "colab": {
     "base_uri": "https://localhost:8080/",
     "height": 34
    },
    "colab_type": "code",
    "executionInfo": {
     "elapsed": 1076,
     "status": "ok",
     "timestamp": 1597139352152,
     "user": {
      "displayName": "Abhishek Singh, 4-Yr B Tech, Electrical Engg, IIT (BHU) Varanasi",
      "photoUrl": "https://lh3.googleusercontent.com/a-/AOh14GjaEa4_Pj7plXzO6EEOKAZMsl3-LoEortGEJOlx=s64",
      "userId": "13571043541178143551"
     },
     "user_tz": -330
    },
    "id": "MDmKGntR7BU0",
    "outputId": "d1c5efd7-b36b-4320-d2c4-ca3bf63ad2d9"
   },
   "outputs": [],
   "source": [
    "%tensorflow_version 1.x"
   ]
  },
  {
   "cell_type": "code",
   "execution_count": null,
   "metadata": {
    "colab": {
     "base_uri": "https://localhost:8080/",
     "height": 88
    },
    "colab_type": "code",
    "executionInfo": {
     "elapsed": 6801,
     "status": "ok",
     "timestamp": 1597139373243,
     "user": {
      "displayName": "Abhishek Singh, 4-Yr B Tech, Electrical Engg, IIT (BHU) Varanasi",
      "photoUrl": "https://lh3.googleusercontent.com/a-/AOh14GjaEa4_Pj7plXzO6EEOKAZMsl3-LoEortGEJOlx=s64",
      "userId": "13571043541178143551"
     },
     "user_tz": -330
    },
    "id": "scVJBERuj0WD",
    "outputId": "4c49295f-5efb-4096-a008-c4c95292bf43"
   },
   "outputs": [],
   "source": [
    "import pandas as pd\n",
    "import numpy as np\n",
    "import matplotlib.pyplot as plt\n",
    "import json\n",
    "import seaborn as sns\n",
    "import pickle\n",
    "import io\n",
    "import tensorflow as tf\n",
    "import os\n",
    "import gc\n",
    "\n",
    "from sklearn.model_selection import train_test_split\n",
    "from sklearn.preprocessing import LabelEncoder\n",
    "from sklearn.preprocessing import OneHotEncoder\n",
    "\n",
    "from keras.models import Model\n",
    "from keras.layers import LSTM, Activation, Dense, Dropout, Input, Embedding,Bidirectional\n",
    "from keras.optimizers import RMSprop,Adam\n",
    "from keras.preprocessing.text import Tokenizer\n",
    "from keras.preprocessing import sequence\n",
    "from keras.utils import to_categorical\n",
    "from keras.callbacks import EarlyStopping, ReduceLROnPlateau, ModelCheckpoint\n",
    "from keras.metrics import top_k_categorical_accuracy\n",
    "from keras.layers import Input, Dense, Embedding, Conv1D, Conv2D, MaxPooling1D, MaxPool2D\n",
    "from keras.layers import Reshape, Flatten, Dropout, Concatenate\n",
    "from keras.layers import SpatialDropout1D, concatenate\n",
    "from keras.layers import GRU, Bidirectional, GlobalAveragePooling1D, GlobalMaxPooling1D,BatchNormalization\n",
    "from keras import regularizers\n",
    "from keras.models import model_from_json\n",
    "\n",
    "\n",
    "%matplotlib inline\n",
    "# import tensorflow as tf\n"
   ]
  },
  {
   "cell_type": "code",
   "execution_count": null,
   "metadata": {
    "colab": {
     "base_uri": "https://localhost:8080/",
     "height": 34
    },
    "colab_type": "code",
    "executionInfo": {
     "elapsed": 7273,
     "status": "ok",
     "timestamp": 1597139374850,
     "user": {
      "displayName": "Abhishek Singh, 4-Yr B Tech, Electrical Engg, IIT (BHU) Varanasi",
      "photoUrl": "https://lh3.googleusercontent.com/a-/AOh14GjaEa4_Pj7plXzO6EEOKAZMsl3-LoEortGEJOlx=s64",
      "userId": "13571043541178143551"
     },
     "user_tz": -330
    },
    "id": "xBbW2twxj_yh",
    "outputId": "82a56083-d3fe-4e16-82b9-a41960c35f84"
   },
   "outputs": [],
   "source": [
    "import tensorflow as tf\n",
    "if tf.test.gpu_device_name():\n",
    "    print('Default GPU Device: {}'.format(tf.test.gpu_device_name()))\n",
    "else:\n",
    "    print(\"Please install GPU version of TF\")"
   ]
  },
  {
   "cell_type": "code",
   "execution_count": null,
   "metadata": {
    "colab": {
     "base_uri": "https://localhost:8080/",
     "height": 122
    },
    "colab_type": "code",
    "executionInfo": {
     "elapsed": 120210,
     "status": "ok",
     "timestamp": 1597139488498,
     "user": {
      "displayName": "Abhishek Singh, 4-Yr B Tech, Electrical Engg, IIT (BHU) Varanasi",
      "photoUrl": "https://lh3.googleusercontent.com/a-/AOh14GjaEa4_Pj7plXzO6EEOKAZMsl3-LoEortGEJOlx=s64",
      "userId": "13571043541178143551"
     },
     "user_tz": -330
    },
    "id": "Axrn29w1kGQ5",
    "outputId": "f97e77ce-20ee-497f-c30e-613dd90efe6e"
   },
   "outputs": [],
   "source": [
    "'''from google.colab import drive\n",
    "drive.mount('/content/gdrive',force_remount = True)\n",
    "'''"
   ]
  },
  {
   "cell_type": "markdown",
   "metadata": {
    "colab_type": "text",
    "id": "laNoFeN9qjmt"
   },
   "source": [
    "## Load one hot encoded output"
   ]
  },
  {
   "cell_type": "code",
   "execution_count": null,
   "metadata": {
    "colab": {},
    "colab_type": "code",
    "id": "mGrM0BHkn-WY"
   },
   "outputs": [],
   "source": [
    "with open(\"./labels.pkl\",\"rb\") as f:\n",
    "  Y = pickle.load(f)"
   ]
  },
  {
   "cell_type": "code",
   "execution_count": null,
   "metadata": {
    "colab": {},
    "colab_type": "code",
    "id": "A5ErVOO7qobe"
   },
   "outputs": [],
   "source": [
    "Y_train, Y_test = train_test_split(Y,test_size = 0.1,random_state = 42)"
   ]
  },
  {
   "cell_type": "code",
   "execution_count": null,
   "metadata": {
    "colab": {
     "base_uri": "https://localhost:8080/",
     "height": 34
    },
    "colab_type": "code",
    "executionInfo": {
     "elapsed": 799,
     "status": "ok",
     "timestamp": 1597139530951,
     "user": {
      "displayName": "Abhishek Singh, 4-Yr B Tech, Electrical Engg, IIT (BHU) Varanasi",
      "photoUrl": "https://lh3.googleusercontent.com/a-/AOh14GjaEa4_Pj7plXzO6EEOKAZMsl3-LoEortGEJOlx=s64",
      "userId": "13571043541178143551"
     },
     "user_tz": -330
    },
    "id": "OgTdLoe2vRcP",
    "outputId": "f7a31ca3-dc62-4406-ce08-71de3a96c69a"
   },
   "outputs": [],
   "source": [
    "gc.collect()"
   ]
  },
  {
   "cell_type": "markdown",
   "metadata": {
    "colab_type": "text",
    "id": "iUbANxvQqKgg"
   },
   "source": [
    "## Load train and test sequences data"
   ]
  },
  {
   "cell_type": "code",
   "execution_count": null,
   "metadata": {
    "colab": {},
    "colab_type": "code",
    "id": "b7T5LA0QqQ7T"
   },
   "outputs": [],
   "source": [
    "sequences_matrix = np.load(\"/50to500_cleaned_train_sequences.npy\")"
   ]
  },
  {
   "cell_type": "code",
   "execution_count": null,
   "metadata": {
    "colab": {},
    "colab_type": "code",
    "id": "Wz1Y2hIeqQ9u"
   },
   "outputs": [],
   "source": [
    "test_sequences_matrix = np.load(\"./cleaned_test_sequences.npy\")"
   ]
  },
  {
   "cell_type": "markdown",
   "metadata": {
    "colab_type": "text",
    "id": "mYppVtU8q4R8"
   },
   "source": [
    "## load all models"
   ]
  },
  {
   "cell_type": "code",
   "execution_count": null,
   "metadata": {
    "colab": {},
    "colab_type": "code",
    "id": "UP4rNen2xTTp"
   },
   "outputs": [],
   "source": [
    "def top_3_accuracy(y_true, y_pred):\n",
    "    return top_k_categorical_accuracy(y_true, y_pred, k=3)\n",
    "\n",
    "def top_10_accuracy(y_true, y_pred):\n",
    "    return top_k_categorical_accuracy(y_true, y_pred, k=10)\n",
    "\n",
    "def top_15_accuracy(y_true, y_pred):\n",
    "    return top_k_categorical_accuracy(y_true, y_pred, k=15)\n",
    "\n",
    "def top_5_accuracy(y_true, y_pred):\n",
    "    return top_k_categorical_accuracy(y_true, y_pred, k=5)"
   ]
  },
  {
   "cell_type": "code",
   "execution_count": null,
   "metadata": {
    "colab": {},
    "colab_type": "code",
    "id": "bGb8RGYfq3OL"
   },
   "outputs": [],
   "source": [
    "def load_model(arch_file,wt_file):\n",
    "  json_file = open(arch_file, 'r')\n",
    "  loaded_model_json = json_file.read()\n",
    "  json_file.close()\n",
    "  model = model_from_json(loaded_model_json)\n",
    "  # load weights into new model\n",
    "  model.load_weights(wt_file)\n",
    "  model.compile(loss='categorical_crossentropy',optimizer=Adam(),metrics=['accuracy',top_3_accuracy,top_5_accuracy,top_10_accuracy,top_15_accuracy])\n",
    "  print(\"Loaded model from disk\")\n",
    "  return model"
   ]
  },
  {
   "cell_type": "code",
   "execution_count": null,
   "metadata": {
    "colab": {
     "base_uri": "https://localhost:8080/",
     "height": 34
    },
    "colab_type": "code",
    "executionInfo": {
     "elapsed": 978,
     "status": "ok",
     "timestamp": 1597139692748,
     "user": {
      "displayName": "Abhishek Singh, 4-Yr B Tech, Electrical Engg, IIT (BHU) Varanasi",
      "photoUrl": "https://lh3.googleusercontent.com/a-/AOh14GjaEa4_Pj7plXzO6EEOKAZMsl3-LoEortGEJOlx=s64",
      "userId": "13571043541178143551"
     },
     "user_tz": -330
    },
    "id": "Eqc2_NjvqRAS",
    "outputId": "2ea3c4d3-1a79-4547-c8fd-7c1cad2a7db0"
   },
   "outputs": [],
   "source": [
    "root_path = \"./Sentimix/\"\n",
    "arch_file = []\n",
    "arch_file.append(root_path+\"CNN_50to500.json\")\n",
    "arch_file.append(root_path+\"LSTM_50to500.json\")\n",
    "print(arch_file)"
   ]
  },
  {
   "cell_type": "code",
   "execution_count": null,
   "metadata": {
    "colab": {
     "base_uri": "https://localhost:8080/",
     "height": 34
    },
    "colab_type": "code",
    "executionInfo": {
     "elapsed": 989,
     "status": "ok",
     "timestamp": 1597139697295,
     "user": {
      "displayName": "Abhishek Singh, 4-Yr B Tech, Electrical Engg, IIT (BHU) Varanasi",
      "photoUrl": "https://lh3.googleusercontent.com/a-/AOh14GjaEa4_Pj7plXzO6EEOKAZMsl3-LoEortGEJOlx=s64",
      "userId": "13571043541178143551"
     },
     "user_tz": -330
    },
    "id": "uQW2ckw4mrnv",
    "outputId": "e28223dd-68a1-454c-9759-cc1b62573289"
   },
   "outputs": [],
   "source": [
    "wt_file = []\n",
    "wt_file.append(root_path+\"CNN_50to500.h5\")\n",
    "wt_file.append(root_path+\"LSTM_50to500.h5\")\n",
    "print(wt_file)"
   ]
  },
  {
   "cell_type": "code",
   "execution_count": null,
   "metadata": {
    "colab": {
     "base_uri": "https://localhost:8080/",
     "height": 53
    },
    "colab_type": "code",
    "executionInfo": {
     "elapsed": 14198,
     "status": "ok",
     "timestamp": 1556012469431,
     "user": {
      "displayName": "SURYA PRATAP SINGH PARMAR",
      "photoUrl": "https://lh4.googleusercontent.com/-SnvHSap6VvE/AAAAAAAAAAI/AAAAAAAAAOM/xhnGWxxpPFk/s64/photo.jpg",
      "userId": "09797300796484282027"
     },
     "user_tz": -330
    },
    "id": "5Gasga0Ut1Gz",
    "outputId": "e555c47e-e431-4e7f-87bf-be1ddb30e72a"
   },
   "outputs": [],
   "source": [
    "wt_file = []\n",
    "wt_file.append(root_path+\"/bilstm_ir.h5\")\n",
    "wt_file.append(root_path+\"/cnn_ir.h5\")\n",
    "wt_file.append(root_path+\"/LSTM_attentio.h5\")\n",
    "wt_file.append(root_path+\"/rnn_cnn.h5\")\n",
    "print(wt_file)"
   ]
  },
  {
   "cell_type": "code",
   "execution_count": null,
   "metadata": {
    "colab": {
     "base_uri": "https://localhost:8080/",
     "height": 564
    },
    "colab_type": "code",
    "executionInfo": {
     "elapsed": 4858,
     "status": "error",
     "timestamp": 1597139827852,
     "user": {
      "displayName": "Abhishek Singh, 4-Yr B Tech, Electrical Engg, IIT (BHU) Varanasi",
      "photoUrl": "https://lh3.googleusercontent.com/a-/AOh14GjaEa4_Pj7plXzO6EEOKAZMsl3-LoEortGEJOlx=s64",
      "userId": "13571043541178143551"
     },
     "user_tz": -330
    },
    "id": "ipwAx72IubYi",
    "outputId": "4a604bd9-c17c-4fee-84dd-de26b4691015"
   },
   "outputs": [],
   "source": [
    "def load_allmodels(arch_file,wt_file):\n",
    "  all_models = list()\n",
    "  n_models = len(arch_file)\n",
    "  for i in range(n_models):\n",
    "    model = load_model(arch_file[i],wt_file[i])\n",
    "    print(\"model number \",i+1,\"loaded\")\n",
    "    all_models.append(model)\n",
    "  return all_models\n",
    "all_models = load_allmodels(arch_file,wt_file)\n"
   ]
  },
  {
   "cell_type": "markdown",
   "metadata": {
    "colab_type": "text",
    "id": "AmJo4YxOwRip"
   },
   "source": [
    "## Evaluate all models"
   ]
  },
  {
   "cell_type": "code",
   "execution_count": null,
   "metadata": {
    "colab": {
     "base_uri": "https://localhost:8080/",
     "height": 84
    },
    "colab_type": "code",
    "executionInfo": {
     "elapsed": 23553,
     "status": "ok",
     "timestamp": 1563992510119,
     "user": {
      "displayName": "SURYA PRATAP SINGH PARMAR",
      "photoUrl": "https://lh4.googleusercontent.com/-SnvHSap6VvE/AAAAAAAAAAI/AAAAAAAAAOM/xhnGWxxpPFk/s64/photo.jpg",
      "userId": "09797300796484282027"
     },
     "user_tz": -330
    },
    "id": "-MZ7qrOuOObF",
    "outputId": "6c8aaa37-d60c-4542-831c-8f24d4ed64df"
   },
   "outputs": [],
   "source": [
    "for model in all_models:\n",
    "\tscore = model.evaluate(test_sequences_matrix, Y_test, batch_size=1024)\n",
    "\tprint('Model top 15 Accuracy:',score)"
   ]
  },
  {
   "cell_type": "markdown",
   "metadata": {
    "colab_type": "text",
    "id": "sC4qtb6lzO-U"
   },
   "source": [
    "## prepare training dataset for meta learner"
   ]
  },
  {
   "cell_type": "code",
   "execution_count": null,
   "metadata": {
    "colab": {},
    "colab_type": "code",
    "id": "FVd--NITzUnY"
   },
   "outputs": [],
   "source": [
    "from keras.utils import plot_model\n",
    "from keras.models import Model\n",
    "from keras.layers import Input\n",
    "from keras.layers import Dense\n",
    "from keras.layers.merge import concatenate\n",
    "\n",
    "def define_stacked_model(members):\n",
    "\t# update all layers in all models to not be trainable\n",
    "    for i in range(len(members)):\n",
    "      model = members[i]\n",
    "      for layer in model.layers:\n",
    "        # make not trainable\n",
    "        layer.trainable = False\n",
    "        # rename to avoid 'unique layer name' issue\n",
    "        layer.name = 'ensemble_' + str(i+1) + '_' + layer.name\n",
    "    # define multi-headed input\n",
    "    ensemble_visible = [model.input for model in members]\n",
    "    # concatenate merge output from each model\n",
    "    ensemble_outputs = [model.output for model in members]\n",
    "    merge = concatenate(ensemble_outputs)\n",
    "    hidden = Dense(2048, activation='relu',kernel_regularizer=regularizers.l2(0.05))(merge)\n",
    "    hidden = BatchNormalization(name = 'BN1')(hidden)\n",
    "    #hidden = Dropout(0.3)(hidden)\n",
    "    \n",
    "#     hidden = Dense(2048, activation='relu')(merge)\n",
    "#     hidden = BatchNormalization(name = 'BN1')(hidden)\n",
    "#     hidden = Dropout(0.2)(hidden)\n",
    "    \n",
    "#     hidden = Dense(2048, activation='relu')(merge)\n",
    "#     hidden = BatchNormalization(name = 'BN1')(hidden)\n",
    "#     hidden = Dropout(0.2)(hidden)\n",
    "    \n",
    "    output = Dense(Y.shape[1], activation='softmax')(hidden)\n",
    "    model = Model(inputs=ensemble_visible, outputs=output)\n",
    "    # plot graph of ensemble\n",
    "    plot_model(model, show_shapes=True, to_file='ensemble_50to500_cnn_and_lstm_graph.png')\n",
    "    # compile\n",
    "    model.compile(loss='categorical_crossentropy',optimizer=Adam(),metrics=['accuracy',top_3_accuracy,top_5_accuracy,top_10_accuracy,top_15_accuracy])\n",
    "    return model"
   ]
  },
  {
   "cell_type": "code",
   "execution_count": null,
   "metadata": {
    "colab": {},
    "colab_type": "code",
    "id": "av48d0B72o2k"
   },
   "outputs": [],
   "source": [
    "from google.colab import files\n",
    "files.download(\"ensemble_50to500_cnn_and_lstm_graph.png\")"
   ]
  },
  {
   "cell_type": "code",
   "execution_count": null,
   "metadata": {
    "colab": {},
    "colab_type": "code",
    "id": "q1mKsu4308Ab"
   },
   "outputs": [],
   "source": [
    "def fit_stacked_model(model, inputX, inputy):\n",
    "\t# prepare input data\n",
    "\tX = [inputX for _ in range(len(model.input))]\n",
    "\t# fit model\n",
    "\treturn model.fit(X,inputy,batch_size=1024,epochs=10,validation_split=0.1,callbacks=[EarlyStopping(monitor='val_loss',min_delta=0.00001,patience=2),\n",
    "                                          ReduceLROnPlateau(min_delta=0.0001,patience=1)])"
   ]
  },
  {
   "cell_type": "code",
   "execution_count": null,
   "metadata": {
    "colab": {},
    "colab_type": "code",
    "id": "nuZLgBiC1Eoo"
   },
   "outputs": [],
   "source": [
    "def evaluate_stacked_model(model, inputX,inputy):\n",
    "\t# prepare input data\n",
    "\tX = [inputX for _ in range(len(model.input))]\n",
    "\t# make prediction\n",
    "\treturn model.evaluate(X,inputy, batch_size=1024)"
   ]
  },
  {
   "cell_type": "code",
   "execution_count": null,
   "metadata": {
    "colab": {},
    "colab_type": "code",
    "id": "6mKDQ7kR1ONH"
   },
   "outputs": [],
   "source": [
    "\n",
    "stacked_model = define_stacked_model(all_models)"
   ]
  },
  {
   "cell_type": "code",
   "execution_count": null,
   "metadata": {
    "colab": {
     "base_uri": "https://localhost:8080/",
     "height": 406
    },
    "colab_type": "code",
    "executionInfo": {
     "elapsed": 182324,
     "status": "error",
     "timestamp": 1563994932621,
     "user": {
      "displayName": "SURYA PRATAP SINGH PARMAR",
      "photoUrl": "https://lh4.googleusercontent.com/-SnvHSap6VvE/AAAAAAAAAAI/AAAAAAAAAOM/xhnGWxxpPFk/s64/photo.jpg",
      "userId": "09797300796484282027"
     },
     "user_tz": -330
    },
    "id": "-gpdwb570FwW",
    "outputId": "0cbc3b90-a456-483d-d048-21b06c03e5a0"
   },
   "outputs": [],
   "source": [
    "hist = fit_stacked_model(stacked_model, sequences_matrix, Y_train)"
   ]
  },
  {
   "cell_type": "code",
   "execution_count": null,
   "metadata": {
    "colab": {},
    "colab_type": "code",
    "id": "IwseUcaMR9KX"
   },
   "outputs": [],
   "source": [
    "# list all data in history\n",
    "print(hist.history.keys())\n",
    "# summarize history for accuracy\n",
    "plt.plot(hist.history['acc'])\n",
    "# plt.plot(hist.history['val_acc'])\n",
    "plt.title('model accuracy')\n",
    "plt.ylabel('accuracy')\n",
    "plt.xlabel('epoch')\n",
    "# plt.legend(['train', 'test'], loc='upper left')\n",
    "plt.show()\n",
    "# summarize history for loss\n",
    "plt.plot(hist.history['loss'])\n",
    "# plt.plot(hist.history['val_loss'])\n",
    "plt.title('model loss')\n",
    "plt.ylabel('loss')\n",
    "plt.xlabel('epoch')\n",
    "# plt.legend(['train', 'test'], loc='upper left')\n",
    "plt.show()"
   ]
  },
  {
   "cell_type": "code",
   "execution_count": null,
   "metadata": {
    "colab": {
     "base_uri": "https://localhost:8080/",
     "height": 33
    },
    "colab_type": "code",
    "executionInfo": {
     "elapsed": 19156,
     "status": "ok",
     "timestamp": 1563994954651,
     "user": {
      "displayName": "SURYA PRATAP SINGH PARMAR",
      "photoUrl": "https://lh4.googleusercontent.com/-SnvHSap6VvE/AAAAAAAAAAI/AAAAAAAAAOM/xhnGWxxpPFk/s64/photo.jpg",
      "userId": "09797300796484282027"
     },
     "user_tz": -330
    },
    "id": "1eMiMRsOslyJ",
    "outputId": "f88af8ae-6503-41f7-db88-a6208d0dede8"
   },
   "outputs": [],
   "source": [
    "score = evaluate_stacked_model(stacked_model, test_sequences_matrix, Y_test)"
   ]
  },
  {
   "cell_type": "code",
   "execution_count": null,
   "metadata": {
    "colab": {
     "base_uri": "https://localhost:8080/",
     "height": 33
    },
    "colab_type": "code",
    "executionInfo": {
     "elapsed": 17505,
     "status": "ok",
     "timestamp": 1563994955001,
     "user": {
      "displayName": "SURYA PRATAP SINGH PARMAR",
      "photoUrl": "https://lh4.googleusercontent.com/-SnvHSap6VvE/AAAAAAAAAAI/AAAAAAAAAOM/xhnGWxxpPFk/s64/photo.jpg",
      "userId": "09797300796484282027"
     },
     "user_tz": -330
    },
    "id": "nY3D0m__1kyZ",
    "outputId": "91f2af7f-2ddf-4897-80d0-d38db8d66d87"
   },
   "outputs": [],
   "source": [
    "print(score)"
   ]
  },
  {
   "cell_type": "markdown",
   "metadata": {
    "colab_type": "text",
    "id": "wiqWw1jfShWW"
   },
   "source": []
  },
  {
   "cell_type": "code",
   "execution_count": null,
   "metadata": {
    "colab": {
     "base_uri": "https://localhost:8080/",
     "height": 33
    },
    "colab_type": "code",
    "executionInfo": {
     "elapsed": 1189,
     "status": "ok",
     "timestamp": 1560536910708,
     "user": {
      "displayName": "SURYA PRATAP SINGH PARMAR",
      "photoUrl": "https://lh4.googleusercontent.com/-SnvHSap6VvE/AAAAAAAAAAI/AAAAAAAAAOM/xhnGWxxpPFk/s64/photo.jpg",
      "userId": "09797300796484282027"
     },
     "user_tz": -330
    },
    "id": "o2GCfiCx9vp4",
    "outputId": "0478510f-d57c-430b-be67-f718bd0de571"
   },
   "outputs": [],
   "source": [
    "print(\"top 15 acc\",score[5]*100)"
   ]
  },
  {
   "cell_type": "code",
   "execution_count": null,
   "metadata": {
    "colab": {},
    "colab_type": "code",
    "id": "ekCv-7fwuS4M"
   },
   "outputs": [],
   "source": []
  },
  {
   "cell_type": "markdown",
   "metadata": {
    "colab_type": "text",
    "id": "Sa-ZTlckeC5T"
   },
   "source": [
    "## Save the model"
   ]
  },
  {
   "cell_type": "code",
   "execution_count": null,
   "metadata": {
    "colab": {},
    "colab_type": "code",
    "id": "gwekzkL_eKt8"
   },
   "outputs": [],
   "source": []
  },
  {
   "cell_type": "code",
   "execution_count": null,
   "metadata": {
    "colab": {},
    "colab_type": "code",
    "id": "zB2bFWGceHR2"
   },
   "outputs": [],
   "source": [
    "# serialize model to JSON\n",
    "model_json = stacked_model.to_json()\n",
    "with open(\"/lstm_bilstm_ensemble.json\", \"w\") as json_file:\n",
    "    json_file.write(model_json)\n",
    "# serialize weights to HDF5\n",
    "stacked_model.save_weights(\"/lstm_bilstm_ensemble.h5\")\n",
    "print(\"Saved model to disk\")\n",
    "\n",
    " \n"
   ]
  },
  {
   "cell_type": "code",
   "execution_count": null,
   "metadata": {
    "colab": {},
    "colab_type": "code",
    "id": "PWQws0u8eOlk"
   },
   "outputs": [],
   "source": [
    "# from google.colab import files\n",
    "# files.download('LSTMbatchnormonfulldatacount1000.json')\n",
    "# files.download('LSTMbatchnormonfulldatacount1000.h5')"
   ]
  },
  {
   "cell_type": "code",
   "execution_count": null,
   "metadata": {
    "colab": {
     "base_uri": "https://localhost:8080/",
     "height": 231
    },
    "colab_type": "code",
    "executionInfo": {
     "elapsed": 1290,
     "status": "error",
     "timestamp": 1597139874376,
     "user": {
      "displayName": "Abhishek Singh, 4-Yr B Tech, Electrical Engg, IIT (BHU) Varanasi",
      "photoUrl": "https://lh3.googleusercontent.com/a-/AOh14GjaEa4_Pj7plXzO6EEOKAZMsl3-LoEortGEJOlx=s64",
      "userId": "13571043541178143551"
     },
     "user_tz": -330
    },
    "id": "FKDgEQzpeJxt",
    "outputId": "06bccf9d-a270-44b8-dbb5-80b16329bf93"
   },
   "outputs": [],
   "source": [
    "# load json and create model\n",
    "from keras.models import model_from_json\n",
    "\n",
    "json_file = open('/content/gdrive/My Drive/IR_project/surya_models/lstm_bilstm_ensemble.json', 'r')\n",
    "loaded_model_json = json_file.read()\n",
    "json_file.close()\n",
    "loaded_model = model_from_json(loaded_model_json)\n",
    "# load weights into new model\n",
    "loaded_model.load_weights(\"/content/gdrive/My Drive/IR_project/surya_models/lstm_bilstm_emsemble.h5\")\n",
    "print(\"Loaded model from disk\")"
   ]
  },
  {
   "cell_type": "code",
   "execution_count": null,
   "metadata": {
    "colab": {},
    "colab_type": "code",
    "id": "rwCyD30ifCng"
   },
   "outputs": [],
   "source": [
    "# use loaded model to predict on test data\n",
    "loaded_model.compile(loss='categorical_crossentropy',optimizer=Adam(),metrics=['accuracy',top_3_accuracy,top_5_accuracy,top_10_accuracy,top_15_accuracy])\n",
    "score = evaluate_stacked_model(loaded_model, test_sequences_matrix, Y_test)\n"
   ]
  },
  {
   "cell_type": "code",
   "execution_count": null,
   "metadata": {
    "colab": {},
    "colab_type": "code",
    "id": "bF14XHijk11n"
   },
   "outputs": [],
   "source": [
    "print(score)"
   ]
  },
  {
   "cell_type": "code",
   "execution_count": null,
   "metadata": {
    "colab": {},
    "colab_type": "code",
    "id": "A0XHqn9VnQvg"
   },
   "outputs": [],
   "source": [
    "print(\"top 15 %s: %.2f%%\" % (loaded_model.metrics_names[1], score[5]*100))"
   ]
  }
 ],
 "metadata": {
  "accelerator": "GPU",
  "colab": {
   "collapsed_sections": [],
   "name": "Ensemble_IR_project.ipynb",
   "provenance": []
  },
  "kernelspec": {
   "display_name": "Python 3",
   "language": "python",
   "name": "python3"
  },
  "language_info": {
   "codemirror_mode": {
    "name": "ipython",
    "version": 3
   },
   "file_extension": ".py",
   "mimetype": "text/x-python",
   "name": "python",
   "nbconvert_exporter": "python",
   "pygments_lexer": "ipython3",
   "version": "3.6.5"
  }
 },
 "nbformat": 4,
 "nbformat_minor": 1
}
