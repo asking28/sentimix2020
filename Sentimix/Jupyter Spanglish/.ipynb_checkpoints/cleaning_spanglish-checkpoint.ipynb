{
 "cells": [
  {
   "cell_type": "code",
   "execution_count": 0,
   "metadata": {
    "colab": {},
    "colab_type": "code",
    "id": "YuixlrUSmjWE"
   },
   "outputs": [],
   "source": [
    "https://github.com/SilentFlame/Named-Entity-Recognition/blob/master/Twitterdata/processedTweets.csv\n",
    "https://arxiv.org/pdf/1805.11869.pdf\n",
    "http://ceur-ws.org/Vol-2111/paper5.pdf\n",
    "https://github.com/sahilswami96/SarcasmDetection_CodeMixed/blob/master/Dataset/Sarcasm_tweets.txt\n",
    "https://github.com/sahilswami96/SarcasmDetection_CodeMixed/blob/master/Classification_system/build_feature_vector.py"
   ]
  },
  {
   "cell_type": "code",
   "execution_count": 0,
   "metadata": {
    "colab": {},
    "colab_type": "code",
    "id": "KJeDvSchdxst"
   },
   "outputs": [],
   "source": [
    "API-KEY= nCBP6Bxazmdz0enkMqAN8Eydg\n",
    "API-SECRET-KEY= KcNlzg3GkGhQSIUxGpiTRuyHeEWDypTRekADK9SskmzLLiGMmT \n",
    "ACCESS-TOKEN= 2294799976-QIz7wcrdYqBLRYo7TlbgltOqSzIUoOdBeuxQC7G \n",
    "ACCESS-TOKEN-SECRET= TeXt8CPwMVGCQy07oxaO3GKkNoMWiRhe1E7EJXr98Cz0g "
   ]
  },
  {
   "cell_type": "code",
   "execution_count": 0,
   "metadata": {
    "colab": {},
    "colab_type": "code",
    "id": "E2CTOfRWxTfj"
   },
   "outputs": [],
   "source": [
    "import numpy as np\n",
    "import pandas as pd"
   ]
  },
  {
   "cell_type": "code",
   "execution_count": 11,
   "metadata": {
    "colab": {
     "base_uri": "https://localhost:8080/",
     "height": 34
    },
    "colab_type": "code",
    "executionInfo": {
     "elapsed": 730,
     "status": "ok",
     "timestamp": 1574081790445,
     "user": {
      "displayName": "Abhishek Singh, 4-Yr B Tech, Electrical Engg, IIT (BHU) Varanasi",
      "photoUrl": "https://lh3.googleusercontent.com/a-/AAuE7mBAu6pD-I3Pdn_I1oxZJBB7hudMcmxHG9cW6HOh=s64",
      "userId": "13571043541178143551"
     },
     "user_tz": -330
    },
    "id": "69Trj5EnxvcX",
    "outputId": "5d6e2966-d890-42df-f1a7-82025d841210"
   },
   "outputs": [
    {
     "name": "stdout",
     "output_type": "stream",
     "text": [
      "Drive already mounted at /content/drive; to attempt to forcibly remount, call drive.mount(\"/content/drive\", force_remount=True).\n"
     ]
    }
   ],
   "source": [
    "from google.colab import drive\n",
    "drive.mount('/content/drive')"
   ]
  },
  {
   "cell_type": "code",
   "execution_count": 0,
   "metadata": {
    "colab": {},
    "colab_type": "code",
    "id": "x0Lj9zVUGyVb"
   },
   "outputs": [],
   "source": [
    "root_path='/content/drive/My Drive/Sentimix/'"
   ]
  },
  {
   "cell_type": "code",
   "execution_count": 0,
   "metadata": {
    "colab": {},
    "colab_type": "code",
    "id": "V_1lGXcxx0sg"
   },
   "outputs": [],
   "source": [
    "\n",
    "train_data=pd.read_csv('/content/drive/My Drive/spanglish/train_read1.csv')\n",
    "dev_data=pd.read_csv('/content/drive/My Drive/spanglish/dev_read1.csv')\n"
   ]
  },
  {
   "cell_type": "code",
   "execution_count": 0,
   "metadata": {
    "colab": {},
    "colab_type": "code",
    "id": "6rtT9X-9N2EP"
   },
   "outputs": [],
   "source": [
    "def remove_pattern(input_txt, pattern,with_space=False):\n",
    "    r = re.findall(pattern, input_txt)\n",
    "    if with_space==False:\n",
    "      for i in r:\n",
    "        input_txt = re.sub(i, '', input_txt)\n",
    "    else:\n",
    "      for i in r:\n",
    "        input_txt = re.sub(i, ' ', input_txt)\n",
    "    return input_txt "
   ]
  },
  {
   "cell_type": "code",
   "execution_count": 7,
   "metadata": {
    "colab": {
     "base_uri": "https://localhost:8080/",
     "height": 187
    },
    "colab_type": "code",
    "executionInfo": {
     "elapsed": 7403,
     "status": "ok",
     "timestamp": 1574081731208,
     "user": {
      "displayName": "Abhishek Singh, 4-Yr B Tech, Electrical Engg, IIT (BHU) Varanasi",
      "photoUrl": "https://lh3.googleusercontent.com/a-/AAuE7mBAu6pD-I3Pdn_I1oxZJBB7hudMcmxHG9cW6HOh=s64",
      "userId": "13571043541178143551"
     },
     "user_tz": -330
    },
    "id": "YHJqPnmQOrrF",
    "outputId": "cd67b689-5816-4679-9737-62512050f715"
   },
   "outputs": [
    {
     "name": "stdout",
     "output_type": "stream",
     "text": [
      "Collecting emoji\n",
      "\u001b[?25l  Downloading https://files.pythonhosted.org/packages/40/8d/521be7f0091fe0f2ae690cc044faf43e3445e0ff33c574eae752dd7e39fa/emoji-0.5.4.tar.gz (43kB)\n",
      "\r",
      "\u001b[K     |███████▌                        | 10kB 16.5MB/s eta 0:00:01\r",
      "\u001b[K     |███████████████                 | 20kB 2.2MB/s eta 0:00:01\r",
      "\u001b[K     |██████████████████████▋         | 30kB 3.2MB/s eta 0:00:01\r",
      "\u001b[K     |██████████████████████████████▏ | 40kB 2.1MB/s eta 0:00:01\r",
      "\u001b[K     |████████████████████████████████| 51kB 1.9MB/s \n",
      "\u001b[?25hBuilding wheels for collected packages: emoji\n",
      "  Building wheel for emoji (setup.py) ... \u001b[?25l\u001b[?25hdone\n",
      "  Created wheel for emoji: filename=emoji-0.5.4-cp36-none-any.whl size=42175 sha256=d8eb9805456c8305047855a2c44e6f044e28105e249bc470b00f0dd5d5670ddf\n",
      "  Stored in directory: /root/.cache/pip/wheels/2a/a9/0a/4f8e8cce8074232aba240caca3fade315bb49fac68808d1a9c\n",
      "Successfully built emoji\n",
      "Installing collected packages: emoji\n",
      "Successfully installed emoji-0.5.4\n"
     ]
    }
   ],
   "source": [
    "!pip install emoji\n",
    "import emoji"
   ]
  },
  {
   "cell_type": "code",
   "execution_count": 0,
   "metadata": {
    "colab": {},
    "colab_type": "code",
    "id": "ZXNBFodJZoub"
   },
   "outputs": [],
   "source": [
    "import pickle\n",
    "import re"
   ]
  },
  {
   "cell_type": "code",
   "execution_count": 0,
   "metadata": {
    "colab": {},
    "colab_type": "code",
    "id": "OijFDCTHiM3e"
   },
   "outputs": [],
   "source": [
    "with open(root_path+'helper_data/contractions.pkl','rb')as f:\n",
    "  contractions=pickle.load(f)"
   ]
  },
  {
   "cell_type": "code",
   "execution_count": 0,
   "metadata": {
    "colab": {},
    "colab_type": "code",
    "id": "S12Lyt9Xzn_t"
   },
   "outputs": [],
   "source": [
    "with open(root_path+'helper_data/acronyms.pkl','rb')as f:\n",
    "  acronyms=pickle.load(f)"
   ]
  },
  {
   "cell_type": "code",
   "execution_count": 0,
   "metadata": {
    "colab": {},
    "colab_type": "code",
    "id": "MWfgNmcqlueH"
   },
   "outputs": [],
   "source": [
    "from collections import Counter"
   ]
  },
  {
   "cell_type": "code",
   "execution_count": 0,
   "metadata": {
    "colab": {},
    "colab_type": "code",
    "id": "DdPHXLahilP8"
   },
   "outputs": [],
   "source": [
    "contractions=Counter(contractions)"
   ]
  },
  {
   "cell_type": "code",
   "execution_count": 0,
   "metadata": {
    "colab": {},
    "colab_type": "code",
    "id": "G2fdfhxKTAye"
   },
   "outputs": [],
   "source": [
    "with open(root_path+'hinglish_to_english.pickle','rb')as f:\n",
    "  hing_to_eng=pickle.load(f)"
   ]
  },
  {
   "cell_type": "code",
   "execution_count": 0,
   "metadata": {
    "colab": {},
    "colab_type": "code",
    "id": "xQWOyYDZZuNc"
   },
   "outputs": [],
   "source": [
    "from collections import Counter"
   ]
  },
  {
   "cell_type": "code",
   "execution_count": 0,
   "metadata": {
    "colab": {},
    "colab_type": "code",
    "id": "Hu_zAFcHUfFg"
   },
   "outputs": [],
   "source": [
    "hing_to_eng=Counter(hing_to_eng)"
   ]
  },
  {
   "cell_type": "code",
   "execution_count": 0,
   "metadata": {
    "colab": {},
    "colab_type": "code",
    "id": "mIjnHkXITS_D"
   },
   "outputs": [],
   "source": [
    "def hindi_se_english(df,column):\n",
    "  s_l=[]\n",
    "  for i in range(df.shape[0]):\n",
    "    w_l=[]\n",
    "    sent=str(df[column][i])\n",
    "    for word in sent.split():\n",
    "      if hing_to_eng[word]!=0:\n",
    "        w_l.append(hing_to_eng[word])\n",
    "      else:\n",
    "        w_l.append(word)\n",
    "    s_l.append(' '.join(w_l))\n",
    "  return s_l"
   ]
  },
  {
   "cell_type": "code",
   "execution_count": 0,
   "metadata": {
    "colab": {},
    "colab_type": "code",
    "id": "tc5frKJkzlpe"
   },
   "outputs": [],
   "source": []
  },
  {
   "cell_type": "code",
   "execution_count": 0,
   "metadata": {
    "colab": {},
    "colab_type": "code",
    "id": "VVQrWL-_TYcR"
   },
   "outputs": [],
   "source": [
    "with open('/content/drive/My Drive/Sentimix/Hinglish_utils/Hinglish_Profanity_dict.pkl', 'rb') as handle:\n",
    "    cuss_dict=pickle.load(handle)"
   ]
  },
  {
   "cell_type": "code",
   "execution_count": 0,
   "metadata": {
    "colab": {},
    "colab_type": "code",
    "id": "NL0bJNtWZ2oO"
   },
   "outputs": [],
   "source": [
    "cuss_dict=Counter(cuss_dict)"
   ]
  },
  {
   "cell_type": "code",
   "execution_count": 0,
   "metadata": {
    "colab": {},
    "colab_type": "code",
    "id": "FhIgPRNjT1Wr"
   },
   "outputs": [],
   "source": [
    "def replace_cuss(df,column):\n",
    "  s_l=[]\n",
    "  for i in range(df.shape[0]):\n",
    "    sent=str(df[column][i]).lower()\n",
    "    w_l=[]\n",
    "    for word in sent.split():\n",
    "      if cuss_dict[word]!=0:\n",
    "        w_l.append('abuse')\n",
    "      else:\n",
    "        w_l.append(word)\n",
    "    s_l.append(' '.join(w_l))\n",
    "  return s_l"
   ]
  },
  {
   "cell_type": "code",
   "execution_count": 0,
   "metadata": {
    "colab": {},
    "colab_type": "code",
    "id": "oQ0O5TwDi7Wu"
   },
   "outputs": [],
   "source": [
    "def remove_contraction(df,column):\n",
    "  s_l=[]\n",
    "  for i in range(df.shape[0]):\n",
    "    sent=str(df[column][i]).lower()\n",
    "    w_l=[]\n",
    "    for word in sent.split():\n",
    "      if contractions[word]!=0:\n",
    "        w_l.append(contractions[word])\n",
    "      else:\n",
    "        w_l.append(word)\n",
    "    s_l.append(' '.join(w_l))\n",
    "  return s_l"
   ]
  },
  {
   "cell_type": "code",
   "execution_count": 0,
   "metadata": {
    "colab": {},
    "colab_type": "code",
    "id": "VjVEdB70zaRQ"
   },
   "outputs": [],
   "source": [
    "def acronym(df,column):\n",
    "  s_l=[]\n",
    "  for i in range(df.shape[0]):\n",
    "    sent=str(df[column][i]).lower()\n",
    "    w_l=[]\n",
    "    for word in sent.split():\n",
    "      if acronyms[word]!=0:\n",
    "        w_l.append(acronyms[word])\n",
    "      else:\n",
    "        w_l.append(word)\n",
    "    s_l.append(' '.join(w_l))\n",
    "  return s_l"
   ]
  },
  {
   "cell_type": "code",
   "execution_count": 0,
   "metadata": {
    "colab": {},
    "colab_type": "code",
    "id": "8JbtNBxHNk6K"
   },
   "outputs": [],
   "source": [
    "def cleaning(data_f,cleaning_col,new_col):\n",
    "  for i in range(data_f.shape[0]):\n",
    "    data_f[cleaning_col][i]=emoji.demojize(data_f[cleaning_col][i])\n",
    "  #data_f[cleaning_col]=replace_cuss(data_f,cleaning_col)\n",
    "  data_f[cleaning_col]=np.vectorize(remove_pattern)(data_f[cleaning_col],\"_\",with_space=True)\n",
    "  data_f[cleaning_col]=np.vectorize(remove_pattern)(data_f[cleaning_col],\"-\",with_space=True)\n",
    "  data_f[cleaning_col]=np.vectorize(remove_pattern)(data_f[cleaning_col],\":\",with_space=True)\n",
    "  #data_f[cleaning_col] = np.vectorize(remove_pattern)(data_f[cleaning_col], \"@ [\\w]*\",with_space=False)\n",
    "  #data_f[new_col]=hindi_se_english(data_f,cleaning_col)\n",
    "  data_f[new_col]=remove_contraction(data_f,cleaning_col)\n",
    "  data_f[new_col]=acronym(data_f,new_col)\n",
    "  data_f[new_col]=data_f[new_col].str.replace(\"[^a-zA-Z]\", \" \")\n",
    "  data_f[new_col] = np.vectorize(remove_pattern)(data_f[new_col], \"~\",with_space=False)\n",
    "  #data_f[new_col] = data_f[new_col].apply(lambda x: ' '.join([w for w in x.split() if len(w)>2]))\n",
    "  return data_f"
   ]
  },
  {
   "cell_type": "code",
   "execution_count": 0,
   "metadata": {
    "colab": {},
    "colab_type": "code",
    "id": "0S3ezqxmaGXX"
   },
   "outputs": [],
   "source": [
    "a=cleaning(train_data,'sent','clean_col')"
   ]
  },
  {
   "cell_type": "code",
   "execution_count": 0,
   "metadata": {
    "colab": {},
    "colab_type": "code",
    "id": "oYjtmwmFmWim"
   },
   "outputs": [],
   "source": [
    "a.drop(['new_col'],axis=1,inplace=True)"
   ]
  },
  {
   "cell_type": "code",
   "execution_count": 0,
   "metadata": {
    "colab": {},
    "colab_type": "code",
    "id": "SCbQ6XtHo0a_"
   },
   "outputs": [],
   "source": [
    "b=cleaning(dev_data,'sent','clean_col')"
   ]
  },
  {
   "cell_type": "code",
   "execution_count": 0,
   "metadata": {
    "colab": {},
    "colab_type": "code",
    "id": "_C4ezz3Ka0Gy"
   },
   "outputs": [],
   "source": [
    "pd.options.display.max_colwidth=200"
   ]
  },
  {
   "cell_type": "code",
   "execution_count": 0,
   "metadata": {
    "colab": {},
    "colab_type": "code",
    "id": "ncvi9vyQpJLN"
   },
   "outputs": [],
   "source": [
    "b.to_csv('/content/drive/My Drive/spanglish/dev_read1.csv',index=False)\n",
    "a.to_csv('/content/drive/My Drive/spanglish/train_read1.csv',index=False)"
   ]
  },
  {
   "cell_type": "code",
   "execution_count": 0,
   "metadata": {
    "colab": {},
    "colab_type": "code",
    "id": "RcghquO8-qvA"
   },
   "outputs": [],
   "source": [
    "a=labels_train['labels'].append(hot_labels).reset_index(drop=True)"
   ]
  },
  {
   "cell_type": "code",
   "execution_count": 0,
   "metadata": {
    "colab": {},
    "colab_type": "code",
    "id": "8mP68NIjB5MI"
   },
   "outputs": [],
   "source": [
    "labels_comb=pd.DataFrame({'labels':a.values})"
   ]
  },
  {
   "cell_type": "code",
   "execution_count": 0,
   "metadata": {
    "colab": {},
    "colab_type": "code",
    "id": "mlfZTCU5CaOt"
   },
   "outputs": [],
   "source": [
    "labels_comb.to_csv(root_path+'comb_labels.csv',index=False)\n",
    "train_data.to_csv(root_path+'comb_data.csv',index=False)"
   ]
  },
  {
   "cell_type": "code",
   "execution_count": 0,
   "metadata": {
    "colab": {
     "base_uri": "https://localhost:8080/",
     "height": 85
    },
    "colab_type": "code",
    "executionInfo": {
     "elapsed": 722,
     "status": "ok",
     "timestamp": 1573032480334,
     "user": {
      "displayName": "Abhishek Singh, 4-Yr B Tech, Electrical Engg, IIT (BHU) Varanasi",
      "photoUrl": "https://lh3.googleusercontent.com/a-/AAuE7mBAu6pD-I3Pdn_I1oxZJBB7hudMcmxHG9cW6HOh=s64",
      "userId": "13571043541178143551"
     },
     "user_tz": -330
    },
    "id": "i_JRR_KVCoZl",
    "outputId": "3323f1d2-bbe8-4081-82fd-25e472acab41"
   },
   "outputs": [
    {
     "data": {
      "text/plain": [
       "neutral     754\n",
       "positive    582\n",
       "negative    533\n",
       "Name: labels, dtype: int64"
      ]
     },
     "execution_count": 41,
     "metadata": {
      "tags": []
     },
     "output_type": "execute_result"
    }
   ],
   "source": [
    "labels_dev['labels'].value_counts()"
   ]
  },
  {
   "cell_type": "code",
   "execution_count": 0,
   "metadata": {
    "colab": {
     "base_uri": "https://localhost:8080/",
     "height": 85
    },
    "colab_type": "code",
    "executionInfo": {
     "elapsed": 629,
     "status": "ok",
     "timestamp": 1573032314409,
     "user": {
      "displayName": "Abhishek Singh, 4-Yr B Tech, Electrical Engg, IIT (BHU) Varanasi",
      "photoUrl": "https://lh3.googleusercontent.com/a-/AAuE7mBAu6pD-I3Pdn_I1oxZJBB7hudMcmxHG9cW6HOh=s64",
      "userId": "13571043541178143551"
     },
     "user_tz": -330
    },
    "id": "soEpHzbfCCQ0",
    "outputId": "72afc686-11e2-4663-b632-3ec07e3483df"
   },
   "outputs": [
    {
     "data": {
      "text/plain": [
       "negative    6527\n",
       "positive    6016\n",
       "neutral     5777\n",
       "Name: labels, dtype: int64"
      ]
     },
     "execution_count": 37,
     "metadata": {
      "tags": []
     },
     "output_type": "execute_result"
    }
   ],
   "source": [
    "a.value_counts()"
   ]
  },
  {
   "cell_type": "code",
   "execution_count": 0,
   "metadata": {
    "colab": {
     "base_uri": "https://localhost:8080/",
     "height": 85
    },
    "colab_type": "code",
    "executionInfo": {
     "elapsed": 879,
     "status": "ok",
     "timestamp": 1573032351818,
     "user": {
      "displayName": "Abhishek Singh, 4-Yr B Tech, Electrical Engg, IIT (BHU) Varanasi",
      "photoUrl": "https://lh3.googleusercontent.com/a-/AAuE7mBAu6pD-I3Pdn_I1oxZJBB7hudMcmxHG9cW6HOh=s64",
      "userId": "13571043541178143551"
     },
     "user_tz": -330
    },
    "id": "A-FQC99OCHYg",
    "outputId": "32531de7-0d5f-46ee-aa4e-c3e1dc0d0adf"
   },
   "outputs": [
    {
     "data": {
      "text/plain": [
       "neutral     5638\n",
       "positive    5034\n",
       "negative    4459\n",
       "Name: labels, dtype: int64"
      ]
     },
     "execution_count": 39,
     "metadata": {
      "tags": []
     },
     "output_type": "execute_result"
    }
   ],
   "source": [
    "labels_train['labels'].value_counts()"
   ]
  },
  {
   "cell_type": "code",
   "execution_count": 0,
   "metadata": {
    "colab": {},
    "colab_type": "code",
    "id": "KVdmUfte9qFK"
   },
   "outputs": [],
   "source": [
    "# train_data.drop(columns=['Unnamed: 0','Unnamed: 0.1'],inplace=True)\n",
    "# dev_data.drop(columns=['Unnamed: 0','Unnamed: 0.1'],inplace=True)\n",
    "# hot_data.drop(columns=['level_0','index','Unnamed: 0','labels'],inplace=True)"
   ]
  },
  {
   "cell_type": "code",
   "execution_count": 0,
   "metadata": {
    "colab": {},
    "colab_type": "code",
    "id": "Eg6mg16tI_KX"
   },
   "outputs": [],
   "source": [
    "def remove_pattern(input_txt, pattern):\n",
    "    r = re.findall(pattern, input_txt)\n",
    "    for i in r:\n",
    "        input_txt = re.sub(i, '', input_txt)\n",
    "        \n",
    "    return input_txt   "
   ]
  },
  {
   "cell_type": "code",
   "execution_count": 0,
   "metadata": {
    "colab": {},
    "colab_type": "code",
    "id": "qNMQrrhnI-4L"
   },
   "outputs": [],
   "source": [
    "import re"
   ]
  },
  {
   "cell_type": "code",
   "execution_count": 0,
   "metadata": {
    "colab": {},
    "colab_type": "code",
    "id": "b2VC9c-KYim2"
   },
   "outputs": [],
   "source": [
    "train_sent['tidy_tweet'] = np.vectorize(remove_pattern)(train_sent['sent'], \"@ [\\w]*\")"
   ]
  },
  {
   "cell_type": "code",
   "execution_count": 0,
   "metadata": {
    "colab": {
     "base_uri": "https://localhost:8080/",
     "height": 34
    },
    "colab_type": "code",
    "executionInfo": {
     "elapsed": 669,
     "status": "ok",
     "timestamp": 1572934232619,
     "user": {
      "displayName": "Abhishek Singh, 4-Yr B Tech, Electrical Engg, IIT (BHU) Varanasi",
      "photoUrl": "https://lh3.googleusercontent.com/a-/AAuE7mBAu6pD-I3Pdn_I1oxZJBB7hudMcmxHG9cW6HOh=s64",
      "userId": "13571043541178143551"
     },
     "user_tz": -330
    },
    "id": "G1dkwX0ZPQMd",
    "outputId": "3d6f78fa-d344-4098-f3e8-f9698d0b3b2b"
   },
   "outputs": [
    {
     "data": {
      "text/plain": [
       "' manya pradhan mantri mahoday shriman narendra modi heart pradhanmantri banne plume\"  hardik badhai tahe ticker\"  … // t . co / prnomskkn1 '"
      ]
     },
     "execution_count": 10,
     "metadata": {
      "tags": []
     },
     "output_type": "execute_result"
    }
   ],
   "source": [
    "train_sent['tidy_tweet'][2]"
   ]
  },
  {
   "cell_type": "code",
   "execution_count": 0,
   "metadata": {
    "colab": {
     "base_uri": "https://localhost:8080/",
     "height": 34
    },
    "colab_type": "code",
    "executionInfo": {
     "elapsed": 935,
     "status": "ok",
     "timestamp": 1572934233050,
     "user": {
      "displayName": "Abhishek Singh, 4-Yr B Tech, Electrical Engg, IIT (BHU) Varanasi",
      "photoUrl": "https://lh3.googleusercontent.com/a-/AAuE7mBAu6pD-I3Pdn_I1oxZJBB7hudMcmxHG9cW6HOh=s64",
      "userId": "13571043541178143551"
     },
     "user_tz": -330
    },
    "id": "8kvXqWmoPVJy",
    "outputId": "16f73941-b727-4ced-8bcd-f55531dbea69"
   },
   "outputs": [
    {
     "data": {
      "text/plain": [
       "'@ narendramodi manya pradhan mantri mahoday shriman narendra modi heart pradhanmantri banne plume\"  hardik badhai tahe ticker\"  … // t . co / prnomskkn1 '"
      ]
     },
     "execution_count": 11,
     "metadata": {
      "tags": []
     },
     "output_type": "execute_result"
    }
   ],
   "source": [
    "train_sent['sent'][2]"
   ]
  },
  {
   "cell_type": "markdown",
   "metadata": {
    "colab_type": "text",
    "id": "gPxzPCOBRTNs"
   },
   "source": [
    "# Replacing Cuss words\n"
   ]
  },
  {
   "cell_type": "code",
   "execution_count": 0,
   "metadata": {
    "colab": {},
    "colab_type": "code",
    "id": "iihI8FnfRSoT"
   },
   "outputs": [],
   "source": [
    "train_data=pd.read_csv('/content/drive/My Drive/Sentimix/train_clean_with_cusswords.csv')\n",
    "dev_data=pd.read_csv('/content/drive/My Drive/Sentimix/dev_clean_with_cusswords.csv')"
   ]
  },
  {
   "cell_type": "code",
   "execution_count": 0,
   "metadata": {
    "colab": {},
    "colab_type": "code",
    "id": "r8uEbCaFRfNq"
   },
   "outputs": [],
   "source": [
    "import pickle"
   ]
  },
  {
   "cell_type": "code",
   "execution_count": 0,
   "metadata": {
    "colab": {},
    "colab_type": "code",
    "id": "-0zl8G7RxSL4"
   },
   "outputs": [],
   "source": [
    "with open('/content/drive/My Drive/Sentimix/Hinglish_utils/Hinglish_Profanity_dict.pkl', 'rb') as handle:\n",
    "    cuss_dict=pickle.load(handle)"
   ]
  },
  {
   "cell_type": "code",
   "execution_count": 0,
   "metadata": {
    "colab": {
     "base_uri": "https://localhost:8080/",
     "height": 252
    },
    "colab_type": "code",
    "executionInfo": {
     "elapsed": 973,
     "status": "ok",
     "timestamp": 1572936224176,
     "user": {
      "displayName": "Abhishek Singh, 4-Yr B Tech, Electrical Engg, IIT (BHU) Varanasi",
      "photoUrl": "https://lh3.googleusercontent.com/a-/AAuE7mBAu6pD-I3Pdn_I1oxZJBB7hudMcmxHG9cW6HOh=s64",
      "userId": "13571043541178143551"
     },
     "user_tz": -330
    },
    "id": "4NuiCcOPTcvx",
    "outputId": "8872eb5d-cb76-4091-9980-f04c22c78375"
   },
   "outputs": [
    {
     "data": {
      "text/plain": [
       "['pakistan',\n",
       " 'ghra',\n",
       " 'tauq',\n",
       " 'pakistan',\n",
       " 'israel',\n",
       " 'tasleem',\n",
       " 'nahein',\n",
       " 'kerta',\n",
       " 'isko',\n",
       " 'palestine',\n",
       " 'kehta',\n",
       " 'have',\n",
       " 'occupied',\n",
       " 'palestine']"
      ]
     },
     "execution_count": 27,
     "metadata": {
      "tags": []
     },
     "output_type": "execute_result"
    }
   ],
   "source": [
    "train_data['tidy_tweet'][0].split()"
   ]
  },
  {
   "cell_type": "code",
   "execution_count": 0,
   "metadata": {
    "colab": {
     "base_uri": "https://localhost:8080/",
     "height": 34
    },
    "colab_type": "code",
    "executionInfo": {
     "elapsed": 935,
     "status": "ok",
     "timestamp": 1572936383580,
     "user": {
      "displayName": "Abhishek Singh, 4-Yr B Tech, Electrical Engg, IIT (BHU) Varanasi",
      "photoUrl": "https://lh3.googleusercontent.com/a-/AAuE7mBAu6pD-I3Pdn_I1oxZJBB7hudMcmxHG9cW6HOh=s64",
      "userId": "13571043541178143551"
     },
     "user_tz": -330
    },
    "id": "Zs_oW7AUUEbx",
    "outputId": "7e465644-e451-497a-e444-aa61b7d8efdf"
   },
   "outputs": [
    {
     "data": {
      "text/plain": [
       "'pakistan ghra tauq pakistan israel tasleem nahein kerta isko palestine kehta have occupied palestine'"
      ]
     },
     "execution_count": 29,
     "metadata": {
      "tags": []
     },
     "output_type": "execute_result"
    }
   ],
   "source": [
    "' '.join(train_data['tidy_tweet'][0].split())"
   ]
  },
  {
   "cell_type": "markdown",
   "metadata": {
    "colab_type": "text",
    "id": "qhdecMLAZf9k"
   },
   "source": [
    "## Fast Text"
   ]
  },
  {
   "cell_type": "code",
   "execution_count": 0,
   "metadata": {
    "colab": {
     "base_uri": "https://localhost:8080/",
     "height": 258
    },
    "colab_type": "code",
    "executionInfo": {
     "elapsed": 45004,
     "status": "ok",
     "timestamp": 1572975790560,
     "user": {
      "displayName": "Abhishek Singh, 4-Yr B Tech, Electrical Engg, IIT (BHU) Varanasi",
      "photoUrl": "https://lh3.googleusercontent.com/a-/AAuE7mBAu6pD-I3Pdn_I1oxZJBB7hudMcmxHG9cW6HOh=s64",
      "userId": "13571043541178143551"
     },
     "user_tz": -330
    },
    "id": "Fxm3e5aHmznK",
    "outputId": "641fc5e3-7deb-41e3-d002-dcb878dc0d7c"
   },
   "outputs": [
    {
     "name": "stdout",
     "output_type": "stream",
     "text": [
      "Collecting fasttext\n",
      "\u001b[?25l  Downloading https://files.pythonhosted.org/packages/10/61/2e01f1397ec533756c1d893c22d9d5ed3fce3a6e4af1976e0d86bb13ea97/fasttext-0.9.1.tar.gz (57kB)\n",
      "\r",
      "\u001b[K     |█████▊                          | 10kB 13.2MB/s eta 0:00:01\r",
      "\u001b[K     |███████████▍                    | 20kB 2.3MB/s eta 0:00:01\r",
      "\u001b[K     |█████████████████               | 30kB 3.3MB/s eta 0:00:01\r",
      "\u001b[K     |██████████████████████▊         | 40kB 2.2MB/s eta 0:00:01\r",
      "\u001b[K     |████████████████████████████▍   | 51kB 2.7MB/s eta 0:00:01\r",
      "\u001b[K     |████████████████████████████████| 61kB 2.3MB/s \n",
      "\u001b[?25hRequirement already satisfied: pybind11>=2.2 in /usr/local/lib/python3.6/dist-packages (from fasttext) (2.4.3)\n",
      "Requirement already satisfied: setuptools>=0.7.0 in /usr/local/lib/python3.6/dist-packages (from fasttext) (41.4.0)\n",
      "Requirement already satisfied: numpy in /usr/local/lib/python3.6/dist-packages (from fasttext) (1.17.3)\n",
      "Building wheels for collected packages: fasttext\n",
      "  Building wheel for fasttext (setup.py) ... \u001b[?25l\u001b[?25hdone\n",
      "  Created wheel for fasttext: filename=fasttext-0.9.1-cp36-cp36m-linux_x86_64.whl size=2384650 sha256=9982c9119279a33bf2aea5c2266a950006aa18c07546b586ec2535327f01dcdf\n",
      "  Stored in directory: /root/.cache/pip/wheels/9f/f0/04/caa82c912aee89ce76358ff954f3f0729b7577c8ff23a292e3\n",
      "Successfully built fasttext\n",
      "Installing collected packages: fasttext\n",
      "Successfully installed fasttext-0.9.1\n"
     ]
    }
   ],
   "source": [
    "!pip install fasttext"
   ]
  },
  {
   "cell_type": "code",
   "execution_count": 0,
   "metadata": {
    "colab": {},
    "colab_type": "code",
    "id": "URfOsFGcK7Z_"
   },
   "outputs": [],
   "source": [
    "import fasttext"
   ]
  },
  {
   "cell_type": "code",
   "execution_count": 0,
   "metadata": {
    "colab": {
     "base_uri": "https://localhost:8080/",
     "height": 391
    },
    "colab_type": "code",
    "executionInfo": {
     "elapsed": 41369,
     "status": "error",
     "timestamp": 1572975790567,
     "user": {
      "displayName": "Abhishek Singh, 4-Yr B Tech, Electrical Engg, IIT (BHU) Varanasi",
      "photoUrl": "https://lh3.googleusercontent.com/a-/AAuE7mBAu6pD-I3Pdn_I1oxZJBB7hudMcmxHG9cW6HOh=s64",
      "userId": "13571043541178143551"
     },
     "user_tz": -330
    },
    "id": "OFt6Z4NVmC6i",
    "outputId": "d0023940-e327-4563-ba1d-addb16fcc2fb"
   },
   "outputs": [
    {
     "name": "stderr",
     "output_type": "stream",
     "text": [
      "\n"
     ]
    },
    {
     "ename": "ValueError",
     "evalue": "ignored",
     "output_type": "error",
     "traceback": [
      "\u001b[0;31m---------------------------------------------------------------------------\u001b[0m",
      "\u001b[0;31mValueError\u001b[0m                                Traceback (most recent call last)",
      "\u001b[0;32m<ipython-input-5-0fadb44b8aa3>\u001b[0m in \u001b[0;36m<module>\u001b[0;34m()\u001b[0m\n\u001b[1;32m      3\u001b[0m \u001b[0mPATH_TO_MODEL\u001b[0m \u001b[0;34m=\u001b[0m \u001b[0;34m'/content/drive/My Drive/Sentimix'\u001b[0m\u001b[0;34m\u001b[0m\u001b[0;34m\u001b[0m\u001b[0m\n\u001b[1;32m      4\u001b[0m \u001b[0;34m\u001b[0m\u001b[0m\n\u001b[0;32m----> 5\u001b[0;31m \u001b[0mmodel\u001b[0m \u001b[0;34m=\u001b[0m \u001b[0mfasttext\u001b[0m\u001b[0;34m.\u001b[0m\u001b[0mload_model\u001b[0m\u001b[0;34m(\u001b[0m\u001b[0mos\u001b[0m\u001b[0;34m.\u001b[0m\u001b[0mpath\u001b[0m\u001b[0;34m.\u001b[0m\u001b[0mjoin\u001b[0m\u001b[0;34m(\u001b[0m\u001b[0mPATH_TO_MODEL\u001b[0m\u001b[0;34m,\u001b[0m\u001b[0;34m'fasttext_twitter_raw_1.bin'\u001b[0m\u001b[0;34m)\u001b[0m\u001b[0;34m)\u001b[0m\u001b[0;34m\u001b[0m\u001b[0;34m\u001b[0m\u001b[0m\n\u001b[0m\u001b[1;32m      6\u001b[0m \u001b[0;34m\u001b[0m\u001b[0m\n\u001b[1;32m      7\u001b[0m \u001b[0mword_inv\u001b[0m \u001b[0;34m=\u001b[0m \u001b[0;34m'running'\u001b[0m\u001b[0;34m\u001b[0m\u001b[0;34m\u001b[0m\u001b[0m\n",
      "\u001b[0;32m/usr/local/lib/python3.6/dist-packages/fasttext/FastText.py\u001b[0m in \u001b[0;36mload_model\u001b[0;34m(path)\u001b[0m\n\u001b[1;32m    348\u001b[0m     \u001b[0;34m\"\"\"Load a model given a filepath and return a model object.\"\"\"\u001b[0m\u001b[0;34m\u001b[0m\u001b[0;34m\u001b[0m\u001b[0m\n\u001b[1;32m    349\u001b[0m     \u001b[0meprint\u001b[0m\u001b[0;34m(\u001b[0m\u001b[0;34m\"Warning : `load_model` does not return WordVectorModel or SupervisedModel any more, but a `FastText` object which is very similar.\"\u001b[0m\u001b[0;34m)\u001b[0m\u001b[0;34m\u001b[0m\u001b[0;34m\u001b[0m\u001b[0m\n\u001b[0;32m--> 350\u001b[0;31m     \u001b[0;32mreturn\u001b[0m \u001b[0m_FastText\u001b[0m\u001b[0;34m(\u001b[0m\u001b[0mmodel_path\u001b[0m\u001b[0;34m=\u001b[0m\u001b[0mpath\u001b[0m\u001b[0;34m)\u001b[0m\u001b[0;34m\u001b[0m\u001b[0;34m\u001b[0m\u001b[0m\n\u001b[0m\u001b[1;32m    351\u001b[0m \u001b[0;34m\u001b[0m\u001b[0m\n\u001b[1;32m    352\u001b[0m \u001b[0;34m\u001b[0m\u001b[0m\n",
      "\u001b[0;32m/usr/local/lib/python3.6/dist-packages/fasttext/FastText.py\u001b[0m in \u001b[0;36m__init__\u001b[0;34m(self, model_path, args)\u001b[0m\n\u001b[1;32m     41\u001b[0m         \u001b[0mself\u001b[0m\u001b[0;34m.\u001b[0m\u001b[0mf\u001b[0m \u001b[0;34m=\u001b[0m \u001b[0mfasttext\u001b[0m\u001b[0;34m.\u001b[0m\u001b[0mfasttext\u001b[0m\u001b[0;34m(\u001b[0m\u001b[0;34m)\u001b[0m\u001b[0;34m\u001b[0m\u001b[0;34m\u001b[0m\u001b[0m\n\u001b[1;32m     42\u001b[0m         \u001b[0;32mif\u001b[0m \u001b[0mmodel_path\u001b[0m \u001b[0;32mis\u001b[0m \u001b[0;32mnot\u001b[0m \u001b[0;32mNone\u001b[0m\u001b[0;34m:\u001b[0m\u001b[0;34m\u001b[0m\u001b[0;34m\u001b[0m\u001b[0m\n\u001b[0;32m---> 43\u001b[0;31m             \u001b[0mself\u001b[0m\u001b[0;34m.\u001b[0m\u001b[0mf\u001b[0m\u001b[0;34m.\u001b[0m\u001b[0mloadModel\u001b[0m\u001b[0;34m(\u001b[0m\u001b[0mmodel_path\u001b[0m\u001b[0;34m)\u001b[0m\u001b[0;34m\u001b[0m\u001b[0;34m\u001b[0m\u001b[0m\n\u001b[0m\u001b[1;32m     44\u001b[0m         \u001b[0mself\u001b[0m\u001b[0;34m.\u001b[0m\u001b[0m_words\u001b[0m \u001b[0;34m=\u001b[0m \u001b[0;32mNone\u001b[0m\u001b[0;34m\u001b[0m\u001b[0;34m\u001b[0m\u001b[0m\n\u001b[1;32m     45\u001b[0m         \u001b[0mself\u001b[0m\u001b[0;34m.\u001b[0m\u001b[0m_labels\u001b[0m \u001b[0;34m=\u001b[0m \u001b[0;32mNone\u001b[0m\u001b[0;34m\u001b[0m\u001b[0;34m\u001b[0m\u001b[0m\n",
      "\u001b[0;31mValueError\u001b[0m: /content/drive/My Drive/Sentimix/fasttext_twitter_raw_1.bin cannot be opened for loading!"
     ]
    }
   ],
   "source": [
    "import os\n",
    "\n",
    "PATH_TO_MODEL = '/content/drive/My Drive/Sentimix'\n",
    "\n",
    "model = fasttext.load_model(os.path.join(PATH_TO_MODEL,'fasttext_twitter_raw_1.bin'))\n",
    "\n",
    "word_inv = 'running'\n",
    "word_oov = 'runnnnnnnnnnnning'\n",
    "\n",
    "if word_oov in model:\n",
    "    print('This word is in the vocabulary: {}'.format(word_oov))"
   ]
  },
  {
   "cell_type": "code",
   "execution_count": 0,
   "metadata": {
    "colab": {},
    "colab_type": "code",
    "id": "_cUucGX6nbKh"
   },
   "outputs": [],
   "source": []
  }
 ],
 "metadata": {
  "colab": {
   "collapsed_sections": [
    "gPxzPCOBRTNs",
    "qhdecMLAZf9k"
   ],
   "machine_shape": "hm",
   "name": "cleaning_spanglish.ipynb",
   "provenance": [
    {
     "file_id": "1aS7pOEwsBqSO-2TyLrCnFHkSjpWW-_cs",
     "timestamp": 1574079881776
    }
   ]
  },
  "kernelspec": {
   "display_name": "Python 3",
   "language": "python",
   "name": "python3"
  },
  "language_info": {
   "codemirror_mode": {
    "name": "ipython",
    "version": 3
   },
   "file_extension": ".py",
   "mimetype": "text/x-python",
   "name": "python",
   "nbconvert_exporter": "python",
   "pygments_lexer": "ipython3",
   "version": "3.6.5"
  }
 },
 "nbformat": 4,
 "nbformat_minor": 1
}
