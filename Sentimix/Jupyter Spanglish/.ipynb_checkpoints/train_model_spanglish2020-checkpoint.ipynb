{
 "cells": [
  {
   "cell_type": "code",
   "execution_count": null,
   "metadata": {
    "colab": {
     "base_uri": "https://localhost:8080/",
     "height": 34
    },
    "colab_type": "code",
    "executionInfo": {
     "elapsed": 1337,
     "status": "ok",
     "timestamp": 1595145118343,
     "user": {
      "displayName": "Abhishek SIngh",
      "photoUrl": "",
      "userId": "02637789639158228713"
     },
     "user_tz": -330
    },
    "id": "9W_I_jSf7OL_",
    "outputId": "dbb323a5-3964-4d08-cde9-e1ff207d90cb"
   },
   "outputs": [],
   "source": [
    "%tensorflow_version 1.x"
   ]
  },
  {
   "cell_type": "code",
   "execution_count": null,
   "metadata": {
    "colab": {
     "base_uri": "https://localhost:8080/",
     "height": 833
    },
    "colab_type": "code",
    "executionInfo": {
     "elapsed": 28152,
     "status": "ok",
     "timestamp": 1595145145800,
     "user": {
      "displayName": "Abhishek SIngh",
      "photoUrl": "",
      "userId": "02637789639158228713"
     },
     "user_tz": -330
    },
    "id": "Gwno6wJW_rev",
    "outputId": "906cd2ab-c339-4ce7-b1b7-da9f3a3f50a1"
   },
   "outputs": [],
   "source": [
    "#Run For the first time\n",
    "!pip install emoji\n",
    "!pip install keras_metrics\n",
    "!pip install keras-self-attention\n",
    "!pip install extra-keras-metrics\n"
   ]
  },
  {
   "cell_type": "code",
   "execution_count": null,
   "metadata": {
    "colab": {
     "base_uri": "https://localhost:8080/",
     "height": 51
    },
    "colab_type": "code",
    "executionInfo": {
     "elapsed": 2477,
     "status": "ok",
     "timestamp": 1595145151751,
     "user": {
      "displayName": "Abhishek SIngh",
      "photoUrl": "",
      "userId": "02637789639158228713"
     },
     "user_tz": -330
    },
    "id": "XrRaD0F2xbxm",
    "outputId": "060e6bf3-d17b-4872-8452-c9ed7718b5cc"
   },
   "outputs": [],
   "source": [
    "import pandas as pd\n",
    "import numpy as np\n",
    "import json\n",
    "import keras\n",
    "import tensorflow as tf\n",
    "import io\n",
    "import pandas as pd\n",
    "import numpy as np\n",
    "import nltk\n",
    "import tensorflow_hub as hub\n",
    "import math\n",
    "import pickle\n",
    "import re\n",
    "import sys\n",
    "import os\n",
    "import matplotlib.pyplot as plt\n",
    "import gc\n",
    "import emoji\n",
    "import pickle\n",
    "import re\n",
    "import keras_metrics as km\n",
    "\n",
    "from bs4 import BeautifulSoup\n",
    "from collections import defaultdict\n",
    "from gensim.models import Word2Vec\n",
    "from sklearn.model_selection import train_test_split\n",
    "from sklearn.preprocessing import OneHotEncoder\n",
    "from sklearn.preprocessing import LabelEncoder\n",
    "from numpy import random\n",
    "from collections import Counter\n",
    "from google.colab import files\n",
    "from sklearn.model_selection import StratifiedKFold\n",
    "from sklearn.metrics import classification_report\n",
    "from sklearn.metrics import f1_score\n",
    "\n",
    "from keras.layers import LSTM, Activation, Dense, Dropout, Input, Embedding, Bidirectional, average, Average, Concatenate\n",
    "from keras.layers import Flatten, BatchNormalization, concatenate, GRU, SpatialDropout1D, GlobalAveragePooling1D, GlobalMaxPooling1D\n",
    "from keras.models import Sequential, Model\n",
    "from keras.preprocessing.text import Tokenizer\n",
    "from keras.preprocessing.sequence import pad_sequences\n",
    "from keras.utils.np_utils import to_categorical\n",
    "from keras.layers import Embedding, Conv1D, MaxPooling1D, Embedding, Dropout, Conv2D\n",
    "from keras.callbacks import ModelCheckpoint\n",
    "from keras.preprocessing import sequence\n",
    "from keras.callbacks import EarlyStopping\n",
    "from keras.optimizers import Adam\n",
    "from keras.metrics import top_k_categorical_accuracy\n",
    "from keras.layers import Activation\n",
    "from keras.utils.generic_utils import get_custom_objects\n",
    "\n",
    "nltk.download('punkt')\n",
    "%matplotlib inline"
   ]
  },
  {
   "cell_type": "code",
   "execution_count": null,
   "metadata": {
    "colab": {
     "base_uri": "https://localhost:8080/",
     "height": 122
    },
    "colab_type": "code",
    "executionInfo": {
     "elapsed": 47502,
     "status": "ok",
     "timestamp": 1595145197185,
     "user": {
      "displayName": "Abhishek SIngh",
      "photoUrl": "",
      "userId": "02637789639158228713"
     },
     "user_tz": -330
    },
    "id": "J97kjnISyIhf",
    "outputId": "a933b9d1-6eec-46a7-b7a5-8efcabfe2bb5"
   },
   "outputs": [],
   "source": [
    "from google.colab import drive\n",
    "drive.mount('/content/drive')"
   ]
  },
  {
   "cell_type": "code",
   "execution_count": null,
   "metadata": {
    "colab": {},
    "colab_type": "code",
    "id": "x-ibFLJujKJ5"
   },
   "outputs": [],
   "source": [
    "root_path='/content/drive/My Drive/spanglish/'"
   ]
  },
  {
   "cell_type": "code",
   "execution_count": null,
   "metadata": {
    "colab": {},
    "colab_type": "code",
    "id": "5nkf_mi4DWHB"
   },
   "outputs": [],
   "source": [
    "train_data=pd.read_csv(root_path+'data/train_read.csv')\n",
    "dev_data=pd.read_csv(root_path+'data/dev_read.csv')\n",
    "test_data=pd.read_csv(root_path+'data/test_data.csv')"
   ]
  },
  {
   "cell_type": "code",
   "execution_count": null,
   "metadata": {
    "colab": {},
    "colab_type": "code",
    "id": "GOgmfplIpt-q"
   },
   "outputs": [],
   "source": [
    "labels_train_raw=list(train_data['label'])\n",
    "labels_dev_raw=list(dev_data['label'])"
   ]
  },
  {
   "cell_type": "code",
   "execution_count": null,
   "metadata": {
    "colab": {},
    "colab_type": "code",
    "id": "RevbZJRWytz4"
   },
   "outputs": [],
   "source": [
    "le=LabelEncoder()\n",
    "le.fit(labels_train_raw)\n",
    "labels_train_le=le.transform(labels_train_raw)\n",
    "labels_dev_le=le.transform(labels_dev_raw)"
   ]
  },
  {
   "cell_type": "code",
   "execution_count": null,
   "metadata": {
    "colab": {},
    "colab_type": "code",
    "id": "GpBF8hRBGC2g"
   },
   "outputs": [],
   "source": [
    "ohc=OneHotEncoder()"
   ]
  },
  {
   "cell_type": "code",
   "execution_count": null,
   "metadata": {
    "colab": {},
    "colab_type": "code",
    "id": "JBFt7JAjGLN6"
   },
   "outputs": [],
   "source": [
    "ohc=OneHotEncoder()\n",
    "labels_train=ohc.fit_transform(labels_train_le.reshape(-1,1))\n",
    "labels_dev=ohc.transform(labels_dev_le.reshape(-1,1))"
   ]
  },
  {
   "cell_type": "code",
   "execution_count": null,
   "metadata": {
    "colab": {
     "base_uri": "https://localhost:8080/",
     "height": 187
    },
    "colab_type": "code",
    "executionInfo": {
     "elapsed": 11959,
     "status": "ok",
     "timestamp": 1595145216279,
     "user": {
      "displayName": "Abhishek SIngh",
      "photoUrl": "",
      "userId": "02637789639158228713"
     },
     "user_tz": -330
    },
    "id": "i208B53c7RB4",
    "outputId": "ac46e26f-e720-44d7-9e6a-eb1980fac3d9"
   },
   "outputs": [],
   "source": [
    "def remove_pattern(input_txt, pattern,with_space=False):\n",
    "    r = re.findall(pattern, input_txt)\n",
    "    if with_space==False:\n",
    "      for i in r:\n",
    "        input_txt = re.sub(i, '', input_txt)\n",
    "    else:\n",
    "      for i in r:\n",
    "        input_txt = re.sub(i, ' ', input_txt)\n",
    "    return input_txt \n",
    "\n",
    "    \n",
    "def remove_pattern_rep(input_txt, pattern,rep_pattern):\n",
    "    r = re.findall(pattern, input_txt)\n",
    "    for i in r:\n",
    "      input_txt = re.sub(i, rep_pattern, input_txt)\n",
    "\n",
    "    return input_txt \n",
    "\n",
    "with open('/content/drive/My Drive/Sentimix/helper_data/contractions.pkl','rb')as f:\n",
    "  contractions=pickle.load(f)\n",
    "\n",
    "\n",
    "contractions=Counter(contractions)\n",
    "with open('/content/drive/My Drive/Sentimix/helper_data/acronyms.pkl','rb')as f:\n",
    "  acronyms=pickle.load(f)\n",
    "acronyms=Counter(acronyms)\n",
    "def acronym(df,column):\n",
    "  s_l=[]\n",
    "  for i in range(df.shape[0]):\n",
    "    sent=str(df[column][i]).lower()\n",
    "    w_l=[]\n",
    "    for word in sent.split():\n",
    "      if acronyms[word]!=0:\n",
    "        w_l.append(acronyms[word])\n",
    "      else:\n",
    "        w_l.append(word)\n",
    "    s_l.append(' '.join(w_l))\n",
    "  return s_l\n",
    "with open('/content/drive/My Drive/Sentimix/hinglish_to_english.pickle','rb')as f:\n",
    "  hing_to_eng=pickle.load(f)\n",
    "hing_to_eng=Counter(hing_to_eng)\n",
    "def hindi_se_english(df,column):\n",
    "  s_l=[]\n",
    "  for i in range(df.shape[0]):\n",
    "    w_l=[]\n",
    "    sent=str(df[column][i])\n",
    "    for word in sent.split():\n",
    "      if hing_to_eng[word]!=0:\n",
    "        w_l.append(hing_to_eng[word])\n",
    "      else:\n",
    "        w_l.append(word)\n",
    "    s_l.append(' '.join(w_l))\n",
    "  return s_l\n",
    "with open('/content/drive/My Drive/Sentimix/Hinglish_utils/Hinglish_Profanity_dict.pkl', 'rb') as handle:\n",
    "    cuss_dict=pickle.load(handle)\n",
    "cuss_dict=Counter(cuss_dict)\n",
    "cuss_dict['bsdk']='abuse'\n",
    "cuss_dict['bhosadike']='abuse'\n",
    "def replace_cuss(df,column):\n",
    "  s_l=[]\n",
    "  for i in range(df.shape[0]):\n",
    "    sent=str(df[column][i]).lower()\n",
    "    w_l=[]\n",
    "    for word in sent.split():\n",
    "      if cuss_dict[word]!=0:\n",
    "        #w_l.append('abuse')\n",
    "        w_l.append(cuss_dict[word])\n",
    "      else:\n",
    "        w_l.append(word)\n",
    "    s_l.append(' '.join(w_l))\n",
    "  return s_l\n",
    "def remove_contraction(df,column):\n",
    "  s_l=[]\n",
    "  for i in range(df.shape[0]):\n",
    "    sent=str(df[column][i]).lower()\n",
    "    w_l=[]\n",
    "    for word in sent.split():\n",
    "      if contractions[word]!=0:\n",
    "        w_l.append(contractions[word])\n",
    "      else:\n",
    "        w_l.append(word)\n",
    "    s_l.append(' '.join(w_l))\n",
    "  return s_l\n",
    "def cleaning(data_f,cleaning_col,new_col):\n",
    "  for i in range(data_f.shape[0]):\n",
    "    data_f[cleaning_col][i]=emoji.demojize(str(data_f[cleaning_col][i]))\n",
    "  data_f[new_col]=replace_cuss(data_f,cleaning_col)\n",
    "  data_f[new_col]=np.vectorize(remove_pattern)(data_f[new_col],\"_\",with_space=True)\n",
    "  data_f[new_col]=np.vectorize(remove_pattern)(data_f[new_col],\"-\",with_space=True)\n",
    "  data_f[new_col]=np.vectorize(remove_pattern)(data_f[new_col],\":\",with_space=True)\n",
    "  data_f[new_col] = np.vectorize(remove_pattern_rep)(data_f[new_col], \"@[\\w]*\",\"<USR>\")\n",
    "  data_f[new_col] = np.vectorize(remove_pattern_rep)(data_f[new_col], \"[0-9]+\",\"<NUM>\")\n",
    "  data_f[new_col]=hindi_se_english(data_f,new_col)\n",
    "  data_f[new_col]=remove_contraction(data_f,new_col)\n",
    "  data_f[new_col]=acronym(data_f,new_col)\n",
    "  data_f[new_col]=data_f[new_col].str.replace(\"[^a-zA-Z]<>\", \" \")\n",
    "  data_f[new_col] = np.vectorize(remove_pattern)(data_f[new_col], \"~\",with_space=False)\n",
    "  data_f[new_col] = np.vectorize(remove_pattern)(data_f[new_col], \"!\",with_space=True)\n",
    "  data_f[new_col] = np.vectorize(remove_pattern)(data_f[new_col], \".\",with_space=True)\n",
    "  data_f[new_col] = data_f[new_col].apply(lambda x: ' '.join([w for w in x.split() if len(w)>1]))\n",
    "    \n",
    "  return data_f\n",
    "\n",
    "\n"
   ]
  },
  {
   "cell_type": "code",
   "execution_count": null,
   "metadata": {
    "colab": {},
    "colab_type": "code",
    "id": "vEOy2OAx8FC8"
   },
   "outputs": [],
   "source": [
    "train_data=cleaning(train_data,'sent','span_clean')"
   ]
  },
  {
   "cell_type": "code",
   "execution_count": null,
   "metadata": {
    "colab": {
     "base_uri": "https://localhost:8080/",
     "height": 85
    },
    "colab_type": "code",
    "executionInfo": {
     "elapsed": 16162,
     "status": "ok",
     "timestamp": 1595145221822,
     "user": {
      "displayName": "Abhishek SIngh",
      "photoUrl": "",
      "userId": "02637789639158228713"
     },
     "user_tz": -330
    },
    "id": "_WnA7MhAFH8f",
    "outputId": "fdf07b9b-c8dc-4251-b7b0-4cac7d36dec5"
   },
   "outputs": [],
   "source": [
    "dev_data=cleaning(dev_data,'sent','span_clean')"
   ]
  },
  {
   "cell_type": "code",
   "execution_count": null,
   "metadata": {
    "colab": {
     "base_uri": "https://localhost:8080/",
     "height": 85
    },
    "colab_type": "code",
    "executionInfo": {
     "elapsed": 17216,
     "status": "ok",
     "timestamp": 1595145223608,
     "user": {
      "displayName": "Abhishek SIngh",
      "photoUrl": "",
      "userId": "02637789639158228713"
     },
     "user_tz": -330
    },
    "id": "P0pNBKhavIP6",
    "outputId": "b6565a8e-fa32-4a40-9f78-cb467f77f67e"
   },
   "outputs": [],
   "source": [
    "test_data=cleaning(test_data,'sent','span_clean')"
   ]
  },
  {
   "cell_type": "markdown",
   "metadata": {
    "colab_type": "text",
    "id": "iQPNNhjf4Tjo"
   },
   "source": [
    "## Tokenization"
   ]
  },
  {
   "cell_type": "code",
   "execution_count": null,
   "metadata": {
    "colab": {},
    "colab_type": "code",
    "id": "eUimeWjPzXTB"
   },
   "outputs": [],
   "source": [
    "max_words = 10000\n",
    "max_len = 25\n",
    "tok = Tokenizer()\n",
    "tok.fit_on_texts(list(train_data['sent'].astype(str))+list(dev_data['sent'].astype(str)))\n"
   ]
  },
  {
   "cell_type": "code",
   "execution_count": null,
   "metadata": {
    "colab": {},
    "colab_type": "code",
    "id": "JS5TeLmPzf1G"
   },
   "outputs": [],
   "source": [
    "sequences_train = tok.texts_to_sequences(train_data['sent'].astype(str))\n",
    "vocab_size = len(tok.word_index) + 1\n",
    "sequences_matrix_train = sequence.pad_sequences(sequences_train,maxlen=max_len,padding='post',truncating='post')"
   ]
  },
  {
   "cell_type": "code",
   "execution_count": null,
   "metadata": {
    "colab": {},
    "colab_type": "code",
    "id": "Ovf7C-iX1T-S"
   },
   "outputs": [],
   "source": [
    "sequences_dev = tok.texts_to_sequences(dev_data['sent'].astype(str))\n",
    "vocab_size = len(tok.word_index) + 1\n",
    "sequences_matrix_dev = sequence.pad_sequences(sequences_dev,maxlen=max_len,padding='post',truncating='post')"
   ]
  },
  {
   "cell_type": "code",
   "execution_count": null,
   "metadata": {
    "colab": {},
    "colab_type": "code",
    "id": "zcYBWcXNvRay"
   },
   "outputs": [],
   "source": [
    "sequences_test = tok.texts_to_sequences(test_data['sent'].astype(str))\n",
    "vocab_size = len(tok.word_index) + 1\n",
    "sequences_matrix_test = sequence.pad_sequences(sequences_test,maxlen=max_len,padding='post',truncating='post')"
   ]
  },
  {
   "cell_type": "code",
   "execution_count": null,
   "metadata": {
    "colab": {},
    "colab_type": "code",
    "id": "YtrwEi0hGdEv"
   },
   "outputs": [],
   "source": [
    "def custom_gelu(x):\n",
    "    return 0.5 * x * (1 + tf.tanh(tf.sqrt(2 / np.pi) * (x + 0.044715 * tf.pow(x, 3))))\n",
    "get_custom_objects().update({'custom_gelu': Activation(custom_gelu)})\n"
   ]
  },
  {
   "cell_type": "markdown",
   "metadata": {
    "colab_type": "text",
    "id": "5Ns59EE9a4cm"
   },
   "source": [
    "## abuse feature"
   ]
  },
  {
   "cell_type": "code",
   "execution_count": null,
   "metadata": {
    "colab": {},
    "colab_type": "code",
    "id": "sEyWVVJua9RG"
   },
   "outputs": [],
   "source": [
    "abuse_f=np.zeros((train_data.shape[0]))"
   ]
  },
  {
   "cell_type": "code",
   "execution_count": null,
   "metadata": {
    "colab": {},
    "colab_type": "code",
    "id": "WqTkqE2WbLxo"
   },
   "outputs": [],
   "source": [
    "for i in range(train_data.shape[0]):\n",
    "  sent=str(a['new_col'][i])\n",
    "  for word in sent.split():\n",
    "    if word=='abuse':\n",
    "      abuse_f[i]+=1"
   ]
  },
  {
   "cell_type": "code",
   "execution_count": null,
   "metadata": {
    "colab": {},
    "colab_type": "code",
    "id": "elHgHogVbu6g"
   },
   "outputs": [],
   "source": [
    "abuse_fd=np.zeros((dev_data.shape[0]))\n"
   ]
  },
  {
   "cell_type": "code",
   "execution_count": null,
   "metadata": {
    "colab": {},
    "colab_type": "code",
    "id": "elHGVB0Tb25H"
   },
   "outputs": [],
   "source": [
    "for i in range(dev_data.shape[0]):\n",
    "  sent=str(b['new_col'][i])\n",
    "  for word in sent.split():\n",
    "    if word=='abuse':\n",
    "      abuse_fd[i]+=1"
   ]
  },
  {
   "cell_type": "markdown",
   "metadata": {
    "colab_type": "text",
    "id": "hgIw3Ac7QlIs"
   },
   "source": [
    "## CNN"
   ]
  },
  {
   "cell_type": "code",
   "execution_count": null,
   "metadata": {
    "colab": {},
    "colab_type": "code",
    "id": "m3NhuXrxQnnd"
   },
   "outputs": [],
   "source": [
    "def cnn():\n",
    "    inputs = Input(name='inputs',shape=[max_len])\n",
    "    layer = Embedding(vocab_size,100,input_length=max_len)(inputs)\n",
    "    x = Conv1D(256, 3, activation='relu')(layer)\n",
    "    x = MaxPooling1D(3)(x)\n",
    "\n",
    "    x = Conv1D(128, 4, activation='relu')(x)\n",
    "    x = LSTM(100,recurrent_dropout=0.2)(x)\n",
    "    layer = Dense(200,name='FC1')(x)\n",
    "    layer = BatchNormalization(name = 'BN1')(layer)\n",
    "    layer = Activation('relu')(layer)\n",
    "    layer = Dropout(0.4)(layer)\n",
    "    layer = Dense(300,name='FC2')(layer)\n",
    "    layer = BatchNormalization(name = 'BN2')(layer)\n",
    "    layer = Activation('relu')(layer)\n",
    "    layer = Dropout(0.4)(layer)\n",
    "    layer = Dense(3,name='out_layer')(layer)\n",
    "    layer = BatchNormalization(name = 'BN4')(layer)\n",
    "    layer = Activation('softmax')(layer)\n",
    "    model = Model(inputs=inputs,outputs=layer)\n",
    "    return model"
   ]
  },
  {
   "cell_type": "code",
   "execution_count": null,
   "metadata": {
    "colab": {
     "base_uri": "https://localhost:8080/",
     "height": 122
    },
    "colab_type": "code",
    "executionInfo": {
     "elapsed": 1546,
     "status": "ok",
     "timestamp": 1573640380771,
     "user": {
      "displayName": "Abhishek Singh, 4-Yr B Tech, Electrical Engg, IIT (BHU) Varanasi",
      "photoUrl": "https://lh3.googleusercontent.com/a-/AAuE7mBAu6pD-I3Pdn_I1oxZJBB7hudMcmxHG9cW6HOh=s64",
      "userId": "13571043541178143551"
     },
     "user_tz": -330
    },
    "id": "XiKUapNZRPJ6",
    "outputId": "6ea5221c-d6cd-4c76-877a-7763ab0cb793"
   },
   "outputs": [],
   "source": [
    "model=cnn()"
   ]
  },
  {
   "cell_type": "code",
   "execution_count": null,
   "metadata": {
    "colab": {
     "base_uri": "https://localhost:8080/",
     "height": 85
    },
    "colab_type": "code",
    "executionInfo": {
     "elapsed": 801,
     "status": "ok",
     "timestamp": 1573640394518,
     "user": {
      "displayName": "Abhishek Singh, 4-Yr B Tech, Electrical Engg, IIT (BHU) Varanasi",
      "photoUrl": "https://lh3.googleusercontent.com/a-/AAuE7mBAu6pD-I3Pdn_I1oxZJBB7hudMcmxHG9cW6HOh=s64",
      "userId": "13571043541178143551"
     },
     "user_tz": -330
    },
    "id": "mO3wV1XmRsXf",
    "outputId": "48d82c70-5e82-4772-f34b-276eea65eab2"
   },
   "outputs": [],
   "source": [
    "model.compile(optimizer='Adam',loss='categorical_crossentropy',metrics=['acc'])"
   ]
  },
  {
   "cell_type": "code",
   "execution_count": null,
   "metadata": {
    "colab": {
     "base_uri": "https://localhost:8080/",
     "height": 731
    },
    "colab_type": "code",
    "executionInfo": {
     "elapsed": 1279,
     "status": "ok",
     "timestamp": 1573640404947,
     "user": {
      "displayName": "Abhishek Singh, 4-Yr B Tech, Electrical Engg, IIT (BHU) Varanasi",
      "photoUrl": "https://lh3.googleusercontent.com/a-/AAuE7mBAu6pD-I3Pdn_I1oxZJBB7hudMcmxHG9cW6HOh=s64",
      "userId": "13571043541178143551"
     },
     "user_tz": -330
    },
    "id": "3L3oTMaIRvPt",
    "outputId": "47a6b78e-3fb9-4766-cf54-b28dbf846213"
   },
   "outputs": [],
   "source": [
    "model.summary()"
   ]
  },
  {
   "cell_type": "code",
   "execution_count": null,
   "metadata": {
    "colab": {
     "base_uri": "https://localhost:8080/",
     "height": 564
    },
    "colab_type": "code",
    "executionInfo": {
     "elapsed": 83777,
     "status": "ok",
     "timestamp": 1573640506572,
     "user": {
      "displayName": "Abhishek Singh, 4-Yr B Tech, Electrical Engg, IIT (BHU) Varanasi",
      "photoUrl": "https://lh3.googleusercontent.com/a-/AAuE7mBAu6pD-I3Pdn_I1oxZJBB7hudMcmxHG9cW6HOh=s64",
      "userId": "13571043541178143551"
     },
     "user_tz": -330
    },
    "id": "UmlQVM41Rz9c",
    "outputId": "91144b2f-1eca-4a51-ee90-605d52d82b34"
   },
   "outputs": [],
   "source": [
    "model.fit(sequences_matrix_train,labels_train,validation_data=(sequences_matrix_dev,labels_dev),epochs=5,batch_size=32)"
   ]
  },
  {
   "cell_type": "markdown",
   "metadata": {
    "colab_type": "text",
    "id": "19RCFKzmVEjV"
   },
   "source": [
    "## RNN"
   ]
  },
  {
   "cell_type": "code",
   "execution_count": null,
   "metadata": {
    "colab": {},
    "colab_type": "code",
    "id": "7XUIw8gV1kVf"
   },
   "outputs": [],
   "source": [
    "def RNN():\n",
    "    inputs = Input(name='inputs',shape=[max_len])\n",
    "    layer = Embedding(max_words,200,input_length=max_len)(inputs)\n",
    "    layer = LSTM(100,recurrent_dropout=0.2)(layer)\n",
    "    layer = Dense(200,name='FC1')(layer)\n",
    "    layer = BatchNormalization(name = 'BN1')(layer)\n",
    "    layer = Activation('relu')(layer)\n",
    "    layer = Dropout(0.4)(layer)\n",
    "    layer = Dense(300,name='FC2')(layer)\n",
    "    layer = BatchNormalization(name = 'BN2')(layer)\n",
    "    layer = Activation('relu')(layer)\n",
    "    layer = Dropout(0.4)(layer)\n",
    "    layer = Dense(3,name='out_layer')(layer)\n",
    "    layer = BatchNormalization(name = 'BN4')(layer)\n",
    "    layer = Activation('softmax')(layer)\n",
    "    model = Model(inputs=inputs,outputs=layer)\n",
    "    return model"
   ]
  },
  {
   "cell_type": "code",
   "execution_count": null,
   "metadata": {
    "colab": {
     "base_uri": "https://localhost:8080/",
     "height": 190
    },
    "colab_type": "code",
    "executionInfo": {
     "elapsed": 1530,
     "status": "ok",
     "timestamp": 1572939511234,
     "user": {
      "displayName": "Abhishek Singh, 4-Yr B Tech, Electrical Engg, IIT (BHU) Varanasi",
      "photoUrl": "https://lh3.googleusercontent.com/a-/AAuE7mBAu6pD-I3Pdn_I1oxZJBB7hudMcmxHG9cW6HOh=s64",
      "userId": "13571043541178143551"
     },
     "user_tz": 480
    },
    "id": "RVpUE7WF2DlK",
    "outputId": "54baa8d1-76dd-4514-f7d5-053816d7ff5d"
   },
   "outputs": [],
   "source": [
    "model=RNN()"
   ]
  },
  {
   "cell_type": "code",
   "execution_count": null,
   "metadata": {
    "colab": {
     "base_uri": "https://localhost:8080/",
     "height": 105
    },
    "colab_type": "code",
    "executionInfo": {
     "elapsed": 1162,
     "status": "ok",
     "timestamp": 1572939511237,
     "user": {
      "displayName": "Abhishek Singh, 4-Yr B Tech, Electrical Engg, IIT (BHU) Varanasi",
      "photoUrl": "https://lh3.googleusercontent.com/a-/AAuE7mBAu6pD-I3Pdn_I1oxZJBB7hudMcmxHG9cW6HOh=s64",
      "userId": "13571043541178143551"
     },
     "user_tz": 480
    },
    "id": "3_Iaqkdq2Hp2",
    "outputId": "71b57ca6-9d8e-4dd3-9065-aac531ba544c"
   },
   "outputs": [],
   "source": [
    "model.compile(optimizer='Adam',loss='categorical_crossentropy',metrics=['acc'])"
   ]
  },
  {
   "cell_type": "code",
   "execution_count": null,
   "metadata": {
    "colab": {
     "base_uri": "https://localhost:8080/",
     "height": 629
    },
    "colab_type": "code",
    "executionInfo": {
     "elapsed": 832,
     "status": "ok",
     "timestamp": 1572939511238,
     "user": {
      "displayName": "Abhishek Singh, 4-Yr B Tech, Electrical Engg, IIT (BHU) Varanasi",
      "photoUrl": "https://lh3.googleusercontent.com/a-/AAuE7mBAu6pD-I3Pdn_I1oxZJBB7hudMcmxHG9cW6HOh=s64",
      "userId": "13571043541178143551"
     },
     "user_tz": 480
    },
    "id": "Sv1Bgpe-lgL_",
    "outputId": "0383b424-bbe4-409f-d12d-ea8c1f07f282"
   },
   "outputs": [],
   "source": [
    "model.summary()"
   ]
  },
  {
   "cell_type": "code",
   "execution_count": null,
   "metadata": {
    "colab": {
     "base_uri": "https://localhost:8080/",
     "height": 836
    },
    "colab_type": "code",
    "executionInfo": {
     "elapsed": 129354,
     "status": "error",
     "timestamp": 1572939671743,
     "user": {
      "displayName": "Abhishek Singh, 4-Yr B Tech, Electrical Engg, IIT (BHU) Varanasi",
      "photoUrl": "https://lh3.googleusercontent.com/a-/AAuE7mBAu6pD-I3Pdn_I1oxZJBB7hudMcmxHG9cW6HOh=s64",
      "userId": "13571043541178143551"
     },
     "user_tz": 480
    },
    "id": "uFYgtVM82dTM",
    "outputId": "84d6fd2b-57d8-43b9-bdaf-eb2c09b3b3b8"
   },
   "outputs": [],
   "source": [
    "model.fit(sequences_matrix_train,labels_train,validation_data=(sequences_matrix_dev,labels_dev),epochs=5,batch_size=32)"
   ]
  },
  {
   "cell_type": "markdown",
   "metadata": {
    "colab_type": "text",
    "id": "-vDWgpzeGcYn"
   },
   "source": [
    "## combinin train and dev"
   ]
  },
  {
   "cell_type": "code",
   "execution_count": null,
   "metadata": {
    "colab": {},
    "colab_type": "code",
    "id": "ZIfVwivzG2YN"
   },
   "outputs": [],
   "source": [
    "new_mat=np.concatenate((sequences_matrix_train,sequences_matrix_dev))"
   ]
  },
  {
   "cell_type": "code",
   "execution_count": null,
   "metadata": {
    "colab": {
     "base_uri": "https://localhost:8080/",
     "height": 34
    },
    "colab_type": "code",
    "executionInfo": {
     "elapsed": 1389,
     "status": "ok",
     "timestamp": 1573033989024,
     "user": {
      "displayName": "Abhishek Singh, 4-Yr B Tech, Electrical Engg, IIT (BHU) Varanasi",
      "photoUrl": "https://lh3.googleusercontent.com/a-/AAuE7mBAu6pD-I3Pdn_I1oxZJBB7hudMcmxHG9cW6HOh=s64",
      "userId": "13571043541178143551"
     },
     "user_tz": -330
    },
    "id": "Ft6HkMAgHC8j",
    "outputId": "69dc052c-1334-4f08-dec0-e6108741563e"
   },
   "outputs": [],
   "source": [
    "new_label=np.concatenate((np.array(labels_train),np.array(labels_dev)),axis=0)\n",
    "print(new_label.shape)"
   ]
  },
  {
   "cell_type": "code",
   "execution_count": null,
   "metadata": {
    "colab": {
     "base_uri": "https://localhost:8080/",
     "height": 105
    },
    "colab_type": "code",
    "executionInfo": {
     "elapsed": 912,
     "status": "ok",
     "timestamp": 1573034176701,
     "user": {
      "displayName": "Abhishek Singh, 4-Yr B Tech, Electrical Engg, IIT (BHU) Varanasi",
      "photoUrl": "https://lh3.googleusercontent.com/a-/AAuE7mBAu6pD-I3Pdn_I1oxZJBB7hudMcmxHG9cW6HOh=s64",
      "userId": "13571043541178143551"
     },
     "user_tz": -330
    },
    "id": "YPAEtREPIkw8",
    "outputId": "245cf7f0-5fd7-40ba-a8bf-21d2660e2b01"
   },
   "outputs": [],
   "source": [
    "ohc=OneHotEncoder()\n",
    "new_label=ohc.fit_transform(new_label.reshape(-1,1))\n"
   ]
  },
  {
   "cell_type": "code",
   "execution_count": null,
   "metadata": {
    "colab": {
     "base_uri": "https://localhost:8080/",
     "height": 34
    },
    "colab_type": "code",
    "executionInfo": {
     "elapsed": 1467,
     "status": "ok",
     "timestamp": 1573034087188,
     "user": {
      "displayName": "Abhishek Singh, 4-Yr B Tech, Electrical Engg, IIT (BHU) Varanasi",
      "photoUrl": "https://lh3.googleusercontent.com/a-/AAuE7mBAu6pD-I3Pdn_I1oxZJBB7hudMcmxHG9cW6HOh=s64",
      "userId": "13571043541178143551"
     },
     "user_tz": -330
    },
    "id": "NBZFaFumIr_3",
    "outputId": "2f2bba50-aa7a-4e71-c72d-1259cf3982ae"
   },
   "outputs": [],
   "source": [
    "new_abuse=np.concatenate((abuse_f,abuse_fd))\n",
    "print(new_abuse.shape)"
   ]
  },
  {
   "cell_type": "markdown",
   "metadata": {
    "colab_type": "text",
    "id": "HwO3GQbp1V6l"
   },
   "source": [
    "## Attention Network"
   ]
  },
  {
   "cell_type": "code",
   "execution_count": null,
   "metadata": {
    "colab": {
     "base_uri": "https://localhost:8080/",
     "height": 407
    },
    "colab_type": "code",
    "executionInfo": {
     "elapsed": 8704,
     "status": "error",
     "timestamp": 1583220259008,
     "user": {
      "displayName": "Abhishek Singh, 4-Yr B Tech, Electrical Engg, IIT (BHU) Varanasi",
      "photoUrl": "https://lh3.googleusercontent.com/a-/AOh14GjaEa4_Pj7plXzO6EEOKAZMsl3-LoEortGEJOlx=s64",
      "userId": "13571043541178143551"
     },
     "user_tz": -330
    },
    "id": "J5EV-8QQ8SHP",
    "outputId": "1a37d42c-71c3-432a-ad92-82a9cda24b1a"
   },
   "outputs": [],
   "source": [
    "import gensim\n",
    "model_emb_300 = gensim.models.Word2Vec.load(\"/content/drive/My Drive/Sentimix/hinglish_word2vec_embeddings_300\")\n",
    "model_emb_200 = gensim.models.Word2Vec.load(\"/content/drive/My Drive/Sentimix/hinglish_word2vec_embeddings_200\")\n",
    "model_emb_100 = gensim.models.Word2Vec.load(\"/content/drive/My Drive/Sentimix/hinglish_word2vec_embeddings_100\")"
   ]
  },
  {
   "cell_type": "code",
   "execution_count": null,
   "metadata": {
    "colab": {
     "base_uri": "https://localhost:8080/",
     "height": 350
    },
    "colab_type": "code",
    "executionInfo": {
     "elapsed": 21363,
     "status": "error",
     "timestamp": 1595145253814,
     "user": {
      "displayName": "Abhishek SIngh",
      "photoUrl": "",
      "userId": "02637789639158228713"
     },
     "user_tz": -330
    },
    "id": "Ftr9thIJdWiU",
    "outputId": "602ea0ac-509c-48f8-c258-6fa6a5f3cfc7"
   },
   "outputs": [],
   "source": [
    "embeddings_index = {}\n",
    "f = open(os.path.join('/content/drive/My Drive/IR_project/glove.6B', 'glove.6B.300d.txt'))\n",
    "for line in f:\n",
    "    values = line.split()\n",
    "    word = values[0]\n",
    "    coefs = np.asarray(values[1:], dtype='float32')\n",
    "    embeddings_index[word] = coefs\n",
    "f.close()"
   ]
  },
  {
   "cell_type": "code",
   "execution_count": null,
   "metadata": {
    "colab": {},
    "colab_type": "code",
    "id": "tW6uIhyVdgfO"
   },
   "outputs": [],
   "source": [
    "word_index=tok.word_index"
   ]
  },
  {
   "cell_type": "code",
   "execution_count": null,
   "metadata": {
    "colab": {},
    "colab_type": "code",
    "id": "q5GP5jtJdflQ"
   },
   "outputs": [],
   "source": [
    "embedding_matrix_1 = np.zeros((len(tok.word_index) + 1, 100))\n",
    "for word, i in tok.word_index.items():\n",
    "    if word in model_emb_100.wv.vocab:\n",
    "      embedding_matrix_1[i] = model_emb_100[word]"
   ]
  },
  {
   "cell_type": "code",
   "execution_count": null,
   "metadata": {
    "colab": {},
    "colab_type": "code",
    "id": "Mgn4w8FhEqXw"
   },
   "outputs": [],
   "source": [
    "embedding_matrix_2 = np.zeros((len(tok.word_index) + 1, 200))\n",
    "for word, i in tok.word_index.items():\n",
    "    if word in model_emb_200.wv.vocab:\n",
    "      embedding_matrix_2[i] = model_emb_200[word]"
   ]
  },
  {
   "cell_type": "code",
   "execution_count": null,
   "metadata": {
    "colab": {},
    "colab_type": "code",
    "id": "Hb0EV4g2EqKw"
   },
   "outputs": [],
   "source": [
    "embedding_matrix_3 = np.zeros((len(tok.word_index) + 1, 300))\n",
    "for word, i in tok.word_index.items():\n",
    "    if word in model_emb_300.wv.vocab:\n",
    "      embedding_matrix_3[i] = model_emb_300[word]"
   ]
  },
  {
   "cell_type": "code",
   "execution_count": null,
   "metadata": {
    "colab": {},
    "colab_type": "code",
    "id": "9AJPD4XQEc9-"
   },
   "outputs": [],
   "source": [
    "from keras.layers import Concatenate"
   ]
  },
  {
   "cell_type": "code",
   "execution_count": null,
   "metadata": {
    "colab": {},
    "colab_type": "code",
    "id": "pS5JM5TzLp2U"
   },
   "outputs": [],
   "source": [
    "from sklearn.metrics import precision_recall_fscore_support"
   ]
  },
  {
   "cell_type": "code",
   "execution_count": null,
   "metadata": {
    "colab": {},
    "colab_type": "code",
    "id": "uIyem8wQKqdc"
   },
   "outputs": [],
   "source": [
    "import numpy as np\n",
    "from keras.callbacks import Callback\n",
    "from sklearn.metrics import confusion_matrix, f1_score, precision_score, recall_score\n",
    "class Metrics(Callback):\n",
    "  def on_train_begin(self, logs={}):\n",
    "    self.val_f1s = []\n",
    "    self.val_recalls = []\n",
    "    self.val_precisions = []\n",
    "  \n",
    "  def on_epoch_end(self, epoch, logs={}):\n",
    "    val_predict = (np.asarray(self.model.predict(self.validation_data[0])))\n",
    "    val_targ = self.validation_data[1]\n",
    "    val_predict=val_predict.argmax(axis=-1)\n",
    "    \n",
    "    val_targ=val_targ.argmax(axis=-1)\n",
    "    # print(val_predict)\n",
    "    # print(val_targ)\n",
    "    _val_f1 = f1_score(val_targ, val_predict,average='macro')\n",
    "    _val_recall = recall_score(val_targ, val_predict,average='macro')\n",
    "    _val_precision = precision_score(val_targ, val_predict,average='macro')\n",
    "    self.val_f1s.append(_val_f1)\n",
    "    self.val_recalls.append(_val_recall)\n",
    "    self.val_precisions.append(_val_precision)\n",
    "    print(\" — val_f1: %f — val_precision: %f — val_recall %f\" %(_val_f1, _val_precision, _val_recall))\n",
    "    return\n",
    " \n",
    "f1_metrics = Metrics()\n"
   ]
  },
  {
   "cell_type": "code",
   "execution_count": null,
   "metadata": {
    "colab": {},
    "colab_type": "code",
    "id": "HY2IVNHiS2z6"
   },
   "outputs": [],
   "source": [
    "from keras import backend as K\n",
    "import tensorflow as tf\n",
    "\n",
    "import dill\n",
    "\n",
    "\n",
    "def binary_focal_loss(gamma=2., alpha=.25):\n",
    "    \"\"\"\n",
    "    Binary form of focal loss.\n",
    "      FL(p_t) = -alpha * (1 - p_t)**gamma * log(p_t)\n",
    "      where p = sigmoid(x), p_t = p or 1 - p depending on if the label is 1 or 0, respectively.\n",
    "    References:\n",
    "        https://arxiv.org/pdf/1708.02002.pdf\n",
    "    Usage:\n",
    "     model.compile(loss=[binary_focal_loss(alpha=.25, gamma=2)], metrics=[\"accuracy\"], optimizer=adam)\n",
    "    \"\"\"\n",
    "    def binary_focal_loss_fixed(y_true, y_pred):\n",
    "        \"\"\"\n",
    "        :param y_true: A tensor of the same shape as `y_pred`\n",
    "        :param y_pred:  A tensor resulting from a sigmoid\n",
    "        :return: Output tensor.\n",
    "        \"\"\"\n",
    "        pt_1 = tf.where(tf.equal(y_true, 1), y_pred, tf.ones_like(y_pred))\n",
    "        pt_0 = tf.where(tf.equal(y_true, 0), y_pred, tf.zeros_like(y_pred))\n",
    "\n",
    "        epsilon = K.epsilon()\n",
    "        # clip to prevent NaN's and Inf's\n",
    "        pt_1 = K.clip(pt_1, epsilon, 1. - epsilon)\n",
    "        pt_0 = K.clip(pt_0, epsilon, 1. - epsilon)\n",
    "\n",
    "        return -K.sum(alpha * K.pow(1. - pt_1, gamma) * K.log(pt_1)) \\\n",
    "               -K.sum((1 - alpha) * K.pow(pt_0, gamma) * K.log(1. - pt_0))\n",
    "\n",
    "    return binary_focal_loss_fixed\n",
    "\n",
    "\n",
    "def categorical_focal_loss(gamma=2., alpha=.25):\n",
    "    \"\"\"\n",
    "    Softmax version of focal loss.\n",
    "           m\n",
    "      FL = ∑  -alpha * (1 - p_o,c)^gamma * y_o,c * log(p_o,c)\n",
    "          c=1\n",
    "      where m = number of classes, c = class and o = observation\n",
    "    Parameters:\n",
    "      alpha -- the same as weighing factor in balanced cross entropy\n",
    "      gamma -- focusing parameter for modulating factor (1-p)\n",
    "    Default value:\n",
    "      gamma -- 2.0 as mentioned in the paper\n",
    "      alpha -- 0.25 as mentioned in the paper\n",
    "    References:\n",
    "        Official paper: https://arxiv.org/pdf/1708.02002.pdf\n",
    "        https://www.tensorflow.org/api_docs/python/tf/keras/backend/categorical_crossentropy\n",
    "    Usage:\n",
    "     model.compile(loss=[categorical_focal_loss(alpha=.25, gamma=2)], metrics=[\"accuracy\"], optimizer=adam)\n",
    "    \"\"\"\n",
    "    def categorical_focal_loss_fixed(y_true, y_pred):\n",
    "        \"\"\"\n",
    "        :param y_true: A tensor of the same shape as `y_pred`\n",
    "        :param y_pred: A tensor resulting from a softmax\n",
    "        :return: Output tensor.\n",
    "        \"\"\"\n",
    "\n",
    "        # Scale predictions so that the class probas of each sample sum to 1\n",
    "        y_pred /= K.sum(y_pred, axis=-1, keepdims=True)\n",
    "\n",
    "        # Clip the prediction value to prevent NaN's and Inf's\n",
    "        epsilon = K.epsilon()\n",
    "        y_pred = K.clip(y_pred, epsilon, 1. - epsilon)\n",
    "\n",
    "        # Calculate Cross Entropy\n",
    "        cross_entropy = -y_true * K.log(y_pred)\n",
    "\n",
    "        # Calculate Focal Loss\n",
    "        loss = alpha * K.pow(1 - y_pred, gamma) * cross_entropy\n",
    "\n",
    "        # Sum the losses in mini_batch\n",
    "        return K.sum(loss, axis=1)\n",
    "\n",
    "    return categorical_focal_loss_fixed\n",
    "\n",
    "\n"
   ]
  },
  {
   "cell_type": "code",
   "execution_count": null,
   "metadata": {
    "colab": {
     "base_uri": "https://localhost:8080/",
     "height": 68
    },
    "colab_type": "code",
    "executionInfo": {
     "elapsed": 2597,
     "status": "ok",
     "timestamp": 1595145271587,
     "user": {
      "displayName": "Abhishek SIngh",
      "photoUrl": "",
      "userId": "02637789639158228713"
     },
     "user_tz": -330
    },
    "id": "NRUGtTlKEMta",
    "outputId": "419b5c3f-f9a9-42c2-86fb-4c9fbff0dd26"
   },
   "outputs": [],
   "source": [
    "\n",
    "class Attention(Layer):\n",
    "    def __init__(self,step_dim=20,\n",
    "                 W_regularizer=None, b_regularizer=None,\n",
    "                 W_constraint=None, b_constraint=None,\n",
    "                 bias=True, **kwargs):\n",
    "        self.supports_masking = True\n",
    "        self.init = initializers.get('glorot_uniform')\n",
    "\n",
    "        self.W_regularizer = regularizers.get(W_regularizer)\n",
    "        self.b_regularizer = regularizers.get(b_regularizer)\n",
    "\n",
    "        self.W_constraint = constraints.get(W_constraint)\n",
    "        self.b_constraint = constraints.get(b_constraint)\n",
    "\n",
    "        self.bias = bias\n",
    "        self.step_dim = step_dim\n",
    "        self.features_dim = 0\n",
    "        super(Attention, self).__init__(**kwargs)\n",
    "\n",
    "    def build(self, input_shape):\n",
    "        assert len(input_shape) == 3\n",
    "\n",
    "        self.W = self.add_weight((input_shape[-1],),\n",
    "                                 initializer=self.init,\n",
    "                                 name='{}_W'.format(self.name),\n",
    "                                 regularizer=self.W_regularizer,\n",
    "                                 constraint=self.W_constraint)\n",
    "        self.features_dim = input_shape[-1]\n",
    "\n",
    "        if self.bias:\n",
    "            self.b = self.add_weight((input_shape[1],),\n",
    "                                     initializer='zero',\n",
    "                                     name='{}_b'.format(self.name),\n",
    "                                     regularizer=self.b_regularizer,\n",
    "                                     constraint=self.b_constraint)\n",
    "        else:\n",
    "            self.b = None\n",
    "\n",
    "        self.built = True\n",
    "\n",
    "    def compute_mask(self, input, input_mask=None):\n",
    "        return None\n",
    "\n",
    "    def call(self, x, mask=None):\n",
    "        features_dim = self.features_dim\n",
    "        step_dim = self.step_dim\n",
    "\n",
    "        eij = K.reshape(K.dot(K.reshape(x, (-1, features_dim)),\n",
    "                        K.reshape(self.W, (features_dim, 1))), (-1, step_dim))\n",
    "\n",
    "        if self.bias:\n",
    "            eij += self.b\n",
    "\n",
    "        eij = K.tanh(eij)\n",
    "\n",
    "        a = K.exp(eij)\n",
    "\n",
    "        if mask is not None:\n",
    "            a *= K.cast(mask, K.floatx())\n",
    "\n",
    "        a /= K.cast(K.sum(a, axis=1, keepdims=True) + K.epsilon(), K.floatx())\n",
    "\n",
    "        a = K.expand_dims(a)\n",
    "        weighted_input = x * a\n",
    "        return K.sum(weighted_input, axis=1)\n",
    "\n",
    "    def compute_output_shape(self, input_shape):\n",
    "        return input_shape[0],  self.features_dim\n",
    "from keras.models import Model\n",
    "from keras.layers import Dense, Embedding, Input,CuDNNLSTM,CuDNNGRU\n",
    "from keras.layers import LSTM, Bidirectional, Dropout\n",
    "\n",
    "\n",
    "def BidLstm(maxlen, max_features, embed_size):\n",
    "    inp1 = Input(shape=(maxlen, ))\n",
    "    #inp2=Input(shape=(1,))\n",
    "    x=Embedding(max_words+1,embed_size)(inp1)\n",
    "    #x = Embedding(len(tok.word_index) + 1,embed_size,weights=[embedding_matrix_3],\n",
    "    #                trainable=False)(inp1)\n",
    "    # x2 = Embedding(len(tok.word_index) + 1,embed_size_2,weights=[embedding_matrix_2],\n",
    "    #                trainable=True)(inp1)\n",
    "    # x3 = Embedding(len(tok.word_index) + 1,embed_size_3,weights=[embedding_matrix_3],\n",
    "    #                trainable=True)(inp1)\n",
    "    # x1 = Bidirectional(LSTM(200, return_sequences=True, dropout=0.4,\n",
    "    #                        recurrent_dropout=0.4))(x1)\n",
    "    # x2 = Bidirectional(LSTM(200, return_sequences=True, dropout=0.4,\n",
    "    #                        recurrent_dropout=0.4))(x2)\n",
    "    # x3 = Bidirectional(LSTM(200, return_sequences=True, dropout=0.4,\n",
    "    #                        recurrent_dropout=0.4))(x3)   \n",
    "    #x = Attention(maxlen)(x)\n",
    "    # x2 = Attention(maxlen)(x2)\n",
    "    # x3 = Attention(maxlen)(x3)\n",
    "    # x=  Concatenate()([x1,x2,x3])\n",
    "    x = CuDNNLSTM(256, return_sequences=True)(x)\n",
    "    # x = SeqSelfAttention(kernel_regularizer=keras.regularizers.l2(1e-4),\n",
    "    #                    bias_regularizer=keras.regularizers.l1(1e-4),\n",
    "    #                    attention_regularizer_weight=1e-4,\n",
    "    #                    name='Attention')(x) \n",
    "    #x = Attention(maxlen)(x)\n",
    "    # layer = Dense(600,name='FC1')(x)\n",
    "    # layer = Dense(300,activation='relu')(layer)\n",
    "    # layer = Dense(200,activation='relu')(layer)\n",
    " #   layer = BatchNormalization(name = 'BN1')(layer)\n",
    "    # layer = Activation('relu')(layer)\n",
    "    # layer = Dropout(0.4)(layer)\n",
    "    x2=GlobalMaxPool1D()(x)\n",
    "    x3=GlobalAveragePooling1D()(x)\n",
    "    x=  Concatenate()([x2,x3])\n",
    "    layer = Dense(128,name='FC2')(x)\n",
    "#    layer = BatchNormalization(name = 'BN2')(layer)\n",
    "    layer = Activation('relu')(layer)\n",
    "    layer = Dropout(0.4)(layer)\n",
    "   # layer=  Concatenate()([layer,inp2])\n",
    "    # layer=Dense(256,activation='relu')(layer)\n",
    "    # layer=Dense(128,activation='relu')(layer)\n",
    "    layer = Dense(3,name='out_layer',activation='softmax')(layer)\n",
    "\n",
    "    model = Model(inputs=[inp1],outputs=layer)\n",
    "\n",
    "    return model\n",
    "model=BidLstm(max_len,max_features=len(tok.word_index)+1,embed_size=300)"
   ]
  },
  {
   "cell_type": "code",
   "execution_count": null,
   "metadata": {
    "colab": {},
    "colab_type": "code",
    "id": "1uITF0D84Atv"
   },
   "outputs": [],
   "source": [
    "model.compile(optimizer='Adam',loss='categorical_crossentropy',metrics=['acc'])"
   ]
  },
  {
   "cell_type": "code",
   "execution_count": null,
   "metadata": {
    "colab": {
     "base_uri": "https://localhost:8080/",
     "height": 510
    },
    "colab_type": "code",
    "executionInfo": {
     "elapsed": 1284,
     "status": "ok",
     "timestamp": 1595145272049,
     "user": {
      "displayName": "Abhishek SIngh",
      "photoUrl": "",
      "userId": "02637789639158228713"
     },
     "user_tz": -330
    },
    "id": "d2DGEX_P5qWJ",
    "outputId": "ad8f2fdf-203a-457d-823d-0fd067452f91"
   },
   "outputs": [],
   "source": [
    "model.summary()"
   ]
  },
  {
   "cell_type": "code",
   "execution_count": null,
   "metadata": {
    "colab": {},
    "colab_type": "code",
    "id": "xBk5FXIKOj1T"
   },
   "outputs": [],
   "source": [
    "cp_filepath=root_path+'/checkpoints/bi_gru_self_attention.h5'\n",
    "cp_check_point=keras.callbacks.ModelCheckpoint(cp_filepath, monitor='val_acc', verbose=0, save_best_only=True, save_weights_only=False, mode='max', period=1)\n",
    "es = EarlyStopping(monitor='val_acc', mode='max', min_delta=0,patience=5,restore_best_weights=True)\n",
    "reduce_lr=keras.callbacks.ReduceLROnPlateau(monitor='val_loss', factor=0.1, patience=10, verbose=0, mode='auto', min_delta=0.0001, cooldown=0, min_lr=0)\n"
   ]
  },
  {
   "cell_type": "code",
   "execution_count": null,
   "metadata": {
    "colab": {
     "base_uri": "https://localhost:8080/",
     "height": 34
    },
    "colab_type": "code",
    "executionInfo": {
     "elapsed": 1143,
     "status": "ok",
     "timestamp": 1595145275660,
     "user": {
      "displayName": "Abhishek SIngh",
      "photoUrl": "",
      "userId": "02637789639158228713"
     },
     "user_tz": -330
    },
    "id": "4ycDWAxB9X1T",
    "outputId": "4124c082-fe6c-47c4-a0e9-c746f18d224a"
   },
   "outputs": [],
   "source": [
    "labels_train.shape"
   ]
  },
  {
   "cell_type": "code",
   "execution_count": null,
   "metadata": {
    "colab": {
     "base_uri": "https://localhost:8080/",
     "height": 153
    },
    "colab_type": "code",
    "executionInfo": {
     "elapsed": 27629,
     "status": "ok",
     "timestamp": 1595145309652,
     "user": {
      "displayName": "Abhishek SIngh",
      "photoUrl": "",
      "userId": "02637789639158228713"
     },
     "user_tz": -330
    },
    "id": "b-aKbqPo4Q2R",
    "outputId": "f644f0e8-4715-4457-8952-b7db1519b586"
   },
   "outputs": [],
   "source": [
    "# model.fit(([sequences_matrix_train],labels_train),([sequences_matrix_dev],labels_dev),epochs=2,batch_size=32,callbacks=[es,cp_check_point])\n",
    "model.fit([sequences_matrix_train],labels_train,validation_data=([sequences_matrix_dev],labels_dev),epochs=2,batch_size=32)"
   ]
  },
  {
   "cell_type": "code",
   "execution_count": null,
   "metadata": {
    "colab": {
     "base_uri": "https://localhost:8080/",
     "height": 204
    },
    "colab_type": "code",
    "executionInfo": {
     "elapsed": 21722,
     "status": "ok",
     "timestamp": 1595145310092,
     "user": {
      "displayName": "Abhishek SIngh",
      "photoUrl": "",
      "userId": "02637789639158228713"
     },
     "user_tz": -330
    },
    "id": "kGzz6PAMAdh7",
    "outputId": "3c309da1-c3a3-4dd1-8ffe-909bb96ca5b4"
   },
   "outputs": [],
   "source": [
    "from sklearn.metrics import classification_report\n",
    "\n",
    "y_pred = model.predict([sequences_matrix_dev], batch_size=32, verbose=1)\n",
    "\n",
    "print(classification_report(labels_dev_le, np.argmax(y_pred,axis=-1)))"
   ]
  },
  {
   "cell_type": "code",
   "execution_count": null,
   "metadata": {
    "colab": {
     "base_uri": "https://localhost:8080/",
     "height": 1000
    },
    "colab_type": "code",
    "executionInfo": {
     "elapsed": 3020,
     "status": "ok",
     "timestamp": 1595145362499,
     "user": {
      "displayName": "Abhishek SIngh",
      "photoUrl": "",
      "userId": "02637789639158228713"
     },
     "user_tz": -330
    },
    "id": "lt7wMZyTEYWE",
    "outputId": "bc2751d4-3a6a-4609-e42e-86a6b6e787ce"
   },
   "outputs": [],
   "source": [
    "print('Sentence------------------Actual Class--------------------Predicted Class')\n",
    "for i in range(len(dev_data)):\n",
    "  if labels_dev_le[i]!=np.argmax(y_pred[i],axis=-1):\n",
    "    print(dev_data['sent'][i],'-->',le.inverse_transform([labels_dev_le[i]])[0],'---->',le.inverse_transform([np.argmax(y_pred[i],axis=-1)])[0])"
   ]
  },
  {
   "cell_type": "code",
   "execution_count": null,
   "metadata": {
    "colab": {
     "base_uri": "https://localhost:8080/",
     "height": 34
    },
    "colab_type": "code",
    "executionInfo": {
     "elapsed": 10883,
     "status": "ok",
     "timestamp": 1584005868763,
     "user": {
      "displayName": "Abhishek Singh, 4-Yr B Tech, Electrical Engg, IIT (BHU) Varanasi",
      "photoUrl": "https://lh3.googleusercontent.com/a-/AOh14GjaEa4_Pj7plXzO6EEOKAZMsl3-LoEortGEJOlx=s64",
      "userId": "13571043541178143551"
     },
     "user_tz": -330
    },
    "id": "xZcOZsvMAsOb",
    "outputId": "7171022f-1ceb-4c2f-be44-543e614481c9"
   },
   "outputs": [],
   "source": [
    "y_pred = model.predict([sequences_matrix_test], batch_size=32, verbose=1)#dev 0.44"
   ]
  },
  {
   "cell_type": "code",
   "execution_count": null,
   "metadata": {
    "colab": {},
    "colab_type": "code",
    "id": "w_w28FkUwfCN"
   },
   "outputs": [],
   "source": [
    "pred=le.inverse_transform(np.argmax(y_pred,axis=-1))\n",
    "df=pd.DataFrame({'Uid':test_data['uids'],'Sentiment':pred},index=None)"
   ]
  },
  {
   "cell_type": "code",
   "execution_count": null,
   "metadata": {
    "colab": {},
    "colab_type": "code",
    "id": "yM3X-EmHwhS6"
   },
   "outputs": [],
   "source": [
    "df.to_csv('answer.txt',index=False)"
   ]
  },
  {
   "cell_type": "code",
   "execution_count": null,
   "metadata": {
    "colab": {},
    "colab_type": "code",
    "id": "w2k-3beTGB5F"
   },
   "outputs": [],
   "source": [
    "\n",
    "files.download('/content/drive/My Drive/spanglish/data/test_data.csv')"
   ]
  },
  {
   "cell_type": "code",
   "execution_count": null,
   "metadata": {
    "colab": {},
    "colab_type": "code",
    "id": "rkCajkJD9neL"
   },
   "outputs": [],
   "source": [
    "\n",
    "kfold=StratifiedKFold(n_splits=5,shuffle=True,random_state=42)\n"
   ]
  },
  {
   "cell_type": "code",
   "execution_count": null,
   "metadata": {
    "colab": {
     "base_uri": "https://localhost:8080/",
     "height": 1000
    },
    "colab_type": "code",
    "executionInfo": {
     "elapsed": 41663,
     "status": "ok",
     "timestamp": 1582812682195,
     "user": {
      "displayName": "Abhishek Singh, 4-Yr B Tech, Electrical Engg, IIT (BHU) Varanasi",
      "photoUrl": "https://lh3.googleusercontent.com/a-/AAuE7mBAu6pD-I3Pdn_I1oxZJBB7hudMcmxHG9cW6HOh=s64",
      "userId": "13571043541178143551"
     },
     "user_tz": -330
    },
    "id": "AyUu4jj09uy5",
    "outputId": "b0db7e6b-4798-4df3-e356-01cdff6d63f3"
   },
   "outputs": [],
   "source": [
    "f1s=[]\n",
    "for train_ind,dev_ind in kfold.split(train_data['span_clean'],labels_train_le):\n",
    "  #print(train_data['tweet'][train_ind].shape)\n",
    "  x_train=train_data['span_clean'][train_ind]\n",
    "  y_train=labels_train_le[train_ind]\n",
    "  x_dev=train_data['span_clean'][dev_ind]\n",
    "  y_dev=labels_train_le[dev_ind]\n",
    "  seq_train=tok.texts_to_sequences(x_train.astype(str))\n",
    "  seq_matrix_train=sequence.pad_sequences(seq_train,maxlen=max_len,padding='post',truncating='post')\n",
    "  seq_dev=tok.texts_to_sequences(x_dev.astype(str))\n",
    "  seq_matrix_dev=sequence.pad_sequences(seq_dev,maxlen=max_len,padding='post',truncating='post')\n",
    "  model.compile(optimizer='Adam',loss='sparse_categorical_crossentropy',metrics=['acc',km.f1_score()])\n",
    "  model.fit([seq_matrix_train],y_train,validation_split=0.1,epochs=10,batch_size=2056,callbacks=[es,cp_check_point])\n",
    "  scores = model.evaluate(seq_matrix_dev, y_dev, verbose=0)\n",
    "  pred = model.predict(seq_matrix_dev)\n",
    "  print(classification_report(y_dev, np.argmax(pred,axis=-1)))\n",
    "  f1s.append(f1_score(y_dev,np.argmax(pred,axis=-1),average='macro'))\n",
    "  #f1s.append(scores[2])\n",
    "  print(scores)\n",
    "print(\"Mean f1:{0}, standard dev:{1}\".format(np.mean(f1s),np.std(f1s)))"
   ]
  },
  {
   "cell_type": "code",
   "execution_count": null,
   "metadata": {
    "colab": {
     "base_uri": "https://localhost:8080/",
     "height": 34
    },
    "colab_type": "code",
    "executionInfo": {
     "elapsed": 2939,
     "status": "ok",
     "timestamp": 1574161870902,
     "user": {
      "displayName": "Abhishek Singh, 4-Yr B Tech, Electrical Engg, IIT (BHU) Varanasi",
      "photoUrl": "https://lh3.googleusercontent.com/a-/AAuE7mBAu6pD-I3Pdn_I1oxZJBB7hudMcmxHG9cW6HOh=s64",
      "userId": "13571043541178143551"
     },
     "user_tz": -330
    },
    "id": "qD79crPttprB",
    "outputId": "806d3dc8-476e-4a79-cd99-698b08b8fff1"
   },
   "outputs": [],
   "source": [
    "model_json = model.to_json()\n",
    "with open(root_path+\"model_attention_1.json\", \"w\") as json_file:\n",
    "    json_file.write(model_json)\n",
    "# serialize weights to HDF5\n",
    "model.save_weights(root_path+\"model_attention_1.h5\")\n",
    "print(\"Saved model to disk\")"
   ]
  },
  {
   "cell_type": "code",
   "execution_count": null,
   "metadata": {
    "colab": {},
    "colab_type": "code",
    "id": "Glvk8zNgHFMw"
   },
   "outputs": [],
   "source": [
    "from keras.models import model_from_json"
   ]
  },
  {
   "cell_type": "code",
   "execution_count": null,
   "metadata": {
    "colab": {},
    "colab_type": "code",
    "id": "P7Dde6MpG4Mr"
   },
   "outputs": [],
   "source": [
    "json_file = open(root_path+\"model_attention_1.json\", 'r')\n",
    "loaded_model_json = json_file.read()\n",
    "json_file.close()\n",
    "loaded_model = model_from_json(loaded_model_json,custom_objects={'Attention':Attention})\n",
    "# load weights into new model\n",
    "loaded_model.load_weights(root_path+\"model_attention_1.h5\")"
   ]
  },
  {
   "cell_type": "code",
   "execution_count": null,
   "metadata": {
    "colab": {},
    "colab_type": "code",
    "id": "-0Gn7g7hHOSu"
   },
   "outputs": [],
   "source": [
    "y_preds_dl=model.predict(sequences_matrix_dev)"
   ]
  },
  {
   "cell_type": "code",
   "execution_count": null,
   "metadata": {
    "colab": {},
    "colab_type": "code",
    "id": "jGE8g0dsHVwI"
   },
   "outputs": [],
   "source": [
    "y_preds_dl=y_preds_dl.argmax(axis=-1)"
   ]
  }
 ],
 "metadata": {
  "accelerator": "GPU",
  "colab": {
   "collapsed_sections": [
    "5Ns59EE9a4cm",
    "hgIw3Ac7QlIs",
    "19RCFKzmVEjV",
    "-vDWgpzeGcYn",
    "8XO5_7eRsWCM",
    "Ch2-uxq3JAzT",
    "qYGQHtUiAjg8",
    "1rrPbMNq7qtc"
   ],
   "name": "train_model_spanglish2020.ipynb",
   "provenance": [
    {
     "file_id": "1MwzSfhQYxfAEsPEgPvE6LTHNGb5oi8Y8",
     "timestamp": 1574079863658
    }
   ]
  },
  "kernelspec": {
   "display_name": "Python 3",
   "language": "python",
   "name": "python3"
  },
  "language_info": {
   "codemirror_mode": {
    "name": "ipython",
    "version": 3
   },
   "file_extension": ".py",
   "mimetype": "text/x-python",
   "name": "python",
   "nbconvert_exporter": "python",
   "pygments_lexer": "ipython3",
   "version": "3.6.5"
  }
 },
 "nbformat": 4,
 "nbformat_minor": 1
}
